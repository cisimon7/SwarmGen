{
 "cells": [
  {
   "cell_type": "code",
   "execution_count": 1,
   "metadata": {},
   "outputs": [],
   "source": [
    "import time\n",
    "import random\n",
    "import numpy as np\n",
    "import torch as th\n",
    "\n",
    "import jax\n",
    "import jax.numpy as jnp\n",
    "\n",
    "from tqdm import tqdm\n",
    "from torchinfo import summary\n",
    "from torch.utils.data import DataLoader, random_split\n",
    "\n",
    "import matplotlib.pyplot as plt\n",
    "from utils.plots import multiviz_trajs\n",
    "\n",
    "from models.vqvae import VQVAEAgents\n",
    "from models.sampler.pixelcnn import PixelCNN\n",
    "from utils.bernstein_coeff_order10_arbitinterval import get_coeffs\n",
    "from utils.load_data import get_varying_bound_conditions_num_agents\n",
    "from optimizers.mlp_sf_multi_agent_varying_bounds_1 import InitModel\n",
    "from optimizers.baseline_with_varying_bounds_2 import multi_agent_qp_node_base\n",
    "from optimizers.mlp_sf_multi_agent_varying_bounds_1_jax import mlp_sf_multi_agent_jax"
   ]
  },
  {
   "cell_type": "code",
   "execution_count": 2,
   "metadata": {},
   "outputs": [
    {
     "name": "stdout",
     "output_type": "stream",
     "text": [
      "Random Seed:  999\n"
     ]
    }
   ],
   "source": [
    "manualSeed = 999            \n",
    "print(\"Random Seed: \", manualSeed)\n",
    "\n",
    "random.seed(manualSeed)\n",
    "th.manual_seed(manualSeed)\n",
    "np.random.seed(manualSeed)\n",
    "th.use_deterministic_algorithms(False)\n",
    "\n",
    "th.set_float32_matmul_precision('high')"
   ]
  },
  {
   "cell_type": "code",
   "execution_count": null,
   "metadata": {},
   "outputs": [
    {
     "name": "stdout",
     "output_type": "stream",
     "text": [
      "cuda\n"
     ]
    }
   ],
   "source": [
    "num         = 50\n",
    "t_fin       = 5\n",
    "num_agent   = 4\n",
    "\n",
    "vq_name     = \"vary_01\"\n",
    "px_name     = \"vary_01\"\n",
    "sf_name     = \"vary_01\"\n",
    "\n",
    "batch_size  = 10\n",
    "\n",
    "nef         = 128   # Size of feature maps in encoder\n",
    "ndf         = 128   # Size of feature maps in decoder\n",
    "\n",
    "zdim        = 3     # Size of codebook vectors in the quantizer layer\n",
    "znum        = 512   # number of codebook vectors\n",
    "\n",
    "lheight     = 5     # latent vector height\n",
    "lwidth      = 5     # Latent vector width\n",
    "\n",
    "num_epochs  = 500\n",
    "device      = th.device(\"cuda\" if th.cuda.is_available() else \"cpu\")\n",
    "\n",
    "maxiter     = 100\n",
    "epsilon     = 1e-6\n",
    "\n",
    "print(device)\n",
    "# th.set_float32_matmul_precision('high')"
   ]
  },
  {
   "cell_type": "code",
   "execution_count": 4,
   "metadata": {},
   "outputs": [],
   "source": [
    "P, Pdot, Pddot = get_coeffs(num, t_fin, device)\n",
    "nvar = P.size(dim=-1) \n",
    "\n",
    "dataset = get_varying_bound_conditions_num_agents(num_agent)\n",
    "test_loader = iter(DataLoader(dataset, batch_size=1, shuffle=True, drop_last=False))"
   ]
  },
  {
   "cell_type": "code",
   "execution_count": 5,
   "metadata": {},
   "outputs": [],
   "source": [
    "vq_model = VQVAEAgents(\n",
    "    P, Pdot, Pddot, num_agent=num_agent, nvar=11, emb_num=znum, emb_dim=zdim, zdim=zdim, tdim=3, beta=0.25,\n",
    "    lheight=lheight, lwidth=lwidth, nef=nef, ndf=ndf, device=device, batch=batch_size\n",
    ")\n",
    "vq_model.load_state_dict(th.load(f\"./resources/weights/vqvae/{vq_name}_agents_{num_agent}\", weights_only=False))\n",
    "cvq_model = th.compile(vq_model)\n",
    "\n",
    "vq_model.eval()\n",
    "vq_model.to(device=device);"
   ]
  },
  {
   "cell_type": "code",
   "execution_count": 6,
   "metadata": {},
   "outputs": [],
   "source": [
    "sampler = PixelCNN(num_agent, lheight, lwidth, nf=16, n_channels=32, n_layers=3, emb_num=znum, cond_input_shape=96, cond_output_shape=(lheight, lwidth))\n",
    "\n",
    "sampler.load_state_dict(th.load(f\"./resources/weights/sampler/pixel/px_{px_name}_vq_{vq_name}_agents_{num_agent}\", weights_only=False))\n",
    "csampler = th.compile(sampler)\n",
    "\n",
    "sampler.eval()\n",
    "sampler.to(device=device);"
   ]
  },
  {
   "cell_type": "code",
   "execution_count": null,
   "metadata": {},
   "outputs": [],
   "source": [
    "pcd_features, hidden_dim_mlp, out_dim_mlp = 6*nvar*num_agent, 2048, (3*nvar*num_agent)+(3*nvar*num_agent)\n",
    "inp_dim_mlp = pcd_features+(3*nvar*num_agent)+6\n",
    "\n",
    "if num_agent == 4:\n",
    "    min_inp, max_inp, inp_mean, inp_std = -2.4249918460845947, 2.4249961376190186, 0.05781755596399307, 0.6251423358917236\n",
    "\n",
    "model_sf = InitModel(18, 2048, pcd_features, inp_dim_mlp, hidden_dim_mlp, out_dim_mlp, min_inp, max_inp, inp_mean, inp_std, num_agent).to(device)\n",
    "\n",
    "model_sf.load_state_dict(th.load(f\"./resources/weights/filter/sf_{sf_name}_vq_{vq_name}_agents_{num_agent}.pth\", weights_only=False))\n",
    "cmodel_sf = th.compile(model_sf)\n",
    "\n",
    "model_sf.eval()\n",
    "\n",
    "multi_agent_learned = mlp_sf_multi_agent_jax(batch_size, num_agent)\n",
    "multi_agent_learned.maxiter = maxiter\n",
    "multi_agent_learned.epsilon = epsilon\n",
    "\n",
    "multi_agent_base = multi_agent_qp_node_base(num_agent, batch_size)\n",
    "multi_agent_base.maxiter = maxiter"
   ]
  },
  {
   "cell_type": "code",
   "execution_count": 8,
   "metadata": {},
   "outputs": [],
   "source": [
    "def make_state(x_init, y_init, z_init, x_fin, y_fin, z_fin):\n",
    "\n",
    "    state_x = th.cat([\n",
    "        x_init, th.zeros_like(x_init), th.zeros_like(x_init), \n",
    "        x_fin, th.zeros_like(x_fin), th.zeros_like(x_fin)\n",
    "    ], dim=-1)\n",
    "\n",
    "    state_y = th.cat([\n",
    "        y_init, th.zeros_like(y_init), th.zeros_like(y_init), \n",
    "        y_fin, th.zeros_like(y_fin), th.zeros_like(y_fin)\n",
    "    ], dim=-1)\n",
    "\n",
    "    state_z = th.cat([\n",
    "        z_init, th.zeros_like(z_init), th.zeros_like(z_init), \n",
    "        z_fin, th.zeros_like(z_fin), th.zeros_like(z_fin)\n",
    "    ], dim=-1)\n",
    "\n",
    "    return state_x, state_y, state_z\n",
    "\n",
    "\n",
    "def make_inp(x_init, y_init, z_init, x_fin, y_fin, z_fin):\n",
    "    return th.stack([\n",
    "        x_init, y_init, z_init, \n",
    "        th.zeros_like(x_init), th.zeros_like(y_init), th.zeros_like(z_init), \n",
    "        th.zeros_like(x_init), th.zeros_like(y_init), th.zeros_like(z_init), \n",
    "        x_fin, y_fin, z_fin, \n",
    "        th.zeros_like(x_fin), th.zeros_like(y_fin), th.zeros_like(z_fin), \n",
    "        th.zeros_like(x_fin), th.zeros_like(y_fin), th.zeros_like(z_fin), \n",
    "    ], dim=-2)"
   ]
  },
  {
   "cell_type": "code",
   "execution_count": 10,
   "metadata": {},
   "outputs": [
    {
     "name": "stdout",
     "output_type": "stream",
     "text": [
      "0.04947233200073242\n",
      "pix sampling done\n",
      "0.010818243026733398\n",
      "computation done\n"
     ]
    },
    {
     "data": {
      "image/png": "[encoded data removed]",
      "text/plain": [
       "<Figure size 1100x400 with 2 Axes>"
      ]
     },
     "metadata": {},
     "output_type": "display_data"
    },
    {
     "data": {
      "application/vnd.plotly.v1+json": {
       "config": {
        "plotlyServerURL": "https://plot.ly"
       },
       "data": [
        {
         "mode": "lines",
         "scene": "scene",
         "showlegend": false,
         "type": "scatter3d",
         "x": [
          -1.610779881477356,
          -1.610466480255127,
          -1.6085234880447388,
          -1.6039316654205322,
          -1.5961726903915405,
          -1.5850855112075806,
          -1.5707406997680664,
          -1.5533490180969238,
          -1.5331848859786987,
          -1.5105373859405518,
          -1.485674500465393,
          -1.4588180780410767,
          -1.4301379919052124,
          -1.3997498750686646,
          -1.367721438407898,
          -1.3340848684310913,
          -1.2988473176956177,
          -1.2620073556900024,
          -1.2235690355300903,
          -1.183554768562317,
          -1.1420129537582397,
          -1.0990303754806519,
          -1.054728388786316,
          -1.0092699527740479,
          -0.9628542065620422,
          -0.9157094955444336,
          -0.8680864572525024,
          -0.8202499747276306,
          -0.7724653482437134,
          -0.724990963935852,
          -0.6780678629875183,
          -0.6319127678871155,
          -0.5867140293121338,
          -0.5426317453384399,
          -0.49979981780052185,
          -0.45833447575569153,
          -0.4183465838432312,
          -0.3799554109573364,
          -0.3433070480823517,
          -0.3085919916629791,
          -0.276060551404953,
          -0.24603360891342163,
          -0.21890217065811157,
          -0.19511282444000244,
          -0.1751309484243393,
          -0.15937376022338867,
          -0.148104727268219,
          -0.1412779837846756,
          -0.13831932842731476,
          -0.13783064484596252
         ],
         "y": [
          -1.11902916431427,
          -1.1182670593261719,
          -1.113616943359375,
          -1.1028038263320923,
          -1.0848174095153809,
          -1.0594830513000488,
          -1.0271342992782593,
          -0.988375723361969,
          -0.9439114332199097,
          -0.8944351673126221,
          -0.8405656218528748,
          -0.7828100919723511,
          -0.7215613722801208,
          -0.6571066975593567,
          -0.5896496176719666,
          -0.5193387866020203,
          -0.4462951123714447,
          -0.37064093351364136,
          -0.2925221025943756,
          -0.21212777495384216,
          -0.12969936430454254,
          -0.04553792253136635,
          0.03999987617135048,
          0.12650766968727112,
          0.21354225277900696,
          0.3006387948989868,
          0.3873281180858612,
          0.4731561243534088,
          0.5576989650726318,
          0.6405782699584961,
          0.7214720845222473,
          0.8001177310943604,
          0.876314103603363,
          0.9499130845069885,
          1.0208059549331665,
          1.0889043807983398,
          1.1541166305541992,
          1.2163190841674805,
          1.2753294706344604,
          1.330880880355835,
          1.3826024532318115,
          1.4300117492675781,
          1.472525715827942,
          1.5094927549362183,
          1.5402615070343018,
          1.5642856359481812,
          1.581284999847412,
          1.5914692878723145,
          1.5958333015441895,
          1.5965462923049927
         ],
         "z": [
          0.16897283494472504,
          0.1689504235982895,
          0.16881369054317474,
          0.16849644482135773,
          0.16796962916851044,
          0.16722853481769562,
          0.16628293693065643,
          0.16515034437179565,
          0.163850799202919,
          0.1624039113521576,
          0.1608274281024933,
          0.1591356098651886,
          0.15734001994132996,
          0.15544933080673218,
          0.1534702181816101,
          0.1514083445072174,
          0.14926864206790924,
          0.1470566987991333,
          0.1447787880897522,
          0.1424427479505539,
          0.14005768299102783,
          0.13763463497161865,
          0.13518570363521576,
          0.13272421061992645,
          0.13026422262191772,
          0.12781983613967896,
          0.1254047006368637,
          0.12303177267313004,
          0.12071244418621063,
          0.11845643073320389,
          0.1162715032696724,
          0.11416327208280563,
          0.11213542520999908,
          0.11019005626440048,
          0.10832793265581131,
          0.1065492108464241,
          0.1048542931675911,
          0.10324438661336899,
          0.10172241181135178,
          0.1002938374876976,
          0.09896692633628845,
          0.0977531224489212,
          0.09666665643453598,
          0.09572356194257736,
          0.09494003653526306,
          0.09432942420244217,
          0.0938982143998146,
          0.0936405286192894,
          0.09353042393922806,
          0.09351246058940887
         ]
        },
        {
         "mode": "lines",
         "scene": "scene",
         "showlegend": false,
         "type": "scatter3d",
         "x": [
          0.36285585165023804,
          0.363176167011261,
          0.3651127815246582,
          0.3695751130580902,
          0.3769291341304779,
          0.38719287514686584,
          0.40018031001091003,
          0.4156045615673065,
          0.43314674496650696,
          0.45250052213668823,
          0.47339707612991333,
          0.49561357498168945,
          0.5189747214317322,
          0.5433462262153625,
          0.5686235427856445,
          0.5947231650352478,
          0.6215679049491882,
          0.6490809321403503,
          0.6771754622459412,
          0.7057514786720276,
          0.7346924543380737,
          0.7638670206069946,
          0.793129026889801,
          0.8223238587379456,
          0.8512938618659973,
          0.8798831701278687,
          0.9079440832138062,
          0.9353449940681458,
          0.9619721174240112,
          0.9877347350120544,
          1.012566328048706,
          1.0364224910736084,
          1.0592811107635498,
          1.081135869026184,
          1.1019905805587769,
          1.1218510866165161,
          1.1407185792922974,
          1.1585781574249268,
          1.17539381980896,
          1.1911015510559082,
          1.205605387687683,
          1.2187798023223877,
          1.2304750680923462,
          1.2405301332473755,
          1.2487950325012207,
          1.255159616470337,
          1.259595274925232,
          1.2622100114822388,
          1.263311743736267,
          1.26348876953125
         ],
         "y": [
          -1.0673002004623413,
          -1.066690444946289,
          -1.0629513263702393,
          -1.0542104244232178,
          -1.0395907163619995,
          -1.018888235092163,
          -0.9923139214515686,
          -0.9603079557418823,
          -0.9234008193016052,
          -0.8821224570274353,
          -0.8369464874267578,
          -0.7882577776908875,
          -0.7363473176956177,
          -0.6814181208610535,
          -0.623601496219635,
          -0.5629821419715881,
          -0.49962085485458374,
          -0.43358075618743896,
          -0.3649480640888214,
          -0.29385119676589966,
          -0.22047050297260284,
          -0.14504750072956085,
          -0.06788278371095657,
          0.010667463764548302,
          0.0902014970779419,
          0.17028556764125824,
          0.2504696547985077,
          0.33030545711517334,
          0.40936246514320374,
          0.48724377155303955,
          0.5635986924171448,
          0.638128936290741,
          0.7105929851531982,
          0.7808021306991577,
          0.8486095070838928,
          0.9138948321342468,
          0.976542592048645,
          1.036415457725525,
          1.0933276414871216,
          1.1470179557800293,
          1.1971266269683838,
          1.2431856393814087,
          1.2846219539642334,
          1.3207852840423584,
          1.3510109186172485,
          1.3747203350067139,
          1.3915812969207764,
          1.4017366170883179,
          1.4061123132705688,
          1.4068307876586914
         ],
         "z": [
          0.10277709364891052,
          0.10295680165290833,
          0.10405515879392624,
          0.10661657154560089,
          0.11088991165161133,
          0.11692799627780914,
          0.12466315925121307,
          0.13396355509757996,
          0.14467255771160126,
          0.1566353142261505,
          0.1697150617837906,
          0.1838000863790512,
          0.1988062560558319,
          0.21467384696006775,
          0.2313624620437622,
          0.24884457886219025,
          0.26709744334220886,
          0.28609699010849,
          0.30581143498420715,
          0.3261968493461609,
          0.34719374775886536,
          0.3687266409397125,
          0.39070308208465576,
          0.4130164682865143,
          0.4355491101741791,
          0.4581756889820099,
          0.48076796531677246,
          0.5032010674476624,
          0.525356113910675,
          0.5471256971359253,
          0.5684170126914978,
          0.5891523361206055,
          0.6092709302902222,
          0.6287270784378052,
          0.6474863290786743,
          0.6655212640762329,
          0.6828048825263977,
          0.6993035078048706,
          0.7149689793586731,
          0.7297316789627075,
          0.7434942722320557,
          0.7561293840408325,
          0.7674813270568848,
          0.7773740887641907,
          0.7856290936470032,
          0.7920928001403809,
          0.7966802716255188,
          0.7994376420974731,
          0.8006232380867004,
          0.8008174896240234
         ]
        },
        {
         "mode": "lines",
         "scene": "scene",
         "showlegend": false,
         "type": "scatter3d",
         "x": [
          1.0376979112625122,
          1.0368952751159668,
          1.0320067405700684,
          1.0206605195999146,
          1.0018233060836792,
          0.9753419756889343,
          0.9415955543518066,
          0.9012429714202881,
          0.8550443649291992,
          0.8037457466125488,
          0.7480122447013855,
          0.6883916258811951,
          0.6253113150596619,
          0.559088408946991,
          0.48995327949523926,
          0.41807857155799866,
          0.34360748529434204,
          0.2666829824447632,
          0.18747028708457947,
          0.10617538541555405,
          0.023054437711834908,
          -0.06158052384853363,
          -0.1473657339811325,
          -0.2338925153017044,
          -0.3207204043865204,
          -0.4073929190635681,
          -0.49345412850379944,
          -0.5784683227539062,
          -0.6620338559150696,
          -0.743797779083252,
          -0.8234648108482361,
          -0.900799572467804,
          -0.9756270051002502,
          -1.0478230714797974,
          -1.1172996759414673,
          -1.1839847564697266,
          -1.2477996349334717,
          -1.3086295127868652,
          -1.3662985563278198,
          -1.4205459356307983,
          -1.4710071086883545,
          -1.5172101259231567,
          -1.5585871934890747,
          -1.5945093631744385,
          -1.624354362487793,
          -1.6476099491119385,
          -1.664028525352478,
          -1.673841118812561,
          -1.6780353784561157,
          -1.6787189245224
         ],
         "y": [
          -0.08821599185466766,
          -0.08847507834434509,
          -0.09005487710237503,
          -0.0937299057841301,
          -0.09984748810529709,
          -0.1084752008318901,
          -0.11951164901256561,
          -0.13276778161525726,
          -0.14802320301532745,
          -0.16506299376487732,
          -0.1836995631456375,
          -0.2037815898656845,
          -0.22519585490226746,
          -0.2478620857000351,
          -0.2717247009277344,
          -0.2967430651187897,
          -0.3228801190853119,
          -0.35009410977363586,
          -0.3783293664455414,
          -0.4075112044811249,
          -0.4375418424606323,
          -0.46830037236213684,
          -0.49964261054992676,
          -0.5314057469367981,
          -0.5634132623672485,
          -0.5954806208610535,
          -0.6274221539497375,
          -0.6590597033500671,
          -0.6902269721031189,
          -0.7207765579223633,
          -0.7505834698677063,
          -0.7795463800430298,
          -0.8075886964797974,
          -0.8346554040908813,
          -0.8607074022293091,
          -0.8857145309448242,
          -0.9096469283103943,
          -0.9324633479118347,
          -0.9541016817092896,
          -0.974469006061554,
          -0.9934332370758057,
          -1.0108206272125244,
          -1.0264192819595337,
          -1.0399904251098633,
          -1.051293969154358,
          -1.0601266622543335,
          -1.0663816928863525,
          -1.0701324939727783,
          -1.0717412233352661,
          -1.0720041990280151
         ],
         "z": [
          0.9101682305335999,
          0.9099587798118591,
          0.9086757302284241,
          0.9056822061538696,
          0.9006842374801636,
          0.8936192393302917,
          0.8845646977424622,
          0.8736760020256042,
          0.8611373901367188,
          0.8471315503120422,
          0.831822395324707,
          0.8153420686721802,
          0.7977917790412903,
          0.7792430520057678,
          0.7597432136535645,
          0.7393252849578857,
          0.7180137038230896,
          0.6958349347114563,
          0.6728226542472839,
          0.649025022983551,
          0.6245067715644836,
          0.5993533134460449,
          0.5736672878265381,
          0.5475698709487915,
          0.5211958289146423,
          0.4946886897087097,
          0.4681958258152008,
          0.44186341762542725,
          0.4158298075199127,
          0.3902214765548706,
          0.3651491105556488,
          0.34070536494255066,
          0.31696417927742004,
          0.29398274421691895,
          0.2718047499656677,
          0.2504657804965973,
          0.23000141978263855,
          0.2104545384645462,
          0.1918850988149643,
          0.17437846958637238,
          0.15805195271968842,
          0.1430584043264389,
          0.1295839250087738,
          0.1178383007645607,
          0.1080348864197731,
          0.10035665333271027,
          0.0949050560593605,
          0.09162745624780655,
          0.0902179405093193,
          0.08998677134513855
         ]
        },
        {
         "mode": "lines",
         "scene": "scene",
         "showlegend": false,
         "type": "scatter3d",
         "x": [
          1.029415249824524,
          1.0296380519866943,
          1.0309747457504272,
          1.0340298414230347,
          1.0390264987945557,
          1.0459519624710083,
          1.0546613931655884,
          1.0649518966674805,
          1.076607584953308,
          1.0894278287887573,
          1.1032416820526123,
          1.1179089546203613,
          1.1333200931549072,
          1.1493875980377197,
          1.1660382747650146,
          1.1832064390182495,
          1.2008236646652222,
          1.2188162803649902,
          1.2370994091033936,
          1.2555781602859497,
          1.2741447687149048,
          1.2926851511001587,
          1.3110792636871338,
          1.3292063474655151,
          1.3469527959823608,
          1.3642122745513916,
          1.3808934688568115,
          1.3969242572784424,
          1.4122505187988281,
          1.42684006690979,
          1.4406812191009521,
          1.4537787437438965,
          1.466152310371399,
          1.4778320789337158,
          1.4888509511947632,
          1.4992390871047974,
          1.5090203285217285,
          1.5182031393051147,
          1.5267802476882935,
          1.5347248315811157,
          1.5419905185699463,
          1.5485155582427979,
          1.5542293787002563,
          1.5590611696243286,
          1.5629551410675049,
          1.5658841133117676,
          1.5678699016571045,
          1.5690046548843384,
          1.569466471672058,
          1.569537878036499
         ],
         "y": [
          1.3714673519134521,
          1.3707077503204346,
          1.3660587072372437,
          1.3552117347717285,
          1.3371084928512573,
          1.3115296363830566,
          1.2787716388702393,
          1.2394144535064697,
          1.1941460371017456,
          1.1436532735824585,
          1.0885504484176636,
          1.0293406248092651,
          0.9664103984832764,
          0.90003502368927,
          0.8304007649421692,
          0.7576339244842529,
          0.6818276047706604,
          0.6030744314193726,
          0.521490216255188,
          0.43723663687705994,
          0.35053300857543945,
          0.26166588068008423,
          0.17098739743232727,
          0.07891059666872025,
          -0.014102274551987648,
          -0.10755596309900284,
          -0.20093964040279388,
          -0.29374784231185913,
          -0.38549867272377014,
          -0.4757511019706726,
          -0.5641188025474548,
          -0.6502761244773865,
          -0.7339626550674438,
          -0.8149769902229309,
          -0.8931640386581421,
          -0.9683960676193237,
          -1.040547251701355,
          -1.109464168548584,
          -1.1749342679977417,
          -1.2366567850112915,
          -1.2942171096801758,
          -1.3470771312713623,
          -1.3945811986923218,
          -1.4359898567199707,
          -1.4705524444580078,
          -1.497623324394226,
          -1.5168439149856567,
          -1.5284007787704468,
          -1.5333716869354248,
          -1.5341867208480835
         ],
         "z": [
          0.9363842606544495,
          0.9362900257110596,
          0.9357132911682129,
          0.9343708157539368,
          0.9321349263191223,
          0.9289830327033997,
          0.924955427646637,
          0.9201281070709229,
          0.9145891666412354,
          0.9084258079528809,
          0.9017176032066345,
          0.8945279121398926,
          0.8869068622589111,
          0.8788904547691345,
          0.8705028891563416,
          0.8617624044418335,
          0.8526808023452759,
          0.8432711362838745,
          0.8335480690002441,
          0.823531985282898,
          0.8132490515708923,
          0.8027342557907104,
          0.7920288443565369,
          0.7811808586120605,
          0.7702449560165405,
          0.7592780590057373,
          0.7483386397361755,
          0.7374852895736694,
          0.7267724871635437,
          0.7162502408027649,
          0.7059625387191772,
          0.6959453821182251,
          0.6862277388572693,
          0.6768321990966797,
          0.6677757501602173,
          0.6590721607208252,
          0.6507360339164734,
          0.6427845358848572,
          0.635241687297821,
          0.628142237663269,
          0.6215329170227051,
          0.6154748797416687,
          0.6100417375564575,
          0.6053157448768616,
          0.6013802886009216,
          0.5983049869537354,
          0.59612637758255,
          0.5948197841644287,
          0.5942593812942505,
          0.5941675305366516
         ]
        },
        {
         "marker": {
          "color": "#636EFA",
          "size": 2
         },
         "mode": "markers",
         "scene": "scene",
         "showlegend": false,
         "type": "scatter3d",
         "x": [
          -1.610779881477356,
          0.36285585165023804,
          1.0376979112625122,
          1.029415249824524
         ],
         "y": [
          -1.11902916431427,
          -1.0673002004623413,
          -0.08821599185466766,
          1.3714673519134521
         ],
         "z": [
          0.16897283494472504,
          0.10277709364891052,
          0.9101682305335999,
          0.9363842606544495
         ]
        },
        {
         "marker": {
          "color": "#EF553B",
          "size": 2
         },
         "mode": "markers",
         "scene": "scene",
         "showlegend": false,
         "type": "scatter3d",
         "x": [
          -0.13783064484596252,
          1.26348876953125,
          -1.6787189245224,
          1.569537878036499
         ],
         "y": [
          1.5965462923049927,
          1.4068307876586914,
          -1.0720041990280151,
          -1.5341867208480835
         ],
         "z": [
          0.09351246058940887,
          0.8008174896240234,
          0.08998677134513855,
          0.5941675305366516
         ]
        },
        {
         "mode": "lines",
         "scene": "scene2",
         "showlegend": false,
         "type": "scatter3d",
         "x": [
          -1.610779881477356,
          -1.6105142831802368,
          -1.6088402271270752,
          -1.6047921180725098,
          -1.5977857112884521,
          -1.5875177383422852,
          -1.5738906860351562,
          -1.556947946548462,
          -1.5368268489837646,
          -1.5137207508087158,
          -1.487851858139038,
          -1.4594515562057495,
          -1.428748369216919,
          -1.3959569931030273,
          -1.3612786531448364,
          -1.3248952627182007,
          -1.286973237991333,
          -1.2476637363433838,
          -1.2071058750152588,
          -1.1654294729232788,
          -1.1227575540542603,
          -1.0792090892791748,
          -1.0349007844924927,
          -0.9899498820304871,
          -0.9444732666015625,
          -0.8985904455184937,
          -0.8524227738380432,
          -0.8060954809188843,
          -0.759737491607666,
          -0.7134832143783569,
          -0.6674741506576538,
          -0.6218611598014832,
          -0.5768072009086609,
          -0.5324908494949341,
          -0.48910996317863464,
          -0.44688597321510315,
          -0.40606701374053955,
          -0.36693140864372253,
          -0.32978859543800354,
          -0.2949776351451874,
          -0.2628624439239502,
          -0.2338210791349411,
          -0.20822833478450775,
          -0.18642926216125488,
          -0.16870079934597015,
          -0.15519946813583374,
          -0.1458912044763565,
          -0.1404603123664856,
          -0.13819286227226257,
          -0.13783065974712372
         ],
         "y": [
          -1.11902916431427,
          -1.1185375452041626,
          -1.1154327392578125,
          -1.1079130172729492,
          -1.0948635339736938,
          -1.0756759643554688,
          -1.0501048564910889,
          -1.0181583166122437,
          -0.9800114035606384,
          -0.935943603515625,
          -0.8862950801849365,
          -0.8314332365989685,
          -0.771734893321991,
          -0.7075732350349426,
          -0.639313280582428,
          -0.5673097968101501,
          -0.49191024899482727,
          -0.4134560525417328,
          -0.33228763937950134,
          -0.24874649941921234,
          -0.16317890584468842,
          -0.0759371668100357,
          0.012619733810424805,
          0.10212617367506027,
          0.19221140444278717,
          0.2825011909008026,
          0.37262025475502014,
          0.46219468116760254,
          0.5508538484573364,
          0.6382322311401367,
          0.7239702343940735,
          0.8077141046524048,
          0.8891147971153259,
          0.9678259491920471,
          1.0435007810592651,
          1.1157891750335693,
          1.184333324432373,
          1.2487666606903076,
          1.3087118864059448,
          1.3637837171554565,
          1.4135955572128296,
          1.4577724933624268,
          1.4959726333618164,
          1.527919054031372,
          1.5534467697143555,
          1.5725637674331665,
          1.5855354070663452,
          1.5929914712905884,
          1.5960617065429688,
          1.5965465307235718
         ],
         "z": [
          0.16897283494472504,
          0.16919173300266266,
          0.17053744196891785,
          0.1736837923526764,
          0.17892028391361237,
          0.18625377118587494,
          0.19549207389354706,
          0.20631158351898193,
          0.2183113992214203,
          0.2310556322336197,
          0.24410562217235565,
          0.2570439279079437,
          0.2694909870624542,
          0.28111618757247925,
          0.29164373874664307,
          0.300855427980423,
          0.30858924984931946,
          0.31473681330680847,
          0.31923869252204895,
          0.3220781683921814,
          0.32327520847320557,
          0.3228793442249298,
          0.3209631145000458,
          0.31761592626571655,
          0.31293800473213196,
          0.30703550577163696,
          0.30001646280288696,
          0.2919878363609314,
          0.28305330872535706,
          0.2733124792575836,
          0.26286113262176514,
          0.251792311668396,
          0.24019847810268402,
          0.2281743288040161,
          0.21582040190696716,
          0.2032465934753418,
          0.1905759871006012,
          0.17794828116893768,
          0.16552212834358215,
          0.15347611904144287,
          0.14200790226459503,
          0.1313302367925644,
          0.12166333198547363,
          0.11322266608476639,
          0.1062006950378418,
          0.10074158757925034,
          0.09690707921981812,
          0.09463214874267578,
          0.09366827458143234,
          0.09351246803998947
         ]
        },
        {
         "mode": "lines",
         "scene": "scene2",
         "showlegend": false,
         "type": "scatter3d",
         "x": [
          0.36285585165023804,
          0.36307674646377563,
          0.3644596040248871,
          0.3677723705768585,
          0.3734530508518219,
          0.38169941306114197,
          0.39253976941108704,
          0.40588822960853577,
          0.42158639430999756,
          0.4394344389438629,
          0.4592140018939972,
          0.48070281744003296,
          0.5036852359771729,
          0.5279577970504761,
          0.5533322095870972,
          0.5796360969543457,
          0.6067120432853699,
          0.6344162821769714,
          0.6626166105270386,
          0.6911904215812683,
          0.7200230360031128,
          0.7490059733390808,
          0.7780358195304871,
          0.8070136308670044,
          0.8358438611030579,
          0.8644349575042725,
          0.8926979899406433,
          0.9205477833747864,
          0.9479019641876221,
          0.9746811389923096,
          1.0008078813552856,
          1.0262056589126587,
          1.0507988929748535,
          1.074510097503662,
          1.0972590446472168,
          1.1189615726470947,
          1.139526605606079,
          1.1588573455810547,
          1.176848292350769,
          1.193388819694519,
          1.2083632946014404,
          1.221657395362854,
          1.233163595199585,
          1.2427937984466553,
          1.250493049621582,
          1.256259799003601,
          1.260171890258789,
          1.2624189853668213,
          1.2633432149887085,
          1.2634888887405396
         ],
         "y": [
          -1.0673002004623413,
          -1.0669803619384766,
          -1.0649406909942627,
          -1.0599431991577148,
          -1.051156997680664,
          -1.0380531549453735,
          -1.020321249961853,
          -0.9978067874908447,
          -0.9704644083976746,
          -0.9383230209350586,
          -0.9014630913734436,
          -0.8600001335144043,
          -0.8140753507614136,
          -0.76385098695755,
          -0.7095071077346802,
          -0.651241660118103,
          -0.5892711877822876,
          -0.5238311290740967,
          -0.45517608523368835,
          -0.3835807740688324,
          -0.30933740735054016,
          -0.23275558650493622,
          -0.15415893495082855,
          -0.07388266175985336,
          0.007729934994131327,
          0.09033051133155823,
          0.17356856167316437,
          0.2570939362049103,
          0.340558260679245,
          0.4236151874065399,
          0.5059194564819336,
          0.5871248245239258,
          0.6668800711631775,
          0.7448247671127319,
          0.8205829858779907,
          0.8937581777572632,
          0.963927149772644,
          1.0306363105773926,
          1.0934005975723267,
          1.1517055034637451,
          1.205016016960144,
          1.2527936697006226,
          1.2945235967636108,
          1.3297550678253174,
          1.358159065246582,
          1.3796066045761108,
          1.394270420074463,
          1.4027570486068726,
          1.4062730073928833,
          1.406830906867981
         ],
         "z": [
          0.10277709364891052,
          0.10304152965545654,
          0.10468922555446625,
          0.10861122608184814,
          0.11528261750936508,
          0.12487293034791946,
          0.1373351514339447,
          0.15247637033462524,
          0.17001274228096008,
          0.18961142003536224,
          0.2109220027923584,
          0.23359839618206024,
          0.25731414556503296,
          0.28177183866500854,
          0.30670782923698425,
          0.331894189119339,
          0.35713744163513184,
          0.38227662444114685,
          0.4071791172027588,
          0.4317372143268585,
          0.45586320757865906,
          0.47948580980300903,
          0.502545952796936,
          0.5249937176704407,
          0.5467852354049683,
          0.5678809881210327,
          0.5882436633110046,
          0.6078372001647949,
          0.6266265511512756,
          0.6445767283439636,
          0.6616538166999817,
          0.6778243780136108,
          0.6930567026138306,
          0.7073209881782532,
          0.7205904126167297,
          0.7328413724899292,
          0.7440544962882996,
          0.754215657711029,
          0.7633159160614014,
          0.7713531255722046,
          0.7783327698707581,
          0.7842693328857422,
          0.7891877293586731,
          0.7931258678436279,
          0.7961373329162598,
          0.7982950806617737,
          0.7996959686279297,
          0.8004670143127441,
          0.8007712960243225,
          0.800817608833313
         ]
        },
        {
         "mode": "lines",
         "scene": "scene2",
         "showlegend": false,
         "type": "scatter3d",
         "x": [
          1.0376979112625122,
          1.0372053384780884,
          1.034103274345398,
          1.0266157388687134,
          1.0136702060699463,
          0.9947076439857483,
          0.9695361852645874,
          0.938214898109436,
          0.9009660482406616,
          0.8581093549728394,
          0.8100162148475647,
          0.757076621055603,
          0.6996793150901794,
          0.6382002234458923,
          0.5729958415031433,
          0.5044033527374268,
          0.43274179100990295,
          0.35831502079963684,
          0.281416118144989,
          0.20233045518398285,
          0.12133908271789551,
          0.03872071951627731,
          -0.04524669423699379,
          -0.13028566539287567,
          -0.21611914038658142,
          -0.3024711608886719,
          -0.3890672028064728,
          -0.4756346046924591,
          -0.5619016289710999,
          -0.6475965976715088,
          -0.7324446439743042,
          -0.8161641955375671,
          -0.8984611630439758,
          -0.979022741317749,
          -1.0575093030929565,
          -1.1335476636886597,
          -1.206722617149353,
          -1.276572585105896,
          -1.3425854444503784,
          -1.4042017459869385,
          -1.460823655128479,
          -1.5118319988250732,
          -1.5566176176071167,
          -1.5946282148361206,
          -1.6254323720932007,
          -1.648810625076294,
          -1.6648732423782349,
          -1.6742135286331177,
          -1.6781001091003418,
          -1.678719162940979
         ],
         "y": [
          -0.08821599185466766,
          -0.08843641728162766,
          -0.08981335163116455,
          -0.0931042805314064,
          -0.09873468428850174,
          -0.10689040273427963,
          -0.1175905093550682,
          -0.13074354827404022,
          -0.14619006216526031,
          -0.16373363137245178,
          -0.1831633299589157,
          -0.2042684257030487,
          -0.2268480509519577,
          -0.25071609020233154,
          -0.2757037580013275,
          -0.30165940523147583,
          -0.32844752073287964,
          -0.35594674944877625,
          -0.38404765725135803,
          -0.4126507043838501,
          -0.44166430830955505,
          -0.47100329399108887,
          -0.5005878210067749,
          -0.5303424000740051,
          -0.5601955056190491,
          -0.5900794267654419,
          -0.6199288368225098,
          -0.6496815085411072,
          -0.679276168346405,
          -0.7086521983146667,
          -0.7377470135688782,
          -0.7664940357208252,
          -0.794819712638855,
          -0.8226396441459656,
          -0.8498557209968567,
          -0.8763514161109924,
          -0.9019889235496521,
          -0.926606297492981,
          -0.9500159025192261,
          -0.9720051288604736,
          -0.992340087890625,
          -1.0107725858688354,
          -1.027052640914917,
          -1.0409469604492188,
          -1.0522651672363281,
          -1.0608948469161987,
          -1.0668485164642334,
          -1.070322871208191,
          -1.071772813796997,
          -1.0720043182373047
         ],
         "z": [
          0.9101682305335999,
          0.9098799824714661,
          0.9080894589424133,
          0.903845489025116,
          0.8966667652130127,
          0.8864178657531738,
          0.8732098340988159,
          0.8573182821273804,
          0.8391196727752686,
          0.8190406560897827,
          0.7975201606750488,
          0.7749816179275513,
          0.7518132925033569,
          0.7283559441566467,
          0.7048953175544739,
          0.681659460067749,
          0.6588189601898193,
          0.6364898085594177,
          0.6147378087043762,
          0.5935842394828796,
          0.5730116963386536,
          0.5529710650444031,
          0.533387303352356,
          0.5141667127609253,
          0.49520209431648254,
          0.4763794243335724,
          0.45758265256881714,
          0.43869972229003906,
          0.41962745785713196,
          0.40027666091918945,
          0.3805773854255676,
          0.3604838252067566,
          0.3399794399738312,
          0.3190818428993225,
          0.2978476583957672,
          0.2763766944408417,
          0.25481539964675903,
          0.23335927724838257,
          0.21225298941135406,
          0.19178858399391174,
          0.17229939997196198,
          0.154150128364563,
          0.13772046566009521,
          0.12338150292634964,
          0.11146274954080582,
          0.10220807045698166,
          0.09571767598390579,
          0.0918741375207901,
          0.0902489647269249,
          0.08998677879571915
         ]
        },
        {
         "mode": "lines",
         "scene": "scene2",
         "showlegend": false,
         "type": "scatter3d",
         "x": [
          1.029415249824524,
          1.0295110940933228,
          1.030107855796814,
          1.031533122062683,
          1.0339747667312622,
          1.0375263690948486,
          1.0422180891036987,
          1.0480403900146484,
          1.05496084690094,
          1.062935471534729,
          1.071913242340088,
          1.081842303276062,
          1.0926698446273804,
          1.104343056678772,
          1.1168084144592285,
          1.1300108432769775,
          1.1438930034637451,
          1.1583951711654663,
          1.1734539270401,
          1.1890045404434204,
          1.2049788236618042,
          1.2213083505630493,
          1.2379249334335327,
          1.2547615766525269,
          1.2717541456222534,
          1.288841962814331,
          1.305969476699829,
          1.3230856657028198,
          1.340144157409668,
          1.3571027517318726,
          1.3739211559295654,
          1.390560269355774,
          1.4069788455963135,
          1.4231303930282593,
          1.4389610290527344,
          1.4544050693511963,
          1.4693832397460938,
          1.4837998151779175,
          1.497541904449463,
          1.51047945022583,
          1.5224676132202148,
          1.5333521366119385,
          1.5429766178131104,
          1.5511956214904785,
          1.5578901767730713,
          1.5629909038543701,
          1.566504716873169,
          1.568550944328308,
          1.5694025754928589,
          1.5695381164550781
         ],
         "y": [
          1.3714673519134521,
          1.3708363771438599,
          1.3668839931488037,
          1.3574103116989136,
          1.3411650657653809,
          1.3175944089889526,
          1.28663969039917,
          1.2485792636871338,
          1.2039028406143188,
          1.1532204151153564,
          1.0971912145614624,
          1.0364768505096436,
          0.9717077612876892,
          0.9034630060195923,
          0.8322604298591614,
          0.7585521340370178,
          0.6827272176742554,
          0.6051146388053894,
          0.5259904265403748,
          0.4455852508544922,
          0.3640909492969513,
          0.2816677689552307,
          0.19845139980316162,
          0.11455810070037842,
          0.030090326443314552,
          -0.05485827103257179,
          -0.1401975452899933,
          -0.22583582997322083,
          -0.31167376041412354,
          -0.39759737253189087,
          -0.4834698736667633,
          -0.5691227912902832,
          -0.6543449759483337,
          -0.738871693611145,
          -0.8223722577095032,
          -0.904439389705658,
          -0.9845781326293945,
          -1.062199354171753,
          -1.136616587638855,
          -1.20704984664917,
          -1.2726401090621948,
          -1.332474708557129,
          -1.3856302499771118,
          -1.431236743927002,
          -1.4685659408569336,
          -1.4971531629562378,
          -1.516954779624939,
          -1.528552770614624,
          -1.5334094762802124,
          -1.5341869592666626
         ],
         "z": [
          0.9363842606544495,
          0.9362240433692932,
          0.9352257251739502,
          0.9328529834747314,
          0.9288278222084045,
          0.9230644106864929,
          0.9156149625778198,
          0.9066250920295715,
          0.896298348903656,
          0.884867787361145,
          0.8725759387016296,
          0.8596580028533936,
          0.8463322520256042,
          0.8327921628952026,
          0.8192038536071777,
          0.8057045340538025,
          0.7924031615257263,
          0.7793827056884766,
          0.7667040824890137,
          0.7544086575508118,
          0.7425231337547302,
          0.7310630679130554,
          0.720036506652832,
          0.7094467878341675,
          0.6992958784103394,
          0.68958580493927,
          0.6803200840950012,
          0.6715047359466553,
          0.6631481051445007,
          0.6552608013153076,
          0.6478549242019653,
          0.6409426927566528,
          0.6345356702804565,
          0.6286429762840271,
          0.6232701539993286,
          0.6184185743331909,
          0.6140838861465454,
          0.6102558374404907,
          0.606918454170227,
          0.6040501594543457,
          0.6016243696212769,
          0.5996108651161194,
          0.5979769825935364,
          0.5966885685920715,
          0.5957111120223999,
          0.5950100421905518,
          0.5945494174957275,
          0.5942901968955994,
          0.5941843390464783,
          0.5941675901412964
         ]
        },
        {
         "marker": {
          "color": "#636EFA",
          "size": 2
         },
         "mode": "markers",
         "scene": "scene2",
         "showlegend": false,
         "type": "scatter3d",
         "x": [
          -1.610779881477356,
          0.36285585165023804,
          1.0376979112625122,
          1.029415249824524
         ],
         "y": [
          -1.11902916431427,
          -1.0673002004623413,
          -0.08821599185466766,
          1.3714673519134521
         ],
         "z": [
          0.16897283494472504,
          0.10277709364891052,
          0.9101682305335999,
          0.9363842606544495
         ]
        },
        {
         "marker": {
          "color": "#EF553B",
          "size": 2
         },
         "mode": "markers",
         "scene": "scene2",
         "showlegend": false,
         "type": "scatter3d",
         "x": [
          -0.13783065974712372,
          1.2634888887405396,
          -1.678719162940979,
          1.5695381164550781
         ],
         "y": [
          1.5965465307235718,
          1.406830906867981,
          -1.0720043182373047,
          -1.5341869592666626
         ],
         "z": [
          0.09351246803998947,
          0.800817608833313,
          0.08998677879571915,
          0.5941675901412964
         ]
        },
        {
         "mode": "lines",
         "scene": "scene3",
         "showlegend": false,
         "type": "scatter3d",
         "x": [
          -1.6107882261276245,
          -1.6104625463485718,
          -1.608418583869934,
          -1.603500247001648,
          -1.5950292348861694,
          -1.5826843976974487,
          -1.5664011240005493,
          -1.5462934970855713,
          -1.5225898027420044,
          -1.4955862760543823,
          -1.4656134843826294,
          -1.4330053329467773,
          -1.398087739944458,
          -1.3611639738082886,
          -1.3225101232528687,
          -1.2823749780654907,
          -1.2409770488739014,
          -1.198510766029358,
          -1.1551481485366821,
          -1.1110440492630005,
          -1.0663386583328247,
          -1.021164894104004,
          -0.9756462574005127,
          -0.9299043416976929,
          -0.8840592503547668,
          -0.8382306694984436,
          -0.7925383448600769,
          -0.7471057176589966,
          -0.7020571827888489,
          -0.6575205326080322,
          -0.6136274933815002,
          -0.5705143809318542,
          -0.5283243060112,
          -0.4872095286846161,
          -0.4473327696323395,
          -0.40887120366096497,
          -0.3720191419124603,
          -0.33698952198028564,
          -0.30401572585105896,
          -0.27335095405578613,
          -0.24526438117027283,
          -0.2200339138507843,
          -0.19793233275413513,
          -0.17920683324337006,
          -0.16404865682125092,
          -0.15255050361156464,
          -0.144649475812912,
          -0.1400519758462906,
          -0.1381363868713379,
          -0.13783062994480133
         ],
         "y": [
          -1.1190321445465088,
          -1.118570327758789,
          -1.1156532764434814,
          -1.1085898876190186,
          -1.0963305234909058,
          -1.0782997608184814,
          -1.0542593002319336,
          -1.0242058038711548,
          -0.988290011882782,
          -0.9467583894729614,
          -0.8999131321907043,
          -0.8480802178382874,
          -0.7915939092636108,
          -0.7307847142219543,
          -0.6659747958183289,
          -0.5974788665771484,
          -0.5256020426750183,
          -0.45064595341682434,
          -0.3729097843170166,
          -0.29269447922706604,
          -0.21030372381210327,
          -0.1260470747947693,
          -0.04023861140012741,
          0.04680212587118149,
          0.13475142419338226,
          0.22328266501426697,
          0.31206727027893066,
          0.40077704191207886,
          0.48908349871635437,
          0.5766583681106567,
          0.6631729006767273,
          0.7482934594154358,
          0.8316804766654968,
          0.9129831790924072,
          0.9918330311775208,
          1.067839503288269,
          1.1405848264694214,
          1.2096192836761475,
          1.2744616270065308,
          1.3346015214920044,
          1.3895078897476196,
          1.4386470317840576,
          1.4815102815628052,
          1.5176544189453125,
          1.546762228012085,
          1.5687183141708374,
          1.5837149620056152,
          1.592387080192566,
          1.5959776639938354,
          1.5965468883514404
         ],
         "z": [
          0.16897208988666534,
          0.16910693049430847,
          0.16992813348770142,
          0.17182837426662445,
          0.17495334148406982,
          0.17927028238773346,
          0.1846231371164322,
          0.1907779574394226,
          0.19745789468288422,
          0.2043711394071579,
          0.2112322300672531,
          0.21777626872062683,
          0.2237703651189804,
          0.22901976108551025,
          0.2333710491657257,
          0.23671363294124603,
          0.23897767066955566,
          0.24013201892375946,
          0.24017994105815887,
          0.23915494978427887,
          0.23711499571800232,
          0.23413829505443573,
          0.23031671345233917,
          0.22575172781944275,
          0.22054946422576904,
          0.21481622755527496,
          0.20865514874458313,
          0.2021634876728058,
          0.1954299360513687,
          0.18853367865085602,
          0.1815435141324997,
          0.1745181381702423,
          0.16750694811344147,
          0.16055187582969666,
          0.15368926525115967,
          0.14695274829864502,
          0.14037613570690155,
          0.1339964121580124,
          0.1278565526008606,
          0.12200798094272614,
          0.11651187390089035,
          0.11143940687179565,
          0.10686982423067093,
          0.10288617014884949,
          0.0995677039027214,
          0.09697810560464859,
          0.09514868259429932,
          0.09405547380447388,
          0.09358853101730347,
          0.09351247549057007
         ]
        },
        {
         "mode": "lines",
         "scene": "scene3",
         "showlegend": false,
         "type": "scatter3d",
         "x": [
          0.36285436153411865,
          0.3630049228668213,
          0.3639585077762604,
          0.366278737783432,
          0.3703283667564392,
          0.37632331252098083,
          0.38437315821647644,
          0.3945137560367584,
          0.40672916173934937,
          0.42096906900405884,
          0.43716099858283997,
          0.4552164077758789,
          0.47503674030303955,
          0.49651575088500977,
          0.5195403099060059,
          0.5439921617507935,
          0.5697457790374756,
          0.5966704487800598,
          0.624629020690918,
          0.6534789204597473,
          0.6830717921257019,
          0.7132559418678284,
          0.7438759803771973,
          0.774774968624115,
          0.8057968616485596,
          0.8367868065834045,
          0.8675923943519592,
          0.8980680704116821,
          0.9280723929405212,
          0.9574715495109558,
          0.9861385822296143,
          1.013952612876892,
          1.0407999753952026,
          1.0665724277496338,
          1.0911654233932495,
          1.114477276802063,
          1.136408805847168,
          1.1568603515625,
          1.1757326126098633,
          1.1929281949996948,
          1.2083516120910645,
          1.2219146490097046,
          1.2335423231124878,
          1.243181824684143,
          1.2508172988891602,
          1.2564841508865356,
          1.2602941989898682,
          1.2624644041061401,
          1.263350248336792,
          1.263488531112671
         ],
         "y": [
          -1.067301869392395,
          -1.0670437812805176,
          -1.0653825998306274,
          -1.0612680912017822,
          -1.0539442300796509,
          -1.042877435684204,
          -1.0276949405670166,
          -1.0081446170806885,
          -0.9840604066848755,
          -0.9553421139717102,
          -0.9219433069229126,
          -0.8838575482368469,
          -0.8411182165145874,
          -0.7937942147254944,
          -0.7419894337654114,
          -0.685844898223877,
          -0.6255361437797546,
          -0.5612757802009583,
          -0.4933105409145355,
          -0.42192187905311584,
          -0.347420334815979,
          -0.2701450288295746,
          -0.19045677781105042,
          -0.10873467475175858,
          -0.025370808318257332,
          0.0592346265912056,
          0.14467750489711761,
          0.23055408895015717,
          0.31646305322647095,
          0.4020070433616638,
          0.4867934584617615,
          0.5704309344291687,
          0.6525284051895142,
          0.732690691947937,
          0.8105120658874512,
          0.8855718374252319,
          0.9574288725852966,
          1.0256178379058838,
          1.089647889137268,
          1.1490058898925781,
          1.203163981437683,
          1.2515966892242432,
          1.2938079833984375,
          1.3293702602386475,
          1.3579825162887573,
          1.3795442581176758,
          1.3942575454711914,
          1.402758002281189,
          1.406274437904358,
          1.4068312644958496
         ],
         "z": [
          0.10277627408504486,
          0.1030045598745346,
          0.10442891716957092,
          0.10782831907272339,
          0.11362891644239426,
          0.12199782580137253,
          0.1329178512096405,
          0.14624716341495514,
          0.16176512837409973,
          0.17920732498168945,
          0.19829200208187103,
          0.21873755753040314,
          0.24027611315250397,
          0.26266050338745117,
          0.28566867113113403,
          0.3091055154800415,
          0.33280128240585327,
          0.3566111922264099,
          0.38041168451309204,
          0.4040980041027069,
          0.42758047580718994,
          0.45078274607658386,
          0.47363749146461487,
          0.49608486890792847,
          0.5180709362030029,
          0.5395452380180359,
          0.5604598522186279,
          0.5807695388793945,
          0.6004296541213989,
          0.6193972229957581,
          0.6376301050186157,
          0.65508633852005,
          0.6717250347137451,
          0.6875063180923462,
          0.7023904919624329,
          0.7163382172584534,
          0.7293115258216858,
          0.7412723302841187,
          0.7521843314170837,
          0.7620132565498352,
          0.7707282900810242,
          0.7783043384552002,
          0.7847252488136292,
          0.7899883985519409,
          0.7941110134124756,
          0.7971378564834595,
          0.799151599407196,
          0.8002872467041016,
          0.8007465600967407,
          0.8008177280426025
         ]
        },
        {
         "mode": "lines",
         "scene": "scene3",
         "showlegend": false,
         "type": "scatter3d",
         "x": [
          1.0376945734024048,
          1.0371601581573486,
          1.0337904691696167,
          1.0256584882736206,
          1.0116031169891357,
          0.9910295605659485,
          0.9637455940246582,
          0.929840087890625,
          0.889582633972168,
          0.8433542251586914,
          0.7915957570075989,
          0.7347685098648071,
          0.6733338832855225,
          0.6077377796173096,
          0.5384036302566528,
          0.4657316505908966,
          0.39009833335876465,
          0.3118610084056854,
          0.23136132955551147,
          0.1489298790693283,
          0.06488850712776184,
          -0.020445099100470543,
          -0.10675761848688126,
          -0.19373786449432373,
          -0.2810775339603424,
          -0.3684714436531067,
          -0.45561787486076355,
          -0.5422207713127136,
          -0.6279887557029724,
          -0.712635338306427,
          -0.7958782911300659,
          -0.8774350881576538,
          -0.9570218920707703,
          -1.034347653388977,
          -1.109108328819275,
          -1.18097984790802,
          -1.2496143579483032,
          -1.314632773399353,
          -1.3756245374679565,
          -1.43214750289917,
          -1.4837344884872437,
          -1.5299084186553955,
          -1.570207118988037,
          -1.6042208671569824,
          -1.6316485404968262,
          -1.6523704528808594,
          -1.6665502786636353,
          -1.6747671365737915,
          -1.6781765222549438,
          -1.6787177324295044
         ],
         "y": [
          -0.08821697533130646,
          -0.08838783204555511,
          -0.0894547775387764,
          -0.09200423210859299,
          -0.09636802971363068,
          -0.10269750654697418,
          -0.11102074384689331,
          -0.12128645926713943,
          -0.13339589536190033,
          -0.1472262442111969,
          -0.16264663636684418,
          -0.17952783405780792,
          -0.19774894416332245,
          -0.21719984710216522,
          -0.2377820611000061,
          -0.25940871238708496,
          -0.2820023000240326,
          -0.30549395084381104,
          -0.32982149720191956,
          -0.35492822527885437,
          -0.38076159358024597,
          -0.4072730839252472,
          -0.4344169497489929,
          -0.462150514125824,
          -0.490433931350708,
          -0.5192292928695679,
          -0.5484994649887085,
          -0.578208863735199,
          -0.6083186864852905,
          -0.638786256313324,
          -0.6695612072944641,
          -0.7005799412727356,
          -0.7317619323730469,
          -0.7630043029785156,
          -0.7941746115684509,
          -0.8251060247421265,
          -0.8555924892425537,
          -0.8853839635848999,
          -0.9141858816146851,
          -0.9416599869728088,
          -0.9674301743507385,
          -0.991093635559082,
          -1.0122400522232056,
          -1.030477523803711,
          -1.0454729795455933,
          -1.0570005178451538,
          -1.0650103092193604,
          -1.0697135925292969,
          -1.0716872215270996,
          -1.0720030069351196
         ],
         "z": [
          0.910167396068573,
          0.9098948836326599,
          0.9081981182098389,
          0.904172420501709,
          0.8973537087440491,
          0.887606143951416,
          0.8750249743461609,
          0.8598638772964478,
          0.8424713611602783,
          0.8232451677322388,
          0.8025977611541748,
          0.7809261083602905,
          0.7585973739624023,
          0.7359341979026794,
          0.7132079601287842,
          0.6906375885009766,
          0.6683865785598755,
          0.6465681791305542,
          0.625247061252594,
          0.6044463515281677,
          0.5841507911682129,
          0.5643152594566345,
          0.5448681116104126,
          0.5257188081741333,
          0.5067635774612427,
          0.4878900647163391,
          0.4689832031726837,
          0.4499315619468689,
          0.43063098192214966,
          0.4109911024570465,
          0.39094048738479614,
          0.37043166160583496,
          0.3494470715522766,
          0.3280046582221985,
          0.30616268515586853,
          0.2840246260166168,
          0.26174360513687134,
          0.23952436447143555,
          0.21762438118457794,
          0.19635160267353058,
          0.17605853080749512,
          0.15713173151016235,
          0.1399744749069214,
          0.12498179823160172,
          0.11250587552785873,
          0.10280902683734894,
          0.09600266069173813,
          0.09196902811527252,
          0.09026243537664413,
          0.08998695760965347
         ]
        },
        {
         "mode": "lines",
         "scene": "scene3",
         "showlegend": false,
         "type": "scatter3d",
         "x": [
          1.0294111967086792,
          1.0295681953430176,
          1.0305358171463013,
          1.0328243970870972,
          1.036697268486023,
          1.0422441959381104,
          1.049436092376709,
          1.0581697225570679,
          1.0682964324951172,
          1.0796483755111694,
          1.092052698135376,
          1.1053401231765747,
          1.1193547248840332,
          1.1339545249938965,
          1.149012804031372,
          1.1644212007522583,
          1.1800824403762817,
          1.195915699005127,
          1.211849570274353,
          1.2278255224227905,
          1.243791103363037,
          1.2597053050994873,
          1.2755323648452759,
          1.2912434339523315,
          1.306817889213562,
          1.3222386837005615,
          1.3374944925308228,
          1.3525800704956055,
          1.367491602897644,
          1.3822276592254639,
          1.3967872858047485,
          1.4111647605895996,
          1.4253507852554321,
          1.4393277168273926,
          1.4530656337738037,
          1.4665199518203735,
          1.4796302318572998,
          1.4923152923583984,
          1.504474401473999,
          1.5159876346588135,
          1.5267173051834106,
          1.536513328552246,
          1.5452219247817993,
          1.5526959896087646,
          1.5588128566741943,
          1.5634934902191162,
          1.56673002243042,
          1.5686219930648804,
          1.5694125890731812,
          1.5695388317108154
         ],
         "y": [
          1.3714650869369507,
          1.3708758354187012,
          1.3671720027923584,
          1.3582743406295776,
          1.342976689338684,
          1.3207173347473145,
          1.2913917303085327,
          1.2552107572555542,
          1.2125823497772217,
          1.1640300750732422,
          1.1101322174072266,
          1.0514721870422363,
          0.9886126518249512,
          0.9220771193504333,
          0.8523382544517517,
          0.7798178791999817,
          0.7048835754394531,
          0.6278562545776367,
          0.5490121841430664,
          0.46859264373779297,
          0.3868052661418915,
          0.30383414030075073,
          0.21984118223190308,
          0.1349732130765915,
          0.04936493933200836,
          -0.03685692697763443,
          -0.12356887757778168,
          -0.21064697206020355,
          -0.2979608476161957,
          -0.3853672742843628,
          -0.4727034568786621,
          -0.5597759485244751,
          -0.6463528275489807,
          -0.7321515083312988,
          -0.8168265223503113,
          -0.8999587297439575,
          -0.9810453653335571,
          -1.059491753578186,
          -1.1346101760864258,
          -1.2056230306625366,
          -1.271675705909729,
          -1.3318641185760498,
          -1.385276198387146,
          -1.4310553073883057,
          -1.4684898853302002,
          -1.4971314668655396,
          -1.5169533491134644,
          -1.5285542011260986,
          -1.5334092378616333,
          -1.5341856479644775
         ],
         "z": [
          0.9363833069801331,
          0.9363284111022949,
          0.935983419418335,
          0.9351603388786316,
          0.9337558746337891,
          0.9317296743392944,
          0.9290832877159119,
          0.925847053527832,
          0.9220646619796753,
          0.9177864193916321,
          0.9130625128746033,
          0.9079358577728271,
          0.9024417996406555,
          0.8966059684753418,
          0.8904430270195007,
          0.8839602470397949,
          0.8771546483039856,
          0.8700190782546997,
          0.8625408411026001,
          0.8547062277793884,
          0.8465006947517395,
          0.8379127979278564,
          0.8289330005645752,
          0.8195574283599854,
          0.8097884058952332,
          0.7996348738670349,
          0.7891123294830322,
          0.7782455086708069,
          0.7670659422874451,
          0.7556137442588806,
          0.7439373731613159,
          0.7320926785469055,
          0.7201439738273621,
          0.7081647515296936,
          0.6962361931800842,
          0.6844484210014343,
          0.6729011535644531,
          0.6617023348808289,
          0.6509687900543213,
          0.6408251523971558,
          0.6314012408256531,
          0.6228291392326355,
          0.615237832069397,
          0.6087448596954346,
          0.6034458875656128,
          0.5993978977203369,
          0.5965991616249084,
          0.5949622392654419,
          0.5942773818969727,
          0.5941677689552307
         ]
        },
        {
         "marker": {
          "color": "#636EFA",
          "size": 2
         },
         "mode": "markers",
         "scene": "scene3",
         "showlegend": false,
         "type": "scatter3d",
         "x": [
          -1.6107882261276245,
          0.36285436153411865,
          1.0376945734024048,
          1.0294111967086792
         ],
         "y": [
          -1.1190321445465088,
          -1.067301869392395,
          -0.08821697533130646,
          1.3714650869369507
         ],
         "z": [
          0.16897208988666534,
          0.10277627408504486,
          0.910167396068573,
          0.9363833069801331
         ]
        },
        {
         "marker": {
          "color": "#EF553B",
          "size": 2
         },
         "mode": "markers",
         "scene": "scene3",
         "showlegend": false,
         "type": "scatter3d",
         "x": [
          -0.13783062994480133,
          1.263488531112671,
          -1.6787177324295044,
          1.5695388317108154
         ],
         "y": [
          1.5965468883514404,
          1.4068312644958496,
          -1.0720030069351196,
          -1.5341856479644775
         ],
         "z": [
          0.09351247549057007,
          0.8008177280426025,
          0.08998695760965347,
          0.5941677689552307
         ]
        }
       ],
       "layout": {
        "annotations": [
         {
          "font": {
           "size": 16
          },
          "showarrow": false,
          "text": "BaseOpt",
          "x": 0.15,
          "xanchor": "center",
          "xref": "paper",
          "y": 1,
          "yanchor": "bottom",
          "yref": "paper"
         },
         {
          "font": {
           "size": 16
          },
          "showarrow": false,
          "text": "Cpred",
          "x": 0.49999999999999994,
          "xanchor": "center",
          "xref": "paper",
          "y": 1,
          "yanchor": "bottom",
          "yref": "paper"
         },
         {
          "font": {
           "size": 16
          },
          "showarrow": false,
          "text": "SF+vq+opt",
          "x": 0.85,
          "xanchor": "center",
          "xref": "paper",
          "y": 1,
          "yanchor": "bottom",
          "yref": "paper"
         }
        ],
        "height": 400,
        "margin": {
         "b": 20,
         "l": 20,
         "r": 20,
         "t": 20
        },
        "scene": {
         "aspectratio": {
          "x": 1,
          "y": 1,
          "z": 1
         },
         "domain": {
          "x": [
           0,
           0.3
          ],
          "y": [
           0,
           1
          ]
         },
         "xaxis": {
          "showticklabels": false,
          "title": {
           "text": ""
          }
         },
         "yaxis": {
          "showticklabels": false,
          "title": {
           "text": ""
          }
         },
         "zaxis": {
          "showticklabels": false,
          "title": {
           "text": ""
          }
         }
        },
        "scene2": {
         "aspectratio": {
          "x": 1,
          "y": 1,
          "z": 1
         },
         "domain": {
          "x": [
           0.35,
           0.6499999999999999
          ],
          "y": [
           0,
           1
          ]
         },
         "xaxis": {
          "showticklabels": false,
          "title": {
           "text": ""
          }
         },
         "yaxis": {
          "showticklabels": false,
          "title": {
           "text": ""
          }
         },
         "zaxis": {
          "showticklabels": false,
          "title": {
           "text": ""
          }
         }
        },
        "scene3": {
         "aspectratio": {
          "x": 1,
          "y": 1,
          "z": 1
         },
         "domain": {
          "x": [
           0.7,
           1
          ],
          "y": [
           0,
           1
          ]
         },
         "xaxis": {
          "showticklabels": false,
          "title": {
           "text": ""
          }
         },
         "yaxis": {
          "showticklabels": false,
          "title": {
           "text": ""
          }
         },
         "zaxis": {
          "showticklabels": false,
          "title": {
           "text": ""
          }
         }
        },
        "template": {
         "data": {
          "bar": [
           {
            "error_x": {
             "color": "#2a3f5f"
            },
            "error_y": {
             "color": "#2a3f5f"
            },
            "marker": {
             "line": {
              "color": "#E5ECF6",
              "width": 0.5
             },
             "pattern": {
              "fillmode": "overlay",
              "size": 10,
              "solidity": 0.2
             }
            },
            "type": "bar"
           }
          ],
          "barpolar": [
           {
            "marker": {
             "line": {
              "color": "#E5ECF6",
              "width": 0.5
             },
             "pattern": {
              "fillmode": "overlay",
              "size": 10,
              "solidity": 0.2
             }
            },
            "type": "barpolar"
           }
          ],
          "carpet": [
           {
            "aaxis": {
             "endlinecolor": "#2a3f5f",
             "gridcolor": "white",
             "linecolor": "white",
             "minorgridcolor": "white",
             "startlinecolor": "#2a3f5f"
            },
            "baxis": {
             "endlinecolor": "#2a3f5f",
             "gridcolor": "white",
             "linecolor": "white",
             "minorgridcolor": "white",
             "startlinecolor": "#2a3f5f"
            },
            "type": "carpet"
           }
          ],
          "choropleth": [
           {
            "colorbar": {
             "outlinewidth": 0,
             "ticks": ""
            },
            "type": "choropleth"
           }
          ],
          "contour": [
           {
            "colorbar": {
             "outlinewidth": 0,
             "ticks": ""
            },
            "colorscale": [
             [
              0,
              "#0d0887"
             ],
             [
              0.1111111111111111,
              "#46039f"
             ],
             [
              0.2222222222222222,
              "#7201a8"
             ],
             [
              0.3333333333333333,
              "#9c179e"
             ],
             [
              0.4444444444444444,
              "#bd3786"
             ],
             [
              0.5555555555555556,
              "#d8576b"
             ],
             [
              0.6666666666666666,
              "#ed7953"
             ],
             [
              0.7777777777777778,
              "#fb9f3a"
             ],
             [
              0.8888888888888888,
              "#fdca26"
             ],
             [
              1,
              "#f0f921"
             ]
            ],
            "type": "contour"
           }
          ],
          "contourcarpet": [
           {
            "colorbar": {
             "outlinewidth": 0,
             "ticks": ""
            },
            "type": "contourcarpet"
           }
          ],
          "heatmap": [
           {
            "colorbar": {
             "outlinewidth": 0,
             "ticks": ""
            },
            "colorscale": [
             [
              0,
              "#0d0887"
             ],
             [
              0.1111111111111111,
              "#46039f"
             ],
             [
              0.2222222222222222,
              "#7201a8"
             ],
             [
              0.3333333333333333,
              "#9c179e"
             ],
             [
              0.4444444444444444,
              "#bd3786"
             ],
             [
              0.5555555555555556,
              "#d8576b"
             ],
             [
              0.6666666666666666,
              "#ed7953"
             ],
             [
              0.7777777777777778,
              "#fb9f3a"
             ],
             [
              0.8888888888888888,
              "#fdca26"
             ],
             [
              1,
              "#f0f921"
             ]
            ],
            "type": "heatmap"
           }
          ],
          "heatmapgl": [
           {
            "colorbar": {
             "outlinewidth": 0,
             "ticks": ""
            },
            "colorscale": [
             [
              0,
              "#0d0887"
             ],
             [
              0.1111111111111111,
              "#46039f"
             ],
             [
              0.2222222222222222,
              "#7201a8"
             ],
             [
              0.3333333333333333,
              "#9c179e"
             ],
             [
              0.4444444444444444,
              "#bd3786"
             ],
             [
              0.5555555555555556,
              "#d8576b"
             ],
             [
              0.6666666666666666,
              "#ed7953"
             ],
             [
              0.7777777777777778,
              "#fb9f3a"
             ],
             [
              0.8888888888888888,
              "#fdca26"
             ],
             [
              1,
              "#f0f921"
             ]
            ],
            "type": "heatmapgl"
           }
          ],
          "histogram": [
           {
            "marker": {
             "pattern": {
              "fillmode": "overlay",
              "size": 10,
              "solidity": 0.2
             }
            },
            "type": "histogram"
           }
          ],
          "histogram2d": [
           {
            "colorbar": {
             "outlinewidth": 0,
             "ticks": ""
            },
            "colorscale": [
             [
              0,
              "#0d0887"
             ],
             [
              0.1111111111111111,
              "#46039f"
             ],
             [
              0.2222222222222222,
              "#7201a8"
             ],
             [
              0.3333333333333333,
              "#9c179e"
             ],
             [
              0.4444444444444444,
              "#bd3786"
             ],
             [
              0.5555555555555556,
              "#d8576b"
             ],
             [
              0.6666666666666666,
              "#ed7953"
             ],
             [
              0.7777777777777778,
              "#fb9f3a"
             ],
             [
              0.8888888888888888,
              "#fdca26"
             ],
             [
              1,
              "#f0f921"
             ]
            ],
            "type": "histogram2d"
           }
          ],
          "histogram2dcontour": [
           {
            "colorbar": {
             "outlinewidth": 0,
             "ticks": ""
            },
            "colorscale": [
             [
              0,
              "#0d0887"
             ],
             [
              0.1111111111111111,
              "#46039f"
             ],
             [
              0.2222222222222222,
              "#7201a8"
             ],
             [
              0.3333333333333333,
              "#9c179e"
             ],
             [
              0.4444444444444444,
              "#bd3786"
             ],
             [
              0.5555555555555556,
              "#d8576b"
             ],
             [
              0.6666666666666666,
              "#ed7953"
             ],
             [
              0.7777777777777778,
              "#fb9f3a"
             ],
             [
              0.8888888888888888,
              "#fdca26"
             ],
             [
              1,
              "#f0f921"
             ]
            ],
            "type": "histogram2dcontour"
           }
          ],
          "mesh3d": [
           {
            "colorbar": {
             "outlinewidth": 0,
             "ticks": ""
            },
            "type": "mesh3d"
           }
          ],
          "parcoords": [
           {
            "line": {
             "colorbar": {
              "outlinewidth": 0,
              "ticks": ""
             }
            },
            "type": "parcoords"
           }
          ],
          "pie": [
           {
            "automargin": true,
            "type": "pie"
           }
          ],
          "scatter": [
           {
            "fillpattern": {
             "fillmode": "overlay",
             "size": 10,
             "solidity": 0.2
            },
            "type": "scatter"
           }
          ],
          "scatter3d": [
           {
            "line": {
             "colorbar": {
              "outlinewidth": 0,
              "ticks": ""
             }
            },
            "marker": {
             "colorbar": {
              "outlinewidth": 0,
              "ticks": ""
             }
            },
            "type": "scatter3d"
           }
          ],
          "scattercarpet": [
           {
            "marker": {
             "colorbar": {
              "outlinewidth": 0,
              "ticks": ""
             }
            },
            "type": "scattercarpet"
           }
          ],
          "scattergeo": [
           {
            "marker": {
             "colorbar": {
              "outlinewidth": 0,
              "ticks": ""
             }
            },
            "type": "scattergeo"
           }
          ],
          "scattergl": [
           {
            "marker": {
             "colorbar": {
              "outlinewidth": 0,
              "ticks": ""
             }
            },
            "type": "scattergl"
           }
          ],
          "scattermapbox": [
           {
            "marker": {
             "colorbar": {
              "outlinewidth": 0,
              "ticks": ""
             }
            },
            "type": "scattermapbox"
           }
          ],
          "scatterpolar": [
           {
            "marker": {
             "colorbar": {
              "outlinewidth": 0,
              "ticks": ""
             }
            },
            "type": "scatterpolar"
           }
          ],
          "scatterpolargl": [
           {
            "marker": {
             "colorbar": {
              "outlinewidth": 0,
              "ticks": ""
             }
            },
            "type": "scatterpolargl"
           }
          ],
          "scatterternary": [
           {
            "marker": {
             "colorbar": {
              "outlinewidth": 0,
              "ticks": ""
             }
            },
            "type": "scatterternary"
           }
          ],
          "surface": [
           {
            "colorbar": {
             "outlinewidth": 0,
             "ticks": ""
            },
            "colorscale": [
             [
              0,
              "#0d0887"
             ],
             [
              0.1111111111111111,
              "#46039f"
             ],
             [
              0.2222222222222222,
              "#7201a8"
             ],
             [
              0.3333333333333333,
              "#9c179e"
             ],
             [
              0.4444444444444444,
              "#bd3786"
             ],
             [
              0.5555555555555556,
              "#d8576b"
             ],
             [
              0.6666666666666666,
              "#ed7953"
             ],
             [
              0.7777777777777778,
              "#fb9f3a"
             ],
             [
              0.8888888888888888,
              "#fdca26"
             ],
             [
              1,
              "#f0f921"
             ]
            ],
            "type": "surface"
           }
          ],
          "table": [
           {
            "cells": {
             "fill": {
              "color": "#EBF0F8"
             },
             "line": {
              "color": "white"
             }
            },
            "header": {
             "fill": {
              "color": "#C8D4E3"
             },
             "line": {
              "color": "white"
             }
            },
            "type": "table"
           }
          ]
         },
         "layout": {
          "annotationdefaults": {
           "arrowcolor": "#2a3f5f",
           "arrowhead": 0,
           "arrowwidth": 1
          },
          "autotypenumbers": "strict",
          "coloraxis": {
           "colorbar": {
            "outlinewidth": 0,
            "ticks": ""
           }
          },
          "colorscale": {
           "diverging": [
            [
             0,
             "#8e0152"
            ],
            [
             0.1,
             "#c51b7d"
            ],
            [
             0.2,
             "#de77ae"
            ],
            [
             0.3,
             "#f1b6da"
            ],
            [
             0.4,
             "#fde0ef"
            ],
            [
             0.5,
             "#f7f7f7"
            ],
            [
             0.6,
             "#e6f5d0"
            ],
            [
             0.7,
             "#b8e186"
            ],
            [
             0.8,
             "#7fbc41"
            ],
            [
             0.9,
             "#4d9221"
            ],
            [
             1,
             "#276419"
            ]
           ],
           "sequential": [
            [
             0,
             "#0d0887"
            ],
            [
             0.1111111111111111,
             "#46039f"
            ],
            [
             0.2222222222222222,
             "#7201a8"
            ],
            [
             0.3333333333333333,
             "#9c179e"
            ],
            [
             0.4444444444444444,
             "#bd3786"
            ],
            [
             0.5555555555555556,
             "#d8576b"
            ],
            [
             0.6666666666666666,
             "#ed7953"
            ],
            [
             0.7777777777777778,
             "#fb9f3a"
            ],
            [
             0.8888888888888888,
             "#fdca26"
            ],
            [
             1,
             "#f0f921"
            ]
           ],
           "sequentialminus": [
            [
             0,
             "#0d0887"
            ],
            [
             0.1111111111111111,
             "#46039f"
            ],
            [
             0.2222222222222222,
             "#7201a8"
            ],
            [
             0.3333333333333333,
             "#9c179e"
            ],
            [
             0.4444444444444444,
             "#bd3786"
            ],
            [
             0.5555555555555556,
             "#d8576b"
            ],
            [
             0.6666666666666666,
             "#ed7953"
            ],
            [
             0.7777777777777778,
             "#fb9f3a"
            ],
            [
             0.8888888888888888,
             "#fdca26"
            ],
            [
             1,
             "#f0f921"
            ]
           ]
          },
          "colorway": [
           "#636efa",
           "#EF553B",
           "#00cc96",
           "#ab63fa",
           "#FFA15A",
           "#19d3f3",
           "#FF6692",
           "#B6E880",
           "#FF97FF",
           "#FECB52"
          ],
          "font": {
           "color": "#2a3f5f"
          },
          "geo": {
           "bgcolor": "white",
           "lakecolor": "white",
           "landcolor": "#E5ECF6",
           "showlakes": true,
           "showland": true,
           "subunitcolor": "white"
          },
          "hoverlabel": {
           "align": "left"
          },
          "hovermode": "closest",
          "mapbox": {
           "style": "light"
          },
          "paper_bgcolor": "white",
          "plot_bgcolor": "#E5ECF6",
          "polar": {
           "angularaxis": {
            "gridcolor": "white",
            "linecolor": "white",
            "ticks": ""
           },
           "bgcolor": "#E5ECF6",
           "radialaxis": {
            "gridcolor": "white",
            "linecolor": "white",
            "ticks": ""
           }
          },
          "scene": {
           "xaxis": {
            "backgroundcolor": "#E5ECF6",
            "gridcolor": "white",
            "gridwidth": 2,
            "linecolor": "white",
            "showbackground": true,
            "ticks": "",
            "zerolinecolor": "white"
           },
           "yaxis": {
            "backgroundcolor": "#E5ECF6",
            "gridcolor": "white",
            "gridwidth": 2,
            "linecolor": "white",
            "showbackground": true,
            "ticks": "",
            "zerolinecolor": "white"
           },
           "zaxis": {
            "backgroundcolor": "#E5ECF6",
            "gridcolor": "white",
            "gridwidth": 2,
            "linecolor": "white",
            "showbackground": true,
            "ticks": "",
            "zerolinecolor": "white"
           }
          },
          "shapedefaults": {
           "line": {
            "color": "#2a3f5f"
           }
          },
          "ternary": {
           "aaxis": {
            "gridcolor": "white",
            "linecolor": "white",
            "ticks": ""
           },
           "baxis": {
            "gridcolor": "white",
            "linecolor": "white",
            "ticks": ""
           },
           "bgcolor": "#E5ECF6",
           "caxis": {
            "gridcolor": "white",
            "linecolor": "white",
            "ticks": ""
           }
          },
          "title": {
           "x": 0.05
          },
          "xaxis": {
           "automargin": true,
           "gridcolor": "white",
           "linecolor": "white",
           "ticks": "",
           "title": {
            "standoff": 15
           },
           "zerolinecolor": "white",
           "zerolinewidth": 2
          },
          "yaxis": {
           "automargin": true,
           "gridcolor": "white",
           "linecolor": "white",
           "ticks": "",
           "title": {
            "standoff": 15
           },
           "zerolinecolor": "white",
           "zerolinewidth": 2
          }
         }
        },
        "width": 1600,
        "xaxis": {
         "mirror": true,
         "showline": true
        },
        "yaxis": {
         "mirror": true,
         "showline": true
        }
       }
      }
     },
     "metadata": {},
     "output_type": "display_data"
    }
   ],
   "source": [
    "x_init, y_init, z_init, x_fin, y_fin, z_fin, center, radii = next(test_loader)\n",
    "x_init, y_init, z_init, x_fin, y_fin, z_fin, center, radii = (\n",
    "\tx_init.to(device=device), y_init.to(device=device), z_init.to(device=device), \n",
    "\tx_fin.to(device=device), y_fin.to(device=device), z_fin.to(device=device),\n",
    "\tcenter.to(device), radii.to(device) \n",
    ")\n",
    "\n",
    "inits = th.stack([x_init, y_init, z_init], dim=-2)\n",
    "fins = th.stack([x_fin, y_fin, z_fin], dim=-2)\n",
    "conditions = th.stack([inits, fins], dim=-1)\n",
    "\n",
    "state_x, state_y, state_z = make_state(\n",
    "\tx_init, y_init, z_init, x_fin, y_fin, z_fin\n",
    ")\n",
    "inp = make_inp(x_init, y_init, z_init, x_fin, y_fin, z_fin)\n",
    "\n",
    "start = time.time()\n",
    "with th.no_grad():\n",
    "\tlatent_idx = th.zeros(batch_size, num_agent, lheight, lwidth, dtype=th.float32, device=device)\n",
    "\tfor i in range(lheight):\n",
    "\t\tfor j in range(lwidth):\n",
    "\t\t\toutput = sampler(latent_idx, conditions.permute(0, 2, 1, 3))\n",
    "\t\t\tlatent_idx[:, :, i, j] = th.multinomial(\n",
    "\t\t\t\tth.nn.functional.softmax(output[:, :, i, j].cpu(), dim=-1),\n",
    "\t\t\t\tnum_samples=1\n",
    "\t\t\t)\n",
    "\n",
    "\tlatent = vq_model.quantizer.embedding(latent_idx.to(dtype=th.int32))[:, 0]\n",
    "\t\n",
    "\tprint(time.time()-start)\n",
    "\tprint('pix sampling done')\n",
    "\t\n",
    "\tc_pred = vq_model.decode(\n",
    "\t\tlatent, \n",
    "\t\tx_init.repeat_interleave(batch_size, 0), y_init.repeat_interleave(batch_size, 0), z_init.repeat_interleave(batch_size, 0), \n",
    "\t\tx_fin.repeat_interleave(batch_size, 0), y_fin.repeat_interleave(batch_size, 0), z_fin.repeat_interleave(batch_size, 0)\n",
    "\t)\n",
    "\trec_trajs = (c_pred @ P.mT).cpu().numpy()\n",
    "\tcx_trajs, cy_trajs, cz_trajs = rec_trajs[:, 0, :, :], rec_trajs[:, 1, :, :], rec_trajs[:, 2, :, :]\n",
    "\n",
    "\tcx_pred, cy_pred, cz_pred = (\n",
    "\t\tc_pred[:, 0, ...].flatten(start_dim=-2), \n",
    "\t\tc_pred[:, 1, ...].flatten(start_dim=-2), \n",
    "\t\tc_pred[:, 2, ...].flatten(start_dim=-2)\n",
    "\t)\n",
    "\tc_pred_test = th.cat([cx_pred, cy_pred, cz_pred], dim=-1)\n",
    "\n",
    "\t### End - vq-px\n",
    "\n",
    "\tinp_test = th.vstack([inp] * batch_size)\n",
    "\tcen_test = th.vstack([center] * batch_size)\n",
    "\trad_test = th.vstack([radii] * batch_size)\n",
    "\tstate_x_test = th.vstack([state_x]*batch_size)\n",
    "\tstate_y_test = th.vstack([state_y]*batch_size)\n",
    "\tstate_z_test = th.vstack([state_z]*batch_size)\n",
    "\n",
    "\tc_x_guess, c_y_guess, c_z_guess, lamda_x, lamda_y, lamda_z = model_sf(inp_test, th.cat([c_pred_test, cen_test, rad_test], dim=-1))\n",
    "\t\n",
    "\tc_x_pred = c_pred_test[:, 0 : multi_agent_learned.nvar*multi_agent_learned.num_agent] \n",
    "\tc_y_pred = c_pred_test[:, multi_agent_learned.nvar*multi_agent_learned.num_agent : 2*multi_agent_learned.nvar*multi_agent_learned.num_agent]  \n",
    "\tc_z_pred = c_pred_test[:, 2*multi_agent_learned.nvar*multi_agent_learned.num_agent : 3*multi_agent_learned.nvar*multi_agent_learned.num_agent]\n",
    "\n",
    "\n",
    "\tx_ell, y_ell, z_ell = center.permute(1, 0)\n",
    "\tx_ell, y_ell, z_ell = (\n",
    "\t\tx_ell[..., None].cpu() * th.ones((batch_size, num * num_agent)),\n",
    "\t\ty_ell[..., None].cpu() * th.ones((batch_size, num * num_agent)),\n",
    "\t\tz_ell[..., None].cpu() * th.ones((batch_size, num * num_agent))\n",
    "\t)\n",
    "\n",
    "\ta_ell, b_ell, c_ell = radii.permute(1, 0)\n",
    "\ta_ell, b_ell, c_ell = (\n",
    "\t\ta_ell[..., None].cpu() * th.ones((batch_size, num * num_agent)),\n",
    "\t\tb_ell[..., None].cpu() * th.ones((batch_size, num * num_agent)),\n",
    "\t\tc_ell[..., None].cpu() * th.ones((batch_size, num * num_agent))\n",
    "\t)\n",
    "\t\n",
    "\tlamda_x_jnp = jnp.asarray( lamda_x.cpu().detach().numpy()  )\n",
    "\tlamda_y_jnp = jnp.asarray( lamda_y.cpu().detach().numpy()  )\n",
    "\tlamda_z_jnp = jnp.asarray( lamda_z.cpu().detach().numpy()  )\n",
    "\t\n",
    "\tc_x_pred_jnp = jnp.asarray( c_x_pred.cpu().detach().numpy()  )\n",
    "\tc_y_pred_jnp = jnp.asarray( c_y_pred.cpu().detach().numpy()  )\n",
    "\tc_z_pred_jnp = jnp.asarray( c_z_pred.cpu().detach().numpy()  )\n",
    "\t\n",
    "\tc_x_guess_jnp = jnp.asarray( c_x_guess.cpu().detach().numpy()  )\n",
    "\tc_y_guess_jnp = jnp.asarray( c_y_guess.cpu().detach().numpy()  )\n",
    "\tc_z_guess_jnp = jnp.asarray( c_z_guess.cpu().detach().numpy()  )\n",
    "\n",
    "\tc_x_guess = th.from_numpy(np.array(c_x_guess_jnp))\n",
    "\tc_y_guess = th.from_numpy(np.array(c_y_guess_jnp))\n",
    "\tc_z_guess = th.from_numpy(np.array(c_z_guess_jnp))\n",
    "\t\n",
    "\t\t\n",
    "\tstate_x_test_jnp = jnp.asarray(state_x_test.cpu().detach().numpy())\n",
    "\tstate_y_test_jnp = jnp.asarray(state_y_test.cpu().detach().numpy())\n",
    "\tstate_z_test_jnp = jnp.asarray(state_z_test.cpu().detach().numpy())\n",
    "\n",
    "\n",
    "\tstart = time.time()\n",
    "\tprimal_sol_x, primal_sol_y, primal_sol_z, accumulated_res_primal, accumulated_res_fixed_point, primal_residual, dual_residual = jax.block_until_ready(multi_agent_learned(\n",
    "\t\tc_x_pred_jnp, c_y_pred_jnp, c_z_pred_jnp, c_x_guess_jnp, c_y_guess_jnp, c_z_guess_jnp, \n",
    "\t\tlamda_x_jnp, lamda_y_jnp, lamda_z_jnp, state_x_test_jnp, state_y_test_jnp, state_z_test_jnp, \n",
    "\t\tx_ell.cpu().numpy(), y_ell.cpu().numpy(), z_ell.cpu().numpy(), a_ell.cpu().numpy(), b_ell.cpu().numpy(), c_ell.cpu().numpy()\n",
    "\t))\n",
    "\t\n",
    "\tprint(time.time()-start)\n",
    "\tprint('computation done')\n",
    "\n",
    "\tprimal_sol_x_base, primal_sol_y_base, primal_sol_z_base, primal_residual_base, dual_residual_base = multi_agent_base.custom_forward(\n",
    "\t\tstate_x_test_jnp, state_y_test_jnp, state_z_test_jnp, \n",
    "\t\tx_ell.cpu().numpy(), y_ell.cpu().numpy(), z_ell.cpu().numpy(), \n",
    "\t\ta_ell.cpu().numpy(), b_ell.cpu().numpy(), c_ell.cpu().numpy()\n",
    "\t)\n",
    "\t# primal_sol_x_base, primal_sol_y_base, primal_sol_z_base, _, _, primal_residual_base, dual_residual_base = jax.block_until_ready(multi_agent_learned(\n",
    "\t# \tc_x_pred_jnp, c_y_pred_jnp, c_z_pred_jnp, \n",
    "\t# \tc_x_pred_jnp, c_y_pred_jnp, c_z_pred_jnp, \n",
    "\t# \tjnp.zeros_like(lamda_x_jnp), jnp.zeros_like(lamda_y_jnp), jnp.zeros_like(lamda_z_jnp), \n",
    "\t# \tstate_x_test_jnp, state_y_test_jnp, state_z_test_jnp, \n",
    "\t# \tx_ell.cpu().numpy(), y_ell.cpu().numpy(), z_ell.cpu().numpy(), \n",
    "\t# \ta_ell.cpu().numpy(), b_ell.cpu().numpy(), c_ell.cpu().numpy()\n",
    "\t# ))\n",
    "\n",
    "\tbest_idx = np.nanargmin(primal_residual[-1, :] + 0*dual_residual[-1, :])\n",
    "\tbest_idx_base = np.nanargmin(primal_residual_base[-1, :] + 0*dual_residual_base[-1, :])\n",
    "\n",
    "\tprimal_sol_x_1 = primal_sol_x[best_idx]\n",
    "\tprimal_sol_y_1 = primal_sol_y[best_idx]\n",
    "\tprimal_sol_z_1 = primal_sol_z[best_idx]\n",
    "\n",
    "\tprimal_sol_x_1 = primal_sol_x_1.reshape(multi_agent_learned.num_agent, multi_agent_learned.nvar)\n",
    "\tprimal_sol_y_1 = primal_sol_y_1.reshape(multi_agent_learned.num_agent, multi_agent_learned.nvar)\n",
    "\tprimal_sol_z_1 = primal_sol_z_1.reshape(multi_agent_learned.num_agent, multi_agent_learned.nvar)\n",
    "\n",
    "\tprimal_sol_x_1_base = primal_sol_x_base[best_idx]\n",
    "\tprimal_sol_y_1_base = primal_sol_y_base[best_idx]\n",
    "\tprimal_sol_z_1_base = primal_sol_z_base[best_idx]\n",
    "\n",
    "\tprimal_sol_x_1_base = primal_sol_x_1_base.reshape(multi_agent_learned.num_agent, multi_agent_learned.nvar)\n",
    "\tprimal_sol_y_1_base = primal_sol_y_1_base.reshape(multi_agent_learned.num_agent, multi_agent_learned.nvar)\n",
    "\tprimal_sol_z_1_base = primal_sol_z_1_base.reshape(multi_agent_learned.num_agent, multi_agent_learned.nvar)\n",
    "\t\n",
    "\tprimal_sol_x_1_init = c_x_pred_jnp[best_idx]\n",
    "\tprimal_sol_y_1_init = c_y_pred_jnp[best_idx]\n",
    "\tprimal_sol_z_1_init = c_z_pred_jnp[best_idx]\n",
    "\n",
    "\tprimal_sol_x_1_init = primal_sol_x_1_init.reshape(multi_agent_learned.num_agent, multi_agent_learned.nvar)\n",
    "\tprimal_sol_y_1_init = primal_sol_y_1_init.reshape(multi_agent_learned.num_agent, multi_agent_learned.nvar)\n",
    "\tprimal_sol_z_1_init = primal_sol_z_1_init.reshape(multi_agent_learned.num_agent, multi_agent_learned.nvar)\n",
    "\n",
    "\tx_traj = jnp.dot(multi_agent_learned.P, primal_sol_x_1.T).T\n",
    "\ty_traj = jnp.dot(multi_agent_learned.P, primal_sol_y_1.T).T\n",
    "\tz_traj = jnp.dot(multi_agent_learned.P, primal_sol_z_1.T).T\n",
    "\n",
    "\tx_traj_base = jnp.dot(multi_agent_learned.P, primal_sol_x_1_base.T).T\n",
    "\ty_traj_base = jnp.dot(multi_agent_learned.P, primal_sol_y_1_base.T).T\n",
    "\tz_traj_base = jnp.dot(multi_agent_learned.P, primal_sol_z_1_base.T).T\n",
    "\t\n",
    "\tx_traj_init = jnp.dot(multi_agent_learned.P, primal_sol_x_1_init.T).T\n",
    "\ty_traj_init = jnp.dot(multi_agent_learned.P, primal_sol_y_1_init.T).T\n",
    "\tz_traj_init = jnp.dot(multi_agent_learned.P, primal_sol_z_1_init.T).T\n",
    "\n",
    "\tfig = plt.figure(figsize=(11, 4))\n",
    "\tax = plt.subplot(121)\n",
    "\tax.plot(primal_residual[:, best_idx], '-r', label=\"sf_layer\")\n",
    "\tax.plot(primal_residual_base[:, best_idx_base], '-b', label=\"base\")\n",
    "\tax.set_title(\"Train loss\")\n",
    "\tax.set_yscale('log')\n",
    "\tax.grid(which=\"both\")\n",
    "\tax.legend(loc='upper center')\n",
    "\n",
    "\tax = plt.subplot(122)\n",
    "\tax.plot(dual_residual[:, best_idx], '-r', label=\"sf_layer\")\n",
    "\tax.plot(dual_residual_base[:, best_idx_base], '-b', label=\"base\")\n",
    "\tax.set_title(\"Primal loss\")\n",
    "\tax.set_yscale('log')\n",
    "\tax.grid(which=\"both\")\n",
    "\tax.legend(loc='upper center')\n",
    "\n",
    "\tplt.tight_layout()\n",
    "\tplt.show()\n",
    "\n",
    "\tvx_trajs, vy_trajs, vz_trajs = np.stack([x_traj_base, cx_trajs[best_idx], x_traj]), np.stack([y_traj_base, cy_trajs[best_idx], y_traj]), np.stack([z_traj_base, cz_trajs[best_idx], z_traj])\n",
    "\tmultiviz_trajs(vx_trajs[:3], vy_trajs[:3], vz_trajs[:3], nrows=1, ncols=3, num_agents=num_agent, height=400, width=1_600, titles=[\"BaseOpt\", \"Cpred\", \"SF+vq+opt\"])"
   ]
  },
  {
   "cell_type": "code",
   "execution_count": null,
   "metadata": {},
   "outputs": [],
   "source": []
  }
 ],
 "metadata": {
  "kernelspec": {
   "display_name": "Python 3",
   "language": "python",
   "name": "python3"
  },
  "language_info": {
   "codemirror_mode": {
    "name": "ipython",
    "version": 3
   },
   "file_extension": ".py",
   "mimetype": "text/x-python",
   "name": "python",
   "nbconvert_exporter": "python",
   "pygments_lexer": "ipython3",
   "version": "3.12.7"
  }
 },
 "nbformat": 4,
 "nbformat_minor": 2
}
