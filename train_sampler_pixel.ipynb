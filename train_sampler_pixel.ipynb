{
 "cells": [
  {
   "cell_type": "code",
   "execution_count": 1,
   "metadata": {},
   "outputs": [],
   "source": [
    "import random\n",
    "import numpy as np\n",
    "import torch as th\n",
    "from tqdm import tqdm\n",
    "from torchinfo import summary\n",
    "from torch.utils.data import DataLoader, random_split\n",
    "\n",
    "import matplotlib.pyplot as plt\n",
    "from utils.plots import multiviz_trajs\n",
    "\n",
    "from models.vqvae import VQVAEAgents\n",
    "from models.sampler.pixelcnn import PixelCNN\n",
    "from utils.bernstein_coeff_order10_arbitinterval import get_coeffs\n",
    "from utils.load_data import get_real_dataset_num_agents, get_varying_bound_dataset_num_agent"
   ]
  },
  {
   "cell_type": "code",
   "execution_count": 18,
   "metadata": {},
   "outputs": [
    {
     "name": "stdout",
     "output_type": "stream",
     "text": [
      "cuda\n"
     ]
    }
   ],
   "source": [
    "num         = 50\n",
    "t_fin       = 5\n",
    "num_agent   = 4\n",
    "\n",
    "vq_name     = \"vary_01\"\n",
    "px_name     = \"vary_01\"\n",
    "batch_size  = 64\n",
    "\n",
    "nef         = 128   # Size of feature maps in encoder\n",
    "ndf         = 128   # Size of feature maps in decoder\n",
    "\n",
    "zdim        = 3     # Size of codebook vectors in the quantizer layer\n",
    "znum        = 512    # number of codebook vectors\n",
    "\n",
    "lheight     = 5     # latent vector height\n",
    "lwidth      = 5     # Latent vector width\n",
    "\n",
    "num_epochs  = 500\n",
    "device      = th.device(\"cuda\" if th.cuda.is_available() else \"cpu\")\n",
    "\n",
    "print(device)\n",
    "# th.set_float32_matmul_precision('high')"
   ]
  },
  {
   "cell_type": "code",
   "execution_count": 3,
   "metadata": {},
   "outputs": [],
   "source": [
    "# SEED = 13\n",
    "# th.manual_seed(SEED)\n",
    "# th.cuda.manual_seed(SEED)"
   ]
  },
  {
   "cell_type": "code",
   "execution_count": 4,
   "metadata": {},
   "outputs": [],
   "source": [
    "P, Pdot, Pddot = get_coeffs(num, t_fin, device)\n",
    "nvar = P.size(dim=-1) "
   ]
  },
  {
   "cell_type": "code",
   "execution_count": 5,
   "metadata": {},
   "outputs": [
    {
     "name": "stdout",
     "output_type": "stream",
     "text": [
      "19999\n"
     ]
    }
   ],
   "source": [
    "dataset = get_varying_bound_dataset_num_agent(P.cpu(), num_agent, nvar)\n",
    "len_data = len(dataset)\n",
    "len_val = max(1, int(0.1 * len_data))\n",
    "\n",
    "gen = th.Generator().manual_seed(42)\n",
    "train_set, val_set = random_split(dataset, [len_data - len_val, len_val], gen)\n",
    "\n",
    "val_loader = DataLoader(val_set, batch_size=batch_size, shuffle=True, drop_last=False)\n",
    "train_loader = DataLoader(train_set, batch_size=batch_size, shuffle=True, drop_last=False)\n",
    "\n",
    "print(len_data)"
   ]
  },
  {
   "cell_type": "code",
   "execution_count": 6,
   "metadata": {},
   "outputs": [],
   "source": [
    "vq_model = VQVAEAgents(\n",
    "    P, Pdot, Pddot, num_agent=num_agent, nvar=11, emb_num=znum, emb_dim=zdim, zdim=zdim, tdim=3, beta=0.25,\n",
    "    lheight=lheight, lwidth=lwidth, nef=nef, ndf=ndf, device=device, batch=batch_size\n",
    ")\n",
    "vq_model.load_state_dict(th.load(f\"./resources/weights/vqvae/{vq_name}_agents_{num_agent}\", weights_only=False))\n",
    "cvq_model = th.compile(vq_model)\n",
    "\n",
    "vq_model.eval()\n",
    "\n",
    "for param in vq_model.parameters():\n",
    "    param.requires_grad = False"
   ]
  },
  {
   "cell_type": "code",
   "execution_count": 7,
   "metadata": {},
   "outputs": [
    {
     "data": {
      "text/plain": [
       "====================================================================================================\n",
       "Layer (type:depth-idx)                             Output Shape              Param #\n",
       "====================================================================================================\n",
       "PixelCNN                                           [64, 512, 5, 5]           --\n",
       "├─LabelNet: 1-1                                    [64, 4, 5, 5]             --\n",
       "│    └─Sequential: 2-1                             [64, 4, 5, 5]             --\n",
       "│    │    └─ConvTranspose2d: 3-1                   [64, 128, 4, 4]           3,072\n",
       "│    │    └─BatchNorm2d: 3-2                       [64, 128, 4, 4]           256\n",
       "│    │    └─LeakyReLU: 3-3                         [64, 128, 4, 4]           --\n",
       "│    │    └─Dropout2d: 3-4                         [64, 128, 4, 4]           --\n",
       "│    │    └─ConvTranspose2d: 3-5                   [64, 64, 8, 8]            204,800\n",
       "│    │    └─BatchNorm2d: 3-6                       [64, 64, 8, 8]            128\n",
       "│    │    └─LeakyReLU: 3-7                         [64, 64, 8, 8]            --\n",
       "│    │    └─Dropout2d: 3-8                         [64, 64, 8, 8]            --\n",
       "│    │    └─ConvTranspose2d: 3-9                   [64, 4, 12, 12]           6,400\n",
       "│    │    └─BatchNorm2d: 3-10                      [64, 4, 12, 12]           8\n",
       "│    │    └─LeakyReLU: 3-11                        [64, 4, 12, 12]           --\n",
       "│    │    └─Dropout2d: 3-12                        [64, 4, 12, 12]           --\n",
       "│    │    └─AdaptiveAvgPool2d: 3-13                [64, 4, 5, 5]             --\n",
       "│    │    └─Linear: 3-14                           [64, 4, 5, 5]             30\n",
       "├─ModuleList: 1-2                                  --                        --\n",
       "│    └─BatchNorm2d: 2-2                            [64, 4, 5, 5]             8\n",
       "│    └─CondGatedMaskedConv2d: 2-3                  [64, 32, 5, 5]            --\n",
       "│    │    └─AutoRegConv2d: 3-15                    [64, 32, 5, 5]            12,544\n",
       "│    │    └─Conv2d: 3-16                           [64, 32, 5, 5]            160\n",
       "│    │    └─Tanh: 3-17                             [64, 32, 5, 5]            --\n",
       "│    │    └─AutoRegConv2d: 3-18                    [64, 32, 5, 5]            12,544\n",
       "│    │    └─Conv2d: 3-19                           [64, 32, 5, 5]            160\n",
       "│    │    └─Sigmoid: 3-20                          [64, 32, 5, 5]            --\n",
       "│    └─BatchNorm2d: 2-4                            [64, 32, 5, 5]            64\n",
       "│    └─CondGatedMaskedConv2d: 2-5                  [64, 32, 5, 5]            --\n",
       "│    │    └─AutoRegConv2d: 3-21                    [64, 32, 5, 5]            100,352\n",
       "│    │    └─Conv2d: 3-22                           [64, 32, 5, 5]            160\n",
       "│    │    └─Tanh: 3-23                             [64, 32, 5, 5]            --\n",
       "│    │    └─AutoRegConv2d: 3-24                    [64, 32, 5, 5]            100,352\n",
       "│    │    └─Conv2d: 3-25                           [64, 32, 5, 5]            160\n",
       "│    │    └─Sigmoid: 3-26                          [64, 32, 5, 5]            --\n",
       "│    └─BatchNorm2d: 2-6                            [64, 32, 5, 5]            64\n",
       "│    └─Dropout2d: 2-7                              [64, 32, 5, 5]            --\n",
       "│    └─CondGatedMaskedConv2d: 2-8                  [64, 32, 5, 5]            --\n",
       "│    │    └─AutoRegConv2d: 3-27                    [64, 32, 5, 5]            100,352\n",
       "│    │    └─Conv2d: 3-28                           [64, 32, 5, 5]            160\n",
       "│    │    └─Tanh: 3-29                             [64, 32, 5, 5]            --\n",
       "│    │    └─AutoRegConv2d: 3-30                    [64, 32, 5, 5]            100,352\n",
       "│    │    └─Conv2d: 3-31                           [64, 32, 5, 5]            160\n",
       "│    │    └─Sigmoid: 3-32                          [64, 32, 5, 5]            --\n",
       "│    └─BatchNorm2d: 2-9                            [64, 32, 5, 5]            64\n",
       "│    └─Dropout2d: 2-10                             [64, 32, 5, 5]            --\n",
       "│    └─CondGatedMaskedConv2d: 2-11                 [64, 32, 5, 5]            --\n",
       "│    │    └─AutoRegConv2d: 3-33                    [64, 32, 5, 5]            100,352\n",
       "│    │    └─Conv2d: 3-34                           [64, 32, 5, 5]            160\n",
       "│    │    └─Tanh: 3-35                             [64, 32, 5, 5]            --\n",
       "│    │    └─AutoRegConv2d: 3-36                    [64, 32, 5, 5]            100,352\n",
       "│    │    └─Conv2d: 3-37                           [64, 32, 5, 5]            160\n",
       "│    │    └─Sigmoid: 3-38                          [64, 32, 5, 5]            --\n",
       "│    └─BatchNorm2d: 2-12                           [64, 32, 5, 5]            64\n",
       "│    └─Dropout2d: 2-13                             [64, 32, 5, 5]            --\n",
       "│    └─Conv2d: 2-14                                [64, 512, 5, 5]           16,896\n",
       "====================================================================================================\n",
       "Total params: 860,334\n",
       "Trainable params: 860,334\n",
       "Non-trainable params: 0\n",
       "Total mult-adds (Units.GIGABYTES): 1.93\n",
       "====================================================================================================\n",
       "Input size (MB): 0.03\n",
       "Forward/backward pass size (MB): 25.01\n",
       "Params size (MB): 3.44\n",
       "Estimated Total Size (MB): 28.48\n",
       "===================================================================================================="
      ]
     },
     "execution_count": 7,
     "metadata": {},
     "output_type": "execute_result"
    }
   ],
   "source": [
    "sampler = PixelCNN(num_agent, lheight, lwidth, nf=16, n_channels=32, n_layers=3, emb_num=znum, cond_input_shape=96, cond_output_shape=(lheight, lwidth))\n",
    "sampler.train()\n",
    "\n",
    "summary(sampler, [(64, num_agent, lheight, lwidth), (64, num_agent, 3, 2)])"
   ]
  },
  {
   "cell_type": "code",
   "execution_count": null,
   "metadata": {},
   "outputs": [],
   "source": [
    "sampler_optimizer = th.optim.AdamW(sampler.parameters(), lr=1e-3, weight_decay=5e-2)\n",
    "sampler_scheduler = th.optim.lr_scheduler.ReduceLROnPlateau(sampler_optimizer, factor=0.5, patience=3)"
   ]
  },
  {
   "cell_type": "code",
   "execution_count": 9,
   "metadata": {},
   "outputs": [
    {
     "name": "stderr",
     "output_type": "stream",
     "text": [
      "Epoch:  0/500:   0%|          | 0/500 [00:00<?, ?it/s]"
     ]
    },
    {
     "name": "stderr",
     "output_type": "stream",
     "text": [
      "100%|██████████| 282/282 [00:04<00:00, 66.11it/s]\n",
      "100%|██████████| 282/282 [00:03<00:00, 73.41it/s]6,  6.23s/it, loss_train=5.2409, loss_val=4.3877, accuracies=0.0320]\n",
      "100%|██████████| 282/282 [00:03<00:00, 74.18it/s]4,  5.91s/it, loss_train=4.3960, loss_val=4.0289, accuracies=0.0473]\n",
      "100%|██████████| 282/282 [00:03<00:00, 73.42it/s]9,  5.81s/it, loss_train=4.1933, loss_val=3.8664, accuracies=0.0537]\n",
      "100%|██████████| 282/282 [00:03<00:00, 72.32it/s]5,  5.74s/it, loss_train=4.0814, loss_val=3.7433, accuracies=0.0644]\n",
      "100%|██████████| 282/282 [00:03<00:00, 73.98it/s]2,  5.70s/it, loss_train=4.0034, loss_val=3.7035, accuracies=0.0613]\n",
      "100%|██████████| 282/282 [00:03<00:00, 73.42it/s]6,  5.68s/it, loss_train=3.9556, loss_val=3.6934, accuracies=0.0594]\n",
      "100%|██████████| 282/282 [00:03<00:00, 76.27it/s]7,  5.68s/it, loss_train=3.9107, loss_val=3.5768, accuracies=0.0739]\n",
      "100%|██████████| 282/282 [00:03<00:00, 72.76it/s]6,  5.62s/it, loss_train=3.8653, loss_val=3.5316, accuracies=0.0773]\n",
      "100%|██████████| 282/282 [00:03<00:00, 72.34it/s]4,  5.63s/it, loss_train=3.7965, loss_val=3.3631, accuracies=0.1016]\n",
      "100%|██████████| 282/282 [00:03<00:00, 74.10it/s]26,  5.69s/it, loss_train=3.6363, loss_val=3.1123, accuracies=0.1439]\n",
      "100%|██████████| 282/282 [00:03<00:00, 74.88it/s]12,  5.67s/it, loss_train=3.4909, loss_val=2.9347, accuracies=0.1735]\n",
      "100%|██████████| 282/282 [00:03<00:00, 72.59it/s]56,  5.65s/it, loss_train=3.3826, loss_val=2.8911, accuracies=0.1645]\n",
      "100%|██████████| 282/282 [00:03<00:00, 73.66it/s]05,  5.68s/it, loss_train=3.3124, loss_val=2.7832, accuracies=0.1904]\n",
      "100%|██████████| 282/282 [00:03<00:00, 73.49it/s]56,  5.67s/it, loss_train=3.2433, loss_val=2.7234, accuracies=0.2011]\n",
      "100%|██████████| 282/282 [00:03<00:00, 72.82it/s]00,  5.69s/it, loss_train=3.1900, loss_val=2.6418, accuracies=0.2256]\n",
      "100%|██████████| 282/282 [00:03<00:00, 74.48it/s]00,  5.70s/it, loss_train=3.1366, loss_val=2.6314, accuracies=0.2244]\n",
      "100%|██████████| 282/282 [00:03<00:00, 72.04it/s]57,  5.71s/it, loss_train=3.1030, loss_val=2.5852, accuracies=0.2259]\n",
      "100%|██████████| 282/282 [00:03<00:00, 72.35it/s]02,  5.73s/it, loss_train=3.0661, loss_val=2.5126, accuracies=0.2490]\n",
      "100%|██████████| 282/282 [00:03<00:00, 71.51it/s]06,  5.75s/it, loss_train=3.0313, loss_val=2.5442, accuracies=0.2253]\n",
      "100%|██████████| 282/282 [00:03<00:00, 71.29it/s]01,  5.75s/it, loss_train=2.9962, loss_val=2.5787, accuracies=0.2276]\n",
      "100%|██████████| 282/282 [00:03<00:00, 72.72it/s]08,  5.78s/it, loss_train=2.9876, loss_val=2.4582, accuracies=0.2540]\n",
      "100%|██████████| 282/282 [00:03<00:00, 72.21it/s]59,  5.77s/it, loss_train=2.9530, loss_val=2.4849, accuracies=0.2356]\n",
      "100%|██████████| 282/282 [00:03<00:00, 73.30it/s]03,  5.79s/it, loss_train=2.9355, loss_val=2.4409, accuracies=0.2441]\n",
      "100%|██████████| 282/282 [00:03<00:00, 72.06it/s]00,  5.80s/it, loss_train=2.9163, loss_val=2.4730, accuracies=0.2290]\n",
      "100%|██████████| 282/282 [00:03<00:00, 71.58it/s]03,  5.82s/it, loss_train=2.8941, loss_val=2.4600, accuracies=0.2407]\n",
      "100%|██████████| 282/282 [00:03<00:00, 71.46it/s]11,  5.85s/it, loss_train=2.8855, loss_val=2.4442, accuracies=0.2420]\n",
      "100%|██████████| 282/282 [00:03<00:00, 71.77it/s]16,  5.87s/it, loss_train=2.8669, loss_val=2.3975, accuracies=0.2483]\n",
      "100%|██████████| 282/282 [00:03<00:00, 71.84it/s]53,  5.83s/it, loss_train=2.8612, loss_val=2.4384, accuracies=0.2449]\n",
      "100%|██████████| 282/282 [00:03<00:00, 71.55it/s]43,  5.83s/it, loss_train=2.8463, loss_val=2.3988, accuracies=0.2538]\n",
      "100%|██████████| 282/282 [00:03<00:00, 71.92it/s]34,  5.82s/it, loss_train=2.8252, loss_val=2.4040, accuracies=0.2468]\n",
      "100%|██████████| 282/282 [00:03<00:00, 73.24it/s]29,  5.82s/it, loss_train=2.8131, loss_val=2.3510, accuracies=0.2696]\n",
      "100%|██████████| 282/282 [00:03<00:00, 71.92it/s]12,  5.80s/it, loss_train=2.8170, loss_val=2.3986, accuracies=0.2677]\n",
      "100%|██████████| 282/282 [00:03<00:00, 72.27it/s]08,  5.80s/it, loss_train=2.7903, loss_val=2.3246, accuracies=0.2794]\n",
      "100%|██████████| 282/282 [00:03<00:00, 73.34it/s]58,  5.79s/it, loss_train=2.7868, loss_val=2.3472, accuracies=0.2684]\n",
      "100%|██████████| 282/282 [00:03<00:00, 72.34it/s]43,  5.77s/it, loss_train=2.7908, loss_val=2.4104, accuracies=0.2426]\n",
      "100%|██████████| 282/282 [00:03<00:00, 72.35it/s]31,  5.76s/it, loss_train=2.7681, loss_val=2.3187, accuracies=0.2680]\n",
      "100%|██████████| 282/282 [00:03<00:00, 74.63it/s]29,  5.77s/it, loss_train=2.7659, loss_val=2.3563, accuracies=0.2692]\n",
      "100%|██████████| 282/282 [00:03<00:00, 72.66it/s]13,  5.74s/it, loss_train=2.7532, loss_val=2.3191, accuracies=0.2741]\n",
      "100%|██████████| 282/282 [00:03<00:00, 72.75it/s]11,  5.75s/it, loss_train=2.7429, loss_val=2.3539, accuracies=0.2614]\n",
      "100%|██████████| 282/282 [00:03<00:00, 74.32it/s]08,  5.76s/it, loss_train=2.7413, loss_val=2.3339, accuracies=0.2832]\n",
      "100%|██████████| 282/282 [00:03<00:00, 72.56it/s]51,  5.73s/it, loss_train=2.7312, loss_val=2.4038, accuracies=0.2579]\n",
      "100%|██████████| 282/282 [00:03<00:00, 72.91it/s]38,  5.72s/it, loss_train=2.7257, loss_val=2.4208, accuracies=0.2694]\n",
      "100%|██████████| 282/282 [00:03<00:00, 75.37it/s]22,  5.69s/it, loss_train=2.7250, loss_val=2.4331, accuracies=0.2453]\n",
      "100%|██████████| 282/282 [00:03<00:00, 74.70it/s]06,  5.67s/it, loss_train=2.7161, loss_val=2.3458, accuracies=0.2783]\n",
      "100%|██████████| 282/282 [00:03<00:00, 74.66it/s]36,  5.62s/it, loss_train=2.7196, loss_val=2.2865, accuracies=0.2977]\n",
      "100%|██████████| 282/282 [00:03<00:00, 74.01it/s]36,  5.63s/it, loss_train=2.7025, loss_val=2.3122, accuracies=0.2925]\n",
      "100%|██████████| 282/282 [00:03<00:00, 72.75it/s]29,  5.63s/it, loss_train=2.6966, loss_val=2.3008, accuracies=0.2918]\n",
      "100%|██████████| 282/282 [00:03<00:00, 73.74it/s]44,  5.67s/it, loss_train=2.6995, loss_val=2.3296, accuracies=0.2842]\n",
      "100%|██████████| 282/282 [00:03<00:00, 75.59it/s]31,  5.66s/it, loss_train=2.6848, loss_val=2.2996, accuracies=0.2769]\n",
      "100%|██████████| 282/282 [00:03<00:00, 74.25it/s]14,  5.63s/it, loss_train=2.6811, loss_val=2.2907, accuracies=0.2869]\n",
      "100%|██████████| 282/282 [00:03<00:00, 73.63it/s]15,  5.65s/it, loss_train=2.6680, loss_val=2.3324, accuracies=0.2812]\n",
      "100%|██████████| 282/282 [00:03<00:00, 74.47it/s]13,  5.66s/it, loss_train=2.6772, loss_val=2.3283, accuracies=0.2824]\n",
      "100%|██████████| 282/282 [00:03<00:00, 73.34it/s]07,  5.65s/it, loss_train=2.6594, loss_val=2.3166, accuracies=0.2867]\n",
      "100%|██████████| 282/282 [00:03<00:00, 72.72it/s]01,  5.65s/it, loss_train=2.6672, loss_val=2.2871, accuracies=0.2975]\n",
      "100%|██████████| 282/282 [00:03<00:00, 72.97it/s]06,  5.68s/it, loss_train=2.6552, loss_val=2.3698, accuracies=0.2716]\n",
      "100%|██████████| 282/282 [00:03<00:00, 73.73it/s]57,  5.67s/it, loss_train=2.6490, loss_val=2.3455, accuracies=0.2732]\n",
      "100%|██████████| 282/282 [00:03<00:00, 71.85it/s]30,  5.62s/it, loss_train=2.6500, loss_val=2.3340, accuracies=0.2852]\n",
      "100%|██████████| 282/282 [00:03<00:00, 74.87it/s]39,  5.66s/it, loss_train=2.6424, loss_val=2.3962, accuracies=0.2622]\n",
      "100%|██████████| 282/282 [00:03<00:00, 72.78it/s]21,  5.63s/it, loss_train=2.6305, loss_val=2.3022, accuracies=0.2954]\n",
      "100%|██████████| 282/282 [00:03<00:00, 73.50it/s]18,  5.63s/it, loss_train=2.6289, loss_val=2.3138, accuracies=0.2914]\n",
      "100%|██████████| 282/282 [00:03<00:00, 72.25it/s]18,  5.65s/it, loss_train=2.6331, loss_val=2.2980, accuracies=0.2916]\n",
      "100%|██████████| 282/282 [00:03<00:00, 71.62it/s]20,  5.66s/it, loss_train=2.6217, loss_val=2.3622, accuracies=0.2830]\n",
      "100%|██████████| 282/282 [00:03<00:00, 73.69it/s]35,  5.71s/it, loss_train=2.6176, loss_val=2.2793, accuracies=0.2993]\n",
      "100%|██████████| 282/282 [00:03<00:00, 72.30it/s]22,  5.69s/it, loss_train=2.6197, loss_val=2.3517, accuracies=0.2894]\n",
      "100%|██████████| 282/282 [00:03<00:00, 72.26it/s]32,  5.73s/it, loss_train=2.6168, loss_val=2.3359, accuracies=0.2778]\n",
      "100%|██████████| 282/282 [00:03<00:00, 73.68it/s]38,  5.76s/it, loss_train=2.6086, loss_val=2.2866, accuracies=0.3023]\n",
      "100%|██████████| 282/282 [00:03<00:00, 71.72it/s]26,  5.74s/it, loss_train=2.6097, loss_val=2.2857, accuracies=0.3107]\n",
      "100%|██████████| 282/282 [00:03<00:00, 72.24it/s]27,  5.76s/it, loss_train=2.5984, loss_val=2.2966, accuracies=0.2804]\n",
      "100%|██████████| 282/282 [00:03<00:00, 72.34it/s]31,  5.78s/it, loss_train=2.5972, loss_val=2.2609, accuracies=0.3182]\n",
      "100%|██████████| 282/282 [00:03<00:00, 74.01it/s]17,  5.76s/it, loss_train=2.5882, loss_val=2.3713, accuracies=0.2576]\n",
      "100%|██████████| 282/282 [00:03<00:00, 71.89it/s]06,  5.75s/it, loss_train=2.5920, loss_val=2.3050, accuracies=0.2804]\n",
      "100%|██████████| 282/282 [00:03<00:00, 72.03it/s]05,  5.76s/it, loss_train=2.5943, loss_val=2.4235, accuracies=0.2738]\n",
      "100%|██████████| 282/282 [00:03<00:00, 72.57it/s]52,  5.74s/it, loss_train=2.5848, loss_val=2.3039, accuracies=0.3067]\n",
      "100%|██████████| 282/282 [00:03<00:00, 72.18it/s]53,  5.76s/it, loss_train=2.5852, loss_val=2.3510, accuracies=0.2671]\n",
      "100%|██████████| 282/282 [00:03<00:00, 72.46it/s]49,  5.76s/it, loss_train=2.5774, loss_val=2.3028, accuracies=0.2928]\n",
      "100%|██████████| 282/282 [00:03<00:00, 72.45it/s]31,  5.74s/it, loss_train=2.5732, loss_val=2.2685, accuracies=0.3014]\n",
      "100%|██████████| 282/282 [00:03<00:00, 73.02it/s]30,  5.75s/it, loss_train=2.5779, loss_val=2.2892, accuracies=0.2958]\n",
      "100%|██████████| 282/282 [00:03<00:00, 75.02it/s]06,  5.70s/it, loss_train=2.5700, loss_val=2.3637, accuracies=0.2787]\n",
      "100%|██████████| 282/282 [00:03<00:00, 72.55it/s]51,  5.68s/it, loss_train=2.5594, loss_val=2.3014, accuracies=0.2940]\n",
      "100%|██████████| 282/282 [00:03<00:00, 75.04it/s]57,  5.71s/it, loss_train=2.5639, loss_val=2.2908, accuracies=0.2922]\n",
      "100%|██████████| 282/282 [00:03<00:00, 72.69it/s]41,  5.68s/it, loss_train=2.5642, loss_val=2.2738, accuracies=0.2995]\n",
      "100%|██████████| 282/282 [00:03<00:00, 72.69it/s]33,  5.68s/it, loss_train=2.5593, loss_val=2.3121, accuracies=0.3065]\n",
      "100%|██████████| 282/282 [00:03<00:00, 72.68it/s]22,  5.67s/it, loss_train=2.5598, loss_val=2.2721, accuracies=0.3125]\n",
      "100%|██████████| 282/282 [00:03<00:00, 73.65it/s]15,  5.66s/it, loss_train=2.5104, loss_val=2.3051, accuracies=0.3118]\n",
      "100%|██████████| 282/282 [00:03<00:00, 72.92it/s]03,  5.65s/it, loss_train=2.5041, loss_val=2.2452, accuracies=0.3187]\n",
      "100%|██████████| 282/282 [00:03<00:00, 72.68it/s]10,  5.68s/it, loss_train=2.4986, loss_val=2.2898, accuracies=0.3109]\n",
      "100%|██████████| 282/282 [00:03<00:00, 75.61it/s]07,  5.68s/it, loss_train=2.4995, loss_val=2.3926, accuracies=0.2857]\n",
      "100%|██████████| 282/282 [00:03<00:00, 74.75it/s]50,  5.66s/it, loss_train=2.5033, loss_val=2.2592, accuracies=0.3137]\n",
      "100%|██████████| 282/282 [00:03<00:00, 75.44it/s]43,  5.65s/it, loss_train=2.4966, loss_val=2.3070, accuracies=0.3014]\n",
      "100%|██████████| 282/282 [00:03<00:00, 73.19it/s]29,  5.63s/it, loss_train=2.5012, loss_val=2.2640, accuracies=0.3161]\n",
      "100%|██████████| 282/282 [00:03<00:00, 73.16it/s]29,  5.65s/it, loss_train=2.4944, loss_val=2.3036, accuracies=0.2967]\n",
      "100%|██████████| 282/282 [00:03<00:00, 73.81it/s]20,  5.64s/it, loss_train=2.4941, loss_val=2.3463, accuracies=0.3102]\n",
      "100%|██████████| 282/282 [00:03<00:00, 73.02it/s]27,  5.67s/it, loss_train=2.4951, loss_val=2.2739, accuracies=0.3111]\n",
      "100%|██████████| 282/282 [00:03<00:00, 75.45it/s]27,  5.68s/it, loss_train=2.4904, loss_val=2.3020, accuracies=0.3106]\n",
      "100%|██████████| 282/282 [00:03<00:00, 73.64it/s]04,  5.64s/it, loss_train=2.4949, loss_val=2.3001, accuracies=0.3130]\n",
      "100%|██████████| 282/282 [00:03<00:00, 75.20it/s]04,  5.65s/it, loss_train=2.4836, loss_val=2.3081, accuracies=0.3092]\n",
      "100%|██████████| 282/282 [00:03<00:00, 72.53it/s]58,  5.65s/it, loss_train=2.4857, loss_val=2.3568, accuracies=0.3021]\n",
      "100%|██████████| 282/282 [00:03<00:00, 73.39it/s]07,  5.69s/it, loss_train=2.4918, loss_val=2.2631, accuracies=0.3171]\n",
      "100%|██████████| 282/282 [00:03<00:00, 76.92it/s]07,  5.71s/it, loss_train=2.4787, loss_val=2.2818, accuracies=0.3192]\n",
      "100%|██████████| 282/282 [00:03<00:00, 72.57it/s]7:36,  5.64s/it, loss_train=2.4845, loss_val=2.2367, accuracies=0.3230]\n",
      "100%|██████████| 282/282 [00:03<00:00, 72.15it/s]7:44,  5.68s/it, loss_train=2.4750, loss_val=2.2814, accuracies=0.3224]\n",
      "100%|██████████| 282/282 [00:03<00:00, 72.92it/s]7:50,  5.70s/it, loss_train=2.4702, loss_val=2.2716, accuracies=0.3226]\n",
      "100%|██████████| 282/282 [00:03<00:00, 72.10it/s]7:51,  5.72s/it, loss_train=2.4822, loss_val=2.3448, accuracies=0.3046]\n",
      "100%|██████████| 282/282 [00:03<00:00, 72.68it/s]7:52,  5.74s/it, loss_train=2.4765, loss_val=2.3164, accuracies=0.3045]\n",
      "100%|██████████| 282/282 [00:03<00:00, 71.95it/s]7:44,  5.73s/it, loss_train=2.4796, loss_val=2.3363, accuracies=0.3129]\n",
      "100%|██████████| 282/282 [00:03<00:00, 72.59it/s]7:43,  5.75s/it, loss_train=2.4760, loss_val=2.3548, accuracies=0.3086]\n",
      "100%|██████████| 282/282 [00:03<00:00, 75.16it/s]7:39,  5.75s/it, loss_train=2.4520, loss_val=2.2647, accuracies=0.3246]\n",
      "100%|██████████| 282/282 [00:03<00:00, 71.55it/s]7:22,  5.72s/it, loss_train=2.4411, loss_val=2.3276, accuracies=0.3187]\n",
      "100%|██████████| 282/282 [00:03<00:00, 72.77it/s]7:32,  5.76s/it, loss_train=2.4489, loss_val=2.3095, accuracies=0.3179]\n",
      "100%|██████████| 282/282 [00:03<00:00, 72.28it/s]7:29,  5.77s/it, loss_train=2.4424, loss_val=2.2818, accuracies=0.3223]\n",
      "100%|██████████| 282/282 [00:03<00:00, 71.69it/s]7:20,  5.76s/it, loss_train=2.4411, loss_val=2.2830, accuracies=0.3219]\n",
      "100%|██████████| 282/282 [00:03<00:00, 72.66it/s]7:24,  5.79s/it, loss_train=2.4342, loss_val=2.3092, accuracies=0.3238]\n",
      "100%|██████████| 282/282 [00:03<00:00, 72.34it/s]7:15,  5.78s/it, loss_train=2.4418, loss_val=2.3090, accuracies=0.3271]\n",
      "100%|██████████| 282/282 [00:03<00:00, 71.83it/s]7:05,  5.77s/it, loss_train=2.4418, loss_val=2.2913, accuracies=0.3250]\n",
      "100%|██████████| 282/282 [00:03<00:00, 75.48it/s]6:58,  5.76s/it, loss_train=2.4363, loss_val=2.3355, accuracies=0.3152]\n",
      "100%|██████████| 282/282 [00:03<00:00, 76.11it/s]6:38,  5.73s/it, loss_train=2.4334, loss_val=2.2395, accuracies=0.3395]\n",
      "100%|██████████| 282/282 [00:03<00:00, 73.28it/s]6:16,  5.68s/it, loss_train=2.4419, loss_val=2.2872, accuracies=0.3184]\n",
      "100%|██████████| 282/282 [00:03<00:00, 75.04it/s]6:14,  5.69s/it, loss_train=2.4333, loss_val=2.3129, accuracies=0.3253]\n",
      "100%|██████████| 282/282 [00:03<00:00, 72.58it/s]6:04,  5.68s/it, loss_train=2.4408, loss_val=2.2978, accuracies=0.3309]\n",
      "100%|██████████| 282/282 [00:03<00:00, 74.74it/s]6:23,  5.75s/it, loss_train=2.4372, loss_val=2.3105, accuracies=0.3255]\n",
      "100%|██████████| 282/282 [00:03<00:00, 74.38it/s]6:04,  5.71s/it, loss_train=2.4272, loss_val=2.3244, accuracies=0.3259]\n",
      "100%|██████████| 282/282 [00:03<00:00, 72.01it/s]5:55,  5.70s/it, loss_train=2.4160, loss_val=2.2565, accuracies=0.3390]\n",
      "100%|██████████| 282/282 [00:03<00:00, 73.43it/s]6:03,  5.74s/it, loss_train=2.4226, loss_val=2.3280, accuracies=0.3281]\n",
      "100%|██████████| 282/282 [00:03<00:00, 73.07it/s]6:01,  5.75s/it, loss_train=2.4115, loss_val=2.3126, accuracies=0.3293]\n",
      "100%|██████████| 282/282 [00:03<00:00, 73.31it/s]5:48,  5.73s/it, loss_train=2.4245, loss_val=2.3287, accuracies=0.3186]\n",
      "100%|██████████| 282/282 [00:03<00:00, 73.14it/s]5:36,  5.71s/it, loss_train=2.4083, loss_val=2.3217, accuracies=0.3223]\n",
      "100%|██████████| 282/282 [00:03<00:00, 71.56it/s]5:22,  5.69s/it, loss_train=2.4121, loss_val=2.3250, accuracies=0.3210]\n",
      "100%|██████████| 282/282 [00:03<00:00, 71.99it/s]5:31,  5.73s/it, loss_train=2.4159, loss_val=2.2812, accuracies=0.3341]\n",
      "100%|██████████| 282/282 [00:03<00:00, 75.89it/s]5:34,  5.75s/it, loss_train=2.4151, loss_val=2.3478, accuracies=0.3181]\n",
      "100%|██████████| 282/282 [00:03<00:00, 71.86it/s]5:11,  5.71s/it, loss_train=2.4139, loss_val=2.2872, accuracies=0.3269]\n",
      "100%|██████████| 282/282 [00:03<00:00, 73.54it/s]5:16,  5.73s/it, loss_train=2.4083, loss_val=2.2912, accuracies=0.3331]\n",
      "100%|██████████| 282/282 [00:03<00:00, 74.70it/s]5:00,  5.71s/it, loss_train=2.4078, loss_val=2.3141, accuracies=0.3269]\n",
      "100%|██████████| 282/282 [00:03<00:00, 74.71it/s]4:53,  5.70s/it, loss_train=2.4010, loss_val=2.3165, accuracies=0.3233]\n",
      "100%|██████████| 282/282 [00:03<00:00, 72.55it/s]4:44,  5.70s/it, loss_train=2.4081, loss_val=2.3019, accuracies=0.3292]\n",
      "100%|██████████| 282/282 [00:03<00:00, 73.31it/s]4:39,  5.70s/it, loss_train=2.4052, loss_val=2.3074, accuracies=0.3231]\n",
      "100%|██████████| 282/282 [00:03<00:00, 72.79it/s]4:45,  5.73s/it, loss_train=2.4003, loss_val=2.3036, accuracies=0.3337]\n",
      "100%|██████████| 282/282 [00:03<00:00, 75.65it/s]4:50,  5.76s/it, loss_train=2.4095, loss_val=2.3484, accuracies=0.3227]\n",
      "100%|██████████| 282/282 [00:03<00:00, 73.85it/s]4:30,  5.72s/it, loss_train=2.4110, loss_val=2.2951, accuracies=0.3298]\n",
      "100%|██████████| 282/282 [00:03<00:00, 75.44it/s]4:16,  5.70s/it, loss_train=2.4024, loss_val=2.3073, accuracies=0.3291]\n",
      "100%|██████████| 282/282 [00:03<00:00, 73.86it/s]3:53,  5.65s/it, loss_train=2.4111, loss_val=2.2993, accuracies=0.3313]\n",
      "100%|██████████| 282/282 [00:03<00:00, 73.60it/s]3:51,  5.66s/it, loss_train=2.4074, loss_val=2.2929, accuracies=0.3323]\n",
      "100%|██████████| 282/282 [00:03<00:00, 74.29it/s]3:33,  5.62s/it, loss_train=2.4032, loss_val=2.2924, accuracies=0.3310]\n",
      "100%|██████████| 282/282 [00:03<00:00, 75.20it/s]3:26,  5.62s/it, loss_train=2.3980, loss_val=2.3141, accuracies=0.3306]\n",
      "100%|██████████| 282/282 [00:03<00:00, 73.76it/s]3:13,  5.60s/it, loss_train=2.3999, loss_val=2.3176, accuracies=0.3351]\n",
      "100%|██████████| 282/282 [00:03<00:00, 72.17it/s]3:10,  5.61s/it, loss_train=2.4104, loss_val=2.3192, accuracies=0.3244]\n",
      "100%|██████████| 282/282 [00:03<00:00, 73.89it/s]3:09,  5.62s/it, loss_train=2.3966, loss_val=2.3052, accuracies=0.3285]\n",
      "100%|██████████| 282/282 [00:03<00:00, 73.52it/s]3:09,  5.64s/it, loss_train=2.4006, loss_val=2.3166, accuracies=0.3257]\n",
      "100%|██████████| 282/282 [00:03<00:00, 75.55it/s]3:08,  5.65s/it, loss_train=2.4051, loss_val=2.3279, accuracies=0.3278]\n",
      "100%|██████████| 282/282 [00:03<00:00, 72.86it/s]3:09,  5.67s/it, loss_train=2.3920, loss_val=2.3163, accuracies=0.3274]\n",
      "100%|██████████| 282/282 [00:03<00:00, 72.73it/s]3:03,  5.67s/it, loss_train=2.4064, loss_val=2.3198, accuracies=0.3344]\n",
      "100%|██████████| 282/282 [00:03<00:00, 73.07it/s]3:04,  5.69s/it, loss_train=2.4069, loss_val=2.3393, accuracies=0.3323]\n",
      "100%|██████████| 282/282 [00:03<00:00, 72.99it/s]3:01,  5.69s/it, loss_train=2.4004, loss_val=2.3680, accuracies=0.3198]\n",
      "100%|██████████| 282/282 [00:03<00:00, 72.98it/s]3:01,  5.71s/it, loss_train=2.3990, loss_val=2.3358, accuracies=0.3294]\n",
      "100%|██████████| 282/282 [00:03<00:00, 74.52it/s]2:52,  5.70s/it, loss_train=2.3963, loss_val=2.3379, accuracies=0.3205]\n",
      "100%|██████████| 282/282 [00:03<00:00, 71.92it/s]2:47,  5.70s/it, loss_train=2.4052, loss_val=2.3415, accuracies=0.3270]\n",
      "100%|██████████| 282/282 [00:03<00:00, 71.92it/s]2:52,  5.73s/it, loss_train=2.3966, loss_val=2.3094, accuracies=0.3249]\n",
      "100%|██████████| 282/282 [00:03<00:00, 71.43it/s]2:49,  5.74s/it, loss_train=2.3981, loss_val=2.3104, accuracies=0.3329]\n",
      "100%|██████████| 282/282 [00:03<00:00, 73.48it/s]2:50,  5.76s/it, loss_train=2.3964, loss_val=2.3049, accuracies=0.3306]\n",
      "100%|██████████| 282/282 [00:03<00:00, 72.60it/s]2:36,  5.74s/it, loss_train=2.3929, loss_val=2.3373, accuracies=0.3231]\n",
      "100%|██████████| 282/282 [00:03<00:00, 72.77it/s]2:26,  5.72s/it, loss_train=2.4009, loss_val=2.2949, accuracies=0.3369]\n",
      "100%|██████████| 282/282 [00:03<00:00, 71.85it/s]2:29,  5.75s/it, loss_train=2.3915, loss_val=2.3100, accuracies=0.3275]\n",
      "100%|██████████| 282/282 [00:03<00:00, 71.23it/s]2:30,  5.77s/it, loss_train=2.4049, loss_val=2.2896, accuracies=0.3321]\n",
      "100%|██████████| 282/282 [00:03<00:00, 72.64it/s]2:22,  5.76s/it, loss_train=2.3945, loss_val=2.3119, accuracies=0.3297]\n",
      "100%|██████████| 282/282 [00:03<00:00, 73.21it/s]2:16,  5.76s/it, loss_train=2.3927, loss_val=2.3259, accuracies=0.3310]\n",
      "100%|██████████| 282/282 [00:03<00:00, 71.36it/s]2:12,  5.77s/it, loss_train=2.3934, loss_val=2.2830, accuracies=0.3378]\n",
      "100%|██████████| 282/282 [00:03<00:00, 75.96it/s]2:14,  5.79s/it, loss_train=2.3961, loss_val=2.3166, accuracies=0.3342]\n",
      "100%|██████████| 282/282 [00:03<00:00, 73.44it/s]1:43,  5.72s/it, loss_train=2.3955, loss_val=2.2941, accuracies=0.3388]\n",
      "100%|██████████| 282/282 [00:03<00:00, 72.84it/s]1:27,  5.69s/it, loss_train=2.3946, loss_val=2.3322, accuracies=0.3203]\n",
      "100%|██████████| 282/282 [00:03<00:00, 72.59it/s]1:25,  5.70s/it, loss_train=2.4006, loss_val=2.3077, accuracies=0.3290]\n",
      "100%|██████████| 282/282 [00:03<00:00, 72.02it/s]1:13,  5.68s/it, loss_train=2.3998, loss_val=2.3235, accuracies=0.3287]\n",
      "100%|██████████| 282/282 [00:03<00:00, 76.01it/s]1:15,  5.70s/it, loss_train=2.3943, loss_val=2.3311, accuracies=0.3274]\n",
      "100%|██████████| 282/282 [00:03<00:00, 72.23it/s]0:56,  5.66s/it, loss_train=2.3939, loss_val=2.3449, accuracies=0.3290]\n",
      "100%|██████████| 282/282 [00:03<00:00, 73.19it/s]0:49,  5.66s/it, loss_train=2.3947, loss_val=2.3580, accuracies=0.3226]\n",
      "100%|██████████| 282/282 [00:03<00:00, 75.15it/s]0:45,  5.66s/it, loss_train=2.3974, loss_val=2.3211, accuracies=0.3324]\n",
      "100%|██████████| 282/282 [00:03<00:00, 76.62it/s]0:40,  5.66s/it, loss_train=2.3913, loss_val=2.3305, accuracies=0.3278]\n",
      "100%|██████████| 282/282 [00:03<00:00, 71.07it/s]0:25,  5.63s/it, loss_train=2.3997, loss_val=2.3427, accuracies=0.3237]\n",
      "100%|██████████| 282/282 [00:03<00:00, 75.93it/s]0:39,  5.69s/it, loss_train=2.3932, loss_val=2.2776, accuracies=0.3381]\n",
      "100%|██████████| 282/282 [00:03<00:00, 74.42it/s]0:21,  5.66s/it, loss_train=2.4006, loss_val=2.3352, accuracies=0.3220]\n",
      "100%|██████████| 282/282 [00:03<00:00, 74.97it/s]0:10,  5.64s/it, loss_train=2.3893, loss_val=2.3127, accuracies=0.3296]\n",
      "100%|██████████| 282/282 [00:03<00:00, 71.49it/s]0:03,  5.64s/it, loss_train=2.3913, loss_val=2.3121, accuracies=0.3348]\n",
      "100%|██████████| 282/282 [00:03<00:00, 74.59it/s]0:15,  5.69s/it, loss_train=2.3909, loss_val=2.3602, accuracies=0.3217]\n",
      "100%|██████████| 282/282 [00:03<00:00, 73.08it/s]0:05,  5.68s/it, loss_train=2.3913, loss_val=2.2887, accuracies=0.3338]\n",
      "100%|██████████| 282/282 [00:03<00:00, 71.85it/s]9:59,  5.68s/it, loss_train=2.3939, loss_val=2.3155, accuracies=0.3248]\n",
      "100%|██████████| 282/282 [00:03<00:00, 77.06it/s]0:12,  5.73s/it, loss_train=2.3933, loss_val=2.2975, accuracies=0.3366]\n",
      "100%|██████████| 282/282 [00:03<00:00, 73.72it/s]9:37,  5.64s/it, loss_train=2.3958, loss_val=2.3073, accuracies=0.3373]\n",
      "100%|██████████| 282/282 [00:03<00:00, 75.68it/s]9:32,  5.64s/it, loss_train=2.3970, loss_val=2.3081, accuracies=0.3302]\n",
      "100%|██████████| 282/282 [00:03<00:00, 74.57it/s]9:05,  5.58s/it, loss_train=2.3915, loss_val=2.3148, accuracies=0.3294]\n",
      "100%|██████████| 282/282 [00:03<00:00, 76.65it/s]8:57,  5.57s/it, loss_train=2.4000, loss_val=2.3004, accuracies=0.3309]\n",
      "100%|██████████| 282/282 [00:03<00:00, 74.39it/s]8:50,  5.56s/it, loss_train=2.3962, loss_val=2.3040, accuracies=0.3352]\n",
      "100%|██████████| 282/282 [00:03<00:00, 77.27it/s]8:39,  5.55s/it, loss_train=2.4010, loss_val=2.3360, accuracies=0.3285]\n",
      "100%|██████████| 282/282 [00:03<00:00, 73.43it/s]8:23,  5.51s/it, loss_train=2.3922, loss_val=2.3345, accuracies=0.3285]\n",
      "100%|██████████| 282/282 [00:03<00:00, 74.34it/s]8:25,  5.54s/it, loss_train=2.4012, loss_val=2.2921, accuracies=0.3358]\n",
      "100%|██████████| 282/282 [00:03<00:00, 76.39it/s]8:18,  5.53s/it, loss_train=2.3917, loss_val=2.3404, accuracies=0.3272]\n",
      "100%|██████████| 282/282 [00:03<00:00, 72.22it/s]8:07,  5.51s/it, loss_train=2.3938, loss_val=2.2958, accuracies=0.3307]\n",
      "100%|██████████| 282/282 [00:03<00:00, 75.08it/s]8:27,  5.60s/it, loss_train=2.3945, loss_val=2.2844, accuracies=0.3336]\n",
      "100%|██████████| 282/282 [00:03<00:00, 76.14it/s]8:08,  5.55s/it, loss_train=2.3899, loss_val=2.3318, accuracies=0.3299]\n",
      "100%|██████████| 282/282 [00:03<00:00, 72.80it/s]8:07,  5.57s/it, loss_train=2.3990, loss_val=2.3257, accuracies=0.3289]\n",
      "100%|██████████| 282/282 [00:03<00:00, 73.10it/s]8:06,  5.58s/it, loss_train=2.3977, loss_val=2.3192, accuracies=0.3314]\n",
      "100%|██████████| 282/282 [00:03<00:00, 72.02it/s]8:15,  5.63s/it, loss_train=2.3954, loss_val=2.3551, accuracies=0.3186]\n",
      "100%|██████████| 282/282 [00:03<00:00, 72.06it/s]8:27,  5.69s/it, loss_train=2.3913, loss_val=2.3466, accuracies=0.3264]\n",
      "100%|██████████| 282/282 [00:03<00:00, 75.25it/s]8:22,  5.69s/it, loss_train=2.3968, loss_val=2.3226, accuracies=0.3314]\n",
      "100%|██████████| 282/282 [00:03<00:00, 72.80it/s]8:01,  5.64s/it, loss_train=2.3981, loss_val=2.3302, accuracies=0.3300]\n",
      "100%|██████████| 282/282 [00:03<00:00, 76.20it/s]8:12,  5.70s/it, loss_train=2.3955, loss_val=2.3195, accuracies=0.3321]\n",
      "100%|██████████| 282/282 [00:03<00:00, 74.01it/s]7:55,  5.66s/it, loss_train=2.3963, loss_val=2.3256, accuracies=0.3316]\n",
      "100%|██████████| 282/282 [00:03<00:00, 74.93it/s]7:52,  5.67s/it, loss_train=2.3924, loss_val=2.3487, accuracies=0.3270]\n",
      "100%|██████████| 282/282 [00:03<00:00, 72.76it/s]7:46,  5.67s/it, loss_train=2.3908, loss_val=2.3120, accuracies=0.3310]\n",
      "100%|██████████| 282/282 [00:03<00:00, 73.27it/s]7:39,  5.66s/it, loss_train=2.3823, loss_val=2.3288, accuracies=0.3280]\n",
      "100%|██████████| 282/282 [00:03<00:00, 73.72it/s]7:32,  5.66s/it, loss_train=2.3956, loss_val=2.3299, accuracies=0.3282]\n",
      "100%|██████████| 282/282 [00:03<00:00, 71.54it/s]7:31,  5.67s/it, loss_train=2.4004, loss_val=2.3324, accuracies=0.3285]\n",
      "100%|██████████| 282/282 [00:03<00:00, 75.30it/s]7:36,  5.71s/it, loss_train=2.3941, loss_val=2.3641, accuracies=0.3224]\n",
      "100%|██████████| 282/282 [00:03<00:00, 72.34it/s]7:28,  5.70s/it, loss_train=2.3934, loss_val=2.2814, accuracies=0.3367]\n",
      "100%|██████████| 282/282 [00:03<00:00, 74.44it/s]7:30,  5.73s/it, loss_train=2.3873, loss_val=2.2905, accuracies=0.3330]\n",
      "100%|██████████| 282/282 [00:03<00:00, 72.97it/s]7:11,  5.68s/it, loss_train=2.3994, loss_val=2.3227, accuracies=0.3256]\n",
      "100%|██████████| 282/282 [00:03<00:00, 72.58it/s]7:16,  5.72s/it, loss_train=2.3978, loss_val=2.3140, accuracies=0.3354]\n",
      "100%|██████████| 282/282 [00:03<00:00, 73.07it/s]7:14,  5.74s/it, loss_train=2.3917, loss_val=2.2998, accuracies=0.3353]\n",
      "100%|██████████| 282/282 [00:03<00:00, 72.45it/s]7:03,  5.72s/it, loss_train=2.3979, loss_val=2.2922, accuracies=0.3312]\n",
      "100%|██████████| 282/282 [00:03<00:00, 72.14it/s]7:06,  5.75s/it, loss_train=2.3989, loss_val=2.3891, accuracies=0.3104]\n",
      "100%|██████████| 282/282 [00:03<00:00, 72.25it/s]7:11,  5.78s/it, loss_train=2.3991, loss_val=2.3144, accuracies=0.3287]\n",
      "100%|██████████| 282/282 [00:03<00:00, 73.50it/s]7:04,  5.78s/it, loss_train=2.3908, loss_val=2.3181, accuracies=0.3317]\n",
      "100%|██████████| 282/282 [00:03<00:00, 72.03it/s]6:58,  5.78s/it, loss_train=2.3983, loss_val=2.3566, accuracies=0.3201]\n",
      "100%|██████████| 282/282 [00:03<00:00, 72.36it/s]6:57,  5.80s/it, loss_train=2.3924, loss_val=2.3342, accuracies=0.3255]\n",
      "100%|██████████| 282/282 [00:03<00:00, 73.45it/s]6:53,  5.80s/it, loss_train=2.3960, loss_val=2.3127, accuracies=0.3358]\n",
      "100%|██████████| 282/282 [00:03<00:00, 72.59it/s]6:38,  5.77s/it, loss_train=2.3907, loss_val=2.3020, accuracies=0.3339]\n",
      "100%|██████████| 282/282 [00:03<00:00, 71.79it/s]6:34,  5.78s/it, loss_train=2.3923, loss_val=2.2823, accuracies=0.3362]\n",
      "100%|██████████| 282/282 [00:03<00:00, 71.40it/s]6:31,  5.79s/it, loss_train=2.3915, loss_val=2.3365, accuracies=0.3276]\n",
      "100%|██████████| 282/282 [00:03<00:00, 71.68it/s]6:19,  5.76s/it, loss_train=2.3900, loss_val=2.3629, accuracies=0.3214]\n",
      "100%|██████████| 282/282 [00:03<00:00, 72.14it/s]6:16,  5.78s/it, loss_train=2.3904, loss_val=2.3315, accuracies=0.3283]\n",
      "100%|██████████| 282/282 [00:03<00:00, 71.67it/s]6:18,  5.80s/it, loss_train=2.3931, loss_val=2.3242, accuracies=0.3314]\n",
      "100%|██████████| 282/282 [00:03<00:00, 72.17it/s]6:10,  5.80s/it, loss_train=2.3959, loss_val=2.3098, accuracies=0.3298]\n",
      "100%|██████████| 282/282 [00:03<00:00, 73.71it/s]6:03,  5.79s/it, loss_train=2.3974, loss_val=2.3070, accuracies=0.3342]\n",
      "100%|██████████| 282/282 [00:03<00:00, 71.79it/s]5:51,  5.77s/it, loss_train=2.3954, loss_val=2.3371, accuracies=0.3228]\n",
      "100%|██████████| 282/282 [00:03<00:00, 73.60it/s]5:53,  5.80s/it, loss_train=2.3962, loss_val=2.3426, accuracies=0.3209]\n",
      "100%|██████████| 282/282 [00:03<00:00, 72.47it/s]5:42,  5.78s/it, loss_train=2.3974, loss_val=2.3380, accuracies=0.3252]\n",
      "100%|██████████| 282/282 [00:03<00:00, 72.26it/s]5:37,  5.78s/it, loss_train=2.3952, loss_val=2.3267, accuracies=0.3278]\n",
      "100%|██████████| 282/282 [00:03<00:00, 71.60it/s]5:35,  5.80s/it, loss_train=2.3924, loss_val=2.3608, accuracies=0.3226]\n",
      "100%|██████████| 282/282 [00:03<00:00, 72.72it/s]5:25,  5.78s/it, loss_train=2.3891, loss_val=2.3607, accuracies=0.3263]\n",
      "100%|██████████| 282/282 [00:03<00:00, 72.73it/s]5:22,  5.79s/it, loss_train=2.3914, loss_val=2.3342, accuracies=0.3321]\n",
      "100%|██████████| 282/282 [00:03<00:00, 71.63it/s]5:11,  5.77s/it, loss_train=2.3909, loss_val=2.3368, accuracies=0.3298]\n",
      "100%|██████████| 282/282 [00:03<00:00, 71.99it/s]5:03,  5.76s/it, loss_train=2.3963, loss_val=2.3349, accuracies=0.3281]\n",
      "100%|██████████| 282/282 [00:03<00:00, 71.49it/s]5:00,  5.77s/it, loss_train=2.3879, loss_val=2.3278, accuracies=0.3261]\n",
      "100%|██████████| 282/282 [00:03<00:00, 72.63it/s]4:59,  5.79s/it, loss_train=2.4021, loss_val=2.3097, accuracies=0.3328]\n",
      "100%|██████████| 282/282 [00:03<00:00, 73.80it/s]4:42,  5.74s/it, loss_train=2.3948, loss_val=2.3410, accuracies=0.3263]\n",
      "100%|██████████| 282/282 [00:03<00:00, 71.91it/s]4:23,  5.69s/it, loss_train=2.3899, loss_val=2.3020, accuracies=0.3321]\n",
      "100%|██████████| 282/282 [00:03<00:00, 73.05it/s]4:26,  5.73s/it, loss_train=2.3955, loss_val=2.3540, accuracies=0.3190]\n",
      "100%|██████████| 282/282 [00:03<00:00, 71.69it/s]4:22,  5.74s/it, loss_train=2.3946, loss_val=2.3042, accuracies=0.3315]\n",
      "100%|██████████| 282/282 [00:03<00:00, 71.83it/s]4:20,  5.75s/it, loss_train=2.3904, loss_val=2.3136, accuracies=0.3375]\n",
      "100%|██████████| 282/282 [00:03<00:00, 75.53it/s]4:13,  5.75s/it, loss_train=2.3928, loss_val=2.3258, accuracies=0.3223]\n",
      "100%|██████████| 282/282 [00:03<00:00, 74.19it/s]3:57,  5.70s/it, loss_train=2.4014, loss_val=2.2994, accuracies=0.3320]\n",
      "100%|██████████| 282/282 [00:03<00:00, 71.96it/s]3:49,  5.70s/it, loss_train=2.3946, loss_val=2.3236, accuracies=0.3297]\n",
      "100%|██████████| 282/282 [00:03<00:00, 71.90it/s]3:45,  5.70s/it, loss_train=2.3954, loss_val=2.2855, accuracies=0.3394]\n",
      "100%|██████████| 282/282 [00:03<00:00, 73.14it/s]3:50,  5.75s/it, loss_train=2.3923, loss_val=2.3258, accuracies=0.3255]\n",
      "100%|██████████| 282/282 [00:03<00:00, 72.11it/s]3:46,  5.75s/it, loss_train=2.3952, loss_val=2.3234, accuracies=0.3329]\n",
      "100%|██████████| 282/282 [00:03<00:00, 73.00it/s]3:39,  5.75s/it, loss_train=2.3963, loss_val=2.3279, accuracies=0.3296]\n",
      "100%|██████████| 282/282 [00:03<00:00, 71.50it/s]3:35,  5.75s/it, loss_train=2.3879, loss_val=2.3401, accuracies=0.3242]\n",
      "100%|██████████| 282/282 [00:03<00:00, 71.64it/s]3:38,  5.79s/it, loss_train=2.3984, loss_val=2.3192, accuracies=0.3317]\n",
      "100%|██████████| 282/282 [00:03<00:00, 71.37it/s]3:36,  5.81s/it, loss_train=2.3964, loss_val=2.3265, accuracies=0.3275]\n",
      "100%|██████████| 282/282 [00:03<00:00, 71.90it/s]3:30,  5.80s/it, loss_train=2.3952, loss_val=2.3004, accuracies=0.3341]\n",
      "100%|██████████| 282/282 [00:03<00:00, 71.89it/s]3:26,  5.81s/it, loss_train=2.3932, loss_val=2.3209, accuracies=0.3291]\n",
      "100%|██████████| 282/282 [00:03<00:00, 72.35it/s]3:20,  5.81s/it, loss_train=2.4045, loss_val=2.3236, accuracies=0.3280]\n",
      "100%|██████████| 282/282 [00:03<00:00, 73.38it/s]3:13,  5.81s/it, loss_train=2.3887, loss_val=2.3400, accuracies=0.3260]\n",
      "100%|██████████| 282/282 [00:03<00:00, 72.03it/s]3:04,  5.79s/it, loss_train=2.3953, loss_val=2.2937, accuracies=0.3363]\n",
      "100%|██████████| 282/282 [00:03<00:00, 71.50it/s]2:58,  5.79s/it, loss_train=2.3993, loss_val=2.3177, accuracies=0.3300]\n",
      "100%|██████████| 282/282 [00:03<00:00, 72.70it/s]2:59,  5.82s/it, loss_train=2.3972, loss_val=2.3270, accuracies=0.3259]\n",
      "100%|██████████| 282/282 [00:03<00:00, 73.53it/s]2:54,  5.83s/it, loss_train=2.3957, loss_val=2.3026, accuracies=0.3343]\n",
      "100%|██████████| 282/282 [00:03<00:00, 72.09it/s]2:46,  5.81s/it, loss_train=2.3923, loss_val=2.3283, accuracies=0.3241]\n",
      "100%|██████████| 282/282 [00:03<00:00, 71.73it/s]2:35,  5.79s/it, loss_train=2.3977, loss_val=2.3196, accuracies=0.3270]\n",
      "100%|██████████| 282/282 [00:03<00:00, 74.50it/s]2:33,  5.81s/it, loss_train=2.3931, loss_val=2.3292, accuracies=0.3259]\n",
      "100%|██████████| 282/282 [00:03<00:00, 72.76it/s]2:21,  5.78s/it, loss_train=2.3922, loss_val=2.3290, accuracies=0.3230]\n",
      "100%|██████████| 282/282 [00:03<00:00, 71.78it/s]2:18,  5.79s/it, loss_train=2.3954, loss_val=2.3049, accuracies=0.3297]\n",
      "100%|██████████| 282/282 [00:03<00:00, 71.75it/s]2:16,  5.81s/it, loss_train=2.3930, loss_val=2.3449, accuracies=0.3253]\n",
      "100%|██████████| 282/282 [00:03<00:00, 73.61it/s]2:15,  5.83s/it, loss_train=2.4059, loss_val=2.3153, accuracies=0.3290]\n",
      "100%|██████████| 282/282 [00:03<00:00, 74.15it/s]2:02,  5.80s/it, loss_train=2.4010, loss_val=2.3440, accuracies=0.3234]\n",
      "100%|██████████| 282/282 [00:03<00:00, 74.00it/s]1:47,  5.76s/it, loss_train=2.3933, loss_val=2.3262, accuracies=0.3311]\n",
      "100%|██████████| 282/282 [00:03<00:00, 71.84it/s]1:38,  5.74s/it, loss_train=2.3899, loss_val=2.3455, accuracies=0.3303]\n",
      "100%|██████████| 282/282 [00:03<00:00, 73.87it/s]1:35,  5.76s/it, loss_train=2.3911, loss_val=2.2826, accuracies=0.3265]\n",
      "100%|██████████| 282/282 [00:03<00:00, 74.97it/s]1:25,  5.74s/it, loss_train=2.4011, loss_val=2.3297, accuracies=0.3218]\n",
      "100%|██████████| 282/282 [00:03<00:00, 72.40it/s]1:15,  5.72s/it, loss_train=2.3893, loss_val=2.3518, accuracies=0.3270]\n",
      "100%|██████████| 282/282 [00:03<00:00, 73.89it/s]1:14,  5.74s/it, loss_train=2.3915, loss_val=2.3417, accuracies=0.3211]\n",
      "100%|██████████| 282/282 [00:03<00:00, 73.21it/s]0:58,  5.70s/it, loss_train=2.3996, loss_val=2.3354, accuracies=0.3265]\n",
      "100%|██████████| 282/282 [00:03<00:00, 77.12it/s]0:57,  5.72s/it, loss_train=2.3914, loss_val=2.3313, accuracies=0.3292]\n",
      "100%|██████████| 282/282 [00:03<00:00, 72.50it/s]0:33,  5.63s/it, loss_train=2.3956, loss_val=2.2795, accuracies=0.3369]\n",
      "100%|██████████| 282/282 [00:03<00:00, 72.28it/s]0:36,  5.67s/it, loss_train=2.3937, loss_val=2.2884, accuracies=0.3370]\n",
      "100%|██████████| 282/282 [00:03<00:00, 73.89it/s]0:35,  5.69s/it, loss_train=2.3940, loss_val=2.3448, accuracies=0.3277]\n",
      "100%|██████████| 282/282 [00:03<00:00, 72.97it/s]0:31,  5.70s/it, loss_train=2.3947, loss_val=2.3324, accuracies=0.3240]\n",
      "100%|██████████| 282/282 [00:03<00:00, 74.21it/s]0:27,  5.71s/it, loss_train=2.3937, loss_val=2.3031, accuracies=0.3368]\n",
      "100%|██████████| 282/282 [00:03<00:00, 73.21it/s]0:14,  5.67s/it, loss_train=2.3968, loss_val=2.2914, accuracies=0.3359]\n",
      "100%|██████████| 282/282 [00:03<00:00, 73.14it/s]0:14,  5.70s/it, loss_train=2.3957, loss_val=2.3319, accuracies=0.3254]\n",
      "100%|██████████| 282/282 [00:03<00:00, 72.24it/s]0:09,  5.71s/it, loss_train=2.3884, loss_val=2.3202, accuracies=0.3346]\n",
      "100%|██████████| 282/282 [00:03<00:00, 71.80it/s]0:07,  5.72s/it, loss_train=2.3994, loss_val=2.3619, accuracies=0.3239]\n",
      "100%|██████████| 282/282 [00:03<00:00, 72.02it/s]0:07,  5.75s/it, loss_train=2.3940, loss_val=2.3255, accuracies=0.3313]\n",
      "100%|██████████| 282/282 [00:03<00:00, 72.87it/s]0:03,  5.76s/it, loss_train=2.3942, loss_val=2.3492, accuracies=0.3284]\n",
      "100%|██████████| 282/282 [00:03<00:00, 73.84it/s]9:52,  5.73s/it, loss_train=2.3954, loss_val=2.2881, accuracies=0.3349]\n",
      "100%|██████████| 282/282 [00:03<00:00, 72.28it/s]9:44,  5.72s/it, loss_train=2.3933, loss_val=2.3286, accuracies=0.3273]\n",
      "100%|██████████| 282/282 [00:03<00:00, 72.60it/s]9:42,  5.74s/it, loss_train=2.3899, loss_val=2.2691, accuracies=0.3376]\n",
      "100%|██████████| 282/282 [00:03<00:00, 72.12it/s]9:34,  5.73s/it, loss_train=2.3953, loss_val=2.3112, accuracies=0.3329]\n",
      "100%|██████████| 282/282 [00:03<00:00, 72.36it/s]9:35,  5.76s/it, loss_train=2.3982, loss_val=2.3184, accuracies=0.3293]\n",
      "100%|██████████| 282/282 [00:03<00:00, 71.48it/s]9:30,  5.77s/it, loss_train=2.3986, loss_val=2.3331, accuracies=0.3259]\n",
      "100%|██████████| 282/282 [00:03<00:00, 74.45it/s]9:33,  5.81s/it, loss_train=2.3996, loss_val=2.3494, accuracies=0.3244]\n",
      "100%|██████████| 282/282 [00:03<00:00, 72.61it/s]9:20,  5.77s/it, loss_train=2.3984, loss_val=2.3086, accuracies=0.3320]\n",
      "100%|██████████| 282/282 [00:03<00:00, 71.53it/s]9:14,  5.77s/it, loss_train=2.3959, loss_val=2.3269, accuracies=0.3293]\n",
      "100%|██████████| 282/282 [00:03<00:00, 74.05it/s]9:11,  5.79s/it, loss_train=2.4012, loss_val=2.3400, accuracies=0.3277]\n",
      "100%|██████████| 282/282 [00:03<00:00, 73.39it/s]9:00,  5.76s/it, loss_train=2.3846, loss_val=2.3849, accuracies=0.3169]\n",
      "100%|██████████| 282/282 [00:03<00:00, 72.25it/s]8:52,  5.75s/it, loss_train=2.3974, loss_val=2.3236, accuracies=0.3298]\n",
      "100%|██████████| 282/282 [00:03<00:00, 73.64it/s]8:47,  5.75s/it, loss_train=2.3961, loss_val=2.3084, accuracies=0.3388]\n",
      "100%|██████████| 282/282 [00:03<00:00, 73.43it/s]8:41,  5.75s/it, loss_train=2.3979, loss_val=2.3166, accuracies=0.3262]\n",
      "100%|██████████| 282/282 [00:03<00:00, 72.35it/s]8:32,  5.74s/it, loss_train=2.3978, loss_val=2.3166, accuracies=0.3266]\n",
      "100%|██████████| 282/282 [00:03<00:00, 73.18it/s]8:30,  5.76s/it, loss_train=2.3957, loss_val=2.3471, accuracies=0.3251]\n",
      "100%|██████████| 282/282 [00:03<00:00, 72.56it/s]8:21,  5.74s/it, loss_train=2.3927, loss_val=2.2953, accuracies=0.3368]\n",
      "100%|██████████| 282/282 [00:03<00:00, 70.97it/s]8:19,  5.76s/it, loss_train=2.3866, loss_val=2.3143, accuracies=0.3330]\n",
      "Epoch: 309/500:  62%|██████▏   | 309/500 [29:31<18:14,  5.73s/it, loss_train=2.3866, loss_val=2.3143, accuracies=0.3330]\n"
     ]
    },
    {
     "ename": "KeyboardInterrupt",
     "evalue": "",
     "output_type": "error",
     "traceback": [
      "\u001b[0;31m---------------------------------------------------------------------------\u001b[0m",
      "\u001b[0;31mKeyboardInterrupt\u001b[0m                         Traceback (most recent call last)",
      "Cell \u001b[0;32mIn[9], line 48\u001b[0m\n\u001b[1;32m     45\u001b[0m \u001b[38;5;28;01mfor\u001b[39;00m i \u001b[38;5;129;01min\u001b[39;00m \u001b[38;5;28mrange\u001b[39m(lheight):\n\u001b[1;32m     46\u001b[0m \t\u001b[38;5;28;01mfor\u001b[39;00m j \u001b[38;5;129;01min\u001b[39;00m \u001b[38;5;28mrange\u001b[39m(lwidth):\n\u001b[1;32m     47\u001b[0m \t\t\u001b[38;5;66;03m# output = sampler(samples, conditions.flatten(start_dim=1).unsqueeze(dim=1))\u001b[39;00m\n\u001b[0;32m---> 48\u001b[0m \t\toutput \u001b[38;5;241m=\u001b[39m \u001b[43msampler\u001b[49m\u001b[43m(\u001b[49m\u001b[43msamples\u001b[49m\u001b[43m,\u001b[49m\u001b[43m \u001b[49m\u001b[43mconditions\u001b[49m\u001b[38;5;241;43m.\u001b[39;49m\u001b[43mpermute\u001b[49m\u001b[43m(\u001b[49m\u001b[38;5;241;43m0\u001b[39;49m\u001b[43m,\u001b[49m\u001b[43m \u001b[49m\u001b[38;5;241;43m2\u001b[39;49m\u001b[43m,\u001b[49m\u001b[43m \u001b[49m\u001b[38;5;241;43m1\u001b[39;49m\u001b[43m,\u001b[49m\u001b[43m \u001b[49m\u001b[38;5;241;43m3\u001b[39;49m\u001b[43m)\u001b[49m\u001b[43m)\u001b[49m\n\u001b[1;32m     49\u001b[0m \t\tprobs\u001b[38;5;241m.\u001b[39mappend(output[:, :, i, j])\n\u001b[1;32m     50\u001b[0m \t\tsamples[:, :, i, j] \u001b[38;5;241m=\u001b[39m th\u001b[38;5;241m.\u001b[39mmultinomial(\n\u001b[1;32m     51\u001b[0m \t\t\tth\u001b[38;5;241m.\u001b[39mnn\u001b[38;5;241m.\u001b[39mfunctional\u001b[38;5;241m.\u001b[39msoftmax(output[:, :, i, j]\u001b[38;5;241m.\u001b[39mcpu(), dim\u001b[38;5;241m=\u001b[39m\u001b[38;5;241m-\u001b[39m\u001b[38;5;241m1\u001b[39m),\n\u001b[1;32m     52\u001b[0m \t\t\tnum_samples\u001b[38;5;241m=\u001b[39m\u001b[38;5;241m1\u001b[39m\n\u001b[1;32m     53\u001b[0m \t\t)\n",
      "File \u001b[0;32m~/DiffOptGen/.venv/lib/python3.12/site-packages/torch/nn/modules/module.py:1736\u001b[0m, in \u001b[0;36mModule._wrapped_call_impl\u001b[0;34m(self, *args, **kwargs)\u001b[0m\n\u001b[1;32m   1734\u001b[0m     \u001b[38;5;28;01mreturn\u001b[39;00m \u001b[38;5;28mself\u001b[39m\u001b[38;5;241m.\u001b[39m_compiled_call_impl(\u001b[38;5;241m*\u001b[39margs, \u001b[38;5;241m*\u001b[39m\u001b[38;5;241m*\u001b[39mkwargs)  \u001b[38;5;66;03m# type: ignore[misc]\u001b[39;00m\n\u001b[1;32m   1735\u001b[0m \u001b[38;5;28;01melse\u001b[39;00m:\n\u001b[0;32m-> 1736\u001b[0m     \u001b[38;5;28;01mreturn\u001b[39;00m \u001b[38;5;28;43mself\u001b[39;49m\u001b[38;5;241;43m.\u001b[39;49m\u001b[43m_call_impl\u001b[49m\u001b[43m(\u001b[49m\u001b[38;5;241;43m*\u001b[39;49m\u001b[43margs\u001b[49m\u001b[43m,\u001b[49m\u001b[43m \u001b[49m\u001b[38;5;241;43m*\u001b[39;49m\u001b[38;5;241;43m*\u001b[39;49m\u001b[43mkwargs\u001b[49m\u001b[43m)\u001b[49m\n",
      "File \u001b[0;32m~/DiffOptGen/.venv/lib/python3.12/site-packages/torch/nn/modules/module.py:1747\u001b[0m, in \u001b[0;36mModule._call_impl\u001b[0;34m(self, *args, **kwargs)\u001b[0m\n\u001b[1;32m   1742\u001b[0m \u001b[38;5;66;03m# If we don't have any hooks, we want to skip the rest of the logic in\u001b[39;00m\n\u001b[1;32m   1743\u001b[0m \u001b[38;5;66;03m# this function, and just call forward.\u001b[39;00m\n\u001b[1;32m   1744\u001b[0m \u001b[38;5;28;01mif\u001b[39;00m \u001b[38;5;129;01mnot\u001b[39;00m (\u001b[38;5;28mself\u001b[39m\u001b[38;5;241m.\u001b[39m_backward_hooks \u001b[38;5;129;01mor\u001b[39;00m \u001b[38;5;28mself\u001b[39m\u001b[38;5;241m.\u001b[39m_backward_pre_hooks \u001b[38;5;129;01mor\u001b[39;00m \u001b[38;5;28mself\u001b[39m\u001b[38;5;241m.\u001b[39m_forward_hooks \u001b[38;5;129;01mor\u001b[39;00m \u001b[38;5;28mself\u001b[39m\u001b[38;5;241m.\u001b[39m_forward_pre_hooks\n\u001b[1;32m   1745\u001b[0m         \u001b[38;5;129;01mor\u001b[39;00m _global_backward_pre_hooks \u001b[38;5;129;01mor\u001b[39;00m _global_backward_hooks\n\u001b[1;32m   1746\u001b[0m         \u001b[38;5;129;01mor\u001b[39;00m _global_forward_hooks \u001b[38;5;129;01mor\u001b[39;00m _global_forward_pre_hooks):\n\u001b[0;32m-> 1747\u001b[0m     \u001b[38;5;28;01mreturn\u001b[39;00m \u001b[43mforward_call\u001b[49m\u001b[43m(\u001b[49m\u001b[38;5;241;43m*\u001b[39;49m\u001b[43margs\u001b[49m\u001b[43m,\u001b[49m\u001b[43m \u001b[49m\u001b[38;5;241;43m*\u001b[39;49m\u001b[38;5;241;43m*\u001b[39;49m\u001b[43mkwargs\u001b[49m\u001b[43m)\u001b[49m\n\u001b[1;32m   1749\u001b[0m result \u001b[38;5;241m=\u001b[39m \u001b[38;5;28;01mNone\u001b[39;00m\n\u001b[1;32m   1750\u001b[0m called_always_called_hooks \u001b[38;5;241m=\u001b[39m \u001b[38;5;28mset\u001b[39m()\n",
      "File \u001b[0;32m~/DiffOptGen/models/sampler/pixelcnn.py:171\u001b[0m, in \u001b[0;36mPixelCNN.forward\u001b[0;34m(self, x, h)\u001b[0m\n\u001b[1;32m    169\u001b[0m \u001b[38;5;28;01mfor\u001b[39;00m layer \u001b[38;5;129;01min\u001b[39;00m \u001b[38;5;28mself\u001b[39m\u001b[38;5;241m.\u001b[39mlayers:\n\u001b[1;32m    170\u001b[0m \t\u001b[38;5;28;01mif\u001b[39;00m \u001b[38;5;28misinstance\u001b[39m(layer, CondGatedMaskedConv2d):\n\u001b[0;32m--> 171\u001b[0m \t\tout \u001b[38;5;241m=\u001b[39m \u001b[43mlayer\u001b[49m\u001b[43m(\u001b[49m\u001b[43mout\u001b[49m\u001b[43m,\u001b[49m\u001b[43m \u001b[49m\u001b[43mh\u001b[49m\u001b[43m)\u001b[49m\n\u001b[1;32m    172\u001b[0m \t\u001b[38;5;28;01melse\u001b[39;00m:\n\u001b[1;32m    173\u001b[0m \t\tout \u001b[38;5;241m=\u001b[39m layer(out)\n",
      "File \u001b[0;32m~/DiffOptGen/.venv/lib/python3.12/site-packages/torch/nn/modules/module.py:1736\u001b[0m, in \u001b[0;36mModule._wrapped_call_impl\u001b[0;34m(self, *args, **kwargs)\u001b[0m\n\u001b[1;32m   1734\u001b[0m     \u001b[38;5;28;01mreturn\u001b[39;00m \u001b[38;5;28mself\u001b[39m\u001b[38;5;241m.\u001b[39m_compiled_call_impl(\u001b[38;5;241m*\u001b[39margs, \u001b[38;5;241m*\u001b[39m\u001b[38;5;241m*\u001b[39mkwargs)  \u001b[38;5;66;03m# type: ignore[misc]\u001b[39;00m\n\u001b[1;32m   1735\u001b[0m \u001b[38;5;28;01melse\u001b[39;00m:\n\u001b[0;32m-> 1736\u001b[0m     \u001b[38;5;28;01mreturn\u001b[39;00m \u001b[38;5;28;43mself\u001b[39;49m\u001b[38;5;241;43m.\u001b[39;49m\u001b[43m_call_impl\u001b[49m\u001b[43m(\u001b[49m\u001b[38;5;241;43m*\u001b[39;49m\u001b[43margs\u001b[49m\u001b[43m,\u001b[49m\u001b[43m \u001b[49m\u001b[38;5;241;43m*\u001b[39;49m\u001b[38;5;241;43m*\u001b[39;49m\u001b[43mkwargs\u001b[49m\u001b[43m)\u001b[49m\n",
      "File \u001b[0;32m~/DiffOptGen/.venv/lib/python3.12/site-packages/torch/nn/modules/module.py:1747\u001b[0m, in \u001b[0;36mModule._call_impl\u001b[0;34m(self, *args, **kwargs)\u001b[0m\n\u001b[1;32m   1742\u001b[0m \u001b[38;5;66;03m# If we don't have any hooks, we want to skip the rest of the logic in\u001b[39;00m\n\u001b[1;32m   1743\u001b[0m \u001b[38;5;66;03m# this function, and just call forward.\u001b[39;00m\n\u001b[1;32m   1744\u001b[0m \u001b[38;5;28;01mif\u001b[39;00m \u001b[38;5;129;01mnot\u001b[39;00m (\u001b[38;5;28mself\u001b[39m\u001b[38;5;241m.\u001b[39m_backward_hooks \u001b[38;5;129;01mor\u001b[39;00m \u001b[38;5;28mself\u001b[39m\u001b[38;5;241m.\u001b[39m_backward_pre_hooks \u001b[38;5;129;01mor\u001b[39;00m \u001b[38;5;28mself\u001b[39m\u001b[38;5;241m.\u001b[39m_forward_hooks \u001b[38;5;129;01mor\u001b[39;00m \u001b[38;5;28mself\u001b[39m\u001b[38;5;241m.\u001b[39m_forward_pre_hooks\n\u001b[1;32m   1745\u001b[0m         \u001b[38;5;129;01mor\u001b[39;00m _global_backward_pre_hooks \u001b[38;5;129;01mor\u001b[39;00m _global_backward_hooks\n\u001b[1;32m   1746\u001b[0m         \u001b[38;5;129;01mor\u001b[39;00m _global_forward_hooks \u001b[38;5;129;01mor\u001b[39;00m _global_forward_pre_hooks):\n\u001b[0;32m-> 1747\u001b[0m     \u001b[38;5;28;01mreturn\u001b[39;00m \u001b[43mforward_call\u001b[49m\u001b[43m(\u001b[49m\u001b[38;5;241;43m*\u001b[39;49m\u001b[43margs\u001b[49m\u001b[43m,\u001b[49m\u001b[43m \u001b[49m\u001b[38;5;241;43m*\u001b[39;49m\u001b[38;5;241;43m*\u001b[39;49m\u001b[43mkwargs\u001b[49m\u001b[43m)\u001b[49m\n\u001b[1;32m   1749\u001b[0m result \u001b[38;5;241m=\u001b[39m \u001b[38;5;28;01mNone\u001b[39;00m\n\u001b[1;32m   1750\u001b[0m called_always_called_hooks \u001b[38;5;241m=\u001b[39m \u001b[38;5;28mset\u001b[39m()\n",
      "File \u001b[0;32m~/DiffOptGen/models/sampler/pixelcnn.py:83\u001b[0m, in \u001b[0;36mCondGatedMaskedConv2d.forward\u001b[0;34m(self, x, h)\u001b[0m\n\u001b[1;32m     81\u001b[0m \u001b[38;5;28;01mdef\u001b[39;00m \u001b[38;5;21mforward\u001b[39m(\u001b[38;5;28mself\u001b[39m, x, h):\n\u001b[1;32m     82\u001b[0m \tinp \u001b[38;5;241m=\u001b[39m \u001b[38;5;28mself\u001b[39m\u001b[38;5;241m.\u001b[39mtanh(\u001b[38;5;28mself\u001b[39m\u001b[38;5;241m.\u001b[39mmasked_conv_1(x) \u001b[38;5;241m+\u001b[39m \u001b[38;5;28mself\u001b[39m\u001b[38;5;241m.\u001b[39mcond_conv_1(h))\n\u001b[0;32m---> 83\u001b[0m \tgate \u001b[38;5;241m=\u001b[39m \u001b[38;5;28mself\u001b[39m\u001b[38;5;241m.\u001b[39msigm(\u001b[38;5;28;43mself\u001b[39;49m\u001b[38;5;241;43m.\u001b[39;49m\u001b[43mmasked_conv_2\u001b[49m\u001b[43m(\u001b[49m\u001b[43mx\u001b[49m\u001b[43m)\u001b[49m \u001b[38;5;241m+\u001b[39m \u001b[38;5;28mself\u001b[39m\u001b[38;5;241m.\u001b[39mcond_conv_2(h))\n\u001b[1;32m     84\u001b[0m \t\u001b[38;5;28;01mreturn\u001b[39;00m inp \u001b[38;5;241m*\u001b[39m gate\n",
      "File \u001b[0;32m~/DiffOptGen/.venv/lib/python3.12/site-packages/torch/nn/modules/module.py:1736\u001b[0m, in \u001b[0;36mModule._wrapped_call_impl\u001b[0;34m(self, *args, **kwargs)\u001b[0m\n\u001b[1;32m   1734\u001b[0m     \u001b[38;5;28;01mreturn\u001b[39;00m \u001b[38;5;28mself\u001b[39m\u001b[38;5;241m.\u001b[39m_compiled_call_impl(\u001b[38;5;241m*\u001b[39margs, \u001b[38;5;241m*\u001b[39m\u001b[38;5;241m*\u001b[39mkwargs)  \u001b[38;5;66;03m# type: ignore[misc]\u001b[39;00m\n\u001b[1;32m   1735\u001b[0m \u001b[38;5;28;01melse\u001b[39;00m:\n\u001b[0;32m-> 1736\u001b[0m     \u001b[38;5;28;01mreturn\u001b[39;00m \u001b[38;5;28;43mself\u001b[39;49m\u001b[38;5;241;43m.\u001b[39;49m\u001b[43m_call_impl\u001b[49m\u001b[43m(\u001b[49m\u001b[38;5;241;43m*\u001b[39;49m\u001b[43margs\u001b[49m\u001b[43m,\u001b[49m\u001b[43m \u001b[49m\u001b[38;5;241;43m*\u001b[39;49m\u001b[38;5;241;43m*\u001b[39;49m\u001b[43mkwargs\u001b[49m\u001b[43m)\u001b[49m\n",
      "File \u001b[0;32m~/DiffOptGen/.venv/lib/python3.12/site-packages/torch/nn/modules/module.py:1747\u001b[0m, in \u001b[0;36mModule._call_impl\u001b[0;34m(self, *args, **kwargs)\u001b[0m\n\u001b[1;32m   1742\u001b[0m \u001b[38;5;66;03m# If we don't have any hooks, we want to skip the rest of the logic in\u001b[39;00m\n\u001b[1;32m   1743\u001b[0m \u001b[38;5;66;03m# this function, and just call forward.\u001b[39;00m\n\u001b[1;32m   1744\u001b[0m \u001b[38;5;28;01mif\u001b[39;00m \u001b[38;5;129;01mnot\u001b[39;00m (\u001b[38;5;28mself\u001b[39m\u001b[38;5;241m.\u001b[39m_backward_hooks \u001b[38;5;129;01mor\u001b[39;00m \u001b[38;5;28mself\u001b[39m\u001b[38;5;241m.\u001b[39m_backward_pre_hooks \u001b[38;5;129;01mor\u001b[39;00m \u001b[38;5;28mself\u001b[39m\u001b[38;5;241m.\u001b[39m_forward_hooks \u001b[38;5;129;01mor\u001b[39;00m \u001b[38;5;28mself\u001b[39m\u001b[38;5;241m.\u001b[39m_forward_pre_hooks\n\u001b[1;32m   1745\u001b[0m         \u001b[38;5;129;01mor\u001b[39;00m _global_backward_pre_hooks \u001b[38;5;129;01mor\u001b[39;00m _global_backward_hooks\n\u001b[1;32m   1746\u001b[0m         \u001b[38;5;129;01mor\u001b[39;00m _global_forward_hooks \u001b[38;5;129;01mor\u001b[39;00m _global_forward_pre_hooks):\n\u001b[0;32m-> 1747\u001b[0m     \u001b[38;5;28;01mreturn\u001b[39;00m \u001b[43mforward_call\u001b[49m\u001b[43m(\u001b[49m\u001b[38;5;241;43m*\u001b[39;49m\u001b[43margs\u001b[49m\u001b[43m,\u001b[49m\u001b[43m \u001b[49m\u001b[38;5;241;43m*\u001b[39;49m\u001b[38;5;241;43m*\u001b[39;49m\u001b[43mkwargs\u001b[49m\u001b[43m)\u001b[49m\n\u001b[1;32m   1749\u001b[0m result \u001b[38;5;241m=\u001b[39m \u001b[38;5;28;01mNone\u001b[39;00m\n\u001b[1;32m   1750\u001b[0m called_always_called_hooks \u001b[38;5;241m=\u001b[39m \u001b[38;5;28mset\u001b[39m()\n",
      "File \u001b[0;32m~/DiffOptGen/models/sampler/pixelcnn.py:49\u001b[0m, in \u001b[0;36mAutoRegConv2d.forward\u001b[0;34m(self, x)\u001b[0m\n\u001b[1;32m     48\u001b[0m \u001b[38;5;28;01mdef\u001b[39;00m \u001b[38;5;21mforward\u001b[39m(\u001b[38;5;28mself\u001b[39m, x):\n\u001b[0;32m---> 49\u001b[0m \tvx \u001b[38;5;241m=\u001b[39m \u001b[38;5;28;43mself\u001b[39;49m\u001b[38;5;241;43m.\u001b[39;49m\u001b[43mv_conv2d\u001b[49m\u001b[43m(\u001b[49m\u001b[43mx\u001b[49m\u001b[43m)\u001b[49m \n\u001b[1;32m     50\u001b[0m \tvy \u001b[38;5;241m=\u001b[39m \u001b[38;5;28mself\u001b[39m\u001b[38;5;241m.\u001b[39mh_conv2d(x)\n\u001b[1;32m     51\u001b[0m \t\u001b[38;5;28;01mreturn\u001b[39;00m vx \u001b[38;5;241m+\u001b[39m vy\n",
      "File \u001b[0;32m~/DiffOptGen/.venv/lib/python3.12/site-packages/torch/nn/modules/module.py:1736\u001b[0m, in \u001b[0;36mModule._wrapped_call_impl\u001b[0;34m(self, *args, **kwargs)\u001b[0m\n\u001b[1;32m   1734\u001b[0m     \u001b[38;5;28;01mreturn\u001b[39;00m \u001b[38;5;28mself\u001b[39m\u001b[38;5;241m.\u001b[39m_compiled_call_impl(\u001b[38;5;241m*\u001b[39margs, \u001b[38;5;241m*\u001b[39m\u001b[38;5;241m*\u001b[39mkwargs)  \u001b[38;5;66;03m# type: ignore[misc]\u001b[39;00m\n\u001b[1;32m   1735\u001b[0m \u001b[38;5;28;01melse\u001b[39;00m:\n\u001b[0;32m-> 1736\u001b[0m     \u001b[38;5;28;01mreturn\u001b[39;00m \u001b[38;5;28;43mself\u001b[39;49m\u001b[38;5;241;43m.\u001b[39;49m\u001b[43m_call_impl\u001b[49m\u001b[43m(\u001b[49m\u001b[38;5;241;43m*\u001b[39;49m\u001b[43margs\u001b[49m\u001b[43m,\u001b[49m\u001b[43m \u001b[49m\u001b[38;5;241;43m*\u001b[39;49m\u001b[38;5;241;43m*\u001b[39;49m\u001b[43mkwargs\u001b[49m\u001b[43m)\u001b[49m\n",
      "File \u001b[0;32m~/DiffOptGen/.venv/lib/python3.12/site-packages/torch/nn/modules/module.py:1747\u001b[0m, in \u001b[0;36mModule._call_impl\u001b[0;34m(self, *args, **kwargs)\u001b[0m\n\u001b[1;32m   1742\u001b[0m \u001b[38;5;66;03m# If we don't have any hooks, we want to skip the rest of the logic in\u001b[39;00m\n\u001b[1;32m   1743\u001b[0m \u001b[38;5;66;03m# this function, and just call forward.\u001b[39;00m\n\u001b[1;32m   1744\u001b[0m \u001b[38;5;28;01mif\u001b[39;00m \u001b[38;5;129;01mnot\u001b[39;00m (\u001b[38;5;28mself\u001b[39m\u001b[38;5;241m.\u001b[39m_backward_hooks \u001b[38;5;129;01mor\u001b[39;00m \u001b[38;5;28mself\u001b[39m\u001b[38;5;241m.\u001b[39m_backward_pre_hooks \u001b[38;5;129;01mor\u001b[39;00m \u001b[38;5;28mself\u001b[39m\u001b[38;5;241m.\u001b[39m_forward_hooks \u001b[38;5;129;01mor\u001b[39;00m \u001b[38;5;28mself\u001b[39m\u001b[38;5;241m.\u001b[39m_forward_pre_hooks\n\u001b[1;32m   1745\u001b[0m         \u001b[38;5;129;01mor\u001b[39;00m _global_backward_pre_hooks \u001b[38;5;129;01mor\u001b[39;00m _global_backward_hooks\n\u001b[1;32m   1746\u001b[0m         \u001b[38;5;129;01mor\u001b[39;00m _global_forward_hooks \u001b[38;5;129;01mor\u001b[39;00m _global_forward_pre_hooks):\n\u001b[0;32m-> 1747\u001b[0m     \u001b[38;5;28;01mreturn\u001b[39;00m \u001b[43mforward_call\u001b[49m\u001b[43m(\u001b[49m\u001b[38;5;241;43m*\u001b[39;49m\u001b[43margs\u001b[49m\u001b[43m,\u001b[49m\u001b[43m \u001b[49m\u001b[38;5;241;43m*\u001b[39;49m\u001b[38;5;241;43m*\u001b[39;49m\u001b[43mkwargs\u001b[49m\u001b[43m)\u001b[49m\n\u001b[1;32m   1749\u001b[0m result \u001b[38;5;241m=\u001b[39m \u001b[38;5;28;01mNone\u001b[39;00m\n\u001b[1;32m   1750\u001b[0m called_always_called_hooks \u001b[38;5;241m=\u001b[39m \u001b[38;5;28mset\u001b[39m()\n",
      "File \u001b[0;32m~/DiffOptGen/models/sampler/pixelcnn.py:23\u001b[0m, in \u001b[0;36mMaskedConv2d.forward\u001b[0;34m(self, x)\u001b[0m\n\u001b[1;32m     21\u001b[0m \u001b[38;5;28;01mdef\u001b[39;00m \u001b[38;5;21mforward\u001b[39m(\u001b[38;5;28mself\u001b[39m, x):\n\u001b[1;32m     22\u001b[0m \t\u001b[38;5;28mself\u001b[39m\u001b[38;5;241m.\u001b[39mweight\u001b[38;5;241m.\u001b[39mdata \u001b[38;5;241m*\u001b[39m\u001b[38;5;241m=\u001b[39m \u001b[38;5;28mself\u001b[39m\u001b[38;5;241m.\u001b[39mmask\n\u001b[0;32m---> 23\u001b[0m \t\u001b[38;5;28;01mreturn\u001b[39;00m \u001b[38;5;28;43msuper\u001b[39;49m\u001b[43m(\u001b[49m\u001b[43mMaskedConv2d\u001b[49m\u001b[43m,\u001b[49m\u001b[43m \u001b[49m\u001b[38;5;28;43mself\u001b[39;49m\u001b[43m)\u001b[49m\u001b[38;5;241;43m.\u001b[39;49m\u001b[43mforward\u001b[49m\u001b[43m(\u001b[49m\u001b[43mx\u001b[49m\u001b[43m)\u001b[49m\n",
      "File \u001b[0;32m~/DiffOptGen/.venv/lib/python3.12/site-packages/torch/nn/modules/conv.py:554\u001b[0m, in \u001b[0;36mConv2d.forward\u001b[0;34m(self, input)\u001b[0m\n\u001b[1;32m    553\u001b[0m \u001b[38;5;28;01mdef\u001b[39;00m \u001b[38;5;21mforward\u001b[39m(\u001b[38;5;28mself\u001b[39m, \u001b[38;5;28minput\u001b[39m: Tensor) \u001b[38;5;241m-\u001b[39m\u001b[38;5;241m>\u001b[39m Tensor:\n\u001b[0;32m--> 554\u001b[0m     \u001b[38;5;28;01mreturn\u001b[39;00m \u001b[38;5;28;43mself\u001b[39;49m\u001b[38;5;241;43m.\u001b[39;49m\u001b[43m_conv_forward\u001b[49m\u001b[43m(\u001b[49m\u001b[38;5;28;43minput\u001b[39;49m\u001b[43m,\u001b[49m\u001b[43m \u001b[49m\u001b[38;5;28;43mself\u001b[39;49m\u001b[38;5;241;43m.\u001b[39;49m\u001b[43mweight\u001b[49m\u001b[43m,\u001b[49m\u001b[43m \u001b[49m\u001b[38;5;28;43mself\u001b[39;49m\u001b[38;5;241;43m.\u001b[39;49m\u001b[43mbias\u001b[49m\u001b[43m)\u001b[49m\n",
      "File \u001b[0;32m~/DiffOptGen/.venv/lib/python3.12/site-packages/torch/nn/modules/conv.py:549\u001b[0m, in \u001b[0;36mConv2d._conv_forward\u001b[0;34m(self, input, weight, bias)\u001b[0m\n\u001b[1;32m    537\u001b[0m \u001b[38;5;28;01mif\u001b[39;00m \u001b[38;5;28mself\u001b[39m\u001b[38;5;241m.\u001b[39mpadding_mode \u001b[38;5;241m!=\u001b[39m \u001b[38;5;124m\"\u001b[39m\u001b[38;5;124mzeros\u001b[39m\u001b[38;5;124m\"\u001b[39m:\n\u001b[1;32m    538\u001b[0m     \u001b[38;5;28;01mreturn\u001b[39;00m F\u001b[38;5;241m.\u001b[39mconv2d(\n\u001b[1;32m    539\u001b[0m         F\u001b[38;5;241m.\u001b[39mpad(\n\u001b[1;32m    540\u001b[0m             \u001b[38;5;28minput\u001b[39m, \u001b[38;5;28mself\u001b[39m\u001b[38;5;241m.\u001b[39m_reversed_padding_repeated_twice, mode\u001b[38;5;241m=\u001b[39m\u001b[38;5;28mself\u001b[39m\u001b[38;5;241m.\u001b[39mpadding_mode\n\u001b[0;32m   (...)\u001b[0m\n\u001b[1;32m    547\u001b[0m         \u001b[38;5;28mself\u001b[39m\u001b[38;5;241m.\u001b[39mgroups,\n\u001b[1;32m    548\u001b[0m     )\n\u001b[0;32m--> 549\u001b[0m \u001b[38;5;28;01mreturn\u001b[39;00m \u001b[43mF\u001b[49m\u001b[38;5;241;43m.\u001b[39;49m\u001b[43mconv2d\u001b[49m\u001b[43m(\u001b[49m\n\u001b[1;32m    550\u001b[0m \u001b[43m    \u001b[49m\u001b[38;5;28;43minput\u001b[39;49m\u001b[43m,\u001b[49m\u001b[43m \u001b[49m\u001b[43mweight\u001b[49m\u001b[43m,\u001b[49m\u001b[43m \u001b[49m\u001b[43mbias\u001b[49m\u001b[43m,\u001b[49m\u001b[43m \u001b[49m\u001b[38;5;28;43mself\u001b[39;49m\u001b[38;5;241;43m.\u001b[39;49m\u001b[43mstride\u001b[49m\u001b[43m,\u001b[49m\u001b[43m \u001b[49m\u001b[38;5;28;43mself\u001b[39;49m\u001b[38;5;241;43m.\u001b[39;49m\u001b[43mpadding\u001b[49m\u001b[43m,\u001b[49m\u001b[43m \u001b[49m\u001b[38;5;28;43mself\u001b[39;49m\u001b[38;5;241;43m.\u001b[39;49m\u001b[43mdilation\u001b[49m\u001b[43m,\u001b[49m\u001b[43m \u001b[49m\u001b[38;5;28;43mself\u001b[39;49m\u001b[38;5;241;43m.\u001b[39;49m\u001b[43mgroups\u001b[49m\n\u001b[1;32m    551\u001b[0m \u001b[43m\u001b[49m\u001b[43m)\u001b[49m\n",
      "\u001b[0;31mKeyboardInterrupt\u001b[0m: "
     ]
    }
   ],
   "source": [
    "train_loss, val_losses = [], []\n",
    "val_accuracies = []\n",
    "\n",
    "progression_bar = tqdm(range(num_epochs))\n",
    "for epoch in progression_bar:\n",
    "\tprogression_bar.set_description(f\"Epoch: {epoch:>2}/{num_epochs:>2}\")\n",
    "\n",
    "\tsampler.train()\n",
    "\tep_losses = []\n",
    "\tfor (x_trajs, y_trajs, z_trajs), _ in tqdm(train_loader):\n",
    "\n",
    "\t\tx_trajs, y_trajs, z_trajs = (\n",
    "\t\t\tx_trajs.to(device=device), y_trajs.to(device=device), z_trajs.to(device=device)\n",
    "\t\t)\n",
    "\t\ttrajs = th.stack([x_trajs, y_trajs, z_trajs], dim=-3)\n",
    "\t\tconditions = th.stack([trajs[..., 0], trajs[..., -1]], dim=-1)\n",
    "\n",
    "\t\t_, quantized_indices, *_ = vq_model.encode(trajs)\n",
    "\t\t# probs = sampler(quantized_indices.unsqueeze(dim=1).float(), conditions.flatten(start_dim=1).unsqueeze(dim=1))\n",
    "\t\tprobs = sampler(quantized_indices.unsqueeze(dim=1).float().repeat_interleave(num_agent, dim=1), conditions.permute(0, 2, 1, 3))\n",
    "\t\t\n",
    "\t\tloss = th.nn.functional.nll_loss(th.nn.functional.log_softmax(probs, dim=1), quantized_indices)\n",
    "\t\t# loss = th.nn.functional.cross_entropy(probs, quantized_indices)\n",
    "\n",
    "\t\tsampler_optimizer.zero_grad()\n",
    "\t\tloss.backward()\n",
    "\t\tsampler_optimizer.step()\n",
    "\t\t\n",
    "\t\tep_losses.append(loss.item())\n",
    "\n",
    "\twith th.no_grad():\n",
    "\t\tsampler.eval()\n",
    "\t\tep_val_acc, ep_val_loss = [], []\n",
    "\t\tfor (x_trajs, y_trajs, z_trajs), _ in val_loader:\n",
    "\t\t\tx_trajs, y_trajs, z_trajs = (\n",
    "\t\t\t\tx_trajs.to(device=device), y_trajs.to(device=device), z_trajs.to(device=device)\n",
    "\t\t\t)\n",
    "\t\t\ttrajs = th.stack([x_trajs, y_trajs, z_trajs], dim=-3)\n",
    "\t\t\tconditions = th.stack([trajs[..., 0], trajs[..., -1]], dim=-1)\n",
    "\n",
    "\t\t\t_, true_indices, *_ = vq_model.encode(trajs)\n",
    "\t\t\tprobs = []\n",
    "\t\t\tsamples = th.zeros(conditions.shape[0], num_agent, lheight, lwidth, dtype=th.float32, device=device)\n",
    "\n",
    "\t\t\tfor i in range(lheight):\n",
    "\t\t\t\tfor j in range(lwidth):\n",
    "\t\t\t\t\t# output = sampler(samples, conditions.flatten(start_dim=1).unsqueeze(dim=1))\n",
    "\t\t\t\t\toutput = sampler(samples, conditions.permute(0, 2, 1, 3))\n",
    "\t\t\t\t\tprobs.append(output[:, :, i, j])\n",
    "\t\t\t\t\tsamples[:, :, i, j] = th.multinomial(\n",
    "\t\t\t\t\t\tth.nn.functional.softmax(output[:, :, i, j].cpu(), dim=-1),\n",
    "\t\t\t\t\t\tnum_samples=1\n",
    "\t\t\t\t\t)\n",
    "\n",
    "\t\t\tprobs = th.stack(probs, dim=-1)\n",
    "\t\t\tprobs = probs.reshape(*probs.shape[:-1], lheight, lwidth)\n",
    "\t\t\tval_loss = th.nn.functional.nll_loss(th.nn.functional.log_softmax(probs, dim=1), true_indices)\n",
    "\t\t\t# val_loss = th.nn.functional.cross_entropy(probs, true_indices)\n",
    "\t\t\t\n",
    "\t\t\tpred_indices = probs.topk(k=1, dim=1)[1].squeeze(dim=-1)\n",
    "\t\t\tval_accuracy = (pred_indices.squeeze(dim=1) == true_indices).sum() / true_indices.numel()\n",
    "\t\t\tep_val_acc.append(val_accuracy.item())\n",
    "\t\t\tep_val_loss.append(val_loss.item())\n",
    "\n",
    "\tep_loss = np.average(ep_losses)\n",
    "\tep_accuracy = np.average(ep_val_acc)\n",
    "\tep_loss_test = np.average(ep_val_loss)\n",
    "\n",
    "\tprogression_bar.set_postfix({\n",
    "\t\t'loss_train': f'{ep_loss:.4f}', \n",
    "\t\t'loss_val': f'{ep_loss_test:.4f}', \n",
    "\t\t'accuracies': f'{ep_accuracy:.4f}', \n",
    "\t})\n",
    "\n",
    "\ttrain_loss.append(ep_loss)\n",
    "\tval_losses.append(ep_loss_test)\n",
    "\tval_accuracies.append(ep_accuracy)\n",
    "\tsampler_scheduler.step(ep_loss)"
   ]
  },
  {
   "cell_type": "code",
   "execution_count": 19,
   "metadata": {},
   "outputs": [],
   "source": [
    "# Epoch: 309/500:  62%|██████▏   | 309/500 [29:31<18:14,  5.73s/it, loss_train=2.3866, loss_val=2.3143, accuracies=0.3330]\n",
    "th.save(sampler.state_dict(), f\"./resources/weights/sampler/pixel/px_{px_name}_vq_{vq_name}_agents_{num_agent}\")"
   ]
  },
  {
   "cell_type": "code",
   "execution_count": 11,
   "metadata": {},
   "outputs": [
    {
     "data": {
      "image/png": "[encoded data removed]",
      "text/plain": [
       "<Figure size 2000x400 with 3 Axes>"
      ]
     },
     "metadata": {},
     "output_type": "display_data"
    }
   ],
   "source": [
    "fig = plt.figure(figsize=(20, 4))\n",
    "ax = plt.subplot(131)\n",
    "ax.plot(train_loss)\n",
    "ax.set_title(\"Train Loss\")\n",
    "ax.set_yscale('log')\n",
    "ax.grid(which=\"both\")\n",
    "\n",
    "ax = plt.subplot(132)\n",
    "ax.plot(val_losses)\n",
    "ax.set_title(\"Test Loss\")\n",
    "ax.set_yscale('log')\n",
    "ax.grid(which=\"both\")\n",
    "\n",
    "ax = plt.subplot(133)\n",
    "ax .plot(val_accuracies)\n",
    "ax.set_title(\"Test Accuracy\")\n",
    "ax.grid(which=\"both\")\n",
    "\n",
    "plt.tight_layout()\n",
    "plt.show()"
   ]
  },
  {
   "cell_type": "code",
   "execution_count": null,
   "metadata": {},
   "outputs": [],
   "source": [
    "sample_b = 10\n",
    "vq_model = VQVAEAgents(\n",
    "    P, Pdot, Pddot, num_agent=num_agent, nvar=11, emb_num=znum, emb_dim=zdim, zdim=zdim, tdim=3, beta=0.3,\n",
    "    lheight=lheight, lwidth=lwidth, nef=nef, ndf=ndf, device=device, batch=sample_b\n",
    ")\n",
    "sampler.eval()\n",
    "vq_model.eval()\n",
    "vq_model.load_state_dict(th.load(f\"./resources/weights/vqvae/{vq_name}_agents_{num_agent}\", weights_only=False))"
   ]
  },
  {
   "cell_type": "code",
   "execution_count": 43,
   "metadata": {},
   "outputs": [],
   "source": [
    "val_loader = DataLoader(val_set, batch_size=1, shuffle=True, drop_last=False)\n",
    "(x_trajs, y_trajs, z_trajs), _ = next(iter(val_loader))\n",
    "\n",
    "with th.no_grad():\n",
    "\ttrajs = th.stack([x_trajs, y_trajs, z_trajs], dim=-3).to(device)\n",
    "\tx_init, y_init, z_init = trajs[:, 0, :, 0], trajs[:, 1, :, 0], trajs[:, 2, :, 0]\n",
    "\tx_fin, y_fin, z_fin = trajs[:, 0, :, -1], trajs[:, 1, :, -1], trajs[:, 2, :, -1]\n",
    "\n",
    "\trec_sol, quantizer_loss = vq_model(\n",
    "\t\ttrajs, \n",
    "\t\tx_init.repeat_interleave(sample_b, 0), y_init.repeat_interleave(sample_b, 0), z_init.repeat_interleave(sample_b, 0), \n",
    "\t\tx_fin.repeat_interleave(sample_b, 0), y_fin.repeat_interleave(sample_b, 0), z_fin.repeat_interleave(sample_b, 0)\n",
    "\t)\n",
    "\trec_trajs = rec_sol @ P.mT\n",
    "\trec_trajs = rec_trajs.cpu().numpy()\n",
    "\trx_trajs, ry_trajs, rz_trajs = rec_trajs[:, 0, :, :], rec_trajs[:, 1, :, :], rec_trajs[:, 2, :, :]\n",
    "\t\n",
    "\tconditions = th.stack([trajs[..., 0], trajs[..., -1]], dim=-1)\n",
    "\n",
    "\tlatent_idx = th.zeros(sample_b, num_agent, lheight, lwidth, dtype=th.float32, device=device)\n",
    "\tfor i in range(lheight):\n",
    "\t\tfor j in range(lwidth):\n",
    "\t\t\t# output = sampler(latent_idx, conditions.flatten(start_dim=1).unsqueeze(dim=1))\n",
    "\t\t\toutput = sampler(latent_idx, conditions.permute(0, 2, 1, 3))\n",
    "\t\t\tlatent_idx[:, :, i, j] = th.multinomial(\n",
    "\t\t\t\tth.nn.functional.softmax(output[:, :, i, j].cpu(), dim=-1),\n",
    "\t\t\t\tnum_samples=1\n",
    "\t\t\t)\n",
    "\n",
    "\tlatent = vq_model.quantizer.embedding(latent_idx.to(dtype=th.int32))[:, 0]\n",
    "\t\n",
    "\trec_sol = vq_model.decode(\n",
    "\t\tlatent, \n",
    "\t\tx_init.repeat_interleave(sample_b, 0), y_init.repeat_interleave(sample_b, 0), z_init.repeat_interleave(sample_b, 0), \n",
    "\t\tx_fin.repeat_interleave(sample_b, 0), y_fin.repeat_interleave(sample_b, 0), z_fin.repeat_interleave(sample_b, 0)\n",
    "\t)\n",
    "\trec_trajs = rec_sol @ P.mT\n",
    "\trec_trajs = rec_trajs.cpu().numpy()\n",
    "\tpx_trajs, py_trajs, pz_trajs = rec_trajs[:, 0, :, :], rec_trajs[:, 1, :, :], rec_trajs[:, 2, :, :]"
   ]
  },
  {
   "cell_type": "code",
   "execution_count": 44,
   "metadata": {},
   "outputs": [
    {
     "data": {
      "application/vnd.plotly.v1+json": {
       "config": {
        "plotlyServerURL": "https://plot.ly"
       },
       "data": [
        {
         "mode": "lines",
         "scene": "scene",
         "showlegend": false,
         "type": "scatter3d",
         "x": [
          1.8143706321716309,
          1.8133951425552368,
          1.8074390888214111,
          1.7935700416564941,
          1.7704721689224243,
          1.7379019260406494,
          1.6962742805480957,
          1.6463572978973389,
          1.5890554189682007,
          1.5252636671066284,
          1.455782413482666,
          1.3812711238861084,
          1.3022392988204956,
          1.2190583944320679,
          1.1319879293441772,
          1.0412112474441528,
          0.9468728303909302,
          0.8491140007972717,
          0.7481043338775635,
          0.644065797328949,
          0.5372893214225769,
          0.4281419515609741,
          0.31706663966178894,
          0.20457351207733154,
          0.09122516214847565,
          -0.02238258719444275,
          -0.13564324378967285,
          -0.24796302616596222,
          -0.35878312587738037,
          -0.46759891510009766,
          -0.5739741325378418,
          -0.6775490641593933,
          -0.7780405282974243,
          -0.8752341270446777,
          -0.9689673781394958,
          -1.059105634689331,
          -1.1455104351043701,
          -1.2280044555664062,
          -1.3063340187072754,
          -1.3801350593566895,
          -1.4489072561264038,
          -1.5120021104812622,
          -1.56863534450531,
          -1.61793053150177,
          -1.659005045890808,
          -1.691114902496338,
          -1.7138656377792358,
          -1.7275136709213257,
          -1.7333695888519287,
          -1.7343279123306274
         ],
         "y": [
          -1.6006957292556763,
          -1.600712537765503,
          -1.6007962226867676,
          -1.6009427309036255,
          -1.6011043787002563,
          -1.6012146472930908,
          -1.6012061834335327,
          -1.6010173559188843,
          -1.6005980968475342,
          -1.5999091863632202,
          -1.5989211797714233,
          -1.5976120233535767,
          -1.5959649085998535,
          -1.5939661264419556,
          -1.591602087020874,
          -1.5888605117797852,
          -1.585728406906128,
          -1.5821939706802368,
          -1.5782467126846313,
          -1.573879361152649,
          -1.5690897703170776,
          -1.5638816356658936,
          -1.558266282081604,
          -1.5522637367248535,
          -1.5459028482437134,
          -1.5392206907272339,
          -1.5322624444961548,
          -1.5250797271728516,
          -1.5177284479141235,
          -1.5102674961090088,
          -1.502755045890808,
          -1.4952479600906372,
          -1.4877980947494507,
          -1.4804524183273315,
          -1.4732509851455688,
          -1.4662284851074219,
          -1.459414005279541,
          -1.4528348445892334,
          -1.4465184211730957,
          -1.4404972791671753,
          -1.4348125457763672,
          -1.429518461227417,
          -1.4246832132339478,
          -1.4203906059265137,
          -1.416733741760254,
          -1.4138052463531494,
          -1.4116755723953247,
          -1.410362958908081,
          -1.409783959388733,
          -1.409686803817749
         ],
         "z": [
          1.2774430513381958,
          1.2772960662841797,
          1.276389718055725,
          1.274255394935608,
          1.2706605195999146,
          1.2655344009399414,
          1.2589099407196045,
          1.2508797645568848,
          1.241562843322754,
          1.231081247329712,
          1.2195465564727783,
          1.2070504426956177,
          1.193662405014038,
          1.179430603981018,
          1.1643856763839722,
          1.148545503616333,
          1.1319218873977661,
          1.1145269870758057,
          1.0963780879974365,
          1.0775039196014404,
          1.0579469203948975,
          1.037765622138977,
          1.0170363187789917,
          0.995850682258606,
          0.9743144512176514,
          0.9525442719459534,
          0.9306628704071045,
          0.9087949991226196,
          0.8870625495910645,
          0.8655802607536316,
          0.8444517850875854,
          0.8237674236297607,
          0.8036025166511536,
          0.7840183973312378,
          0.765064001083374,
          0.7467805743217468,
          0.7292065024375916,
          0.7123851776123047,
          0.696372389793396,
          0.6812441349029541,
          0.667103111743927,
          0.6540828347206116,
          0.6423468589782715,
          0.6320824027061462,
          0.6234827637672424,
          0.6167193055152893,
          0.6118954420089722,
          0.6089814305305481,
          0.6077219843864441,
          0.607514500617981
         ]
        },
        {
         "mode": "lines",
         "scene": "scene",
         "showlegend": false,
         "type": "scatter3d",
         "x": [
          1.8809744119644165,
          1.8800289630889893,
          1.8742530345916748,
          1.8607949018478394,
          1.8383655548095703,
          1.8067139387130737,
          1.7662286758422852,
          1.7176415920257568,
          1.6618189811706543,
          1.5996206998825073,
          1.5318152904510498,
          1.4590381383895874,
          1.3817797899246216,
          1.300398349761963,
          1.2151449918746948,
          1.1261975765228271,
          1.0336976051330566,
          0.9377840161323547,
          0.8386245965957642,
          0.7364391684532166,
          0.6315151453018188,
          0.524215042591095,
          0.4149760603904724,
          0.30430150032043457,
          0.19274666905403137,
          0.08089947700500488,
          -0.030641190707683563,
          -0.14128872752189636,
          -0.25049060583114624,
          -0.3577471673488617,
          -0.46262598037719727,
          -0.5647696256637573,
          -0.6638960838317871,
          -0.7597908973693848,
          -0.8522912859916687,
          -0.9412616491317749,
          -1.0265631675720215,
          -1.1080186367034912,
          -1.1853761672973633,
          -1.2582746744155884,
          -1.326218605041504,
          -1.3885663747787476,
          -1.4445412158966064,
          -1.493274450302124,
          -1.5338910818099976,
          -1.5656514167785645,
          -1.5881611108779907,
          -1.6016684770584106,
          -1.6074658632278442,
          -1.608414888381958
         ],
         "y": [
          -1.1152870655059814,
          -1.1146067380905151,
          -1.1104702949523926,
          -1.1008821725845337,
          -1.0849888324737549,
          -1.062683343887329,
          -1.0343090295791626,
          -1.0004421472549438,
          -0.9617411494255066,
          -0.9188471436500549,
          -0.8723258972167969,
          -0.8226397037506104,
          -0.7701436877250671,
          -0.7150960564613342,
          -0.6576778888702393,
          -0.5980188250541687,
          -0.5362231135368347,
          -0.4723937213420868,
          -0.40665343403816223,
          -0.3391600549221039,
          -0.2701163589954376,
          -0.1997738778591156,
          -0.1284312754869461,
          -0.05642760545015335,
          0.015868350863456726,
          0.0880715474486351,
          0.15979567170143127,
          0.23066848516464233,
          0.30034583806991577,
          0.368523508310318,
          0.4349452257156372,
          0.4994068741798401,
          0.5617551803588867,
          0.6218811273574829,
          0.67970871925354,
          0.7351779937744141,
          0.7882249355316162,
          0.8387591242790222,
          0.8866407871246338,
          0.9316602349281311,
          0.9735230803489685,
          1.011845350265503,
          1.0461621284484863,
          1.0759568214416504,
          1.100715160369873,
          1.1200125217437744,
          1.1336420774459839,
          1.1417909860610962,
          1.145275354385376,
          1.145843744277954
         ],
         "z": [
          1.0133886337280273,
          1.0131186246871948,
          1.0114712715148926,
          1.0076379776000977,
          1.0012602806091309,
          0.9922782182693481,
          0.980816662311554,
          0.9670990705490112,
          0.9513881802558899,
          0.9339438676834106,
          0.9149999618530273,
          0.8947499990463257,
          0.8733448386192322,
          0.8508948683738708,
          0.8274773955345154,
          0.8031459450721741,
          0.7779402732849121,
          0.7518967390060425,
          0.7250561118125916,
          0.6974717974662781,
          0.6692133545875549,
          0.6403694748878479,
          0.6110485196113586,
          0.5813760757446289,
          0.5514921545982361,
          0.5215455293655396,
          0.49168872833251953,
          0.4620717167854309,
          0.43283623456954956,
          0.4041110575199127,
          0.37600788474082947,
          0.3486195504665375,
          0.32201993465423584,
          0.2962660491466522,
          0.2714022696018219,
          0.24746674299240112,
          0.22449958324432373,
          0.20255208015441895,
          0.18169626593589783,
          0.1620338261127472,
          0.1437026858329773,
          0.1268797516822815,
          0.11177750676870346,
          0.09863217175006866,
          0.08768032491207123,
          0.07912081480026245,
          0.07305803149938583,
          0.06942237913608551,
          0.06786304712295532,
          0.06760796904563904
         ]
        },
        {
         "mode": "lines",
         "scene": "scene",
         "showlegend": false,
         "type": "scatter3d",
         "x": [
          0.12186422944068909,
          0.12236069142818451,
          0.12537908554077148,
          0.13237527012825012,
          0.14397594332695007,
          0.16026730835437775,
          0.18101167678833008,
          0.2058044672012329,
          0.23418296873569489,
          0.2656966745853424,
          0.29994818568229675,
          0.33661141991615295,
          0.3754340708255768,
          0.4162289798259735,
          0.4588592052459717,
          0.5032196640968323,
          0.5492189526557922,
          0.5967620015144348,
          0.6457364559173584,
          0.6960022449493408,
          0.7473864555358887,
          0.7996810674667358,
          0.8526455163955688,
          0.9060131311416626,
          0.9594995975494385,
          1.0128127336502075,
          1.0656639337539673,
          1.117780089378357,
          1.1689125299453735,
          1.2188453674316406,
          1.267401099205017,
          1.3144419193267822,
          1.3598687648773193,
          1.40361487865448,
          1.4456367492675781,
          1.4859017133712769,
          1.524371862411499,
          1.5609886646270752,
          1.5956552028656006,
          1.6282224655151367,
          1.6584794521331787,
          1.6861499547958374,
          1.710900068283081,
          1.73236083984375,
          1.750167727470398,
          1.7640241384506226,
          1.77379310131073,
          1.7796226739883423,
          1.7821100950241089,
          1.782515048980713
         ],
         "y": [
          0.9530433416366577,
          0.9525983333587646,
          0.9498729705810547,
          0.9435069561004639,
          0.9328720569610596,
          0.9178313612937927,
          0.8985546231269836,
          0.8753787279129028,
          0.8487087488174438,
          0.8189501762390137,
          0.7864664196968079,
          0.7515576481819153,
          0.714453935623169,
          0.675319492816925,
          0.6342652440071106,
          0.5913639068603516,
          0.5466684103012085,
          0.5002287030220032,
          0.45210784673690796,
          0.40239417552948,
          0.351210355758667,
          0.29871779680252075,
          0.2451179325580597,
          0.19064870476722717,
          0.13557836413383484,
          0.08019648492336273,
          0.024803318083286285,
          -0.030301924794912338,
          -0.0848323255777359,
          -0.13852354884147644,
          -0.19114184379577637,
          -0.242489293217659,
          -0.2924051582813263,
          -0.3407633900642395,
          -0.3874655067920685,
          -0.432429701089859,
          -0.47557568550109863,
          -0.5168075561523438,
          -0.5559947490692139,
          -0.592954158782959,
          -0.6274359822273254,
          -0.6591161489486694,
          -0.6875999569892883,
          -0.71244215965271,
          -0.7331888675689697,
          -0.7494488954544067,
          -0.7610021829605103,
          -0.7679538726806641,
          -0.7709459662437439,
          -0.7714370489120483
         ],
         "z": [
          0.7238953709602356,
          0.7237793803215027,
          0.7230715751647949,
          0.7214243412017822,
          0.7186824083328247,
          0.7148175835609436,
          0.7098797559738159,
          0.7039604187011719,
          0.6971668601036072,
          0.6896052956581116,
          0.681370735168457,
          0.6725413799285889,
          0.6631782054901123,
          0.6533257961273193,
          0.64301598072052,
          0.6322718262672424,
          0.6211117506027222,
          0.6095542907714844,
          0.597620964050293,
          0.5853397846221924,
          0.5727465748786926,
          0.5598857402801514,
          0.5468104481697083,
          0.5335811972618103,
          0.5202643275260925,
          0.5069295167922974,
          0.49364733695983887,
          0.4804862141609192,
          0.46751031279563904,
          0.45477715134620667,
          0.44233590364456177,
          0.4302268624305725,
          0.41848134994506836,
          0.4071228504180908,
          0.39616912603378296,
          0.3856350779533386,
          0.3755362033843994,
          0.36589327454566956,
          0.35673636198043823,
          0.34810858964920044,
          0.34006935358047485,
          0.33269521594047546,
          0.32607850432395935,
          0.3203219473361969,
          0.31552839279174805,
          0.31178396940231323,
          0.30913326144218445,
          0.3075447082519531,
          0.30686378479003906,
          0.306752473115921
         ]
        },
        {
         "mode": "lines",
         "scene": "scene",
         "showlegend": false,
         "type": "scatter3d",
         "x": [
          -1.927324891090393,
          -1.9267995357513428,
          -1.9235788583755493,
          -1.9160453081130981,
          -1.9034432172775269,
          -1.8855986595153809,
          -1.8627042770385742,
          -1.8351539373397827,
          -1.8034272193908691,
          -1.7680070400238037,
          -1.7293298244476318,
          -1.6877578496932983,
          -1.6435710191726685,
          -1.5969702005386353,
          -1.5480914115905762,
          -1.4970228672027588,
          -1.4438269138336182,
          -1.3885602951049805,
          -1.3312920331954956,
          -1.2721197605133057,
          -1.2111793756484985,
          -1.14865243434906,
          -1.0847675800323486,
          -1.0197967290878296,
          -0.9540491104125977,
          -0.8878600001335144,
          -0.82157963514328,
          -0.7555587291717529,
          -0.690135657787323,
          -0.6256243586540222,
          -0.5623045563697815,
          -0.5004154443740845,
          -0.4401540160179138,
          -0.38167786598205566,
          -0.3251132071018219,
          -0.27056819200515747,
          -0.2181505262851715,
          -0.167988121509552,
          -0.12025167047977448,
          -0.07517626881599426,
          -0.03307836502790451,
          0.005635008215904236,
          0.040471091866493225,
          0.07087574899196625,
          0.09628471732139587,
          0.11621088534593582,
          0.13037696480751038,
          0.1389053761959076,
          0.14257802069187164,
          0.14318107068538666
         ],
         "y": [
          1.1112456321716309,
          1.1107964515686035,
          1.1080598831176758,
          1.1017017364501953,
          1.091134786605835,
          1.0762629508972168,
          1.0572878122329712,
          1.0345675945281982,
          1.0085176229476929,
          0.9795454144477844,
          0.9480118155479431,
          0.9142134785652161,
          0.8783785104751587,
          0.8406736254692078,
          0.8012178540229797,
          0.7600979208946228,
          0.7173865437507629,
          0.6731575131416321,
          0.6275004148483276,
          0.5805298089981079,
          0.5323925614356995,
          0.4832698702812195,
          0.43337583541870117,
          0.38295334577560425,
          0.3322660028934479,
          0.2815892696380615,
          0.23119977116584778,
          0.18136471509933472,
          0.1323319375514984,
          0.08432161808013916,
          0.03752022981643677,
          -0.007922306656837463,
          -0.051892220973968506,
          -0.09430758655071259,
          -0.13511040806770325,
          -0.17425522208213806,
          -0.21169504523277283,
          -0.24736550450325012,
          -0.28116855025291443,
          -0.3129577040672302,
          -0.34252724051475525,
          -0.3696078062057495,
          -0.3938720226287842,
          -0.4149543344974518,
          -0.4324885308742523,
          -0.44616952538490295,
          -0.45584356784820557,
          -0.46163514256477356,
          -0.4641149044036865,
          -0.4645199179649353
         ],
         "z": [
          -0.029351556673645973,
          -0.0292773749679327,
          -0.02881777100265026,
          -0.027730846777558327,
          -0.025893684476614,
          -0.023267414420843124,
          -0.01986883394420147,
          -0.015747981145977974,
          -0.010970965959131718,
          -0.005607479717582464,
          0.00027771666646003723,
          0.006629948504269123,
          0.01340703945606947,
          0.020579585805535316,
          0.028129614889621735,
          0.036048151552677155,
          0.04433213919401169,
          0.05298108235001564,
          0.06199377402663231,
          0.0713653564453125,
          0.08108494430780411,
          0.09113389253616333,
          0.10148486495018005,
          0.11210168153047562,
          0.12293995171785355,
          0.13394825160503387,
          0.14506997168064117,
          0.15624548494815826,
          0.16741450130939484,
          0.17851831018924713,
          0.18950191140174866,
          0.20031557977199554,
          0.2109156847000122,
          0.22126498818397522,
          0.23133166134357452,
          0.24108755588531494,
          0.2505054771900177,
          0.2595556676387787,
          0.26820188760757446,
          0.276397168636322,
          0.284080445766449,
          0.29117414355278015,
          0.2975844442844391,
          0.303204745054245,
          0.3079245984554291,
          0.31164538860321045,
          0.31430524587631226,
          0.31591591238975525,
          0.3166136145591736,
          0.316728800535202
         ]
        },
        {
         "marker": {
          "color": "#636EFA",
          "size": 2
         },
         "mode": "markers",
         "scene": "scene",
         "showlegend": false,
         "type": "scatter3d",
         "x": [
          1.8143706321716309,
          1.8809744119644165,
          0.12186422944068909,
          -1.927324891090393
         ],
         "y": [
          -1.6006957292556763,
          -1.1152870655059814,
          0.9530433416366577,
          1.1112456321716309
         ],
         "z": [
          1.2774430513381958,
          1.0133886337280273,
          0.7238953709602356,
          -0.029351556673645973
         ]
        },
        {
         "marker": {
          "color": "#EF553B",
          "size": 2
         },
         "mode": "markers",
         "scene": "scene",
         "showlegend": false,
         "type": "scatter3d",
         "x": [
          -1.7343279123306274,
          -1.608414888381958,
          1.782515048980713,
          0.14318107068538666
         ],
         "y": [
          -1.409686803817749,
          1.145843744277954,
          -0.7714370489120483,
          -0.4645199179649353
         ],
         "z": [
          0.607514500617981,
          0.06760796904563904,
          0.306752473115921,
          0.316728800535202
         ]
        }
       ],
       "layout": {
        "height": 400,
        "margin": {
         "b": 20,
         "l": 20,
         "r": 20,
         "t": 20
        },
        "scene": {
         "aspectratio": {
          "x": 1,
          "y": 1,
          "z": 1
         },
         "domain": {
          "x": [
           0,
           1
          ],
          "y": [
           0,
           1
          ]
         },
         "xaxis": {
          "showticklabels": false,
          "title": {
           "text": ""
          }
         },
         "yaxis": {
          "showticklabels": false,
          "title": {
           "text": ""
          }
         },
         "zaxis": {
          "showticklabels": false,
          "title": {
           "text": ""
          }
         }
        },
        "template": {
         "data": {
          "bar": [
           {
            "error_x": {
             "color": "#2a3f5f"
            },
            "error_y": {
             "color": "#2a3f5f"
            },
            "marker": {
             "line": {
              "color": "#E5ECF6",
              "width": 0.5
             },
             "pattern": {
              "fillmode": "overlay",
              "size": 10,
              "solidity": 0.2
             }
            },
            "type": "bar"
           }
          ],
          "barpolar": [
           {
            "marker": {
             "line": {
              "color": "#E5ECF6",
              "width": 0.5
             },
             "pattern": {
              "fillmode": "overlay",
              "size": 10,
              "solidity": 0.2
             }
            },
            "type": "barpolar"
           }
          ],
          "carpet": [
           {
            "aaxis": {
             "endlinecolor": "#2a3f5f",
             "gridcolor": "white",
             "linecolor": "white",
             "minorgridcolor": "white",
             "startlinecolor": "#2a3f5f"
            },
            "baxis": {
             "endlinecolor": "#2a3f5f",
             "gridcolor": "white",
             "linecolor": "white",
             "minorgridcolor": "white",
             "startlinecolor": "#2a3f5f"
            },
            "type": "carpet"
           }
          ],
          "choropleth": [
           {
            "colorbar": {
             "outlinewidth": 0,
             "ticks": ""
            },
            "type": "choropleth"
           }
          ],
          "contour": [
           {
            "colorbar": {
             "outlinewidth": 0,
             "ticks": ""
            },
            "colorscale": [
             [
              0,
              "#0d0887"
             ],
             [
              0.1111111111111111,
              "#46039f"
             ],
             [
              0.2222222222222222,
              "#7201a8"
             ],
             [
              0.3333333333333333,
              "#9c179e"
             ],
             [
              0.4444444444444444,
              "#bd3786"
             ],
             [
              0.5555555555555556,
              "#d8576b"
             ],
             [
              0.6666666666666666,
              "#ed7953"
             ],
             [
              0.7777777777777778,
              "#fb9f3a"
             ],
             [
              0.8888888888888888,
              "#fdca26"
             ],
             [
              1,
              "#f0f921"
             ]
            ],
            "type": "contour"
           }
          ],
          "contourcarpet": [
           {
            "colorbar": {
             "outlinewidth": 0,
             "ticks": ""
            },
            "type": "contourcarpet"
           }
          ],
          "heatmap": [
           {
            "colorbar": {
             "outlinewidth": 0,
             "ticks": ""
            },
            "colorscale": [
             [
              0,
              "#0d0887"
             ],
             [
              0.1111111111111111,
              "#46039f"
             ],
             [
              0.2222222222222222,
              "#7201a8"
             ],
             [
              0.3333333333333333,
              "#9c179e"
             ],
             [
              0.4444444444444444,
              "#bd3786"
             ],
             [
              0.5555555555555556,
              "#d8576b"
             ],
             [
              0.6666666666666666,
              "#ed7953"
             ],
             [
              0.7777777777777778,
              "#fb9f3a"
             ],
             [
              0.8888888888888888,
              "#fdca26"
             ],
             [
              1,
              "#f0f921"
             ]
            ],
            "type": "heatmap"
           }
          ],
          "heatmapgl": [
           {
            "colorbar": {
             "outlinewidth": 0,
             "ticks": ""
            },
            "colorscale": [
             [
              0,
              "#0d0887"
             ],
             [
              0.1111111111111111,
              "#46039f"
             ],
             [
              0.2222222222222222,
              "#7201a8"
             ],
             [
              0.3333333333333333,
              "#9c179e"
             ],
             [
              0.4444444444444444,
              "#bd3786"
             ],
             [
              0.5555555555555556,
              "#d8576b"
             ],
             [
              0.6666666666666666,
              "#ed7953"
             ],
             [
              0.7777777777777778,
              "#fb9f3a"
             ],
             [
              0.8888888888888888,
              "#fdca26"
             ],
             [
              1,
              "#f0f921"
             ]
            ],
            "type": "heatmapgl"
           }
          ],
          "histogram": [
           {
            "marker": {
             "pattern": {
              "fillmode": "overlay",
              "size": 10,
              "solidity": 0.2
             }
            },
            "type": "histogram"
           }
          ],
          "histogram2d": [
           {
            "colorbar": {
             "outlinewidth": 0,
             "ticks": ""
            },
            "colorscale": [
             [
              0,
              "#0d0887"
             ],
             [
              0.1111111111111111,
              "#46039f"
             ],
             [
              0.2222222222222222,
              "#7201a8"
             ],
             [
              0.3333333333333333,
              "#9c179e"
             ],
             [
              0.4444444444444444,
              "#bd3786"
             ],
             [
              0.5555555555555556,
              "#d8576b"
             ],
             [
              0.6666666666666666,
              "#ed7953"
             ],
             [
              0.7777777777777778,
              "#fb9f3a"
             ],
             [
              0.8888888888888888,
              "#fdca26"
             ],
             [
              1,
              "#f0f921"
             ]
            ],
            "type": "histogram2d"
           }
          ],
          "histogram2dcontour": [
           {
            "colorbar": {
             "outlinewidth": 0,
             "ticks": ""
            },
            "colorscale": [
             [
              0,
              "#0d0887"
             ],
             [
              0.1111111111111111,
              "#46039f"
             ],
             [
              0.2222222222222222,
              "#7201a8"
             ],
             [
              0.3333333333333333,
              "#9c179e"
             ],
             [
              0.4444444444444444,
              "#bd3786"
             ],
             [
              0.5555555555555556,
              "#d8576b"
             ],
             [
              0.6666666666666666,
              "#ed7953"
             ],
             [
              0.7777777777777778,
              "#fb9f3a"
             ],
             [
              0.8888888888888888,
              "#fdca26"
             ],
             [
              1,
              "#f0f921"
             ]
            ],
            "type": "histogram2dcontour"
           }
          ],
          "mesh3d": [
           {
            "colorbar": {
             "outlinewidth": 0,
             "ticks": ""
            },
            "type": "mesh3d"
           }
          ],
          "parcoords": [
           {
            "line": {
             "colorbar": {
              "outlinewidth": 0,
              "ticks": ""
             }
            },
            "type": "parcoords"
           }
          ],
          "pie": [
           {
            "automargin": true,
            "type": "pie"
           }
          ],
          "scatter": [
           {
            "fillpattern": {
             "fillmode": "overlay",
             "size": 10,
             "solidity": 0.2
            },
            "type": "scatter"
           }
          ],
          "scatter3d": [
           {
            "line": {
             "colorbar": {
              "outlinewidth": 0,
              "ticks": ""
             }
            },
            "marker": {
             "colorbar": {
              "outlinewidth": 0,
              "ticks": ""
             }
            },
            "type": "scatter3d"
           }
          ],
          "scattercarpet": [
           {
            "marker": {
             "colorbar": {
              "outlinewidth": 0,
              "ticks": ""
             }
            },
            "type": "scattercarpet"
           }
          ],
          "scattergeo": [
           {
            "marker": {
             "colorbar": {
              "outlinewidth": 0,
              "ticks": ""
             }
            },
            "type": "scattergeo"
           }
          ],
          "scattergl": [
           {
            "marker": {
             "colorbar": {
              "outlinewidth": 0,
              "ticks": ""
             }
            },
            "type": "scattergl"
           }
          ],
          "scattermapbox": [
           {
            "marker": {
             "colorbar": {
              "outlinewidth": 0,
              "ticks": ""
             }
            },
            "type": "scattermapbox"
           }
          ],
          "scatterpolar": [
           {
            "marker": {
             "colorbar": {
              "outlinewidth": 0,
              "ticks": ""
             }
            },
            "type": "scatterpolar"
           }
          ],
          "scatterpolargl": [
           {
            "marker": {
             "colorbar": {
              "outlinewidth": 0,
              "ticks": ""
             }
            },
            "type": "scatterpolargl"
           }
          ],
          "scatterternary": [
           {
            "marker": {
             "colorbar": {
              "outlinewidth": 0,
              "ticks": ""
             }
            },
            "type": "scatterternary"
           }
          ],
          "surface": [
           {
            "colorbar": {
             "outlinewidth": 0,
             "ticks": ""
            },
            "colorscale": [
             [
              0,
              "#0d0887"
             ],
             [
              0.1111111111111111,
              "#46039f"
             ],
             [
              0.2222222222222222,
              "#7201a8"
             ],
             [
              0.3333333333333333,
              "#9c179e"
             ],
             [
              0.4444444444444444,
              "#bd3786"
             ],
             [
              0.5555555555555556,
              "#d8576b"
             ],
             [
              0.6666666666666666,
              "#ed7953"
             ],
             [
              0.7777777777777778,
              "#fb9f3a"
             ],
             [
              0.8888888888888888,
              "#fdca26"
             ],
             [
              1,
              "#f0f921"
             ]
            ],
            "type": "surface"
           }
          ],
          "table": [
           {
            "cells": {
             "fill": {
              "color": "#EBF0F8"
             },
             "line": {
              "color": "white"
             }
            },
            "header": {
             "fill": {
              "color": "#C8D4E3"
             },
             "line": {
              "color": "white"
             }
            },
            "type": "table"
           }
          ]
         },
         "layout": {
          "annotationdefaults": {
           "arrowcolor": "#2a3f5f",
           "arrowhead": 0,
           "arrowwidth": 1
          },
          "autotypenumbers": "strict",
          "coloraxis": {
           "colorbar": {
            "outlinewidth": 0,
            "ticks": ""
           }
          },
          "colorscale": {
           "diverging": [
            [
             0,
             "#8e0152"
            ],
            [
             0.1,
             "#c51b7d"
            ],
            [
             0.2,
             "#de77ae"
            ],
            [
             0.3,
             "#f1b6da"
            ],
            [
             0.4,
             "#fde0ef"
            ],
            [
             0.5,
             "#f7f7f7"
            ],
            [
             0.6,
             "#e6f5d0"
            ],
            [
             0.7,
             "#b8e186"
            ],
            [
             0.8,
             "#7fbc41"
            ],
            [
             0.9,
             "#4d9221"
            ],
            [
             1,
             "#276419"
            ]
           ],
           "sequential": [
            [
             0,
             "#0d0887"
            ],
            [
             0.1111111111111111,
             "#46039f"
            ],
            [
             0.2222222222222222,
             "#7201a8"
            ],
            [
             0.3333333333333333,
             "#9c179e"
            ],
            [
             0.4444444444444444,
             "#bd3786"
            ],
            [
             0.5555555555555556,
             "#d8576b"
            ],
            [
             0.6666666666666666,
             "#ed7953"
            ],
            [
             0.7777777777777778,
             "#fb9f3a"
            ],
            [
             0.8888888888888888,
             "#fdca26"
            ],
            [
             1,
             "#f0f921"
            ]
           ],
           "sequentialminus": [
            [
             0,
             "#0d0887"
            ],
            [
             0.1111111111111111,
             "#46039f"
            ],
            [
             0.2222222222222222,
             "#7201a8"
            ],
            [
             0.3333333333333333,
             "#9c179e"
            ],
            [
             0.4444444444444444,
             "#bd3786"
            ],
            [
             0.5555555555555556,
             "#d8576b"
            ],
            [
             0.6666666666666666,
             "#ed7953"
            ],
            [
             0.7777777777777778,
             "#fb9f3a"
            ],
            [
             0.8888888888888888,
             "#fdca26"
            ],
            [
             1,
             "#f0f921"
            ]
           ]
          },
          "colorway": [
           "#636efa",
           "#EF553B",
           "#00cc96",
           "#ab63fa",
           "#FFA15A",
           "#19d3f3",
           "#FF6692",
           "#B6E880",
           "#FF97FF",
           "#FECB52"
          ],
          "font": {
           "color": "#2a3f5f"
          },
          "geo": {
           "bgcolor": "white",
           "lakecolor": "white",
           "landcolor": "#E5ECF6",
           "showlakes": true,
           "showland": true,
           "subunitcolor": "white"
          },
          "hoverlabel": {
           "align": "left"
          },
          "hovermode": "closest",
          "mapbox": {
           "style": "light"
          },
          "paper_bgcolor": "white",
          "plot_bgcolor": "#E5ECF6",
          "polar": {
           "angularaxis": {
            "gridcolor": "white",
            "linecolor": "white",
            "ticks": ""
           },
           "bgcolor": "#E5ECF6",
           "radialaxis": {
            "gridcolor": "white",
            "linecolor": "white",
            "ticks": ""
           }
          },
          "scene": {
           "xaxis": {
            "backgroundcolor": "#E5ECF6",
            "gridcolor": "white",
            "gridwidth": 2,
            "linecolor": "white",
            "showbackground": true,
            "ticks": "",
            "zerolinecolor": "white"
           },
           "yaxis": {
            "backgroundcolor": "#E5ECF6",
            "gridcolor": "white",
            "gridwidth": 2,
            "linecolor": "white",
            "showbackground": true,
            "ticks": "",
            "zerolinecolor": "white"
           },
           "zaxis": {
            "backgroundcolor": "#E5ECF6",
            "gridcolor": "white",
            "gridwidth": 2,
            "linecolor": "white",
            "showbackground": true,
            "ticks": "",
            "zerolinecolor": "white"
           }
          },
          "shapedefaults": {
           "line": {
            "color": "#2a3f5f"
           }
          },
          "ternary": {
           "aaxis": {
            "gridcolor": "white",
            "linecolor": "white",
            "ticks": ""
           },
           "baxis": {
            "gridcolor": "white",
            "linecolor": "white",
            "ticks": ""
           },
           "bgcolor": "#E5ECF6",
           "caxis": {
            "gridcolor": "white",
            "linecolor": "white",
            "ticks": ""
           }
          },
          "title": {
           "x": 0.05
          },
          "xaxis": {
           "automargin": true,
           "gridcolor": "white",
           "linecolor": "white",
           "ticks": "",
           "title": {
            "standoff": 15
           },
           "zerolinecolor": "white",
           "zerolinewidth": 2
          },
          "yaxis": {
           "automargin": true,
           "gridcolor": "white",
           "linecolor": "white",
           "ticks": "",
           "title": {
            "standoff": 15
           },
           "zerolinecolor": "white",
           "zerolinewidth": 2
          }
         }
        },
        "width": 1600,
        "xaxis": {
         "mirror": true,
         "showline": true
        },
        "yaxis": {
         "mirror": true,
         "showline": true
        }
       }
      }
     },
     "metadata": {},
     "output_type": "display_data"
    }
   ],
   "source": [
    "# Ground truth\n",
    "multiviz_trajs(x_trajs, y_trajs, z_trajs, nrows=1, ncols=1, num_agents=num_agent, height=400, width=1_600)"
   ]
  },
  {
   "cell_type": "code",
   "execution_count": 45,
   "metadata": {},
   "outputs": [
    {
     "data": {
      "application/vnd.plotly.v1+json": {
       "config": {
        "plotlyServerURL": "https://plot.ly"
       },
       "data": [
        {
         "mode": "lines",
         "scene": "scene",
         "showlegend": false,
         "type": "scatter3d",
         "x": [
          1.8143706321716309,
          1.8135099411010742,
          1.8081222772598267,
          1.7952234745025635,
          1.7731354236602783,
          1.741141438484192,
          1.6992075443267822,
          1.6477643251419067,
          1.5875352621078491,
          1.5194071531295776,
          1.4443339109420776,
          1.3632694482803345,
          1.2771201133728027,
          1.1867185831069946,
          1.0928075313568115,
          0.9960362911224365,
          0.8969612717628479,
          0.7960548996925354,
          0.6937139630317688,
          0.5902711749076843,
          0.486006498336792,
          0.38115769624710083,
          0.27593010663986206,
          0.1705055832862854,
          0.06504961103200912,
          -0.04028217867016792,
          -0.14533793926239014,
          -0.24996426701545715,
          -0.354000449180603,
          -0.45727258920669556,
          -0.5595864653587341,
          -0.66072016954422,
          -0.7604146003723145,
          -0.8583642840385437,
          -0.9542068243026733,
          -1.0475127696990967,
          -1.1377763748168945,
          -1.2244096994400024,
          -1.306739330291748,
          -1.3840115070343018,
          -1.45540452003479,
          -1.5200557708740234,
          -1.5771024227142334,
          -1.625745415687561,
          -1.665338397026062,
          -1.6955081224441528,
          -1.7163137197494507,
          -1.7284526824951172,
          -1.733519196510315,
          -1.7343281507492065
         ],
         "y": [
          -1.6006957292556763,
          -1.600690245628357,
          -1.6006455421447754,
          -1.600508213043213,
          -1.6002204418182373,
          -1.5997236967086792,
          -1.5989654064178467,
          -1.5978983640670776,
          -1.5964826345443726,
          -1.5946850776672363,
          -1.5924781560897827,
          -1.589840292930603,
          -1.5867542028427124,
          -1.5832072496414185,
          -1.5791915655136108,
          -1.574703335762024,
          -1.569745421409607,
          -1.5643253326416016,
          -1.5584571361541748,
          -1.5521636009216309,
          -1.5454742908477783,
          -1.5384269952774048,
          -1.5310686826705933,
          -1.5234544277191162,
          -1.5156461000442505,
          -1.5077128410339355,
          -1.4997282028198242,
          -1.4917700290679932,
          -1.4839164018630981,
          -1.4762449264526367,
          -1.4688301086425781,
          -1.4617403745651245,
          -1.4550361633300781,
          -1.4487683773040771,
          -1.442976474761963,
          -1.4376877546310425,
          -1.4329161643981934,
          -1.428664207458496,
          -1.4249224662780762,
          -1.4216722249984741,
          -1.4188874959945679,
          -1.4165377616882324,
          -1.4145904779434204,
          -1.4130147695541382,
          -1.4117813110351562,
          -1.410864233970642,
          -1.410237193107605,
          -1.4098691940307617,
          -1.409712553024292,
          -1.4096869230270386
         ],
         "z": [
          1.2774430513381958,
          1.2773101329803467,
          1.2764697074890137,
          1.2744354009628296,
          1.270914912223816,
          1.265760898590088,
          1.2589360475540161,
          1.2504777908325195,
          1.2404756546020508,
          1.2290494441986084,
          1.216334581375122,
          1.2024695873260498,
          1.187589406967163,
          1.1718188524246216,
          1.155271053314209,
          1.1380447149276733,
          1.1202253103256226,
          1.10188627243042,
          1.0830901861190796,
          1.0638914108276367,
          1.0443379878997803,
          1.024474024772644,
          1.0043421983718872,
          0.9839842319488525,
          0.9634438753128052,
          0.942766547203064,
          0.9220016002655029,
          0.9012017846107483,
          0.8804240226745605,
          0.8597301840782166,
          0.8391865491867065,
          0.8188649415969849,
          0.7988426685333252,
          0.7792038321495056,
          0.7600393891334534,
          0.7414488196372986,
          0.7235406637191772,
          0.7064334154129028,
          0.6902561187744141,
          0.6751474142074585,
          0.6612539887428284,
          0.6487267017364502,
          0.637714147567749,
          0.6283520460128784,
          0.6207482814788818,
          0.6149616837501526,
          0.6109724640846252,
          0.6086437106132507,
          0.6076703071594238,
          0.6075145602226257
         ]
        },
        {
         "mode": "lines",
         "scene": "scene",
         "showlegend": false,
         "type": "scatter3d",
         "x": [
          1.8809744119644165,
          1.8802458047866821,
          1.8756643533706665,
          1.8646360635757446,
          1.8456339836120605,
          1.8179177045822144,
          1.7813122272491455,
          1.7360292673110962,
          1.6825312376022339,
          1.62142813205719,
          1.5534015893936157,
          1.4791518449783325,
          1.3993613719940186,
          1.3146746158599854,
          1.2256850004196167,
          1.1329337358474731,
          1.0369094610214233,
          0.9380550980567932,
          0.8367732167243958,
          0.733434796333313,
          0.6283854246139526,
          0.5219525098800659,
          0.4144500195980072,
          0.3061832785606384,
          0.19745150208473206,
          0.08855040371417999,
          -0.020226305350661278,
          -0.12858504056930542,
          -0.23623080551624298,
          -0.3428642749786377,
          -0.44817835092544556,
          -0.5518537163734436,
          -0.6535524129867554,
          -0.7529105544090271,
          -0.849530816078186,
          -0.9429730772972107,
          -1.0327470302581787,
          -1.1183063983917236,
          -1.1990457773208618,
          -1.2743035554885864,
          -1.3433730602264404,
          -1.405523657798767,
          -1.4600379467010498,
          -1.5062658786773682,
          -1.543703556060791,
          -1.572101354598999,
          -1.5916056632995605,
          -1.60294508934021,
          -1.6076635122299194,
          -1.608415126800537
         ],
         "y": [
          -1.1152870655059814,
          -1.1147232055664062,
          -1.1111927032470703,
          -1.1027369499206543,
          -1.0882521867752075,
          -1.0672630071640015,
          -1.0397435426712036,
          -1.0059726238250732,
          -0.9664229154586792,
          -0.9216756820678711,
          -0.8723589777946472,
          -0.8191013336181641,
          -0.7625031471252441,
          -0.7031174898147583,
          -0.6414396166801453,
          -0.5779045820236206,
          -0.5128881335258484,
          -0.4467112421989441,
          -0.37964609265327454,
          -0.31192418932914734,
          -0.24374321103096008,
          -0.17527437210083008,
          -0.10666893422603607,
          -0.03806418925523758,
          0.03041200526058674,
          0.09863656759262085,
          0.16648776829242706,
          0.23384204506874084,
          0.3005707859992981,
          0.36653730273246765,
          0.4315935969352722,
          0.4955766201019287,
          0.5583040118217468,
          0.6195701360702515,
          0.6791409254074097,
          0.7367499470710754,
          0.792094349861145,
          0.8448330163955688,
          0.8945857286453247,
          0.9409374594688416,
          0.9834465384483337,
          1.0216596126556396,
          1.0551354885101318,
          1.0834801197052002,
          1.1063947677612305,
          1.1237419843673706,
          1.13563072681427,
          1.1425265073776245,
          1.1453889608383179,
          1.1458438634872437
         ],
         "z": [
          1.0133886337280273,
          1.0131468772888184,
          1.0116338729858398,
          1.008011817932129,
          1.0018126964569092,
          0.9928414225578308,
          0.9810988306999207,
          0.9667181372642517,
          0.9499170780181885,
          0.9309595227241516,
          0.9101278185844421,
          0.887702465057373,
          0.8639483451843262,
          0.8391067385673523,
          0.81339031457901,
          0.7869821190834045,
          0.7600361704826355,
          0.7326802015304565,
          0.7050182819366455,
          0.6771355867385864,
          0.6491013765335083,
          0.6209729909896851,
          0.5927999019622803,
          0.5646255612373352,
          0.5364909172058105,
          0.5084359049797058,
          0.4805012047290802,
          0.4527303874492645,
          0.4251697063446045,
          0.39787063002586365,
          0.37089014053344727,
          0.3442925810813904,
          0.3181508481502533,
          0.2925484776496887,
          0.26758134365081787,
          0.2433597594499588,
          0.22001038491725922,
          0.1976778358221054,
          0.17652499675750732,
          0.1567327231168747,
          0.13849666714668274,
          0.12202180922031403,
          0.10751266032457352,
          0.09515854716300964,
          0.08511217683553696,
          0.07745993882417679,
          0.07218219339847565,
          0.06910110265016556,
          0.06781377643346786,
          0.06760797649621964
         ]
        },
        {
         "mode": "lines",
         "scene": "scene",
         "showlegend": false,
         "type": "scatter3d",
         "x": [
          0.12186422944068909,
          0.12221445143222809,
          0.12441244721412659,
          0.12969468533992767,
          0.13878463208675385,
          0.15203118324279785,
          0.1695180982351303,
          0.191149041056633,
          0.21671240031719208,
          0.24592916667461395,
          0.2784876227378845,
          0.3140670955181122,
          0.35235312581062317,
          0.3930467963218689,
          0.4358689486980438,
          0.4805610179901123,
          0.5268847346305847,
          0.5746192336082458,
          0.6235584020614624,
          0.6735084652900696,
          0.7242850661277771,
          0.7757115364074707,
          0.8276169300079346,
          0.879835307598114,
          0.9322054386138916,
          0.9845696091651917,
          1.0367741584777832,
          1.0886683464050293,
          1.1401044130325317,
          1.1909351348876953,
          1.2410132884979248,
          1.290188193321228,
          1.3383028507232666,
          1.3851898908615112,
          1.430667519569397,
          1.474535584449768,
          1.5165717601776123,
          1.5565282106399536,
          1.5941312313079834,
          1.6290831565856934,
          1.6610676050186157,
          1.6897605657577515,
          1.7148473262786865,
          1.7360492944717407,
          1.7531588077545166,
          1.7660884857177734,
          1.7749342918395996,
          1.780056118965149,
          1.782178521156311,
          1.782515287399292
         ],
         "y": [
          0.9530433416366577,
          0.9526553750038147,
          0.9502248764038086,
          0.9444000124931335,
          0.934413731098175,
          0.9199285507202148,
          0.9009129405021667,
          0.8775429725646973,
          0.8501265048980713,
          0.8190444111824036,
          0.7847092151641846,
          0.7475338578224182,
          0.7079119086265564,
          0.666205883026123,
          0.6227389574050903,
          0.5777947306632996,
          0.5316170454025269,
          0.4844135344028473,
          0.43635931611061096,
          0.38760194182395935,
          0.33826616406440735,
          0.28845810890197754,
          0.23826953768730164,
          0.18778157234191895,
          0.13706760108470917,
          0.08619628101587296,
          0.03523426502943039,
          -0.015751030296087265,
          -0.06668846309185028,
          -0.11749960482120514,
          -0.16809484362602234,
          -0.2183685600757599,
          -0.2681938707828522,
          -0.3174167573451996,
          -0.36584970355033875,
          -0.4132656157016754,
          -0.45939239859580994,
          -0.5039088129997253,
          -0.5464426279067993,
          -0.5865727066993713,
          -0.6238360404968262,
          -0.657741904258728,
          -0.6877945065498352,
          -0.7135283946990967,
          -0.7345565557479858,
          -0.7506378889083862,
          -0.7617647051811218,
          -0.7682760953903198,
          -0.7710011005401611,
          -0.7714371681213379
         ],
         "z": [
          0.7238953709602356,
          0.7238146662712097,
          0.723307728767395,
          0.7220908999443054,
          0.7200016379356384,
          0.7169676423072815,
          0.7129811644554138,
          0.708078145980835,
          0.7023221850395203,
          0.6957919001579285,
          0.6885716319084167,
          0.6807445287704468,
          0.6723882555961609,
          0.6635723114013672,
          0.6543563604354858,
          0.6447899341583252,
          0.6349132061004639,
          0.6247575879096985,
          0.6143468618392944,
          0.6036987900733948,
          0.5928263068199158,
          0.5817385911941528,
          0.5704429149627686,
          0.5589449405670166,
          0.5472500324249268,
          0.5353639721870422,
          0.5232937335968018,
          0.5110483169555664,
          0.4986391067504883,
          0.4860815703868866,
          0.47339561581611633,
          0.4606075584888458,
          0.4477512836456299,
          0.43487000465393066,
          0.4220185875892639,
          0.4092651605606079,
          0.39669308066368103,
          0.38440272212028503,
          0.37251198291778564,
          0.36115673184394836,
          0.350488543510437,
          0.3406713306903839,
          0.3318743407726288,
          0.324261873960495,
          0.3179779052734375,
          0.31312495470046997,
          0.3097352981567383,
          0.3077336549758911,
          0.3068886995315552,
          0.3067525029182434
         ]
        },
        {
         "mode": "lines",
         "scene": "scene",
         "showlegend": false,
         "type": "scatter3d",
         "x": [
          -1.927324891090393,
          -1.9269134998321533,
          -1.9243208169937134,
          -1.9180612564086914,
          -1.9072400331497192,
          -1.8914000988006592,
          -1.8703978061676025,
          -1.8443063497543335,
          -1.8133410215377808,
          -1.7778018712997437,
          -1.7380317449569702,
          -1.6943892240524292,
          -1.6472275257110596,
          -1.596885323524475,
          -1.5436793565750122,
          -1.4879058599472046,
          -1.429840087890625,
          -1.3697408437728882,
          -1.3078553676605225,
          -1.244423270225525,
          -1.179680347442627,
          -1.113863468170166,
          -1.0472116470336914,
          -0.9799685478210449,
          -0.9123828411102295,
          -0.8447080254554749,
          -0.7772015333175659,
          -0.7101234793663025,
          -0.6437353491783142,
          -0.5782985687255859,
          -0.5140735507011414,
          -0.45131897926330566,
          -0.39029237627983093,
          -0.3312509059906006,
          -0.274452805519104,
          -0.2201596051454544,
          -0.1686384677886963,
          -0.12016402184963226,
          -0.07501907646656036,
          -0.03349371254444122,
          0.004119144752621651,
          0.03753262013196945,
          0.0664811059832573,
          0.09074399620294571,
          0.11018011718988419,
          0.12477584928274155,
          0.13470995426177979,
          0.14043883979320526,
          0.14280608296394348,
          0.14318108558654785
         ],
         "y": [
          1.1112456321716309,
          1.1108955144882202,
          1.1086927652359009,
          1.103386402130127,
          1.0942342281341553,
          1.080867886543274,
          1.0631874799728394,
          1.0412747859954834,
          1.0153313875198364,
          0.9856275320053101,
          0.9524691700935364,
          0.9161728024482727,
          0.8770503997802734,
          0.8353996872901917,
          0.7915019392967224,
          0.7456198930740356,
          0.6980015635490417,
          0.6488820314407349,
          0.5984888672828674,
          0.5470456480979919,
          0.49477484822273254,
          0.44190147519111633,
          0.3886541426181793,
          0.3352661430835724,
          0.28197458386421204,
          0.2290196716785431,
          0.1766422688961029,
          0.12508150935173035,
          0.07457184791564941,
          0.02534029260277748,
          -0.022396469488739967,
          -0.06843432784080505,
          -0.11258338391780853,
          -0.15466894209384918,
          -0.19453170895576477,
          -0.23202715814113617,
          -0.2670242488384247,
          -0.29940393567085266,
          -0.3290574252605438,
          -0.3558851480484009,
          -0.37979692220687866,
          -0.4007141888141632,
          -0.4185755252838135,
          -0.4333466589450836,
          -0.44503650069236755,
          -0.45372098684310913,
          -0.459576815366745,
          -0.46292737126350403,
          -0.46430304646492004,
          -0.4645199775695801
         ],
         "z": [
          -0.029351556673645973,
          -0.029278598725795746,
          -0.028818191960453987,
          -0.02770485356450081,
          -0.025776904076337814,
          -0.022949861362576485,
          -0.019195251166820526,
          -0.014523850753903389,
          -0.00897281989455223,
          -0.0025958430487662554,
          0.0045440709218382835,
          0.012379750609397888,
          0.02084338292479515,
          0.029868746176362038,
          0.03939246013760567,
          0.04935454949736595,
          0.05969848856329918,
          0.07037085294723511,
          0.08132096379995346,
          0.09250016510486603,
          0.10386137664318085,
          0.11535844206809998,
          0.12694576382637024,
          0.13857777416706085,
          0.1502089500427246,
          0.1617932766675949,
          0.17328447103500366,
          0.18463584780693054,
          0.19580036401748657,
          0.20673079788684845,
          0.21737979352474213,
          0.22770020365715027,
          0.23764504492282867,
          0.2471679002046585,
          0.2562231719493866,
          0.2647663652896881,
          0.2727545201778412,
          0.280146986246109,
          0.28690576553344727,
          0.29299700260162354,
          0.29839205741882324,
          0.30306926369667053,
          0.30701619386672974,
          0.3102324903011322,
          0.31273317337036133,
          0.3145531713962555,
          0.3157520890235901,
          0.31642070412635803,
          0.31668779253959656,
          0.3167288303375244
         ]
        },
        {
         "marker": {
          "color": "#636EFA",
          "size": 2
         },
         "mode": "markers",
         "scene": "scene",
         "showlegend": false,
         "type": "scatter3d",
         "x": [
          1.8143706321716309,
          1.8809744119644165,
          0.12186422944068909,
          -1.927324891090393
         ],
         "y": [
          -1.6006957292556763,
          -1.1152870655059814,
          0.9530433416366577,
          1.1112456321716309
         ],
         "z": [
          1.2774430513381958,
          1.0133886337280273,
          0.7238953709602356,
          -0.029351556673645973
         ]
        },
        {
         "marker": {
          "color": "#EF553B",
          "size": 2
         },
         "mode": "markers",
         "scene": "scene",
         "showlegend": false,
         "type": "scatter3d",
         "x": [
          -1.7343281507492065,
          -1.608415126800537,
          1.782515287399292,
          0.14318108558654785
         ],
         "y": [
          -1.4096869230270386,
          1.1458438634872437,
          -0.7714371681213379,
          -0.4645199775695801
         ],
         "z": [
          0.6075145602226257,
          0.06760797649621964,
          0.3067525029182434,
          0.3167288303375244
         ]
        },
        {
         "mode": "lines",
         "scene": "scene2",
         "showlegend": false,
         "type": "scatter3d",
         "x": [
          1.8143706321716309,
          1.8135099411010742,
          1.8081222772598267,
          1.7952234745025635,
          1.7731354236602783,
          1.741141438484192,
          1.6992075443267822,
          1.6477643251419067,
          1.5875352621078491,
          1.5194071531295776,
          1.4443339109420776,
          1.3632694482803345,
          1.2771201133728027,
          1.1867185831069946,
          1.0928075313568115,
          0.9960362911224365,
          0.8969612717628479,
          0.7960548996925354,
          0.6937139630317688,
          0.5902711749076843,
          0.486006498336792,
          0.38115769624710083,
          0.27593010663986206,
          0.1705055832862854,
          0.06504961103200912,
          -0.04028217867016792,
          -0.14533793926239014,
          -0.24996426701545715,
          -0.354000449180603,
          -0.45727258920669556,
          -0.5595864653587341,
          -0.66072016954422,
          -0.7604146003723145,
          -0.8583642840385437,
          -0.9542068243026733,
          -1.0475127696990967,
          -1.1377763748168945,
          -1.2244096994400024,
          -1.306739330291748,
          -1.3840115070343018,
          -1.45540452003479,
          -1.5200557708740234,
          -1.5771024227142334,
          -1.625745415687561,
          -1.665338397026062,
          -1.6955081224441528,
          -1.7163137197494507,
          -1.7284526824951172,
          -1.733519196510315,
          -1.7343281507492065
         ],
         "y": [
          -1.6006957292556763,
          -1.600690245628357,
          -1.6006455421447754,
          -1.600508213043213,
          -1.6002204418182373,
          -1.5997236967086792,
          -1.5989654064178467,
          -1.5978983640670776,
          -1.5964826345443726,
          -1.5946850776672363,
          -1.5924781560897827,
          -1.589840292930603,
          -1.5867542028427124,
          -1.5832072496414185,
          -1.5791915655136108,
          -1.574703335762024,
          -1.569745421409607,
          -1.5643253326416016,
          -1.5584571361541748,
          -1.5521636009216309,
          -1.5454742908477783,
          -1.5384269952774048,
          -1.5310686826705933,
          -1.5234544277191162,
          -1.5156461000442505,
          -1.5077128410339355,
          -1.4997282028198242,
          -1.4917700290679932,
          -1.4839164018630981,
          -1.4762449264526367,
          -1.4688301086425781,
          -1.4617403745651245,
          -1.4550361633300781,
          -1.4487683773040771,
          -1.442976474761963,
          -1.4376877546310425,
          -1.4329161643981934,
          -1.428664207458496,
          -1.4249224662780762,
          -1.4216722249984741,
          -1.4188874959945679,
          -1.4165377616882324,
          -1.4145904779434204,
          -1.4130147695541382,
          -1.4117813110351562,
          -1.410864233970642,
          -1.410237193107605,
          -1.4098691940307617,
          -1.409712553024292,
          -1.4096869230270386
         ],
         "z": [
          1.2774430513381958,
          1.2773101329803467,
          1.2764697074890137,
          1.2744354009628296,
          1.270914912223816,
          1.265760898590088,
          1.2589360475540161,
          1.2504777908325195,
          1.2404756546020508,
          1.2290494441986084,
          1.216334581375122,
          1.2024695873260498,
          1.187589406967163,
          1.1718188524246216,
          1.155271053314209,
          1.1380447149276733,
          1.1202253103256226,
          1.10188627243042,
          1.0830901861190796,
          1.0638914108276367,
          1.0443379878997803,
          1.024474024772644,
          1.0043421983718872,
          0.9839842319488525,
          0.9634438753128052,
          0.942766547203064,
          0.9220016002655029,
          0.9012017846107483,
          0.8804240226745605,
          0.8597301840782166,
          0.8391865491867065,
          0.8188649415969849,
          0.7988426685333252,
          0.7792038321495056,
          0.7600393891334534,
          0.7414488196372986,
          0.7235406637191772,
          0.7064334154129028,
          0.6902561187744141,
          0.6751474142074585,
          0.6612539887428284,
          0.6487267017364502,
          0.637714147567749,
          0.6283520460128784,
          0.6207482814788818,
          0.6149616837501526,
          0.6109724640846252,
          0.6086437106132507,
          0.6076703071594238,
          0.6075145602226257
         ]
        },
        {
         "mode": "lines",
         "scene": "scene2",
         "showlegend": false,
         "type": "scatter3d",
         "x": [
          1.8809744119644165,
          1.8802458047866821,
          1.8756643533706665,
          1.8646360635757446,
          1.8456339836120605,
          1.8179177045822144,
          1.7813122272491455,
          1.7360292673110962,
          1.6825312376022339,
          1.62142813205719,
          1.5534015893936157,
          1.4791518449783325,
          1.3993613719940186,
          1.3146746158599854,
          1.2256850004196167,
          1.1329337358474731,
          1.0369094610214233,
          0.9380550980567932,
          0.8367732167243958,
          0.733434796333313,
          0.6283854246139526,
          0.5219525098800659,
          0.4144500195980072,
          0.3061832785606384,
          0.19745150208473206,
          0.08855040371417999,
          -0.020226305350661278,
          -0.12858504056930542,
          -0.23623080551624298,
          -0.3428642749786377,
          -0.44817835092544556,
          -0.5518537163734436,
          -0.6535524129867554,
          -0.7529105544090271,
          -0.849530816078186,
          -0.9429730772972107,
          -1.0327470302581787,
          -1.1183063983917236,
          -1.1990457773208618,
          -1.2743035554885864,
          -1.3433730602264404,
          -1.405523657798767,
          -1.4600379467010498,
          -1.5062658786773682,
          -1.543703556060791,
          -1.572101354598999,
          -1.5916056632995605,
          -1.60294508934021,
          -1.6076635122299194,
          -1.608415126800537
         ],
         "y": [
          -1.1152870655059814,
          -1.1147232055664062,
          -1.1111927032470703,
          -1.1027369499206543,
          -1.0882521867752075,
          -1.0672630071640015,
          -1.0397435426712036,
          -1.0059726238250732,
          -0.9664229154586792,
          -0.9216756820678711,
          -0.8723589777946472,
          -0.8191013336181641,
          -0.7625031471252441,
          -0.7031174898147583,
          -0.6414396166801453,
          -0.5779045820236206,
          -0.5128881335258484,
          -0.4467112421989441,
          -0.37964609265327454,
          -0.31192418932914734,
          -0.24374321103096008,
          -0.17527437210083008,
          -0.10666893422603607,
          -0.03806418925523758,
          0.03041200526058674,
          0.09863656759262085,
          0.16648776829242706,
          0.23384204506874084,
          0.3005707859992981,
          0.36653730273246765,
          0.4315935969352722,
          0.4955766201019287,
          0.5583040118217468,
          0.6195701360702515,
          0.6791409254074097,
          0.7367499470710754,
          0.792094349861145,
          0.8448330163955688,
          0.8945857286453247,
          0.9409374594688416,
          0.9834465384483337,
          1.0216596126556396,
          1.0551354885101318,
          1.0834801197052002,
          1.1063947677612305,
          1.1237419843673706,
          1.13563072681427,
          1.1425265073776245,
          1.1453889608383179,
          1.1458438634872437
         ],
         "z": [
          1.0133886337280273,
          1.0131468772888184,
          1.0116338729858398,
          1.008011817932129,
          1.0018126964569092,
          0.9928414225578308,
          0.9810988306999207,
          0.9667181372642517,
          0.9499170780181885,
          0.9309595227241516,
          0.9101278185844421,
          0.887702465057373,
          0.8639483451843262,
          0.8391067385673523,
          0.81339031457901,
          0.7869821190834045,
          0.7600361704826355,
          0.7326802015304565,
          0.7050182819366455,
          0.6771355867385864,
          0.6491013765335083,
          0.6209729909896851,
          0.5927999019622803,
          0.5646255612373352,
          0.5364909172058105,
          0.5084359049797058,
          0.4805012047290802,
          0.4527303874492645,
          0.4251697063446045,
          0.39787063002586365,
          0.37089014053344727,
          0.3442925810813904,
          0.3181508481502533,
          0.2925484776496887,
          0.26758134365081787,
          0.2433597594499588,
          0.22001038491725922,
          0.1976778358221054,
          0.17652499675750732,
          0.1567327231168747,
          0.13849666714668274,
          0.12202180922031403,
          0.10751266032457352,
          0.09515854716300964,
          0.08511217683553696,
          0.07745993882417679,
          0.07218219339847565,
          0.06910110265016556,
          0.06781377643346786,
          0.06760797649621964
         ]
        },
        {
         "mode": "lines",
         "scene": "scene2",
         "showlegend": false,
         "type": "scatter3d",
         "x": [
          0.12186422944068909,
          0.12221445143222809,
          0.12441244721412659,
          0.12969468533992767,
          0.13878463208675385,
          0.15203118324279785,
          0.1695180982351303,
          0.191149041056633,
          0.21671240031719208,
          0.24592916667461395,
          0.2784876227378845,
          0.3140670955181122,
          0.35235312581062317,
          0.3930467963218689,
          0.4358689486980438,
          0.4805610179901123,
          0.5268847346305847,
          0.5746192336082458,
          0.6235584020614624,
          0.6735084652900696,
          0.7242850661277771,
          0.7757115364074707,
          0.8276169300079346,
          0.879835307598114,
          0.9322054386138916,
          0.9845696091651917,
          1.0367741584777832,
          1.0886683464050293,
          1.1401044130325317,
          1.1909351348876953,
          1.2410132884979248,
          1.290188193321228,
          1.3383028507232666,
          1.3851898908615112,
          1.430667519569397,
          1.474535584449768,
          1.5165717601776123,
          1.5565282106399536,
          1.5941312313079834,
          1.6290831565856934,
          1.6610676050186157,
          1.6897605657577515,
          1.7148473262786865,
          1.7360492944717407,
          1.7531588077545166,
          1.7660884857177734,
          1.7749342918395996,
          1.780056118965149,
          1.782178521156311,
          1.782515287399292
         ],
         "y": [
          0.9530433416366577,
          0.9526553750038147,
          0.9502248764038086,
          0.9444000124931335,
          0.934413731098175,
          0.9199285507202148,
          0.9009129405021667,
          0.8775429725646973,
          0.8501265048980713,
          0.8190444111824036,
          0.7847092151641846,
          0.7475338578224182,
          0.7079119086265564,
          0.666205883026123,
          0.6227389574050903,
          0.5777947306632996,
          0.5316170454025269,
          0.4844135344028473,
          0.43635931611061096,
          0.38760194182395935,
          0.33826616406440735,
          0.28845810890197754,
          0.23826953768730164,
          0.18778157234191895,
          0.13706760108470917,
          0.08619628101587296,
          0.03523426502943039,
          -0.015751030296087265,
          -0.06668846309185028,
          -0.11749960482120514,
          -0.16809484362602234,
          -0.2183685600757599,
          -0.2681938707828522,
          -0.3174167573451996,
          -0.36584970355033875,
          -0.4132656157016754,
          -0.45939239859580994,
          -0.5039088129997253,
          -0.5464426279067993,
          -0.5865727066993713,
          -0.6238360404968262,
          -0.657741904258728,
          -0.6877945065498352,
          -0.7135283946990967,
          -0.7345565557479858,
          -0.7506378889083862,
          -0.7617647051811218,
          -0.7682760953903198,
          -0.7710011005401611,
          -0.7714371681213379
         ],
         "z": [
          0.7238953709602356,
          0.7238146662712097,
          0.723307728767395,
          0.7220908999443054,
          0.7200016379356384,
          0.7169676423072815,
          0.7129811644554138,
          0.708078145980835,
          0.7023221850395203,
          0.6957919001579285,
          0.6885716319084167,
          0.6807445287704468,
          0.6723882555961609,
          0.6635723114013672,
          0.6543563604354858,
          0.6447899341583252,
          0.6349132061004639,
          0.6247575879096985,
          0.6143468618392944,
          0.6036987900733948,
          0.5928263068199158,
          0.5817385911941528,
          0.5704429149627686,
          0.5589449405670166,
          0.5472500324249268,
          0.5353639721870422,
          0.5232937335968018,
          0.5110483169555664,
          0.4986391067504883,
          0.4860815703868866,
          0.47339561581611633,
          0.4606075584888458,
          0.4477512836456299,
          0.43487000465393066,
          0.4220185875892639,
          0.4092651605606079,
          0.39669308066368103,
          0.38440272212028503,
          0.37251198291778564,
          0.36115673184394836,
          0.350488543510437,
          0.3406713306903839,
          0.3318743407726288,
          0.324261873960495,
          0.3179779052734375,
          0.31312495470046997,
          0.3097352981567383,
          0.3077336549758911,
          0.3068886995315552,
          0.3067525029182434
         ]
        },
        {
         "mode": "lines",
         "scene": "scene2",
         "showlegend": false,
         "type": "scatter3d",
         "x": [
          -1.927324891090393,
          -1.9269134998321533,
          -1.9243208169937134,
          -1.9180612564086914,
          -1.9072400331497192,
          -1.8914000988006592,
          -1.8703978061676025,
          -1.8443063497543335,
          -1.8133410215377808,
          -1.7778018712997437,
          -1.7380317449569702,
          -1.6943892240524292,
          -1.6472275257110596,
          -1.596885323524475,
          -1.5436793565750122,
          -1.4879058599472046,
          -1.429840087890625,
          -1.3697408437728882,
          -1.3078553676605225,
          -1.244423270225525,
          -1.179680347442627,
          -1.113863468170166,
          -1.0472116470336914,
          -0.9799685478210449,
          -0.9123828411102295,
          -0.8447080254554749,
          -0.7772015333175659,
          -0.7101234793663025,
          -0.6437353491783142,
          -0.5782985687255859,
          -0.5140735507011414,
          -0.45131897926330566,
          -0.39029237627983093,
          -0.3312509059906006,
          -0.274452805519104,
          -0.2201596051454544,
          -0.1686384677886963,
          -0.12016402184963226,
          -0.07501907646656036,
          -0.03349371254444122,
          0.004119144752621651,
          0.03753262013196945,
          0.0664811059832573,
          0.09074399620294571,
          0.11018011718988419,
          0.12477584928274155,
          0.13470995426177979,
          0.14043883979320526,
          0.14280608296394348,
          0.14318108558654785
         ],
         "y": [
          1.1112456321716309,
          1.1108955144882202,
          1.1086927652359009,
          1.103386402130127,
          1.0942342281341553,
          1.080867886543274,
          1.0631874799728394,
          1.0412747859954834,
          1.0153313875198364,
          0.9856275320053101,
          0.9524691700935364,
          0.9161728024482727,
          0.8770503997802734,
          0.8353996872901917,
          0.7915019392967224,
          0.7456198930740356,
          0.6980015635490417,
          0.6488820314407349,
          0.5984888672828674,
          0.5470456480979919,
          0.49477484822273254,
          0.44190147519111633,
          0.3886541426181793,
          0.3352661430835724,
          0.28197458386421204,
          0.2290196716785431,
          0.1766422688961029,
          0.12508150935173035,
          0.07457184791564941,
          0.02534029260277748,
          -0.022396469488739967,
          -0.06843432784080505,
          -0.11258338391780853,
          -0.15466894209384918,
          -0.19453170895576477,
          -0.23202715814113617,
          -0.2670242488384247,
          -0.29940393567085266,
          -0.3290574252605438,
          -0.3558851480484009,
          -0.37979692220687866,
          -0.4007141888141632,
          -0.4185755252838135,
          -0.4333466589450836,
          -0.44503650069236755,
          -0.45372098684310913,
          -0.459576815366745,
          -0.46292737126350403,
          -0.46430304646492004,
          -0.4645199775695801
         ],
         "z": [
          -0.029351556673645973,
          -0.029278598725795746,
          -0.028818191960453987,
          -0.02770485356450081,
          -0.025776904076337814,
          -0.022949861362576485,
          -0.019195251166820526,
          -0.014523850753903389,
          -0.00897281989455223,
          -0.0025958430487662554,
          0.0045440709218382835,
          0.012379750609397888,
          0.02084338292479515,
          0.029868746176362038,
          0.03939246013760567,
          0.04935454949736595,
          0.05969848856329918,
          0.07037085294723511,
          0.08132096379995346,
          0.09250016510486603,
          0.10386137664318085,
          0.11535844206809998,
          0.12694576382637024,
          0.13857777416706085,
          0.1502089500427246,
          0.1617932766675949,
          0.17328447103500366,
          0.18463584780693054,
          0.19580036401748657,
          0.20673079788684845,
          0.21737979352474213,
          0.22770020365715027,
          0.23764504492282867,
          0.2471679002046585,
          0.2562231719493866,
          0.2647663652896881,
          0.2727545201778412,
          0.280146986246109,
          0.28690576553344727,
          0.29299700260162354,
          0.29839205741882324,
          0.30306926369667053,
          0.30701619386672974,
          0.3102324903011322,
          0.31273317337036133,
          0.3145531713962555,
          0.3157520890235901,
          0.31642070412635803,
          0.31668779253959656,
          0.3167288303375244
         ]
        },
        {
         "marker": {
          "color": "#636EFA",
          "size": 2
         },
         "mode": "markers",
         "scene": "scene2",
         "showlegend": false,
         "type": "scatter3d",
         "x": [
          1.8143706321716309,
          1.8809744119644165,
          0.12186422944068909,
          -1.927324891090393
         ],
         "y": [
          -1.6006957292556763,
          -1.1152870655059814,
          0.9530433416366577,
          1.1112456321716309
         ],
         "z": [
          1.2774430513381958,
          1.0133886337280273,
          0.7238953709602356,
          -0.029351556673645973
         ]
        },
        {
         "marker": {
          "color": "#EF553B",
          "size": 2
         },
         "mode": "markers",
         "scene": "scene2",
         "showlegend": false,
         "type": "scatter3d",
         "x": [
          -1.7343281507492065,
          -1.608415126800537,
          1.782515287399292,
          0.14318108558654785
         ],
         "y": [
          -1.4096869230270386,
          1.1458438634872437,
          -0.7714371681213379,
          -0.4645199775695801
         ],
         "z": [
          0.6075145602226257,
          0.06760797649621964,
          0.3067525029182434,
          0.3167288303375244
         ]
        },
        {
         "mode": "lines",
         "scene": "scene3",
         "showlegend": false,
         "type": "scatter3d",
         "x": [
          1.8143706321716309,
          1.8135099411010742,
          1.8081222772598267,
          1.7952234745025635,
          1.7731354236602783,
          1.741141438484192,
          1.6992075443267822,
          1.6477643251419067,
          1.5875352621078491,
          1.5194071531295776,
          1.4443339109420776,
          1.3632694482803345,
          1.2771201133728027,
          1.1867185831069946,
          1.0928075313568115,
          0.9960362911224365,
          0.8969612717628479,
          0.7960548996925354,
          0.6937139630317688,
          0.5902711749076843,
          0.486006498336792,
          0.38115769624710083,
          0.27593010663986206,
          0.1705055832862854,
          0.06504961103200912,
          -0.04028217867016792,
          -0.14533793926239014,
          -0.24996426701545715,
          -0.354000449180603,
          -0.45727258920669556,
          -0.5595864653587341,
          -0.66072016954422,
          -0.7604146003723145,
          -0.8583642840385437,
          -0.9542068243026733,
          -1.0475127696990967,
          -1.1377763748168945,
          -1.2244096994400024,
          -1.306739330291748,
          -1.3840115070343018,
          -1.45540452003479,
          -1.5200557708740234,
          -1.5771024227142334,
          -1.625745415687561,
          -1.665338397026062,
          -1.6955081224441528,
          -1.7163137197494507,
          -1.7284526824951172,
          -1.733519196510315,
          -1.7343281507492065
         ],
         "y": [
          -1.6006957292556763,
          -1.600690245628357,
          -1.6006455421447754,
          -1.600508213043213,
          -1.6002204418182373,
          -1.5997236967086792,
          -1.5989654064178467,
          -1.5978983640670776,
          -1.5964826345443726,
          -1.5946850776672363,
          -1.5924781560897827,
          -1.589840292930603,
          -1.5867542028427124,
          -1.5832072496414185,
          -1.5791915655136108,
          -1.574703335762024,
          -1.569745421409607,
          -1.5643253326416016,
          -1.5584571361541748,
          -1.5521636009216309,
          -1.5454742908477783,
          -1.5384269952774048,
          -1.5310686826705933,
          -1.5234544277191162,
          -1.5156461000442505,
          -1.5077128410339355,
          -1.4997282028198242,
          -1.4917700290679932,
          -1.4839164018630981,
          -1.4762449264526367,
          -1.4688301086425781,
          -1.4617403745651245,
          -1.4550361633300781,
          -1.4487683773040771,
          -1.442976474761963,
          -1.4376877546310425,
          -1.4329161643981934,
          -1.428664207458496,
          -1.4249224662780762,
          -1.4216722249984741,
          -1.4188874959945679,
          -1.4165377616882324,
          -1.4145904779434204,
          -1.4130147695541382,
          -1.4117813110351562,
          -1.410864233970642,
          -1.410237193107605,
          -1.4098691940307617,
          -1.409712553024292,
          -1.4096869230270386
         ],
         "z": [
          1.2774430513381958,
          1.2773101329803467,
          1.2764697074890137,
          1.2744354009628296,
          1.270914912223816,
          1.265760898590088,
          1.2589360475540161,
          1.2504777908325195,
          1.2404756546020508,
          1.2290494441986084,
          1.216334581375122,
          1.2024695873260498,
          1.187589406967163,
          1.1718188524246216,
          1.155271053314209,
          1.1380447149276733,
          1.1202253103256226,
          1.10188627243042,
          1.0830901861190796,
          1.0638914108276367,
          1.0443379878997803,
          1.024474024772644,
          1.0043421983718872,
          0.9839842319488525,
          0.9634438753128052,
          0.942766547203064,
          0.9220016002655029,
          0.9012017846107483,
          0.8804240226745605,
          0.8597301840782166,
          0.8391865491867065,
          0.8188649415969849,
          0.7988426685333252,
          0.7792038321495056,
          0.7600393891334534,
          0.7414488196372986,
          0.7235406637191772,
          0.7064334154129028,
          0.6902561187744141,
          0.6751474142074585,
          0.6612539887428284,
          0.6487267017364502,
          0.637714147567749,
          0.6283520460128784,
          0.6207482814788818,
          0.6149616837501526,
          0.6109724640846252,
          0.6086437106132507,
          0.6076703071594238,
          0.6075145602226257
         ]
        },
        {
         "mode": "lines",
         "scene": "scene3",
         "showlegend": false,
         "type": "scatter3d",
         "x": [
          1.8809744119644165,
          1.8802458047866821,
          1.8756643533706665,
          1.8646360635757446,
          1.8456339836120605,
          1.8179177045822144,
          1.7813122272491455,
          1.7360292673110962,
          1.6825312376022339,
          1.62142813205719,
          1.5534015893936157,
          1.4791518449783325,
          1.3993613719940186,
          1.3146746158599854,
          1.2256850004196167,
          1.1329337358474731,
          1.0369094610214233,
          0.9380550980567932,
          0.8367732167243958,
          0.733434796333313,
          0.6283854246139526,
          0.5219525098800659,
          0.4144500195980072,
          0.3061832785606384,
          0.19745150208473206,
          0.08855040371417999,
          -0.020226305350661278,
          -0.12858504056930542,
          -0.23623080551624298,
          -0.3428642749786377,
          -0.44817835092544556,
          -0.5518537163734436,
          -0.6535524129867554,
          -0.7529105544090271,
          -0.849530816078186,
          -0.9429730772972107,
          -1.0327470302581787,
          -1.1183063983917236,
          -1.1990457773208618,
          -1.2743035554885864,
          -1.3433730602264404,
          -1.405523657798767,
          -1.4600379467010498,
          -1.5062658786773682,
          -1.543703556060791,
          -1.572101354598999,
          -1.5916056632995605,
          -1.60294508934021,
          -1.6076635122299194,
          -1.608415126800537
         ],
         "y": [
          -1.1152870655059814,
          -1.1147232055664062,
          -1.1111927032470703,
          -1.1027369499206543,
          -1.0882521867752075,
          -1.0672630071640015,
          -1.0397435426712036,
          -1.0059726238250732,
          -0.9664229154586792,
          -0.9216756820678711,
          -0.8723589777946472,
          -0.8191013336181641,
          -0.7625031471252441,
          -0.7031174898147583,
          -0.6414396166801453,
          -0.5779045820236206,
          -0.5128881335258484,
          -0.4467112421989441,
          -0.37964609265327454,
          -0.31192418932914734,
          -0.24374321103096008,
          -0.17527437210083008,
          -0.10666893422603607,
          -0.03806418925523758,
          0.03041200526058674,
          0.09863656759262085,
          0.16648776829242706,
          0.23384204506874084,
          0.3005707859992981,
          0.36653730273246765,
          0.4315935969352722,
          0.4955766201019287,
          0.5583040118217468,
          0.6195701360702515,
          0.6791409254074097,
          0.7367499470710754,
          0.792094349861145,
          0.8448330163955688,
          0.8945857286453247,
          0.9409374594688416,
          0.9834465384483337,
          1.0216596126556396,
          1.0551354885101318,
          1.0834801197052002,
          1.1063947677612305,
          1.1237419843673706,
          1.13563072681427,
          1.1425265073776245,
          1.1453889608383179,
          1.1458438634872437
         ],
         "z": [
          1.0133886337280273,
          1.0131468772888184,
          1.0116338729858398,
          1.008011817932129,
          1.0018126964569092,
          0.9928414225578308,
          0.9810988306999207,
          0.9667181372642517,
          0.9499170780181885,
          0.9309595227241516,
          0.9101278185844421,
          0.887702465057373,
          0.8639483451843262,
          0.8391067385673523,
          0.81339031457901,
          0.7869821190834045,
          0.7600361704826355,
          0.7326802015304565,
          0.7050182819366455,
          0.6771355867385864,
          0.6491013765335083,
          0.6209729909896851,
          0.5927999019622803,
          0.5646255612373352,
          0.5364909172058105,
          0.5084359049797058,
          0.4805012047290802,
          0.4527303874492645,
          0.4251697063446045,
          0.39787063002586365,
          0.37089014053344727,
          0.3442925810813904,
          0.3181508481502533,
          0.2925484776496887,
          0.26758134365081787,
          0.2433597594499588,
          0.22001038491725922,
          0.1976778358221054,
          0.17652499675750732,
          0.1567327231168747,
          0.13849666714668274,
          0.12202180922031403,
          0.10751266032457352,
          0.09515854716300964,
          0.08511217683553696,
          0.07745993882417679,
          0.07218219339847565,
          0.06910110265016556,
          0.06781377643346786,
          0.06760797649621964
         ]
        },
        {
         "mode": "lines",
         "scene": "scene3",
         "showlegend": false,
         "type": "scatter3d",
         "x": [
          0.12186422944068909,
          0.12221445143222809,
          0.12441244721412659,
          0.12969468533992767,
          0.13878463208675385,
          0.15203118324279785,
          0.1695180982351303,
          0.191149041056633,
          0.21671240031719208,
          0.24592916667461395,
          0.2784876227378845,
          0.3140670955181122,
          0.35235312581062317,
          0.3930467963218689,
          0.4358689486980438,
          0.4805610179901123,
          0.5268847346305847,
          0.5746192336082458,
          0.6235584020614624,
          0.6735084652900696,
          0.7242850661277771,
          0.7757115364074707,
          0.8276169300079346,
          0.879835307598114,
          0.9322054386138916,
          0.9845696091651917,
          1.0367741584777832,
          1.0886683464050293,
          1.1401044130325317,
          1.1909351348876953,
          1.2410132884979248,
          1.290188193321228,
          1.3383028507232666,
          1.3851898908615112,
          1.430667519569397,
          1.474535584449768,
          1.5165717601776123,
          1.5565282106399536,
          1.5941312313079834,
          1.6290831565856934,
          1.6610676050186157,
          1.6897605657577515,
          1.7148473262786865,
          1.7360492944717407,
          1.7531588077545166,
          1.7660884857177734,
          1.7749342918395996,
          1.780056118965149,
          1.782178521156311,
          1.782515287399292
         ],
         "y": [
          0.9530433416366577,
          0.9526553750038147,
          0.9502248764038086,
          0.9444000124931335,
          0.934413731098175,
          0.9199285507202148,
          0.9009129405021667,
          0.8775429725646973,
          0.8501265048980713,
          0.8190444111824036,
          0.7847092151641846,
          0.7475338578224182,
          0.7079119086265564,
          0.666205883026123,
          0.6227389574050903,
          0.5777947306632996,
          0.5316170454025269,
          0.4844135344028473,
          0.43635931611061096,
          0.38760194182395935,
          0.33826616406440735,
          0.28845810890197754,
          0.23826953768730164,
          0.18778157234191895,
          0.13706760108470917,
          0.08619628101587296,
          0.03523426502943039,
          -0.015751030296087265,
          -0.06668846309185028,
          -0.11749960482120514,
          -0.16809484362602234,
          -0.2183685600757599,
          -0.2681938707828522,
          -0.3174167573451996,
          -0.36584970355033875,
          -0.4132656157016754,
          -0.45939239859580994,
          -0.5039088129997253,
          -0.5464426279067993,
          -0.5865727066993713,
          -0.6238360404968262,
          -0.657741904258728,
          -0.6877945065498352,
          -0.7135283946990967,
          -0.7345565557479858,
          -0.7506378889083862,
          -0.7617647051811218,
          -0.7682760953903198,
          -0.7710011005401611,
          -0.7714371681213379
         ],
         "z": [
          0.7238953709602356,
          0.7238146662712097,
          0.723307728767395,
          0.7220908999443054,
          0.7200016379356384,
          0.7169676423072815,
          0.7129811644554138,
          0.708078145980835,
          0.7023221850395203,
          0.6957919001579285,
          0.6885716319084167,
          0.6807445287704468,
          0.6723882555961609,
          0.6635723114013672,
          0.6543563604354858,
          0.6447899341583252,
          0.6349132061004639,
          0.6247575879096985,
          0.6143468618392944,
          0.6036987900733948,
          0.5928263068199158,
          0.5817385911941528,
          0.5704429149627686,
          0.5589449405670166,
          0.5472500324249268,
          0.5353639721870422,
          0.5232937335968018,
          0.5110483169555664,
          0.4986391067504883,
          0.4860815703868866,
          0.47339561581611633,
          0.4606075584888458,
          0.4477512836456299,
          0.43487000465393066,
          0.4220185875892639,
          0.4092651605606079,
          0.39669308066368103,
          0.38440272212028503,
          0.37251198291778564,
          0.36115673184394836,
          0.350488543510437,
          0.3406713306903839,
          0.3318743407726288,
          0.324261873960495,
          0.3179779052734375,
          0.31312495470046997,
          0.3097352981567383,
          0.3077336549758911,
          0.3068886995315552,
          0.3067525029182434
         ]
        },
        {
         "mode": "lines",
         "scene": "scene3",
         "showlegend": false,
         "type": "scatter3d",
         "x": [
          -1.927324891090393,
          -1.9269134998321533,
          -1.9243208169937134,
          -1.9180612564086914,
          -1.9072400331497192,
          -1.8914000988006592,
          -1.8703978061676025,
          -1.8443063497543335,
          -1.8133410215377808,
          -1.7778018712997437,
          -1.7380317449569702,
          -1.6943892240524292,
          -1.6472275257110596,
          -1.596885323524475,
          -1.5436793565750122,
          -1.4879058599472046,
          -1.429840087890625,
          -1.3697408437728882,
          -1.3078553676605225,
          -1.244423270225525,
          -1.179680347442627,
          -1.113863468170166,
          -1.0472116470336914,
          -0.9799685478210449,
          -0.9123828411102295,
          -0.8447080254554749,
          -0.7772015333175659,
          -0.7101234793663025,
          -0.6437353491783142,
          -0.5782985687255859,
          -0.5140735507011414,
          -0.45131897926330566,
          -0.39029237627983093,
          -0.3312509059906006,
          -0.274452805519104,
          -0.2201596051454544,
          -0.1686384677886963,
          -0.12016402184963226,
          -0.07501907646656036,
          -0.03349371254444122,
          0.004119144752621651,
          0.03753262013196945,
          0.0664811059832573,
          0.09074399620294571,
          0.11018011718988419,
          0.12477584928274155,
          0.13470995426177979,
          0.14043883979320526,
          0.14280608296394348,
          0.14318108558654785
         ],
         "y": [
          1.1112456321716309,
          1.1108955144882202,
          1.1086927652359009,
          1.103386402130127,
          1.0942342281341553,
          1.080867886543274,
          1.0631874799728394,
          1.0412747859954834,
          1.0153313875198364,
          0.9856275320053101,
          0.9524691700935364,
          0.9161728024482727,
          0.8770503997802734,
          0.8353996872901917,
          0.7915019392967224,
          0.7456198930740356,
          0.6980015635490417,
          0.6488820314407349,
          0.5984888672828674,
          0.5470456480979919,
          0.49477484822273254,
          0.44190147519111633,
          0.3886541426181793,
          0.3352661430835724,
          0.28197458386421204,
          0.2290196716785431,
          0.1766422688961029,
          0.12508150935173035,
          0.07457184791564941,
          0.02534029260277748,
          -0.022396469488739967,
          -0.06843432784080505,
          -0.11258338391780853,
          -0.15466894209384918,
          -0.19453170895576477,
          -0.23202715814113617,
          -0.2670242488384247,
          -0.29940393567085266,
          -0.3290574252605438,
          -0.3558851480484009,
          -0.37979692220687866,
          -0.4007141888141632,
          -0.4185755252838135,
          -0.4333466589450836,
          -0.44503650069236755,
          -0.45372098684310913,
          -0.459576815366745,
          -0.46292737126350403,
          -0.46430304646492004,
          -0.4645199775695801
         ],
         "z": [
          -0.029351556673645973,
          -0.029278598725795746,
          -0.028818191960453987,
          -0.02770485356450081,
          -0.025776904076337814,
          -0.022949861362576485,
          -0.019195251166820526,
          -0.014523850753903389,
          -0.00897281989455223,
          -0.0025958430487662554,
          0.0045440709218382835,
          0.012379750609397888,
          0.02084338292479515,
          0.029868746176362038,
          0.03939246013760567,
          0.04935454949736595,
          0.05969848856329918,
          0.07037085294723511,
          0.08132096379995346,
          0.09250016510486603,
          0.10386137664318085,
          0.11535844206809998,
          0.12694576382637024,
          0.13857777416706085,
          0.1502089500427246,
          0.1617932766675949,
          0.17328447103500366,
          0.18463584780693054,
          0.19580036401748657,
          0.20673079788684845,
          0.21737979352474213,
          0.22770020365715027,
          0.23764504492282867,
          0.2471679002046585,
          0.2562231719493866,
          0.2647663652896881,
          0.2727545201778412,
          0.280146986246109,
          0.28690576553344727,
          0.29299700260162354,
          0.29839205741882324,
          0.30306926369667053,
          0.30701619386672974,
          0.3102324903011322,
          0.31273317337036133,
          0.3145531713962555,
          0.3157520890235901,
          0.31642070412635803,
          0.31668779253959656,
          0.3167288303375244
         ]
        },
        {
         "marker": {
          "color": "#636EFA",
          "size": 2
         },
         "mode": "markers",
         "scene": "scene3",
         "showlegend": false,
         "type": "scatter3d",
         "x": [
          1.8143706321716309,
          1.8809744119644165,
          0.12186422944068909,
          -1.927324891090393
         ],
         "y": [
          -1.6006957292556763,
          -1.1152870655059814,
          0.9530433416366577,
          1.1112456321716309
         ],
         "z": [
          1.2774430513381958,
          1.0133886337280273,
          0.7238953709602356,
          -0.029351556673645973
         ]
        },
        {
         "marker": {
          "color": "#EF553B",
          "size": 2
         },
         "mode": "markers",
         "scene": "scene3",
         "showlegend": false,
         "type": "scatter3d",
         "x": [
          -1.7343281507492065,
          -1.608415126800537,
          1.782515287399292,
          0.14318108558654785
         ],
         "y": [
          -1.4096869230270386,
          1.1458438634872437,
          -0.7714371681213379,
          -0.4645199775695801
         ],
         "z": [
          0.6075145602226257,
          0.06760797649621964,
          0.3067525029182434,
          0.3167288303375244
         ]
        }
       ],
       "layout": {
        "height": 400,
        "margin": {
         "b": 20,
         "l": 20,
         "r": 20,
         "t": 20
        },
        "scene": {
         "aspectratio": {
          "x": 1,
          "y": 1,
          "z": 1
         },
         "domain": {
          "x": [
           0,
           0.3
          ],
          "y": [
           0,
           1
          ]
         },
         "xaxis": {
          "showticklabels": false,
          "title": {
           "text": ""
          }
         },
         "yaxis": {
          "showticklabels": false,
          "title": {
           "text": ""
          }
         },
         "zaxis": {
          "showticklabels": false,
          "title": {
           "text": ""
          }
         }
        },
        "scene2": {
         "aspectratio": {
          "x": 1,
          "y": 1,
          "z": 1
         },
         "domain": {
          "x": [
           0.35,
           0.6499999999999999
          ],
          "y": [
           0,
           1
          ]
         },
         "xaxis": {
          "showticklabels": false,
          "title": {
           "text": ""
          }
         },
         "yaxis": {
          "showticklabels": false,
          "title": {
           "text": ""
          }
         },
         "zaxis": {
          "showticklabels": false,
          "title": {
           "text": ""
          }
         }
        },
        "scene3": {
         "aspectratio": {
          "x": 1,
          "y": 1,
          "z": 1
         },
         "domain": {
          "x": [
           0.7,
           1
          ],
          "y": [
           0,
           1
          ]
         },
         "xaxis": {
          "showticklabels": false,
          "title": {
           "text": ""
          }
         },
         "yaxis": {
          "showticklabels": false,
          "title": {
           "text": ""
          }
         },
         "zaxis": {
          "showticklabels": false,
          "title": {
           "text": ""
          }
         }
        },
        "template": {
         "data": {
          "bar": [
           {
            "error_x": {
             "color": "#2a3f5f"
            },
            "error_y": {
             "color": "#2a3f5f"
            },
            "marker": {
             "line": {
              "color": "#E5ECF6",
              "width": 0.5
             },
             "pattern": {
              "fillmode": "overlay",
              "size": 10,
              "solidity": 0.2
             }
            },
            "type": "bar"
           }
          ],
          "barpolar": [
           {
            "marker": {
             "line": {
              "color": "#E5ECF6",
              "width": 0.5
             },
             "pattern": {
              "fillmode": "overlay",
              "size": 10,
              "solidity": 0.2
             }
            },
            "type": "barpolar"
           }
          ],
          "carpet": [
           {
            "aaxis": {
             "endlinecolor": "#2a3f5f",
             "gridcolor": "white",
             "linecolor": "white",
             "minorgridcolor": "white",
             "startlinecolor": "#2a3f5f"
            },
            "baxis": {
             "endlinecolor": "#2a3f5f",
             "gridcolor": "white",
             "linecolor": "white",
             "minorgridcolor": "white",
             "startlinecolor": "#2a3f5f"
            },
            "type": "carpet"
           }
          ],
          "choropleth": [
           {
            "colorbar": {
             "outlinewidth": 0,
             "ticks": ""
            },
            "type": "choropleth"
           }
          ],
          "contour": [
           {
            "colorbar": {
             "outlinewidth": 0,
             "ticks": ""
            },
            "colorscale": [
             [
              0,
              "#0d0887"
             ],
             [
              0.1111111111111111,
              "#46039f"
             ],
             [
              0.2222222222222222,
              "#7201a8"
             ],
             [
              0.3333333333333333,
              "#9c179e"
             ],
             [
              0.4444444444444444,
              "#bd3786"
             ],
             [
              0.5555555555555556,
              "#d8576b"
             ],
             [
              0.6666666666666666,
              "#ed7953"
             ],
             [
              0.7777777777777778,
              "#fb9f3a"
             ],
             [
              0.8888888888888888,
              "#fdca26"
             ],
             [
              1,
              "#f0f921"
             ]
            ],
            "type": "contour"
           }
          ],
          "contourcarpet": [
           {
            "colorbar": {
             "outlinewidth": 0,
             "ticks": ""
            },
            "type": "contourcarpet"
           }
          ],
          "heatmap": [
           {
            "colorbar": {
             "outlinewidth": 0,
             "ticks": ""
            },
            "colorscale": [
             [
              0,
              "#0d0887"
             ],
             [
              0.1111111111111111,
              "#46039f"
             ],
             [
              0.2222222222222222,
              "#7201a8"
             ],
             [
              0.3333333333333333,
              "#9c179e"
             ],
             [
              0.4444444444444444,
              "#bd3786"
             ],
             [
              0.5555555555555556,
              "#d8576b"
             ],
             [
              0.6666666666666666,
              "#ed7953"
             ],
             [
              0.7777777777777778,
              "#fb9f3a"
             ],
             [
              0.8888888888888888,
              "#fdca26"
             ],
             [
              1,
              "#f0f921"
             ]
            ],
            "type": "heatmap"
           }
          ],
          "heatmapgl": [
           {
            "colorbar": {
             "outlinewidth": 0,
             "ticks": ""
            },
            "colorscale": [
             [
              0,
              "#0d0887"
             ],
             [
              0.1111111111111111,
              "#46039f"
             ],
             [
              0.2222222222222222,
              "#7201a8"
             ],
             [
              0.3333333333333333,
              "#9c179e"
             ],
             [
              0.4444444444444444,
              "#bd3786"
             ],
             [
              0.5555555555555556,
              "#d8576b"
             ],
             [
              0.6666666666666666,
              "#ed7953"
             ],
             [
              0.7777777777777778,
              "#fb9f3a"
             ],
             [
              0.8888888888888888,
              "#fdca26"
             ],
             [
              1,
              "#f0f921"
             ]
            ],
            "type": "heatmapgl"
           }
          ],
          "histogram": [
           {
            "marker": {
             "pattern": {
              "fillmode": "overlay",
              "size": 10,
              "solidity": 0.2
             }
            },
            "type": "histogram"
           }
          ],
          "histogram2d": [
           {
            "colorbar": {
             "outlinewidth": 0,
             "ticks": ""
            },
            "colorscale": [
             [
              0,
              "#0d0887"
             ],
             [
              0.1111111111111111,
              "#46039f"
             ],
             [
              0.2222222222222222,
              "#7201a8"
             ],
             [
              0.3333333333333333,
              "#9c179e"
             ],
             [
              0.4444444444444444,
              "#bd3786"
             ],
             [
              0.5555555555555556,
              "#d8576b"
             ],
             [
              0.6666666666666666,
              "#ed7953"
             ],
             [
              0.7777777777777778,
              "#fb9f3a"
             ],
             [
              0.8888888888888888,
              "#fdca26"
             ],
             [
              1,
              "#f0f921"
             ]
            ],
            "type": "histogram2d"
           }
          ],
          "histogram2dcontour": [
           {
            "colorbar": {
             "outlinewidth": 0,
             "ticks": ""
            },
            "colorscale": [
             [
              0,
              "#0d0887"
             ],
             [
              0.1111111111111111,
              "#46039f"
             ],
             [
              0.2222222222222222,
              "#7201a8"
             ],
             [
              0.3333333333333333,
              "#9c179e"
             ],
             [
              0.4444444444444444,
              "#bd3786"
             ],
             [
              0.5555555555555556,
              "#d8576b"
             ],
             [
              0.6666666666666666,
              "#ed7953"
             ],
             [
              0.7777777777777778,
              "#fb9f3a"
             ],
             [
              0.8888888888888888,
              "#fdca26"
             ],
             [
              1,
              "#f0f921"
             ]
            ],
            "type": "histogram2dcontour"
           }
          ],
          "mesh3d": [
           {
            "colorbar": {
             "outlinewidth": 0,
             "ticks": ""
            },
            "type": "mesh3d"
           }
          ],
          "parcoords": [
           {
            "line": {
             "colorbar": {
              "outlinewidth": 0,
              "ticks": ""
             }
            },
            "type": "parcoords"
           }
          ],
          "pie": [
           {
            "automargin": true,
            "type": "pie"
           }
          ],
          "scatter": [
           {
            "fillpattern": {
             "fillmode": "overlay",
             "size": 10,
             "solidity": 0.2
            },
            "type": "scatter"
           }
          ],
          "scatter3d": [
           {
            "line": {
             "colorbar": {
              "outlinewidth": 0,
              "ticks": ""
             }
            },
            "marker": {
             "colorbar": {
              "outlinewidth": 0,
              "ticks": ""
             }
            },
            "type": "scatter3d"
           }
          ],
          "scattercarpet": [
           {
            "marker": {
             "colorbar": {
              "outlinewidth": 0,
              "ticks": ""
             }
            },
            "type": "scattercarpet"
           }
          ],
          "scattergeo": [
           {
            "marker": {
             "colorbar": {
              "outlinewidth": 0,
              "ticks": ""
             }
            },
            "type": "scattergeo"
           }
          ],
          "scattergl": [
           {
            "marker": {
             "colorbar": {
              "outlinewidth": 0,
              "ticks": ""
             }
            },
            "type": "scattergl"
           }
          ],
          "scattermapbox": [
           {
            "marker": {
             "colorbar": {
              "outlinewidth": 0,
              "ticks": ""
             }
            },
            "type": "scattermapbox"
           }
          ],
          "scatterpolar": [
           {
            "marker": {
             "colorbar": {
              "outlinewidth": 0,
              "ticks": ""
             }
            },
            "type": "scatterpolar"
           }
          ],
          "scatterpolargl": [
           {
            "marker": {
             "colorbar": {
              "outlinewidth": 0,
              "ticks": ""
             }
            },
            "type": "scatterpolargl"
           }
          ],
          "scatterternary": [
           {
            "marker": {
             "colorbar": {
              "outlinewidth": 0,
              "ticks": ""
             }
            },
            "type": "scatterternary"
           }
          ],
          "surface": [
           {
            "colorbar": {
             "outlinewidth": 0,
             "ticks": ""
            },
            "colorscale": [
             [
              0,
              "#0d0887"
             ],
             [
              0.1111111111111111,
              "#46039f"
             ],
             [
              0.2222222222222222,
              "#7201a8"
             ],
             [
              0.3333333333333333,
              "#9c179e"
             ],
             [
              0.4444444444444444,
              "#bd3786"
             ],
             [
              0.5555555555555556,
              "#d8576b"
             ],
             [
              0.6666666666666666,
              "#ed7953"
             ],
             [
              0.7777777777777778,
              "#fb9f3a"
             ],
             [
              0.8888888888888888,
              "#fdca26"
             ],
             [
              1,
              "#f0f921"
             ]
            ],
            "type": "surface"
           }
          ],
          "table": [
           {
            "cells": {
             "fill": {
              "color": "#EBF0F8"
             },
             "line": {
              "color": "white"
             }
            },
            "header": {
             "fill": {
              "color": "#C8D4E3"
             },
             "line": {
              "color": "white"
             }
            },
            "type": "table"
           }
          ]
         },
         "layout": {
          "annotationdefaults": {
           "arrowcolor": "#2a3f5f",
           "arrowhead": 0,
           "arrowwidth": 1
          },
          "autotypenumbers": "strict",
          "coloraxis": {
           "colorbar": {
            "outlinewidth": 0,
            "ticks": ""
           }
          },
          "colorscale": {
           "diverging": [
            [
             0,
             "#8e0152"
            ],
            [
             0.1,
             "#c51b7d"
            ],
            [
             0.2,
             "#de77ae"
            ],
            [
             0.3,
             "#f1b6da"
            ],
            [
             0.4,
             "#fde0ef"
            ],
            [
             0.5,
             "#f7f7f7"
            ],
            [
             0.6,
             "#e6f5d0"
            ],
            [
             0.7,
             "#b8e186"
            ],
            [
             0.8,
             "#7fbc41"
            ],
            [
             0.9,
             "#4d9221"
            ],
            [
             1,
             "#276419"
            ]
           ],
           "sequential": [
            [
             0,
             "#0d0887"
            ],
            [
             0.1111111111111111,
             "#46039f"
            ],
            [
             0.2222222222222222,
             "#7201a8"
            ],
            [
             0.3333333333333333,
             "#9c179e"
            ],
            [
             0.4444444444444444,
             "#bd3786"
            ],
            [
             0.5555555555555556,
             "#d8576b"
            ],
            [
             0.6666666666666666,
             "#ed7953"
            ],
            [
             0.7777777777777778,
             "#fb9f3a"
            ],
            [
             0.8888888888888888,
             "#fdca26"
            ],
            [
             1,
             "#f0f921"
            ]
           ],
           "sequentialminus": [
            [
             0,
             "#0d0887"
            ],
            [
             0.1111111111111111,
             "#46039f"
            ],
            [
             0.2222222222222222,
             "#7201a8"
            ],
            [
             0.3333333333333333,
             "#9c179e"
            ],
            [
             0.4444444444444444,
             "#bd3786"
            ],
            [
             0.5555555555555556,
             "#d8576b"
            ],
            [
             0.6666666666666666,
             "#ed7953"
            ],
            [
             0.7777777777777778,
             "#fb9f3a"
            ],
            [
             0.8888888888888888,
             "#fdca26"
            ],
            [
             1,
             "#f0f921"
            ]
           ]
          },
          "colorway": [
           "#636efa",
           "#EF553B",
           "#00cc96",
           "#ab63fa",
           "#FFA15A",
           "#19d3f3",
           "#FF6692",
           "#B6E880",
           "#FF97FF",
           "#FECB52"
          ],
          "font": {
           "color": "#2a3f5f"
          },
          "geo": {
           "bgcolor": "white",
           "lakecolor": "white",
           "landcolor": "#E5ECF6",
           "showlakes": true,
           "showland": true,
           "subunitcolor": "white"
          },
          "hoverlabel": {
           "align": "left"
          },
          "hovermode": "closest",
          "mapbox": {
           "style": "light"
          },
          "paper_bgcolor": "white",
          "plot_bgcolor": "#E5ECF6",
          "polar": {
           "angularaxis": {
            "gridcolor": "white",
            "linecolor": "white",
            "ticks": ""
           },
           "bgcolor": "#E5ECF6",
           "radialaxis": {
            "gridcolor": "white",
            "linecolor": "white",
            "ticks": ""
           }
          },
          "scene": {
           "xaxis": {
            "backgroundcolor": "#E5ECF6",
            "gridcolor": "white",
            "gridwidth": 2,
            "linecolor": "white",
            "showbackground": true,
            "ticks": "",
            "zerolinecolor": "white"
           },
           "yaxis": {
            "backgroundcolor": "#E5ECF6",
            "gridcolor": "white",
            "gridwidth": 2,
            "linecolor": "white",
            "showbackground": true,
            "ticks": "",
            "zerolinecolor": "white"
           },
           "zaxis": {
            "backgroundcolor": "#E5ECF6",
            "gridcolor": "white",
            "gridwidth": 2,
            "linecolor": "white",
            "showbackground": true,
            "ticks": "",
            "zerolinecolor": "white"
           }
          },
          "shapedefaults": {
           "line": {
            "color": "#2a3f5f"
           }
          },
          "ternary": {
           "aaxis": {
            "gridcolor": "white",
            "linecolor": "white",
            "ticks": ""
           },
           "baxis": {
            "gridcolor": "white",
            "linecolor": "white",
            "ticks": ""
           },
           "bgcolor": "#E5ECF6",
           "caxis": {
            "gridcolor": "white",
            "linecolor": "white",
            "ticks": ""
           }
          },
          "title": {
           "x": 0.05
          },
          "xaxis": {
           "automargin": true,
           "gridcolor": "white",
           "linecolor": "white",
           "ticks": "",
           "title": {
            "standoff": 15
           },
           "zerolinecolor": "white",
           "zerolinewidth": 2
          },
          "yaxis": {
           "automargin": true,
           "gridcolor": "white",
           "linecolor": "white",
           "ticks": "",
           "title": {
            "standoff": 15
           },
           "zerolinecolor": "white",
           "zerolinewidth": 2
          }
         }
        },
        "width": 1600,
        "xaxis": {
         "mirror": true,
         "showline": true
        },
        "yaxis": {
         "mirror": true,
         "showline": true
        }
       }
      }
     },
     "metadata": {},
     "output_type": "display_data"
    }
   ],
   "source": [
    "# Reconstructed \n",
    "multiviz_trajs(rx_trajs[:3], ry_trajs[:3], rz_trajs[:3], nrows=1, ncols=3, num_agents=num_agent, height=400, width=1_600)"
   ]
  },
  {
   "cell_type": "code",
   "execution_count": 46,
   "metadata": {},
   "outputs": [
    {
     "data": {
      "application/vnd.plotly.v1+json": {
       "config": {
        "plotlyServerURL": "https://plot.ly"
       },
       "data": [
        {
         "mode": "lines",
         "scene": "scene",
         "showlegend": false,
         "type": "scatter3d",
         "x": [
          1.8143706321716309,
          1.81314218044281,
          1.8055107593536377,
          1.7874172925949097,
          1.7567895650863647,
          1.7130144834518433,
          1.6565114259719849,
          1.5883890390396118,
          1.5101772546768188,
          1.4236178398132324,
          1.3305082321166992,
          1.2325888872146606,
          1.131463646888733,
          1.0285494327545166,
          0.9250490665435791,
          0.82193922996521,
          0.7199727296829224,
          0.6196897625923157,
          0.521435022354126,
          0.4253794252872467,
          0.33154380321502686,
          0.23982316255569458,
          0.15001171827316284,
          0.06182629242539406,
          -0.025070639327168465,
          -0.11104898154735565,
          -0.1964900940656662,
          -0.2817666232585907,
          -0.36722251772880554,
          -0.4531536102294922,
          -0.5397877097129822,
          -0.6272653937339783,
          -0.7156199216842651,
          -0.8047581315040588,
          -0.8944425582885742,
          -0.9842742681503296,
          -1.0736807584762573,
          -1.16190767288208,
          -1.2480180263519287,
          -1.3309025764465332,
          -1.4093027114868164,
          -1.481852412223816,
          -1.5471413135528564,
          -1.603807806968689,
          -1.650665283203125,
          -1.68687105178833,
          -1.712144374847412,
          -1.7270451784133911,
          -1.7333195209503174,
          -1.7343281507492065
         ],
         "y": [
          -1.6006957292556763,
          -1.600597620010376,
          -1.5999749898910522,
          -1.5984619855880737,
          -1.5958315134048462,
          -1.591963529586792,
          -1.5868184566497803,
          -1.5804133415222168,
          -1.5728046894073486,
          -1.5640734434127808,
          -1.5543142557144165,
          -1.5436275005340576,
          -1.53211510181427,
          -1.5198768377304077,
          -1.5070109367370605,
          -1.493613362312317,
          -1.4797812700271606,
          -1.4656133651733398,
          -1.4512145519256592,
          -1.4366986751556396,
          -1.422188639640808,
          -1.407820701599121,
          -1.3937444686889648,
          -1.3801227807998657,
          -1.367130160331726,
          -1.354951024055481,
          -1.343775749206543,
          -1.3337953090667725,
          -1.3251961469650269,
          -1.318151831626892,
          -1.3128163814544678,
          -1.30931556224823,
          -1.3077369928359985,
          -1.30812406539917,
          -1.310465931892395,
          -1.3146920204162598,
          -1.3206661939620972,
          -1.3281846046447754,
          -1.33697509765625,
          -1.3467012643814087,
          -1.356970191001892,
          -1.3673458099365234,
          -1.3773674964904785,
          -1.3865771293640137,
          -1.3945508003234863,
          -1.4009430408477783,
          -1.4055370092391968,
          -1.4083075523376465,
          -1.4094939231872559,
          -1.4096869230270386
         ],
         "z": [
          1.2774430513381958,
          1.2772374153137207,
          1.2759448289871216,
          1.272837519645691,
          1.267497181892395,
          1.2597370147705078,
          1.249537467956543,
          1.2369962930679321,
          1.222286581993103,
          1.205625295639038,
          1.187248945236206,
          1.1673978567123413,
          1.1463028192520142,
          1.1241780519485474,
          1.101219654083252,
          1.0776017904281616,
          1.0534800291061401,
          1.0289932489395142,
          1.004266619682312,
          0.9794166088104248,
          0.9545527696609497,
          0.9297834038734436,
          0.9052164554595947,
          0.8809627294540405,
          0.8571367859840393,
          0.8338567614555359,
          0.8112444877624512,
          0.7894236445426941,
          0.7685170769691467,
          0.748645007610321,
          0.7299201488494873,
          0.7124455571174622,
          0.6963099241256714,
          0.6815841197967529,
          0.6683182716369629,
          0.6565385460853577,
          0.6462454199790955,
          0.6374123096466064,
          0.6299857497215271,
          0.6238864660263062,
          0.619011402130127,
          0.615237295627594,
          0.6124252676963806,
          0.6104264259338379,
          0.609088122844696,
          0.6082606315612793,
          0.6078036427497864,
          0.6075927019119263,
          0.6075234413146973,
          0.6075145602226257
         ]
        },
        {
         "mode": "lines",
         "scene": "scene",
         "showlegend": false,
         "type": "scatter3d",
         "x": [
          1.8809744119644165,
          1.8801100254058838,
          1.874695897102356,
          1.8617264032363892,
          1.839504599571228,
          1.8072960376739502,
          1.7650545835494995,
          1.7132008075714111,
          1.6524521112442017,
          1.583692193031311,
          1.5078761577606201,
          1.425960898399353,
          1.338860273361206,
          1.247416615486145,
          1.1523857116699219,
          1.0544325113296509,
          0.9541333317756653,
          0.8519827127456665,
          0.7484034895896912,
          0.6437582969665527,
          0.5383603572845459,
          0.4324847459793091,
          0.3263772130012512,
          0.22026322782039642,
          0.11435457319021225,
          0.008854899555444717,
          -0.09603521227836609,
          -0.20011432468891144,
          -0.3031761646270752,
          -0.40500548481941223,
          -0.5053732395172119,
          -0.6040316224098206,
          -0.7007075548171997,
          -0.7950955033302307,
          -0.8868501782417297,
          -0.9755783081054688,
          -1.060831904411316,
          -1.1421031951904297,
          -1.218822717666626,
          -1.290363073348999,
          -1.3560491800308228,
          -1.4151815176010132,
          -1.4670698642730713,
          -1.5110876560211182,
          -1.5467476844787598,
          -1.5738046169281006,
          -1.5923923254013062,
          -1.6032006740570068,
          -1.6076985597610474,
          -1.608415126800537
         ],
         "y": [
          -1.1152870655059814,
          -1.1150493621826172,
          -1.1135247945785522,
          -1.1097620725631714,
          -1.1030954122543335,
          -1.0930688381195068,
          -1.0793812274932861,
          -1.0618432760238647,
          -1.0403457880020142,
          -1.0148379802703857,
          -0.9853107929229736,
          -0.9517894387245178,
          -0.9143255949020386,
          -0.8729955554008484,
          -0.827898383140564,
          -0.779155969619751,
          -0.7269126772880554,
          -0.6713352203369141,
          -0.6126121878623962,
          -0.5509524345397949,
          -0.4865835905075073,
          -0.41974958777427673,
          -0.35070714354515076,
          -0.279723584651947,
          -0.20707310736179352,
          -0.1330343335866928,
          -0.057888213545084,
          0.01808295026421547,
          0.09459560364484787,
          0.1713632494211197,
          0.24809369444847107,
          0.32448437809944153,
          0.40021654963493347,
          0.4749481678009033,
          0.5483062267303467,
          0.6198788285255432,
          0.6892082691192627,
          0.7557858824729919,
          0.8190501928329468,
          0.8783901333808899,
          0.9331554770469666,
          0.9826761484146118,
          1.026294469833374,
          1.0634123086929321,
          1.0935577154159546,
          1.1164745092391968,
          1.1322399377822876,
          1.1414151191711426,
          1.145235300064087,
          1.1458438634872437
         ],
         "z": [
          1.0133886337280273,
          1.0132975578308105,
          1.012711763381958,
          1.0112637281417847,
          1.0086967945098877,
          1.0048375129699707,
          0.9995754361152649,
          0.992845892906189,
          0.9846170544624329,
          0.9748801589012146,
          0.9636420011520386,
          0.9509202241897583,
          0.936739981174469,
          0.9211314916610718,
          0.9041293859481812,
          0.8857720494270325,
          0.8661008477210999,
          0.845160961151123,
          0.823000967502594,
          0.7996726036071777,
          0.775231122970581,
          0.7497344017028809,
          0.7232431173324585,
          0.6958199739456177,
          0.6675297021865845,
          0.638438880443573,
          0.6086159944534302,
          0.5781325101852417,
          0.5470638871192932,
          0.515491247177124,
          0.4835045337677002,
          0.45120537281036377,
          0.4187111556529999,
          0.3861596882343292,
          0.3537139594554901,
          0.32156693935394287,
          0.289946049451828,
          0.2591165602207184,
          0.2293829470872879,
          0.20108801126480103,
          0.1746075302362442,
          0.15034012496471405,
          0.1286899745464325,
          0.11004091054201126,
          0.09471948444843292,
          0.08294461667537689,
          0.07476083934307098,
          0.0699521005153656,
          0.06793218106031418,
          0.06760797649621964
         ]
        },
        {
         "mode": "lines",
         "scene": "scene",
         "showlegend": false,
         "type": "scatter3d",
         "x": [
          0.12186422944068909,
          0.12213481962680817,
          0.12383753806352615,
          0.1279432326555252,
          0.1350356489419937,
          0.1454155594110489,
          0.15918299555778503,
          0.17630061507225037,
          0.1966421902179718,
          0.22002816200256348,
          0.24625158309936523,
          0.27509579062461853,
          0.3063462972640991,
          0.3397979736328125,
          0.37525901198387146,
          0.4125526249408722,
          0.4515175521373749,
          0.4920072853565216,
          0.5338893532752991,
          0.5770442485809326,
          0.6213645339012146,
          0.6667540669441223,
          0.7131268382072449,
          0.7604066133499146,
          0.8085255026817322,
          0.857421875,
          0.907038688659668,
          0.9573201537132263,
          1.008206844329834,
          1.059631586074829,
          1.1115118265151978,
          1.1637423038482666,
          1.2161870002746582,
          1.2686693668365479,
          1.3209632635116577,
          1.3727842569351196,
          1.4237823486328125,
          1.4735361337661743,
          1.5215516090393066,
          1.5672667026519775,
          1.610060453414917,
          1.649274230003357,
          1.6842410564422607,
          1.7143322229385376,
          1.7390189170837402,
          1.7579550743103027,
          1.7710849046707153,
          1.7787784337997437,
          1.7819998264312744,
          1.782515287399292
         ],
         "y": [
          0.9530433416366577,
          0.9527228474617004,
          0.9507083892822266,
          0.945861279964447,
          0.9375138282775879,
          0.9253457188606262,
          0.9092848300933838,
          0.88942950963974,
          0.8659875988960266,
          0.8392301201820374,
          0.8094578981399536,
          0.7769770622253418,
          0.7420825958251953,
          0.7050493359565735,
          0.6661249399185181,
          0.625528872013092,
          0.5834519863128662,
          0.5400582551956177,
          0.4954880177974701,
          0.4498600363731384,
          0.40327516198158264,
          0.35581904649734497,
          0.3075648546218872,
          0.2585762143135071,
          0.2089090794324875,
          0.15861500799655914,
          0.10774360597133636,
          0.05634601041674614,
          0.004478782881051302,
          -0.0477912537753582,
          -0.10038131475448608,
          -0.15318617224693298,
          -0.20607055723667145,
          -0.25886109471321106,
          -0.31133797764778137,
          -0.36322665214538574,
          -0.41419079899787903,
          -0.46382713317871094,
          -0.5116631984710693,
          -0.5571598410606384,
          -0.59972083568573,
          -0.6387101411819458,
          -0.6734806895256042,
          -0.7034181356430054,
          -0.7280004024505615,
          -0.7468802332878113,
          -0.7599918246269226,
          -0.7676892876625061,
          -0.7709192037582397,
          -0.7714371681213379
         ],
         "z": [
          0.7238953709602356,
          0.7239469885826111,
          0.724249541759491,
          0.7249107956886292,
          0.7259183526039124,
          0.7271729111671448,
          0.7285151481628418,
          0.7297492623329163,
          0.7306613326072693,
          0.7310337424278259,
          0.7306580543518066,
          0.7293428182601929,
          0.7269214391708374,
          0.7232570052146912,
          0.7182446718215942,
          0.7118139863014221,
          0.7039291262626648,
          0.6945881843566895,
          0.6838216781616211,
          0.6716901063919067,
          0.658281147480011,
          0.6437058448791504,
          0.6280956268310547,
          0.6115972995758057,
          0.5943697094917297,
          0.5765789747238159,
          0.5583950877189636,
          0.5399878621101379,
          0.5215231776237488,
          0.5031607151031494,
          0.4850507378578186,
          0.46733272075653076,
          0.4501338601112366,
          0.43356838822364807,
          0.4177378714084625,
          0.40273162722587585,
          0.3886280357837677,
          0.375495970249176,
          0.36339643597602844,
          0.35238441824913025,
          0.34250956773757935,
          0.33381661772727966,
          0.3263438642024994,
          0.32011985778808594,
          0.3151566684246063,
          0.3114396631717682,
          0.3089119791984558,
          0.3074530065059662,
          0.30684858560562134,
          0.3067525029182434
         ]
        },
        {
         "mode": "lines",
         "scene": "scene",
         "showlegend": false,
         "type": "scatter3d",
         "x": [
          -1.927324891090393,
          -1.9267868995666504,
          -1.9234278202056885,
          -1.9154161214828491,
          -1.9017616510391235,
          -1.882097601890564,
          -1.8565020561218262,
          -1.825353741645813,
          -1.7892203330993652,
          -1.7487691640853882,
          -1.7047033309936523,
          -1.6577105522155762,
          -1.6084319353103638,
          -1.5574402809143066,
          -1.5052258968353271,
          -1.452193260192871,
          -1.3986616134643555,
          -1.3448667526245117,
          -1.2909702062606812,
          -1.237066626548767,
          -1.183193564414978,
          -1.1293408870697021,
          -1.07546067237854,
          -1.0214768648147583,
          -0.9672943949699402,
          -0.9128077030181885,
          -0.8579105734825134,
          -0.8025044798851013,
          -0.7465072870254517,
          -0.6898626685142517,
          -0.632550060749054,
          -0.574594259262085,
          -0.5160763263702393,
          -0.45714378356933594,
          -0.39802098274230957,
          -0.33901864290237427,
          -0.28054147958755493,
          -0.22309322655200958,
          -0.1672772616147995,
          -0.11379136890172958,
          -0.06341416388750076,
          -0.01698101870715618,
          0.024654021486639977,
          0.060673534870147705,
          0.09037341922521591,
          0.11326580494642258,
          0.1292131245136261,
          0.138599693775177,
          0.14254708588123322,
          0.14318108558654785
         ],
         "y": [
          1.1112456321716309,
          1.1109026670455933,
          1.1087621450424194,
          1.10365629196167,
          1.0949532985687256,
          1.0824159383773804,
          1.0660886764526367,
          1.046205997467041,
          1.0231198072433472,
          0.9972444176673889,
          0.9690144658088684,
          0.9388546347618103,
          0.9071575403213501,
          0.8742703795433044,
          0.8404864072799683,
          0.8060417175292969,
          0.7711141109466553,
          0.7358253598213196,
          0.7002447843551636,
          0.6643939018249512,
          0.6282513737678528,
          0.5917593240737915,
          0.5548290014266968,
          0.5173472762107849,
          0.4791831374168396,
          0.4401945471763611,
          0.4002362787723541,
          0.3591679334640503,
          0.31686297059059143,
          0.2732186019420624,
          0.22816674411296844,
          0.18168577551841736,
          0.1338128298521042,
          0.08465659618377686,
          0.03440997377038002,
          -0.016638243570923805,
          -0.06809352338314056,
          -0.11944883316755295,
          -0.1700824499130249,
          -0.21926246583461761,
          -0.26615992188453674,
          -0.30987364053726196,
          -0.3494693636894226,
          -0.38403746485710144,
          -0.4127727150917053,
          -0.4350815713405609,
          -0.45072129368782043,
          -0.45997804403305054,
          -0.4638894200325012,
          -0.4645199775695801
         ],
         "z": [
          -0.029351556673645973,
          -0.029276074841618538,
          -0.028794629499316216,
          -0.027614595368504524,
          -0.025539183989167213,
          -0.022442707791924477,
          -0.01825149543583393,
          -0.012929319404065609,
          -0.006466744467616081,
          0.0011265274370089173,
          0.00982679333537817,
          0.01959955506026745,
          0.03040127642452717,
          0.04218006134033203,
          0.05487557500600815,
          0.06841857731342316,
          0.08273015171289444,
          0.09772095829248428,
          0.11329066753387451,
          0.12932752072811127,
          0.14570839703083038,
          0.16229911148548126,
          0.17895546555519104,
          0.19552434980869293,
          0.2118459939956665,
          0.22775600850582123,
          0.24308843910694122,
          0.25767919421195984,
          0.2713695168495178,
          0.2840103805065155,
          0.29546645283699036,
          0.30562108755111694,
          0.3143804669380188,
          0.32167842984199524,
          0.32748037576675415,
          0.33178722858428955,
          0.33463841676712036,
          0.33611437678337097,
          0.33633676171302795,
          0.3354685306549072,
          0.33371061086654663,
          0.3312968611717224,
          0.3284858465194702,
          0.3255487382411957,
          0.3227529525756836,
          0.32034072279930115,
          0.3185012638568878,
          0.31733614206314087,
          0.31681618094444275,
          0.3167288303375244
         ]
        },
        {
         "marker": {
          "color": "#636EFA",
          "size": 2
         },
         "mode": "markers",
         "scene": "scene",
         "showlegend": false,
         "type": "scatter3d",
         "x": [
          1.8143706321716309,
          1.8809744119644165,
          0.12186422944068909,
          -1.927324891090393
         ],
         "y": [
          -1.6006957292556763,
          -1.1152870655059814,
          0.9530433416366577,
          1.1112456321716309
         ],
         "z": [
          1.2774430513381958,
          1.0133886337280273,
          0.7238953709602356,
          -0.029351556673645973
         ]
        },
        {
         "marker": {
          "color": "#EF553B",
          "size": 2
         },
         "mode": "markers",
         "scene": "scene",
         "showlegend": false,
         "type": "scatter3d",
         "x": [
          -1.7343281507492065,
          -1.608415126800537,
          1.782515287399292,
          0.14318108558654785
         ],
         "y": [
          -1.4096869230270386,
          1.1458438634872437,
          -0.7714371681213379,
          -0.4645199775695801
         ],
         "z": [
          0.6075145602226257,
          0.06760797649621964,
          0.3067525029182434,
          0.3167288303375244
         ]
        },
        {
         "mode": "lines",
         "scene": "scene2",
         "showlegend": false,
         "type": "scatter3d",
         "x": [
          1.8143706321716309,
          1.813136339187622,
          1.8054656982421875,
          1.7872705459594727,
          1.75645112991333,
          1.7123711109161377,
          1.6554255485534668,
          1.586702823638916,
          1.507712483406067,
          1.4201793670654297,
          1.3258861303329468,
          1.2265621423721313,
          1.1238040924072266,
          1.0190272331237793,
          0.9134377241134644,
          0.8080217838287354,
          0.7035483717918396,
          0.6005807518959045,
          0.4994935691356659,
          0.4004950523376465,
          0.3036501705646515,
          0.20890459418296814,
          0.1161089539527893,
          0.025041572749614716,
          -0.0645698606967926,
          -0.15302753448486328,
          -0.2406444102525711,
          -0.32772576808929443,
          -0.41455167531967163,
          -0.5013593435287476,
          -0.5883263945579529,
          -0.6755536198616028,
          -0.7630479335784912,
          -0.850705623626709,
          -0.938296914100647,
          -1.0254511833190918,
          -1.1116459369659424,
          -1.1962002515792847,
          -1.278273344039917,
          -1.356874704360962,
          -1.4308842420578003,
          -1.4990900754928589,
          -1.5602452754974365,
          -1.6131521463394165,
          -1.6567761898040771,
          -1.6903997659683228,
          -1.713820219039917,
          -1.7276030778884888,
          -1.7333977222442627,
          -1.7343281507492065
         ],
         "y": [
          -1.6006957292556763,
          -1.6007399559020996,
          -1.6010010242462158,
          -1.6015819311141968,
          -1.6024948358535767,
          -1.6036901473999023,
          -1.6050783395767212,
          -1.6065471172332764,
          -1.6079738140106201,
          -1.6092339754104614,
          -1.6102081537246704,
          -1.610785722732544,
          -1.6108686923980713,
          -1.6103729009628296,
          -1.609230399131775,
          -1.6073880195617676,
          -1.6048107147216797,
          -1.6014776229858398,
          -1.5973854064941406,
          -1.5925456285476685,
          -1.586984395980835,
          -1.580741286277771,
          -1.573868751525879,
          -1.5664302110671997,
          -1.5584981441497803,
          -1.5501524209976196,
          -1.5414788722991943,
          -1.5325665473937988,
          -1.523505687713623,
          -1.5143855810165405,
          -1.5052926540374756,
          -1.4963091611862183,
          -1.4875104427337646,
          -1.478965401649475,
          -1.4707348346710205,
          -1.4628722667694092,
          -1.4554232358932495,
          -1.4484277963638306,
          -1.4419209957122803,
          -1.43593430519104,
          -1.430498719215393,
          -1.4256446361541748,
          -1.4214026927947998,
          -1.4178038835525513,
          -1.4148744344711304,
          -1.4126309156417847,
          -1.4110684394836426,
          -1.4101437330245972,
          -1.4097508192062378,
          -1.4096869230270386
         ],
         "z": [
          1.2774430513381958,
          1.27732253074646,
          1.2765573263168335,
          1.2746964693069458,
          1.271457314491272,
          1.2666863203048706,
          1.2603245973587036,
          1.252381682395935,
          1.2429133653640747,
          1.2320046424865723,
          1.2197554111480713,
          1.206273078918457,
          1.1916639804840088,
          1.1760298013687134,
          1.159466028213501,
          1.142060399055481,
          1.1238932609558105,
          1.105039119720459,
          1.0855674743652344,
          1.0655461549758911,
          1.045040488243103,
          1.0241178274154663,
          1.0028467178344727,
          0.9812987446784973,
          0.959548830986023,
          0.9376758933067322,
          0.9157623052597046,
          0.8938937783241272,
          0.8721587657928467,
          0.8506478071212769,
          0.8294525146484375,
          0.8086658120155334,
          0.78838050365448,
          0.768690288066864,
          0.7496888041496277,
          0.7314708232879639,
          0.7141322493553162,
          0.6977711319923401,
          0.6824880242347717,
          0.6683856844902039,
          0.6555684804916382,
          0.6441397666931152,
          0.6341974139213562,
          0.6258262991905212,
          0.6190866231918335,
          0.6139973402023315,
          0.6105126142501831,
          0.6084901094436646,
          0.6076486706733704,
          0.6075145602226257
         ]
        },
        {
         "mode": "lines",
         "scene": "scene2",
         "showlegend": false,
         "type": "scatter3d",
         "x": [
          1.8809744119644165,
          1.8802177906036377,
          1.8754533529281616,
          1.8639634847640991,
          1.8441227674484253,
          1.8151108026504517,
          1.7766845226287842,
          1.728998064994812,
          1.672465443611145,
          1.607655644416809,
          1.5352193117141724,
          1.4558354616165161,
          1.370177984237671,
          1.2788963317871094,
          1.1826063394546509,
          1.0818874835968018,
          0.9772884845733643,
          0.8693314790725708,
          0.7585211396217346,
          0.6453512907028198,
          0.5303126573562622,
          0.41389763355255127,
          0.29660382866859436,
          0.1789351999759674,
          0.06140211597084999,
          -0.05548132210969925,
          -0.17120063304901123,
          -0.2852455675601959,
          -0.39711520075798035,
          -0.506322979927063,
          -0.6124009490013123,
          -0.7149043083190918,
          -0.8134129047393799,
          -0.9075332880020142,
          -0.996898353099823,
          -1.0811651945114136,
          -1.1600134372711182,
          -1.2331422567367554,
          -1.3002679347991943,
          -1.36112380027771,
          -1.415462613105774,
          -1.4630650281906128,
          -1.5037544965744019,
          -1.537423014640808,
          -1.5640697479248047,
          -1.5838571786880493,
          -1.5971866846084595,
          -1.6048027276992798,
          -1.6079238653182983,
          -1.608415126800537
         ],
         "y": [
          -1.1152870655059814,
          -1.1147104501724243,
          -1.111092209815979,
          -1.1024019718170166,
          -1.0874656438827515,
          -1.0657382011413574,
          -1.0371239185333252,
          -1.0018336772918701,
          -0.960274875164032,
          -0.9129695892333984,
          -0.8604931235313416,
          -0.8034328818321228,
          -0.7423600554466248,
          -0.6778137683868408,
          -0.6102927327156067,
          -0.5402544736862183,
          -0.4681175947189331,
          -0.39426764845848083,
          -0.3190634548664093,
          -0.24284464120864868,
          -0.165938600897789,
          -0.08866564929485321,
          -0.011344077996909618,
          0.06570699065923691,
          0.1421663612127304,
          0.21771064400672913,
          0.29201552271842957,
          0.3647584021091461,
          0.4356214106082916,
          0.504295289516449,
          0.5704832673072815,
          0.6339049339294434,
          0.6942998170852661,
          0.7514303922653198,
          0.8050841689109802,
          0.8550756573677063,
          0.9012470841407776,
          0.943469226360321,
          0.9816411137580872,
          1.0156912803649902,
          1.0455788373947144,
          1.0712963342666626,
          1.0928751230239868,
          1.1103954315185547,
          1.1239984035491943,
          1.1339081525802612,
          1.1404591798782349,
          1.1441341638565063,
          1.1456143856048584,
          1.1458438634872437
         ],
         "z": [
          1.0133886337280273,
          1.0131471157073975,
          1.0116276741027832,
          1.0079692602157593,
          1.0016652345657349,
          0.9924696087837219,
          0.9803242087364197,
          0.9652994275093079,
          0.9475488066673279,
          0.9272748827934265,
          0.9047040343284607,
          0.880069375038147,
          0.853599488735199,
          0.8255120515823364,
          0.7960115075111389,
          0.7652887105941772,
          0.7335227131843567,
          0.7008843421936035,
          0.6675388813018799,
          0.6336498856544495,
          0.5993824005126953,
          0.5649048089981079,
          0.5303914546966553,
          0.49602195620536804,
          0.4619823396205902,
          0.42846253514289856,
          0.39565521478652954,
          0.36375245451927185,
          0.33294203877449036,
          0.3034043312072754,
          0.275307297706604,
          0.24880316853523254,
          0.2240239977836609,
          0.20107857882976532,
          0.18004915118217468,
          0.16098962724208832,
          0.14392396807670593,
          0.12884613871574402,
          0.11572042852640152,
          0.10448329150676727,
          0.0950455442070961,
          0.0872955471277237,
          0.08110261708498001,
          0.0763205885887146,
          0.07279088348150253,
          0.07034465670585632,
          0.06880327314138412,
          0.06797629594802856,
          0.06765609979629517,
          0.06760797649621964
         ]
        },
        {
         "mode": "lines",
         "scene": "scene2",
         "showlegend": false,
         "type": "scatter3d",
         "x": [
          0.12186422944068909,
          0.12218107283115387,
          0.12416458874940872,
          0.1289154291152954,
          0.1370580941438675,
          0.14886873960494995,
          0.16437700390815735,
          0.18344566226005554,
          0.20583249628543854,
          0.23123635351657867,
          0.25933143496513367,
          0.2897913455963135,
          0.32230567932128906,
          0.35659059882164,
          0.3923947513103485,
          0.42950206995010376,
          0.4677325487136841,
          0.5069411993026733,
          0.5470159649848938,
          0.5878758430480957,
          0.6294679045677185,
          0.6717641949653625,
          0.7147589325904846,
          0.7584649920463562,
          0.8029105067253113,
          0.8481339812278748,
          0.8941795229911804,
          0.9410909414291382,
          0.9889042973518372,
          1.0376403331756592,
          1.0872948169708252,
          1.137827754020691,
          1.1891535520553589,
          1.2411282062530518,
          1.293538212776184,
          1.3460909128189087,
          1.398404598236084,
          1.4500032663345337,
          1.5003151893615723,
          1.5486786365509033,
          1.5943530797958374,
          1.6365448236465454,
          1.6744416952133179,
          1.7072679996490479,
          1.7343552112579346,
          1.7552398443222046,
          1.7697862386703491,
          1.7783434391021729,
          1.7819384336471558,
          1.782515287399292
         ],
         "y": [
          0.9530433416366577,
          0.9526610374450684,
          0.9502642154693604,
          0.9445149302482605,
          0.9346478581428528,
          0.9203193187713623,
          0.9014863967895508,
          0.87831050157547,
          0.8510835766792297,
          0.8201707601547241,
          0.7859696745872498,
          0.7488806247711182,
          0.7092863321304321,
          0.667540967464447,
          0.62396240234375,
          0.5788314938545227,
          0.5323919653892517,
          0.48485350608825684,
          0.43639642000198364,
          0.3871751129627228,
          0.3373233377933502,
          0.28695785999298096,
          0.23618274927139282,
          0.18509256839752197,
          0.13377510011196136,
          0.08231399208307266,
          0.03079131804406643,
          -0.02071022242307663,
          -0.07210464030504227,
          -0.12329954653978348,
          -0.17419256269931793,
          -0.22466722130775452,
          -0.2745879888534546,
          -0.32379502058029175,
          -0.3720982074737549,
          -0.4192715883255005,
          -0.46504828333854675,
          -0.5091166496276855,
          -0.551118791103363,
          -0.5906521081924438,
          -0.6272766590118408,
          -0.6605281233787537,
          -0.6899399161338806,
          -0.7150766253471375,
          -0.7355804443359375,
          -0.7512353658676147,
          -0.7620512247085571,
          -0.7683724164962769,
          -0.7710147500038147,
          -0.7714371681213379
         ],
         "z": [
          0.7238953709602356,
          0.7240129113197327,
          0.7247248888015747,
          0.7263582348823547,
          0.7290151119232178,
          0.7326346039772034,
          0.7370428442955017,
          0.7419939637184143,
          0.747201681137085,
          0.7523654699325562,
          0.7571888566017151,
          0.7613939642906189,
          0.76473069190979,
          0.7669841647148132,
          0.7679774761199951,
          0.7675723433494568,
          0.7656697630882263,
          0.7622068524360657,
          0.7571542263031006,
          0.7505120038986206,
          0.7423058748245239,
          0.7325816750526428,
          0.7214025855064392,
          0.7088437676429749,
          0.6949895024299622,
          0.6799291968345642,
          0.6637561321258545,
          0.646565318107605,
          0.628452479839325,
          0.6095155477523804,
          0.5898544788360596,
          0.5695744752883911,
          0.5487884879112244,
          0.5276210308074951,
          0.5062118768692017,
          0.48472076654434204,
          0.46333128213882446,
          0.44225403666496277,
          0.42172861099243164,
          0.40202370285987854,
          0.3834337592124939,
          0.36627209186553955,
          0.3508583605289459,
          0.3374997079372406,
          0.32646310329437256,
          0.31793779134750366,
          0.3119848668575287,
          0.3084721267223358,
          0.30699098110198975,
          0.3067525029182434
         ]
        },
        {
         "mode": "lines",
         "scene": "scene2",
         "showlegend": false,
         "type": "scatter3d",
         "x": [
          -1.927324891090393,
          -1.9266889095306396,
          -1.922724723815918,
          -1.9132874011993408,
          -1.8972394466400146,
          -1.8741874694824219,
          -1.8442693948745728,
          -1.8079805374145508,
          -1.7660400867462158,
          -1.719283938407898,
          -1.6685866117477417,
          -1.614802598953247,
          -1.558726191520691,
          -1.5010677576065063,
          -1.4424355030059814,
          -1.383333444595337,
          -1.3241606950759888,
          -1.2652167081832886,
          -1.2067114114761353,
          -1.1487747430801392,
          -1.0914697647094727,
          -1.034804105758667,
          -0.9787421226501465,
          -0.9232169389724731,
          -0.8681401014328003,
          -0.8134126663208008,
          -0.758933961391449,
          -0.7046106457710266,
          -0.6503646969795227,
          -0.5961413383483887,
          -0.5419176816940308,
          -0.48770949244499207,
          -0.4335801303386688,
          -0.3796475827693939,
          -0.32609233260154724,
          -0.27316367626190186,
          -0.22118520736694336,
          -0.17055821418762207,
          -0.12176093459129333,
          -0.07534421235322952,
          -0.03191982954740524,
          0.007859240286052227,
          0.04332973435521126,
          0.0738629698753357,
          0.09892688691616058,
          0.11816948652267456,
          0.13152757287025452,
          0.1393662393093109,
          0.14265409111976624,
          0.14318108558654785
         ],
         "y": [
          1.1112456321716309,
          1.1107022762298584,
          1.1073137521743774,
          1.0992392301559448,
          1.0854883193969727,
          1.065693736076355,
          1.0399317741394043,
          1.0085747241973877,
          0.9721799492835999,
          0.9314031600952148,
          0.8869350552558899,
          0.8394560217857361,
          0.7896061539649963,
          0.7379665374755859,
          0.6850511431694031,
          0.6313033699989319,
          0.5771006941795349,
          0.522758960723877,
          0.46854227781295776,
          0.41467103362083435,
          0.36133164167404175,
          0.30868473649024963,
          0.25687333941459656,
          0.20602867007255554,
          0.15627515316009521,
          0.1077338457107544,
          0.060524340718984604,
          0.014765618368983269,
          -0.029424281790852547,
          -0.07192925363779068,
          -0.11263663321733475,
          -0.1514391154050827,
          -0.18823637068271637,
          -0.22293677926063538,
          -0.2554584741592407,
          -0.2857300937175751,
          -0.3136909604072571,
          -0.3392910063266754,
          -0.3624902069568634,
          -0.3832583427429199,
          -0.40157514810562134,
          -0.4174317717552185,
          -0.4308338463306427,
          -0.44180771708488464,
          -0.45041030645370483,
          -0.4567442536354065,
          -0.4609798491001129,
          -0.46338513493537903,
          -0.4643661081790924,
          -0.4645199775695801
         ],
         "z": [
          -0.029351556673645973,
          -0.0292973630130291,
          -0.028946643695235252,
          -0.028071749955415726,
          -0.02650318294763565,
          -0.024114884436130524,
          -0.02081337757408619,
          -0.01652989163994789,
          -0.011215059086680412,
          -0.00483542587608099,
          0.002628471702337265,
          0.011182953603565693,
          0.020821290090680122,
          0.031523287296295166,
          0.04325461387634277,
          0.05596606060862541,
          0.06959289312362671,
          0.08405435085296631,
          0.09925355017185211,
          0.11507762223482132,
          0.13139840960502625,
          0.14807350933551788,
          0.16494788229465485,
          0.18185573816299438,
          0.19862331449985504,
          0.21507151424884796,
          0.231019526720047,
          0.2462884932756424,
          0.26070547103881836,
          0.27410802245140076,
          0.28634846210479736,
          0.29729875922203064,
          0.30685487389564514,
          0.31494149565696716,
          0.321515828371048,
          0.32657143473625183,
          0.3301412761211395,
          0.3322996497154236,
          0.3331626355648041,
          0.3328877091407776,
          0.3316706717014313,
          0.3297404646873474,
          0.3273509442806244,
          0.32476934790611267,
          0.32226017117500305,
          0.32006457448005676,
          0.31837353110313416,
          0.3172945976257324,
          0.3168104588985443,
          0.3167288303375244
         ]
        },
        {
         "marker": {
          "color": "#636EFA",
          "size": 2
         },
         "mode": "markers",
         "scene": "scene2",
         "showlegend": false,
         "type": "scatter3d",
         "x": [
          1.8143706321716309,
          1.8809744119644165,
          0.12186422944068909,
          -1.927324891090393
         ],
         "y": [
          -1.6006957292556763,
          -1.1152870655059814,
          0.9530433416366577,
          1.1112456321716309
         ],
         "z": [
          1.2774430513381958,
          1.0133886337280273,
          0.7238953709602356,
          -0.029351556673645973
         ]
        },
        {
         "marker": {
          "color": "#EF553B",
          "size": 2
         },
         "mode": "markers",
         "scene": "scene2",
         "showlegend": false,
         "type": "scatter3d",
         "x": [
          -1.7343281507492065,
          -1.608415126800537,
          1.782515287399292,
          0.14318108558654785
         ],
         "y": [
          -1.4096869230270386,
          1.1458438634872437,
          -0.7714371681213379,
          -0.4645199775695801
         ],
         "z": [
          0.6075145602226257,
          0.06760797649621964,
          0.3067525029182434,
          0.3167288303375244
         ]
        },
        {
         "mode": "lines",
         "scene": "scene3",
         "showlegend": false,
         "type": "scatter3d",
         "x": [
          1.8143706321716309,
          1.8133678436279297,
          1.8071248531341553,
          1.7922855615615845,
          1.7670907974243164,
          1.730957269668579,
          1.684133768081665,
          1.6274288892745972,
          1.561995267868042,
          1.4891629219055176,
          1.4103143215179443,
          1.326793909072876,
          1.2398453950881958,
          1.1505699157714844,
          1.0599039793014526,
          0.9686089754104614,
          0.8772719502449036,
          0.7863128185272217,
          0.6959969401359558,
          0.6064512133598328,
          0.5176809430122375,
          0.4295881688594818,
          0.34199127554893494,
          0.2546428143978119,
          0.16724830865859985,
          0.07948483526706696,
          -0.00898056197911501,
          -0.09847191721200943,
          -0.189284548163414,
          -0.2816646099090576,
          -0.3757876455783844,
          -0.47173619270324707,
          -0.5694765448570251,
          -0.6688355207443237,
          -0.7694783210754395,
          -0.8708873987197876,
          -0.972346305847168,
          -1.0729286670684814,
          -1.1714962720870972,
          -1.2667090892791748,
          -1.3570516109466553,
          -1.440881609916687,
          -1.5165033340454102,
          -1.5822761058807373,
          -1.6367640495300293,
          -1.6789336204528809,
          -1.708411693572998,
          -1.7258130311965942,
          -1.7331479787826538,
          -1.7343281507492065
         ],
         "y": [
          -1.6006957292556763,
          -1.600684404373169,
          -1.6006075143814087,
          -1.6004090309143066,
          -1.6000466346740723,
          -1.5994939804077148,
          -1.598739743232727,
          -1.5977853536605835,
          -1.5966413021087646,
          -1.5953247547149658,
          -1.5938544273376465,
          -1.5922496318817139,
          -1.59052574634552,
          -1.5886937379837036,
          -1.5867581367492676,
          -1.584715723991394,
          -1.582558035850525,
          -1.5802682638168335,
          -1.577824354171753,
          -1.575200080871582,
          -1.572364091873169,
          -1.5692845582962036,
          -1.5659279823303223,
          -1.5622614622116089,
          -1.5582540035247803,
          -1.5538774728775024,
          -1.5491076707839966,
          -1.543925404548645,
          -1.5383174419403076,
          -1.5322765111923218,
          -1.525804042816162,
          -1.5189098119735718,
          -1.511613130569458,
          -1.503944993019104,
          -1.4959492683410645,
          -1.4876843690872192,
          -1.479224681854248,
          -1.4706627130508423,
          -1.462110161781311,
          -1.4536974430084229,
          -1.4455747604370117,
          -1.4379078149795532,
          -1.430872917175293,
          -1.4246492385864258,
          -1.4194039106369019,
          -1.4152733087539673,
          -1.4123343229293823,
          -1.410568356513977,
          -1.4098107814788818,
          -1.4096869230270386
         ],
         "z": [
          1.2774430513381958,
          1.2773011922836304,
          1.2764065265655518,
          1.2742455005645752,
          1.2705146074295044,
          1.2650679349899292,
          1.2578754425048828,
          1.2489889860153198,
          1.2385145425796509,
          1.2265899181365967,
          1.2133680582046509,
          1.199005126953125,
          1.1836503744125366,
          1.1674424409866333,
          1.1505043506622314,
          1.132943868637085,
          1.1148515939712524,
          1.0963046550750732,
          1.0773670673370361,
          1.058092713356018,
          1.0385273694992065,
          1.0187116861343384,
          0.9986841678619385,
          0.9784807562828064,
          0.958139181137085,
          0.937699019908905,
          0.9172027111053467,
          0.8966968059539795,
          0.8762319087982178,
          0.8558640480041504,
          0.8356536030769348,
          0.815667450428009,
          0.7959781885147095,
          0.7766655683517456,
          0.7578168511390686,
          0.7395283579826355,
          0.7219057679176331,
          0.705065131187439,
          0.6891335248947144,
          0.6742479205131531,
          0.6605536937713623,
          0.6482005715370178,
          0.6373363733291626,
          0.6280965805053711,
          0.6205891966819763,
          0.6148738861083984,
          0.610932469367981,
          0.608630895614624,
          0.6076685190200806,
          0.6075145602226257
         ]
        },
        {
         "mode": "lines",
         "scene": "scene3",
         "showlegend": false,
         "type": "scatter3d",
         "x": [
          1.8809744119644165,
          1.8800721168518066,
          1.8744189739227295,
          1.8608713150024414,
          1.8376470804214478,
          1.8039652109146118,
          1.7597604990005493,
          1.7054535150527954,
          1.6417741775512695,
          1.5696275234222412,
          1.4899951219558716,
          1.4038646221160889,
          1.3121834993362427,
          1.2158308029174805,
          1.1156026124954224,
          1.0122079849243164,
          0.9062728881835938,
          0.7983480095863342,
          0.6889191269874573,
          0.5784190893173218,
          0.4672398567199707,
          0.35574278235435486,
          0.24426819384098053,
          0.13314217329025269,
          0.022682657465338707,
          -0.0867973268032074,
          -0.1949871927499771,
          -0.30157777667045593,
          -0.40626099705696106,
          -0.5087298154830933,
          -0.6086776852607727,
          -0.7057986259460449,
          -0.799784779548645,
          -0.8903248906135559,
          -0.9771011471748352,
          -1.0597846508026123,
          -1.1380324363708496,
          -1.2114840745925903,
          -1.2797600030899048,
          -1.342463731765747,
          -1.399187445640564,
          -1.449527382850647,
          -1.4931055307388306,
          -1.529606819152832,
          -1.5588315725326538,
          -1.5807688236236572,
          -1.5956939458847046,
          -1.6042982339859009,
          -1.6078522205352783,
          -1.608415126800537
         ],
         "y": [
          -1.1152870655059814,
          -1.1148890256881714,
          -1.1123754978179932,
          -1.1062884330749512,
          -1.095727801322937,
          -1.0802035331726074,
          -1.0595202445983887,
          -1.0336883068084717,
          -1.002851963043213,
          -0.9672403335571289,
          -0.9271296262741089,
          -0.882817268371582,
          -0.8346061706542969,
          -0.7827946543693542,
          -0.7276719808578491,
          -0.6695172190666199,
          -0.608600378036499,
          -0.5451853275299072,
          -0.47953179478645325,
          -0.41189873218536377,
          -0.342546671628952,
          -0.2717391848564148,
          -0.19974350929260254,
          -0.12683123350143433,
          -0.0532771497964859,
          0.020641382783651352,
          0.09464556723833084,
          0.16845649480819702,
          0.24179582297801971,
          0.3143859803676605,
          0.3859497308731079,
          0.4562089145183563,
          0.5248818397521973,
          0.591680645942688,
          0.6563069820404053,
          0.7184484601020813,
          0.777774453163147,
          0.8339338302612305,
          0.8865532875061035,
          0.9352400302886963,
          0.9795888066291809,
          1.0191943645477295,
          1.0536729097366333,
          1.0826947689056396,
          1.1060287952423096,
          1.1236052513122559,
          1.135596752166748,
          1.1425241231918335,
          1.1453896760940552,
          1.1458438634872437
         ],
         "z": [
          1.0133886337280273,
          1.0131324529647827,
          1.0115303993225098,
          1.0076978206634521,
          1.0011436939239502,
          0.9916661977767944,
          0.9792719483375549,
          0.9641069769859314,
          0.9464066624641418,
          0.9264547228813171,
          0.9045538306236267,
          0.8810045123100281,
          0.8560904264450073,
          0.8300697803497314,
          0.803170919418335,
          0.7755907773971558,
          0.7474962472915649,
          0.7190264463424683,
          0.6902971267700195,
          0.6614037752151489,
          0.6324266195297241,
          0.6034340858459473,
          0.574487030506134,
          0.545640766620636,
          0.5169484615325928,
          0.48846250772476196,
          0.4602363109588623,
          0.4323250651359558,
          0.4047864079475403,
          0.37768128514289856,
          0.3510741591453552,
          0.3250339925289154,
          0.29963457584381104,
          0.2749560475349426,
          0.2510858476161957,
          0.22812017798423767,
          0.20616543292999268,
          0.1853395253419876,
          0.1657722145318985,
          0.14760509133338928,
          0.13098932802677155,
          0.1160813421010971,
          0.10303521901369095,
          0.0919906347990036,
          0.08305525034666061,
          0.07627993077039719,
          0.07162515819072723,
          0.06891666352748871,
          0.06778804212808609,
          0.06760797649621964
         ]
        },
        {
         "mode": "lines",
         "scene": "scene3",
         "showlegend": false,
         "type": "scatter3d",
         "x": [
          0.12186422944068909,
          0.12237957119941711,
          0.12558051943778992,
          0.13316968083381653,
          0.14602074027061462,
          0.1644008904695511,
          0.18815037608146667,
          0.21682500839233398,
          0.24980778992176056,
          0.286394327878952,
          0.3258567154407501,
          0.36748942732810974,
          0.4106413722038269,
          0.4547358453273773,
          0.49928250908851624,
          0.5438817739486694,
          0.5882250070571899,
          0.6320903301239014,
          0.6753368377685547,
          0.7178963422775269,
          0.7597654461860657,
          0.8009956479072571,
          0.8416844010353088,
          0.8819659352302551,
          0.9220016598701477,
          0.9619705677032471,
          1.002059817314148,
          1.0424554347991943,
          1.0833309888839722,
          1.1248377561569214,
          1.1670936346054077,
          1.2101712226867676,
          1.2540862560272217,
          1.298785924911499,
          1.3441375494003296,
          1.3899192810058594,
          1.4358117580413818,
          1.481392741203308,
          1.5261377096176147,
          1.5694252252578735,
          1.6105495691299438,
          1.6487455368041992,
          1.6832228899002075,
          1.713219165802002,
          1.7380682229995728,
          1.7572929859161377,
          1.7707233428955078,
          1.778644323348999,
          1.7819793224334717,
          1.782515287399292
         ],
         "y": [
          0.9530433416366577,
          0.9528339505195618,
          0.9514934420585632,
          0.9481928944587708,
          0.942359209060669,
          0.9336082339286804,
          0.9216936826705933,
          0.9064681529998779,
          0.8878549337387085,
          0.8658270239830017,
          0.8403944373130798,
          0.8115946650505066,
          0.7794888615608215,
          0.7441596388816833,
          0.7057101130485535,
          0.6642653942108154,
          0.6199729442596436,
          0.5730038285255432,
          0.523552656173706,
          0.47183749079704285,
          0.4180985689163208,
          0.3625960350036621,
          0.3056071996688843,
          0.2474234253168106,
          0.18834556639194489,
          0.12868015468120575,
          0.06873545050621033,
          0.008817210793495178,
          -0.05077445134520531,
          -0.10974743962287903,
          -0.1678195297718048,
          -0.22471855580806732,
          -0.2801818549633026,
          -0.3339545428752899,
          -0.38578641414642334,
          -0.43542855978012085,
          -0.4826296269893646,
          -0.5271322131156921,
          -0.5686702132225037,
          -0.6069685816764832,
          -0.6417461037635803,
          -0.6727229356765747,
          -0.699634313583374,
          -0.7222534418106079,
          -0.7404240369796753,
          -0.754107654094696,
          -0.7634462118148804,
          -0.7688457369804382,
          -0.7710821628570557,
          -0.7714371681213379
         ],
         "z": [
          0.7238953709602356,
          0.7237802743911743,
          0.7230570912361145,
          0.7213184833526611,
          0.7183282375335693,
          0.713976263999939,
          0.7082432508468628,
          0.7011709809303284,
          0.6928410530090332,
          0.6833577752113342,
          0.6728352308273315,
          0.6613898873329163,
          0.6491337418556213,
          0.636172354221344,
          0.622603178024292,
          0.6085159182548523,
          0.5939937233924866,
          0.5791144371032715,
          0.5639533400535583,
          0.5485846400260925,
          0.5330831408500671,
          0.5175260305404663,
          0.5019934177398682,
          0.48656949400901794,
          0.47134119272232056,
          0.4563988447189331,
          0.4418340027332306,
          0.4277384281158447,
          0.41420167684555054,
          0.4013092517852783,
          0.38913968205451965,
          0.37776291370391846,
          0.3672373294830322,
          0.3576081097126007,
          0.3489055037498474,
          0.3411436378955841,
          0.3343198895454407,
          0.3284149169921875,
          0.32339343428611755,
          0.31920549273490906,
          0.3157885670661926,
          0.31307002902030945,
          0.3109702467918396,
          0.30940568447113037,
          0.30829206109046936,
          0.3075472116470337,
          0.30709296464920044,
          0.3068559169769287,
          0.3067658841609955,
          0.3067525029182434
         ]
        },
        {
         "mode": "lines",
         "scene": "scene3",
         "showlegend": false,
         "type": "scatter3d",
         "x": [
          -1.927324891090393,
          -1.926677942276001,
          -1.9226489067077637,
          -1.913069248199463,
          -1.896803379058838,
          -1.8734792470932007,
          -1.8432687520980835,
          -1.806710124015808,
          -1.7645690441131592,
          -1.717729091644287,
          -1.6671090126037598,
          -1.613603949546814,
          -1.5580418109893799,
          -1.5011584758758545,
          -1.4435791969299316,
          -1.385814905166626,
          -1.3282619714736938,
          -1.2712069749832153,
          -1.2148367166519165,
          -1.1592494249343872,
          -1.1044667959213257,
          -1.0504478216171265,
          -0.9971007704734802,
          -0.9442971348762512,
          -0.8918826580047607,
          -0.8396898508071899,
          -0.7875483632087708,
          -0.7352963089942932,
          -0.6827899217605591,
          -0.6299139857292175,
          -0.5765924453735352,
          -0.5227978229522705,
          -0.4685617983341217,
          -0.4139852225780487,
          -0.3592475652694702,
          -0.30461516976356506,
          -0.2504482567310333,
          -0.1972047984600067,
          -0.14544039964675903,
          -0.09580280631780624,
          -0.049018390476703644,
          -0.005868886597454548,
          0.03284471482038498,
          0.06635449081659317,
          0.09399767220020294,
          0.1153130903840065,
          0.130166694521904,
          0.13891181349754333,
          0.1425902098417282,
          0.14318108558654785
         ],
         "y": [
          1.1112456321716309,
          1.1108399629592896,
          1.108303427696228,
          1.1022392511367798,
          1.091873049736023,
          1.076888084411621,
          1.0572935342788696,
          1.0333188772201538,
          1.0053318738937378,
          0.9737758636474609,
          0.9391235709190369,
          0.9018438458442688,
          0.8623795509338379,
          0.8211337924003601,
          0.7784630060195923,
          0.7346741557121277,
          0.6900272965431213,
          0.6447376012802124,
          0.5989817380905151,
          0.5529032945632935,
          0.5066184401512146,
          0.46022191643714905,
          0.4137924313545227,
          0.36739665269851685,
          0.3210935890674591,
          0.27493777871131897,
          0.2289823442697525,
          0.18328166007995605,
          0.1378936469554901,
          0.09288285672664642,
          0.04832308366894722,
          0.004300934728235006,
          -0.03908054530620575,
          -0.08169759809970856,
          -0.12340115755796432,
          -0.16401241719722748,
          -0.20331859588623047,
          -0.2410697638988495,
          -0.2769773602485657,
          -0.3107154965400696,
          -0.341926246881485,
          -0.37023037672042847,
          -0.39524537324905396,
          -0.416612833738327,
          -0.4340376555919647,
          -0.44734182953834534,
          -0.45653584599494934,
          -0.4619116485118866,
          -0.4641602337360382,
          -0.4645199775695801
         ],
         "z": [
          -0.029351556673645973,
          -0.029209185391664505,
          -0.028318319469690323,
          -0.02618665248155594,
          -0.02253911644220352,
          -0.01726100966334343,
          -0.010352304205298424,
          -0.0018913940293714404,
          0.007993029430508614,
          0.019143439829349518,
          0.031389281153678894,
          0.044558148831129074,
          0.0584833063185215,
          0.0730082243680954,
          0.08798874169588089,
          0.10329369455575943,
          0.11880410462617874,
          0.13441170752048492,
          0.1500168740749359,
          0.16552647948265076,
          0.18085169792175293,
          0.19590595364570618,
          0.2106035053730011,
          0.22485816478729248,
          0.23858287930488586,
          0.2516894042491913,
          0.2640893757343292,
          0.27569496631622314,
          0.2864210307598114,
          0.29618722200393677,
          0.30492061376571655,
          0.31255897879600525,
          0.31905397772789,
          0.3243747055530548,
          0.328511118888855,
          0.33147716522216797,
          0.3333137631416321,
          0.3340911269187927,
          0.3339095711708069,
          0.3329000174999237,
          0.33122220635414124,
          0.3290610909461975,
          0.32662084698677063,
          0.3241156339645386,
          0.32175683975219727,
          0.3197358548641205,
          0.31820178031921387,
          0.3172329068183899,
          0.3168012499809265,
          0.3167288303375244
         ]
        },
        {
         "marker": {
          "color": "#636EFA",
          "size": 2
         },
         "mode": "markers",
         "scene": "scene3",
         "showlegend": false,
         "type": "scatter3d",
         "x": [
          1.8143706321716309,
          1.8809744119644165,
          0.12186422944068909,
          -1.927324891090393
         ],
         "y": [
          -1.6006957292556763,
          -1.1152870655059814,
          0.9530433416366577,
          1.1112456321716309
         ],
         "z": [
          1.2774430513381958,
          1.0133886337280273,
          0.7238953709602356,
          -0.029351556673645973
         ]
        },
        {
         "marker": {
          "color": "#EF553B",
          "size": 2
         },
         "mode": "markers",
         "scene": "scene3",
         "showlegend": false,
         "type": "scatter3d",
         "x": [
          -1.7343281507492065,
          -1.608415126800537,
          1.782515287399292,
          0.14318108558654785
         ],
         "y": [
          -1.4096869230270386,
          1.1458438634872437,
          -0.7714371681213379,
          -0.4645199775695801
         ],
         "z": [
          0.6075145602226257,
          0.06760797649621964,
          0.3067525029182434,
          0.3167288303375244
         ]
        }
       ],
       "layout": {
        "height": 400,
        "margin": {
         "b": 20,
         "l": 20,
         "r": 20,
         "t": 20
        },
        "scene": {
         "aspectratio": {
          "x": 1,
          "y": 1,
          "z": 1
         },
         "domain": {
          "x": [
           0,
           0.3
          ],
          "y": [
           0,
           1
          ]
         },
         "xaxis": {
          "showticklabels": false,
          "title": {
           "text": ""
          }
         },
         "yaxis": {
          "showticklabels": false,
          "title": {
           "text": ""
          }
         },
         "zaxis": {
          "showticklabels": false,
          "title": {
           "text": ""
          }
         }
        },
        "scene2": {
         "aspectratio": {
          "x": 1,
          "y": 1,
          "z": 1
         },
         "domain": {
          "x": [
           0.35,
           0.6499999999999999
          ],
          "y": [
           0,
           1
          ]
         },
         "xaxis": {
          "showticklabels": false,
          "title": {
           "text": ""
          }
         },
         "yaxis": {
          "showticklabels": false,
          "title": {
           "text": ""
          }
         },
         "zaxis": {
          "showticklabels": false,
          "title": {
           "text": ""
          }
         }
        },
        "scene3": {
         "aspectratio": {
          "x": 1,
          "y": 1,
          "z": 1
         },
         "domain": {
          "x": [
           0.7,
           1
          ],
          "y": [
           0,
           1
          ]
         },
         "xaxis": {
          "showticklabels": false,
          "title": {
           "text": ""
          }
         },
         "yaxis": {
          "showticklabels": false,
          "title": {
           "text": ""
          }
         },
         "zaxis": {
          "showticklabels": false,
          "title": {
           "text": ""
          }
         }
        },
        "template": {
         "data": {
          "bar": [
           {
            "error_x": {
             "color": "#2a3f5f"
            },
            "error_y": {
             "color": "#2a3f5f"
            },
            "marker": {
             "line": {
              "color": "#E5ECF6",
              "width": 0.5
             },
             "pattern": {
              "fillmode": "overlay",
              "size": 10,
              "solidity": 0.2
             }
            },
            "type": "bar"
           }
          ],
          "barpolar": [
           {
            "marker": {
             "line": {
              "color": "#E5ECF6",
              "width": 0.5
             },
             "pattern": {
              "fillmode": "overlay",
              "size": 10,
              "solidity": 0.2
             }
            },
            "type": "barpolar"
           }
          ],
          "carpet": [
           {
            "aaxis": {
             "endlinecolor": "#2a3f5f",
             "gridcolor": "white",
             "linecolor": "white",
             "minorgridcolor": "white",
             "startlinecolor": "#2a3f5f"
            },
            "baxis": {
             "endlinecolor": "#2a3f5f",
             "gridcolor": "white",
             "linecolor": "white",
             "minorgridcolor": "white",
             "startlinecolor": "#2a3f5f"
            },
            "type": "carpet"
           }
          ],
          "choropleth": [
           {
            "colorbar": {
             "outlinewidth": 0,
             "ticks": ""
            },
            "type": "choropleth"
           }
          ],
          "contour": [
           {
            "colorbar": {
             "outlinewidth": 0,
             "ticks": ""
            },
            "colorscale": [
             [
              0,
              "#0d0887"
             ],
             [
              0.1111111111111111,
              "#46039f"
             ],
             [
              0.2222222222222222,
              "#7201a8"
             ],
             [
              0.3333333333333333,
              "#9c179e"
             ],
             [
              0.4444444444444444,
              "#bd3786"
             ],
             [
              0.5555555555555556,
              "#d8576b"
             ],
             [
              0.6666666666666666,
              "#ed7953"
             ],
             [
              0.7777777777777778,
              "#fb9f3a"
             ],
             [
              0.8888888888888888,
              "#fdca26"
             ],
             [
              1,
              "#f0f921"
             ]
            ],
            "type": "contour"
           }
          ],
          "contourcarpet": [
           {
            "colorbar": {
             "outlinewidth": 0,
             "ticks": ""
            },
            "type": "contourcarpet"
           }
          ],
          "heatmap": [
           {
            "colorbar": {
             "outlinewidth": 0,
             "ticks": ""
            },
            "colorscale": [
             [
              0,
              "#0d0887"
             ],
             [
              0.1111111111111111,
              "#46039f"
             ],
             [
              0.2222222222222222,
              "#7201a8"
             ],
             [
              0.3333333333333333,
              "#9c179e"
             ],
             [
              0.4444444444444444,
              "#bd3786"
             ],
             [
              0.5555555555555556,
              "#d8576b"
             ],
             [
              0.6666666666666666,
              "#ed7953"
             ],
             [
              0.7777777777777778,
              "#fb9f3a"
             ],
             [
              0.8888888888888888,
              "#fdca26"
             ],
             [
              1,
              "#f0f921"
             ]
            ],
            "type": "heatmap"
           }
          ],
          "heatmapgl": [
           {
            "colorbar": {
             "outlinewidth": 0,
             "ticks": ""
            },
            "colorscale": [
             [
              0,
              "#0d0887"
             ],
             [
              0.1111111111111111,
              "#46039f"
             ],
             [
              0.2222222222222222,
              "#7201a8"
             ],
             [
              0.3333333333333333,
              "#9c179e"
             ],
             [
              0.4444444444444444,
              "#bd3786"
             ],
             [
              0.5555555555555556,
              "#d8576b"
             ],
             [
              0.6666666666666666,
              "#ed7953"
             ],
             [
              0.7777777777777778,
              "#fb9f3a"
             ],
             [
              0.8888888888888888,
              "#fdca26"
             ],
             [
              1,
              "#f0f921"
             ]
            ],
            "type": "heatmapgl"
           }
          ],
          "histogram": [
           {
            "marker": {
             "pattern": {
              "fillmode": "overlay",
              "size": 10,
              "solidity": 0.2
             }
            },
            "type": "histogram"
           }
          ],
          "histogram2d": [
           {
            "colorbar": {
             "outlinewidth": 0,
             "ticks": ""
            },
            "colorscale": [
             [
              0,
              "#0d0887"
             ],
             [
              0.1111111111111111,
              "#46039f"
             ],
             [
              0.2222222222222222,
              "#7201a8"
             ],
             [
              0.3333333333333333,
              "#9c179e"
             ],
             [
              0.4444444444444444,
              "#bd3786"
             ],
             [
              0.5555555555555556,
              "#d8576b"
             ],
             [
              0.6666666666666666,
              "#ed7953"
             ],
             [
              0.7777777777777778,
              "#fb9f3a"
             ],
             [
              0.8888888888888888,
              "#fdca26"
             ],
             [
              1,
              "#f0f921"
             ]
            ],
            "type": "histogram2d"
           }
          ],
          "histogram2dcontour": [
           {
            "colorbar": {
             "outlinewidth": 0,
             "ticks": ""
            },
            "colorscale": [
             [
              0,
              "#0d0887"
             ],
             [
              0.1111111111111111,
              "#46039f"
             ],
             [
              0.2222222222222222,
              "#7201a8"
             ],
             [
              0.3333333333333333,
              "#9c179e"
             ],
             [
              0.4444444444444444,
              "#bd3786"
             ],
             [
              0.5555555555555556,
              "#d8576b"
             ],
             [
              0.6666666666666666,
              "#ed7953"
             ],
             [
              0.7777777777777778,
              "#fb9f3a"
             ],
             [
              0.8888888888888888,
              "#fdca26"
             ],
             [
              1,
              "#f0f921"
             ]
            ],
            "type": "histogram2dcontour"
           }
          ],
          "mesh3d": [
           {
            "colorbar": {
             "outlinewidth": 0,
             "ticks": ""
            },
            "type": "mesh3d"
           }
          ],
          "parcoords": [
           {
            "line": {
             "colorbar": {
              "outlinewidth": 0,
              "ticks": ""
             }
            },
            "type": "parcoords"
           }
          ],
          "pie": [
           {
            "automargin": true,
            "type": "pie"
           }
          ],
          "scatter": [
           {
            "fillpattern": {
             "fillmode": "overlay",
             "size": 10,
             "solidity": 0.2
            },
            "type": "scatter"
           }
          ],
          "scatter3d": [
           {
            "line": {
             "colorbar": {
              "outlinewidth": 0,
              "ticks": ""
             }
            },
            "marker": {
             "colorbar": {
              "outlinewidth": 0,
              "ticks": ""
             }
            },
            "type": "scatter3d"
           }
          ],
          "scattercarpet": [
           {
            "marker": {
             "colorbar": {
              "outlinewidth": 0,
              "ticks": ""
             }
            },
            "type": "scattercarpet"
           }
          ],
          "scattergeo": [
           {
            "marker": {
             "colorbar": {
              "outlinewidth": 0,
              "ticks": ""
             }
            },
            "type": "scattergeo"
           }
          ],
          "scattergl": [
           {
            "marker": {
             "colorbar": {
              "outlinewidth": 0,
              "ticks": ""
             }
            },
            "type": "scattergl"
           }
          ],
          "scattermapbox": [
           {
            "marker": {
             "colorbar": {
              "outlinewidth": 0,
              "ticks": ""
             }
            },
            "type": "scattermapbox"
           }
          ],
          "scatterpolar": [
           {
            "marker": {
             "colorbar": {
              "outlinewidth": 0,
              "ticks": ""
             }
            },
            "type": "scatterpolar"
           }
          ],
          "scatterpolargl": [
           {
            "marker": {
             "colorbar": {
              "outlinewidth": 0,
              "ticks": ""
             }
            },
            "type": "scatterpolargl"
           }
          ],
          "scatterternary": [
           {
            "marker": {
             "colorbar": {
              "outlinewidth": 0,
              "ticks": ""
             }
            },
            "type": "scatterternary"
           }
          ],
          "surface": [
           {
            "colorbar": {
             "outlinewidth": 0,
             "ticks": ""
            },
            "colorscale": [
             [
              0,
              "#0d0887"
             ],
             [
              0.1111111111111111,
              "#46039f"
             ],
             [
              0.2222222222222222,
              "#7201a8"
             ],
             [
              0.3333333333333333,
              "#9c179e"
             ],
             [
              0.4444444444444444,
              "#bd3786"
             ],
             [
              0.5555555555555556,
              "#d8576b"
             ],
             [
              0.6666666666666666,
              "#ed7953"
             ],
             [
              0.7777777777777778,
              "#fb9f3a"
             ],
             [
              0.8888888888888888,
              "#fdca26"
             ],
             [
              1,
              "#f0f921"
             ]
            ],
            "type": "surface"
           }
          ],
          "table": [
           {
            "cells": {
             "fill": {
              "color": "#EBF0F8"
             },
             "line": {
              "color": "white"
             }
            },
            "header": {
             "fill": {
              "color": "#C8D4E3"
             },
             "line": {
              "color": "white"
             }
            },
            "type": "table"
           }
          ]
         },
         "layout": {
          "annotationdefaults": {
           "arrowcolor": "#2a3f5f",
           "arrowhead": 0,
           "arrowwidth": 1
          },
          "autotypenumbers": "strict",
          "coloraxis": {
           "colorbar": {
            "outlinewidth": 0,
            "ticks": ""
           }
          },
          "colorscale": {
           "diverging": [
            [
             0,
             "#8e0152"
            ],
            [
             0.1,
             "#c51b7d"
            ],
            [
             0.2,
             "#de77ae"
            ],
            [
             0.3,
             "#f1b6da"
            ],
            [
             0.4,
             "#fde0ef"
            ],
            [
             0.5,
             "#f7f7f7"
            ],
            [
             0.6,
             "#e6f5d0"
            ],
            [
             0.7,
             "#b8e186"
            ],
            [
             0.8,
             "#7fbc41"
            ],
            [
             0.9,
             "#4d9221"
            ],
            [
             1,
             "#276419"
            ]
           ],
           "sequential": [
            [
             0,
             "#0d0887"
            ],
            [
             0.1111111111111111,
             "#46039f"
            ],
            [
             0.2222222222222222,
             "#7201a8"
            ],
            [
             0.3333333333333333,
             "#9c179e"
            ],
            [
             0.4444444444444444,
             "#bd3786"
            ],
            [
             0.5555555555555556,
             "#d8576b"
            ],
            [
             0.6666666666666666,
             "#ed7953"
            ],
            [
             0.7777777777777778,
             "#fb9f3a"
            ],
            [
             0.8888888888888888,
             "#fdca26"
            ],
            [
             1,
             "#f0f921"
            ]
           ],
           "sequentialminus": [
            [
             0,
             "#0d0887"
            ],
            [
             0.1111111111111111,
             "#46039f"
            ],
            [
             0.2222222222222222,
             "#7201a8"
            ],
            [
             0.3333333333333333,
             "#9c179e"
            ],
            [
             0.4444444444444444,
             "#bd3786"
            ],
            [
             0.5555555555555556,
             "#d8576b"
            ],
            [
             0.6666666666666666,
             "#ed7953"
            ],
            [
             0.7777777777777778,
             "#fb9f3a"
            ],
            [
             0.8888888888888888,
             "#fdca26"
            ],
            [
             1,
             "#f0f921"
            ]
           ]
          },
          "colorway": [
           "#636efa",
           "#EF553B",
           "#00cc96",
           "#ab63fa",
           "#FFA15A",
           "#19d3f3",
           "#FF6692",
           "#B6E880",
           "#FF97FF",
           "#FECB52"
          ],
          "font": {
           "color": "#2a3f5f"
          },
          "geo": {
           "bgcolor": "white",
           "lakecolor": "white",
           "landcolor": "#E5ECF6",
           "showlakes": true,
           "showland": true,
           "subunitcolor": "white"
          },
          "hoverlabel": {
           "align": "left"
          },
          "hovermode": "closest",
          "mapbox": {
           "style": "light"
          },
          "paper_bgcolor": "white",
          "plot_bgcolor": "#E5ECF6",
          "polar": {
           "angularaxis": {
            "gridcolor": "white",
            "linecolor": "white",
            "ticks": ""
           },
           "bgcolor": "#E5ECF6",
           "radialaxis": {
            "gridcolor": "white",
            "linecolor": "white",
            "ticks": ""
           }
          },
          "scene": {
           "xaxis": {
            "backgroundcolor": "#E5ECF6",
            "gridcolor": "white",
            "gridwidth": 2,
            "linecolor": "white",
            "showbackground": true,
            "ticks": "",
            "zerolinecolor": "white"
           },
           "yaxis": {
            "backgroundcolor": "#E5ECF6",
            "gridcolor": "white",
            "gridwidth": 2,
            "linecolor": "white",
            "showbackground": true,
            "ticks": "",
            "zerolinecolor": "white"
           },
           "zaxis": {
            "backgroundcolor": "#E5ECF6",
            "gridcolor": "white",
            "gridwidth": 2,
            "linecolor": "white",
            "showbackground": true,
            "ticks": "",
            "zerolinecolor": "white"
           }
          },
          "shapedefaults": {
           "line": {
            "color": "#2a3f5f"
           }
          },
          "ternary": {
           "aaxis": {
            "gridcolor": "white",
            "linecolor": "white",
            "ticks": ""
           },
           "baxis": {
            "gridcolor": "white",
            "linecolor": "white",
            "ticks": ""
           },
           "bgcolor": "#E5ECF6",
           "caxis": {
            "gridcolor": "white",
            "linecolor": "white",
            "ticks": ""
           }
          },
          "title": {
           "x": 0.05
          },
          "xaxis": {
           "automargin": true,
           "gridcolor": "white",
           "linecolor": "white",
           "ticks": "",
           "title": {
            "standoff": 15
           },
           "zerolinecolor": "white",
           "zerolinewidth": 2
          },
          "yaxis": {
           "automargin": true,
           "gridcolor": "white",
           "linecolor": "white",
           "ticks": "",
           "title": {
            "standoff": 15
           },
           "zerolinecolor": "white",
           "zerolinewidth": 2
          }
         }
        },
        "width": 1600,
        "xaxis": {
         "mirror": true,
         "showline": true
        },
        "yaxis": {
         "mirror": true,
         "showline": true
        }
       }
      }
     },
     "metadata": {},
     "output_type": "display_data"
    }
   ],
   "source": [
    "# Generated\n",
    "multiviz_trajs(px_trajs[:3], py_trajs[:3], pz_trajs[:3], nrows=1, ncols=3, num_agents=num_agent, height=400, width=1_600)"
   ]
  },
  {
   "cell_type": "code",
   "execution_count": 47,
   "metadata": {},
   "outputs": [
    {
     "name": "stderr",
     "output_type": "stream",
     "text": [
      "100%|██████████| 19999/19999 [16:48<00:00, 19.83it/s]\n"
     ]
    }
   ],
   "source": [
    "collect_data = True\n",
    "centers, radiis = [], []\n",
    "primal_sol, expert_data, cond_data, latent = [], [], [], []\n",
    "\n",
    "if collect_data:\n",
    "    val_loader = DataLoader(dataset, batch_size=1, shuffle=True, drop_last=False)\n",
    "\n",
    "    for (x_trajs, y_trajs, z_trajs), (center, radii) in tqdm(val_loader):\n",
    "\n",
    "        with th.no_grad():\n",
    "            trajs = th.stack([x_trajs, y_trajs, z_trajs], dim=-3).to(device)\n",
    "            x_init, y_init, z_init = trajs[:, 0, :, 0], trajs[:, 1, :, 0], trajs[:, 2, :, 0]\n",
    "            x_fin, y_fin, z_fin = trajs[:, 0, :, -1], trajs[:, 1, :, -1], trajs[:, 2, :, -1]\n",
    "            \n",
    "            state = th.cat([\n",
    "                trajs[..., :1], th.zeros(1, 3, num_agent, 2, device=device), \n",
    "                trajs[..., -1:], th.zeros(1, 3, num_agent, 2, device=device)\n",
    "            ], dim=-1) \n",
    "            conditions = th.stack([trajs[..., 0], trajs[..., -1]], dim=-1)\n",
    "\n",
    "            latent_idx = th.zeros(sample_b, num_agent, lheight, lwidth, dtype=th.float32, device=device)\n",
    "            for i in range(lheight):\n",
    "                for j in range(lwidth):\n",
    "                    output = sampler(latent_idx, conditions.permute(0, 2, 1, 3))\n",
    "                    latent_idx[:, :, i, j] = th.multinomial(\n",
    "                        th.nn.functional.softmax(output[:, :, i, j].cpu(), dim=-1),\n",
    "                        num_samples=1\n",
    "                    )\n",
    "\n",
    "            latent = vq_model.quantizer.embedding(latent_idx.to(dtype=th.int32))[:, 0]\n",
    "            \n",
    "            rec_sol = vq_model.decode(\n",
    "                latent, \n",
    "                x_init.repeat_interleave(sample_b, 0), y_init.repeat_interleave(sample_b, 0), z_init.repeat_interleave(sample_b, 0), \n",
    "                x_fin.repeat_interleave(sample_b, 0), y_fin.repeat_interleave(sample_b, 0), z_fin.repeat_interleave(sample_b, 0)\n",
    "            )\n",
    "            rec_trajs = rec_sol @ P.mT\n",
    "            rec_trajs = rec_trajs.cpu().numpy()\n",
    "            px_trajs, py_trajs, pz_trajs = rec_trajs[:, 0, :, :], rec_trajs[:, 1, :, :], rec_trajs[:, 2, :, :]\n",
    "\n",
    "        primal_sol.append(rec_sol.detach().cpu())\n",
    "        expert_data.append(trajs.detach().cpu())\n",
    "        cond_data.append(state.repeat_interleave(sample_b, 0).detach().cpu())\n",
    "        centers.append(center.repeat_interleave(sample_b, 0).detach().cpu())\n",
    "        radiis.append(radii.repeat_interleave(sample_b, 0).detach().cpu())\n",
    "\n",
    "    np.savez(\n",
    "        f\"./resources/data/traj_data/varying_bounds_{num_agent}/multi_trajs_vq_{vq_name}_batch_{sample_b}\", \n",
    "        primals=th.cat(primal_sol).detach().cpu().numpy(),\n",
    "        experts=th.cat(expert_data).detach().cpu().numpy(),\n",
    "        condition=th.cat(cond_data).detach().cpu().numpy(),\n",
    "        centers=th.cat(centers).detach().cpu().numpy(),\n",
    "        radiis=th.cat(radiis).detach().cpu().numpy(),\n",
    "    )"
   ]
  },
  {
   "cell_type": "code",
   "execution_count": null,
   "metadata": {},
   "outputs": [],
   "source": []
  }
 ],
 "metadata": {
  "kernelspec": {
   "display_name": "Python 3",
   "language": "python",
   "name": "python3"
  },
  "language_info": {
   "codemirror_mode": {
    "name": "ipython",
    "version": 3
   },
   "file_extension": ".py",
   "mimetype": "text/x-python",
   "name": "python",
   "nbconvert_exporter": "python",
   "pygments_lexer": "ipython3",
   "version": "3.12.7"
  }
 },
 "nbformat": 4,
 "nbformat_minor": 2
}
