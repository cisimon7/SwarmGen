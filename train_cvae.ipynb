{
 "cells": [
  {
   "cell_type": "code",
   "execution_count": 1,
   "metadata": {},
   "outputs": [],
   "source": [
    "import random\n",
    "import numpy as np\n",
    "import torch as th\n",
    "from tqdm import tqdm\n",
    "from torchinfo import summary\n",
    "from torch.utils.data import DataLoader, random_split\n",
    "\n",
    "import matplotlib.pyplot as plt\n",
    "import plotly.graph_objects as go\n",
    "from utils.plots import multiviz_trajs\n",
    "\n",
    "from models.cvae import CVAEModel, torch_log\n",
    "from utils.load_data import get_varying_bound_dataset_num_agent\n",
    "from utils.bernstein_coeff_order10_arbitinterval import get_coeffs"
   ]
  },
  {
   "cell_type": "code",
   "execution_count": 2,
   "metadata": {},
   "outputs": [
    {
     "name": "stdout",
     "output_type": "stream",
     "text": [
      "Random Seed:  999\n"
     ]
    }
   ],
   "source": [
    "manualSeed = 999            \n",
    "print(\"Random Seed: \", manualSeed)\n",
    "\n",
    "random.seed(manualSeed)\n",
    "th.manual_seed(manualSeed)\n",
    "np.random.seed(manualSeed)\n",
    "th.use_deterministic_algorithms(False)\n",
    "\n",
    "th.set_float32_matmul_precision('high')"
   ]
  },
  {
   "cell_type": "code",
   "execution_count": 3,
   "metadata": {},
   "outputs": [
    {
     "name": "stdout",
     "output_type": "stream",
     "text": [
      "cuda\n"
     ]
    }
   ],
   "source": [
    "num         = 50\n",
    "t_fin       = 5\n",
    "num_agent   = 4\n",
    "\n",
    "cv_name     = \"vary_01\"\n",
    "batch_size  = 256\n",
    "\n",
    "nef         = 128   # Size of feature maps in encoder\n",
    "ndf         = 128   # Size of feature maps in decoder\n",
    "\n",
    "zdim        = 3     # Size of codebook vectors in the quantizer layer\n",
    "lheight     = 5     # latent vector height\n",
    "lwidth      = 5     # Latent vector width\n",
    "\n",
    "num_epochs  = 300\n",
    "device      = th.device(\"cuda\" if th.cuda.is_available() else \"cpu\")\n",
    "\n",
    "print(device)"
   ]
  },
  {
   "cell_type": "code",
   "execution_count": 4,
   "metadata": {},
   "outputs": [],
   "source": [
    "P, Pdot, Pddot = get_coeffs(num, t_fin, device)\n",
    "nvar = P.size(dim=-1) "
   ]
  },
  {
   "cell_type": "code",
   "execution_count": 5,
   "metadata": {},
   "outputs": [
    {
     "name": "stdout",
     "output_type": "stream",
     "text": [
      "19999\n"
     ]
    }
   ],
   "source": [
    "dataset = get_varying_bound_dataset_num_agent(P.cpu(), num_agent, nvar)\n",
    "len_data = len(dataset)\n",
    "len_val = max(10, int(0.05 * len_data))\n",
    "\n",
    "gen = th.Generator().manual_seed(42)\n",
    "train_set, val_set = random_split(dataset, [len_data - len_val, len_val], gen)\n",
    "\n",
    "val_loader = DataLoader(val_set, batch_size=batch_size, shuffle=True, drop_last=True)\n",
    "train_loader = DataLoader(train_set, batch_size=batch_size, shuffle=True, drop_last=True)\n",
    "\n",
    "print(len_data)"
   ]
  },
  {
   "cell_type": "code",
   "execution_count": 6,
   "metadata": {},
   "outputs": [
    {
     "data": {
      "text/plain": [
       "(0.17345280945301056, 1.0734777450561523)"
      ]
     },
     "execution_count": 6,
     "metadata": {},
     "output_type": "execute_result"
    }
   ],
   "source": [
    "trajs = th.stack([th.stack([data[0][0], data[0][1], data[0][2]], dim=-3) for data in dataset])\n",
    "cond = th.stack([trajs[..., 0], trajs[..., -1]], dim=-1)\n",
    "cond_mean, cond_std = cond.mean(), cond.std()\n",
    "\n",
    "del trajs, cond\n",
    "cond_mean.item(), cond_std.item()"
   ]
  },
  {
   "cell_type": "code",
   "execution_count": 7,
   "metadata": {},
   "outputs": [
    {
     "data": {
      "text/plain": [
       "==========================================================================================\n",
       "Layer (type:depth-idx)                   Output Shape              Param #\n",
       "==========================================================================================\n",
       "CVAEModel                                [256, 3, 4, 11]           --\n",
       "├─Encoder: 1-1                           [256, 75]                 --\n",
       "│    └─Sequential: 2-1                   [256, 75]                 --\n",
       "│    │    └─Conv2d: 3-1                  [256, 128, 4, 58]         71,808\n",
       "│    │    └─BatchNorm2d: 3-2             [256, 128, 4, 58]         256\n",
       "│    │    └─LeakyReLU: 3-3               [256, 128, 4, 58]         --\n",
       "│    │    └─AdaptiveAvgPool2d: 3-4       [256, 128, 10, 40]        --\n",
       "│    │    └─Conv2d: 3-5                  [256, 128, 10, 40]        1,982,464\n",
       "│    │    └─BatchNorm2d: 3-6             [256, 128, 10, 40]        256\n",
       "│    │    └─LeakyReLU: 3-7               [256, 128, 10, 40]        --\n",
       "│    │    └─AdaptiveAvgPool2d: 3-8       [256, 128, 8, 30]         --\n",
       "│    │    └─Conv2d: 3-9                  [256, 128, 8, 30]         1,622,016\n",
       "│    │    └─BatchNorm2d: 3-10            [256, 128, 8, 30]         256\n",
       "│    │    └─LeakyReLU: 3-11              [256, 128, 8, 30]         --\n",
       "│    │    └─AdaptiveAvgPool2d: 3-12      [256, 128, 4, 20]         --\n",
       "│    │    └─Conv2d: 3-13                 [256, 128, 4, 20]         901,120\n",
       "│    │    └─BatchNorm2d: 3-14            [256, 128, 4, 20]         256\n",
       "│    │    └─LeakyReLU: 3-15              [256, 128, 4, 20]         --\n",
       "│    │    └─AdaptiveAvgPool2d: 3-16      [256, 128, 5, 3]          --\n",
       "│    │    └─Conv2d: 3-17                 [256, 5, 5, 3]            645\n",
       "│    │    └─Flatten: 3-18                [256, 75]                 --\n",
       "│    └─Linear: 2-2                       [256, 75]                 5,700\n",
       "│    └─Linear: 2-3                       [256, 75]                 5,700\n",
       "│    └─Softplus: 2-4                     [256, 75]                 --\n",
       "├─Decoder: 1-2                           [256, 3, 4, 11]           --\n",
       "│    └─Sequential: 2-5                   [256, 5, 5, 3]            --\n",
       "│    │    └─ConvTranspose2d: 3-19        [256, 128, 8, 9]          3,840\n",
       "│    │    └─BatchNorm2d: 3-20            [256, 128, 8, 9]          256\n",
       "│    │    └─ReLU: 3-21                   [256, 128, 8, 9]          --\n",
       "│    │    └─AdaptiveAvgPool2d: 3-22      [256, 128, 5, 3]          --\n",
       "│    │    └─Conv2d: 3-23                 [256, 5, 5, 3]            645\n",
       "│    └─Sequential: 2-6                   [256, 3, 4, 11]           --\n",
       "│    │    └─ConvTranspose2d: 3-24        [256, 1024, 14, 7]        102,400\n",
       "│    │    └─BatchNorm2d: 3-25            [256, 1024, 14, 7]        2,048\n",
       "│    │    └─ReLU: 3-26                   [256, 1024, 14, 7]        --\n",
       "│    │    └─Dropout2d: 3-27              [256, 1024, 14, 7]        --\n",
       "│    │    └─AdaptiveAvgPool2d: 3-28      [256, 1024, 8, 6]         --\n",
       "│    │    └─ConvTranspose2d: 3-29        [256, 512, 12, 7]         5,242,880\n",
       "│    │    └─BatchNorm2d: 3-30            [256, 512, 12, 7]         1,024\n",
       "│    │    └─ReLU: 3-31                   [256, 512, 12, 7]         --\n",
       "│    │    └─Dropout2d: 3-32              [256, 512, 12, 7]         --\n",
       "│    │    └─AdaptiveAvgPool2d: 3-33      [256, 512, 10, 8]         --\n",
       "│    │    └─ConvTranspose2d: 3-34        [256, 256, 15, 12]        3,932,160\n",
       "│    │    └─BatchNorm2d: 3-35            [256, 256, 15, 12]        512\n",
       "│    │    └─ReLU: 3-36                   [256, 256, 15, 12]        --\n",
       "│    │    └─Dropout2d: 3-37              [256, 256, 15, 12]        --\n",
       "│    │    └─ConvTranspose2d: 3-38        [256, 3, 19, 14]          11,520\n",
       "│    │    └─BatchNorm2d: 3-39            [256, 3, 19, 14]          6\n",
       "│    │    └─ReLU: 3-40                   [256, 3, 19, 14]          --\n",
       "│    │    └─AdaptiveAvgPool2d: 3-41      [256, 3, 4, 11]           --\n",
       "│    │    └─Linear: 3-42                 [256, 3, 4, 11]           132\n",
       "==========================================================================================\n",
       "Total params: 13,887,900\n",
       "Trainable params: 13,887,900\n",
       "Non-trainable params: 0\n",
       "Total mult-adds (Units.GIGABYTES): 622.75\n",
       "==========================================================================================\n",
       "Input size (MB): 0.74\n",
       "Forward/backward pass size (MB): 1316.97\n",
       "Params size (MB): 55.55\n",
       "Estimated Total Size (MB): 1373.26\n",
       "=========================================================================================="
      ]
     },
     "execution_count": 7,
     "metadata": {},
     "output_type": "execute_result"
    }
   ],
   "source": [
    "cv_model = CVAEModel(\n",
    "    P, Pdot, Pddot, num_agent, nvar, \n",
    "    cond_mean, cond_std, zdim, tdim=3, \n",
    "    lheight=lheight, lwidth=lwidth, nef=nef, ndf=ndf, device=device, batch=batch_size\n",
    ")\n",
    "cv_model.to(device=device)\n",
    "ccv_model = th.compile(cv_model)\n",
    "\n",
    "cv_model.train()\n",
    "summary(cv_model, [\n",
    "    (batch_size, 3, num_agent, num), (batch_size, 3, num_agent, 8),\n",
    "    (batch_size, num_agent), (batch_size, num_agent), (batch_size, num_agent),\n",
    "    (batch_size, num_agent), (batch_size, num_agent), (batch_size, num_agent)\n",
    "])"
   ]
  },
  {
   "cell_type": "code",
   "execution_count": 8,
   "metadata": {},
   "outputs": [],
   "source": [
    "optimizer = th.optim.AdamW(cv_model.parameters(), lr=1e-3, weight_decay=6e-1)\n",
    "scheduler = th.optim.lr_scheduler.ReduceLROnPlateau(optimizer, factor=0.5, patience=3)"
   ]
  },
  {
   "cell_type": "code",
   "execution_count": 9,
   "metadata": {},
   "outputs": [
    {
     "name": "stderr",
     "output_type": "stream",
     "text": [
      "Epoch:  0/300: 100%|██████████| 74/74 [00:09<00:00,  7.68it/s, Loss_Train=0.1624, Loss_Rec=0.1624, Loss_KLD=138.1408, Loss_Len=0.0951]\n",
      "Epoch:  1/300: 100%|██████████| 74/74 [00:09<00:00,  7.77it/s, Loss_Train=0.0563, Loss_Rec=0.0554, Loss_KLD=155.0290, Loss_Len=0.0675]\n",
      "Epoch:  2/300: 100%|██████████| 74/74 [00:09<00:00,  7.83it/s, Loss_Train=0.0250, Loss_Rec=0.0235, Loss_KLD=130.0531, Loss_Len=0.0577]\n",
      "Epoch:  3/300: 100%|██████████| 74/74 [00:09<00:00,  7.80it/s, Loss_Train=0.0176, Loss_Rec=0.0155, Loss_KLD=121.6238, Loss_Len=0.0549]\n",
      "Epoch:  4/300: 100%|██████████| 74/74 [00:09<00:00,  7.80it/s, Loss_Train=0.0141, Loss_Rec=0.0116, Loss_KLD=105.4653, Loss_Len=0.0537]\n",
      "Epoch:  5/300: 100%|██████████| 74/74 [00:09<00:00,  7.77it/s, Loss_Train=0.0127, Loss_Rec=0.0100, Loss_KLD=91.7844, Loss_Len=0.0535]\n",
      "Epoch:  6/300: 100%|██████████| 74/74 [00:09<00:00,  7.81it/s, Loss_Train=0.0113, Loss_Rec=0.0085, Loss_KLD=79.8227, Loss_Len=0.0536]\n",
      "Epoch:  7/300: 100%|██████████| 74/74 [00:09<00:00,  7.71it/s, Loss_Train=0.0103, Loss_Rec=0.0075, Loss_KLD=69.0745, Loss_Len=0.0539]\n",
      "Epoch:  8/300: 100%|██████████| 74/74 [00:09<00:00,  7.56it/s, Loss_Train=0.0103, Loss_Rec=0.0074, Loss_KLD=60.7521, Loss_Len=0.0543]\n",
      "Epoch:  9/300: 100%|██████████| 74/74 [00:09<00:00,  7.73it/s, Loss_Train=0.0095, Loss_Rec=0.0067, Loss_KLD=51.9783, Loss_Len=0.0545]\n",
      "Epoch: 10/300: 100%|██████████| 74/74 [00:09<00:00,  7.76it/s, Loss_Train=0.0090, Loss_Rec=0.0065, Loss_KLD=43.9166, Loss_Len=0.0547]\n",
      "Epoch: 11/300: 100%|██████████| 74/74 [00:09<00:00,  7.80it/s, Loss_Train=0.0090, Loss_Rec=0.0065, Loss_KLD=37.8672, Loss_Len=0.0549]\n",
      "Epoch: 12/300: 100%|██████████| 74/74 [00:09<00:00,  7.82it/s, Loss_Train=0.0084, Loss_Rec=0.0062, Loss_KLD=31.8919, Loss_Len=0.0549]\n",
      "Epoch: 13/300: 100%|██████████| 74/74 [00:09<00:00,  7.84it/s, Loss_Train=0.0082, Loss_Rec=0.0061, Loss_KLD=26.9108, Loss_Len=0.0550]\n",
      "Epoch: 14/300: 100%|██████████| 74/74 [00:09<00:00,  7.73it/s, Loss_Train=0.0076, Loss_Rec=0.0057, Loss_KLD=22.6275, Loss_Len=0.0550]\n",
      "Epoch: 15/300: 100%|██████████| 74/74 [00:09<00:00,  7.71it/s, Loss_Train=0.0075, Loss_Rec=0.0058, Loss_KLD=19.2557, Loss_Len=0.0552]\n",
      "Epoch: 16/300: 100%|██████████| 74/74 [00:09<00:00,  7.73it/s, Loss_Train=0.0076, Loss_Rec=0.0060, Loss_KLD=16.8682, Loss_Len=0.0553]\n",
      "Epoch: 17/300: 100%|██████████| 74/74 [00:09<00:00,  7.72it/s, Loss_Train=0.0067, Loss_Rec=0.0053, Loss_KLD=13.9157, Loss_Len=0.0552]\n",
      "Epoch: 18/300: 100%|██████████| 74/74 [00:09<00:00,  7.75it/s, Loss_Train=0.0062, Loss_Rec=0.0050, Loss_KLD=11.6288, Loss_Len=0.0552]\n",
      "Epoch: 19/300: 100%|██████████| 74/74 [00:09<00:00,  7.71it/s, Loss_Train=0.0064, Loss_Rec=0.0053, Loss_KLD=10.1707, Loss_Len=0.0553]\n",
      "Epoch: 20/300: 100%|██████████| 74/74 [00:09<00:00,  7.73it/s, Loss_Train=0.0062, Loss_Rec=0.0051, Loss_KLD=9.2344, Loss_Len=0.0553]\n",
      "Epoch: 21/300: 100%|██████████| 74/74 [00:09<00:00,  7.76it/s, Loss_Train=0.0058, Loss_Rec=0.0049, Loss_KLD=7.8576, Loss_Len=0.0553]\n",
      "Epoch: 22/300: 100%|██████████| 74/74 [00:09<00:00,  7.64it/s, Loss_Train=0.0055, Loss_Rec=0.0046, Loss_KLD=6.5507, Loss_Len=0.0553]\n",
      "Epoch: 23/300: 100%|██████████| 74/74 [00:09<00:00,  7.61it/s, Loss_Train=0.0054, Loss_Rec=0.0047, Loss_KLD=5.5923, Loss_Len=0.0553]\n",
      "Epoch: 24/300: 100%|██████████| 74/74 [00:09<00:00,  7.64it/s, Loss_Train=0.0053, Loss_Rec=0.0046, Loss_KLD=4.6330, Loss_Len=0.0553]\n",
      "Epoch: 25/300: 100%|██████████| 74/74 [00:09<00:00,  7.69it/s, Loss_Train=0.0053, Loss_Rec=0.0048, Loss_KLD=3.7811, Loss_Len=0.0554]\n",
      "Epoch: 26/300: 100%|██████████| 74/74 [00:09<00:00,  7.75it/s, Loss_Train=0.0051, Loss_Rec=0.0046, Loss_KLD=3.3019, Loss_Len=0.0554]\n",
      "Epoch: 27/300: 100%|██████████| 74/74 [00:09<00:00,  7.72it/s, Loss_Train=0.0047, Loss_Rec=0.0042, Loss_KLD=2.7497, Loss_Len=0.0553]\n",
      "Epoch: 28/300: 100%|██████████| 74/74 [00:09<00:00,  7.74it/s, Loss_Train=0.0049, Loss_Rec=0.0045, Loss_KLD=2.5999, Loss_Len=0.0554]\n",
      "Epoch: 29/300: 100%|██████████| 74/74 [00:09<00:00,  7.68it/s, Loss_Train=0.0046, Loss_Rec=0.0042, Loss_KLD=2.2066, Loss_Len=0.0554]\n",
      "Epoch: 30/300: 100%|██████████| 74/74 [00:09<00:00,  7.78it/s, Loss_Train=0.0043, Loss_Rec=0.0040, Loss_KLD=1.8103, Loss_Len=0.0554]\n",
      "Epoch: 31/300: 100%|██████████| 74/74 [00:09<00:00,  7.75it/s, Loss_Train=0.0043, Loss_Rec=0.0040, Loss_KLD=1.4743, Loss_Len=0.0554]\n",
      "Epoch: 32/300: 100%|██████████| 74/74 [00:09<00:00,  7.74it/s, Loss_Train=0.0042, Loss_Rec=0.0040, Loss_KLD=0.9503, Loss_Len=0.0554]\n",
      "Epoch: 33/300: 100%|██████████| 74/74 [00:09<00:00,  7.78it/s, Loss_Train=0.0042, Loss_Rec=0.0040, Loss_KLD=0.7452, Loss_Len=0.0554]\n",
      "Epoch: 34/300: 100%|██████████| 74/74 [00:09<00:00,  7.71it/s, Loss_Train=0.0041, Loss_Rec=0.0040, Loss_KLD=0.6483, Loss_Len=0.0554]\n",
      "Epoch: 35/300: 100%|██████████| 74/74 [00:09<00:00,  7.72it/s, Loss_Train=0.0042, Loss_Rec=0.0041, Loss_KLD=0.6137, Loss_Len=0.0555]\n",
      "Epoch: 36/300: 100%|██████████| 74/74 [00:09<00:00,  7.70it/s, Loss_Train=0.0034, Loss_Rec=0.0033, Loss_KLD=0.4361, Loss_Len=0.0554]\n",
      "Epoch: 37/300: 100%|██████████| 74/74 [00:09<00:00,  7.73it/s, Loss_Train=0.0035, Loss_Rec=0.0034, Loss_KLD=0.3880, Loss_Len=0.0554]\n",
      "Epoch: 38/300: 100%|██████████| 74/74 [00:09<00:00,  7.76it/s, Loss_Train=0.0041, Loss_Rec=0.0040, Loss_KLD=0.4856, Loss_Len=0.0555]\n",
      "Epoch: 39/300: 100%|██████████| 74/74 [00:09<00:00,  7.62it/s, Loss_Train=0.0036, Loss_Rec=0.0036, Loss_KLD=0.3826, Loss_Len=0.0555]\n",
      "Epoch: 40/300: 100%|██████████| 74/74 [00:09<00:00,  7.75it/s, Loss_Train=0.0035, Loss_Rec=0.0035, Loss_KLD=0.3298, Loss_Len=0.0554]\n",
      "Epoch: 41/300: 100%|██████████| 74/74 [00:09<00:00,  7.78it/s, Loss_Train=0.0028, Loss_Rec=0.0027, Loss_KLD=0.2547, Loss_Len=0.0553]\n",
      "Epoch: 42/300: 100%|██████████| 74/74 [00:09<00:00,  7.75it/s, Loss_Train=0.0028, Loss_Rec=0.0027, Loss_KLD=0.2036, Loss_Len=0.0553]\n",
      "Epoch: 43/300: 100%|██████████| 74/74 [00:09<00:00,  7.77it/s, Loss_Train=0.0026, Loss_Rec=0.0025, Loss_KLD=0.1729, Loss_Len=0.0553]\n",
      "Epoch: 44/300: 100%|██████████| 74/74 [00:09<00:00,  7.85it/s, Loss_Train=0.0025, Loss_Rec=0.0024, Loss_KLD=0.1450, Loss_Len=0.0553]\n",
      "Epoch: 45/300: 100%|██████████| 74/74 [00:09<00:00,  7.76it/s, Loss_Train=0.0025, Loss_Rec=0.0024, Loss_KLD=0.1333, Loss_Len=0.0553]\n",
      "Epoch: 46/300: 100%|██████████| 74/74 [00:09<00:00,  7.84it/s, Loss_Train=0.0028, Loss_Rec=0.0027, Loss_KLD=0.1500, Loss_Len=0.0554]\n",
      "Epoch: 47/300: 100%|██████████| 74/74 [00:09<00:00,  7.74it/s, Loss_Train=0.0027, Loss_Rec=0.0027, Loss_KLD=0.1380, Loss_Len=0.0554]\n",
      "Epoch: 48/300: 100%|██████████| 74/74 [00:09<00:00,  7.78it/s, Loss_Train=0.0024, Loss_Rec=0.0024, Loss_KLD=0.1200, Loss_Len=0.0554]\n",
      "Epoch: 49/300: 100%|██████████| 74/74 [00:09<00:00,  7.78it/s, Loss_Train=0.0027, Loss_Rec=0.0027, Loss_KLD=0.1261, Loss_Len=0.0554]\n",
      "Epoch: 50/300: 100%|██████████| 74/74 [00:09<00:00,  7.82it/s, Loss_Train=0.0027, Loss_Rec=0.0027, Loss_KLD=0.1208, Loss_Len=0.0554]\n",
      "Epoch: 51/300: 100%|██████████| 74/74 [00:09<00:00,  7.79it/s, Loss_Train=0.0025, Loss_Rec=0.0025, Loss_KLD=0.1075, Loss_Len=0.0554]\n",
      "Epoch: 52/300: 100%|██████████| 74/74 [00:09<00:00,  7.77it/s, Loss_Train=0.0025, Loss_Rec=0.0025, Loss_KLD=0.0972, Loss_Len=0.0554]\n",
      "Epoch: 53/300: 100%|██████████| 74/74 [00:09<00:00,  7.70it/s, Loss_Train=0.0021, Loss_Rec=0.0021, Loss_KLD=0.0757, Loss_Len=0.0553]\n",
      "Epoch: 54/300: 100%|██████████| 74/74 [00:09<00:00,  7.64it/s, Loss_Train=0.0020, Loss_Rec=0.0020, Loss_KLD=0.0578, Loss_Len=0.0554]\n",
      "Epoch: 55/300: 100%|██████████| 74/74 [00:09<00:00,  7.84it/s, Loss_Train=0.0020, Loss_Rec=0.0020, Loss_KLD=0.0545, Loss_Len=0.0553]\n",
      "Epoch: 56/300: 100%|██████████| 74/74 [00:09<00:00,  7.76it/s, Loss_Train=0.0020, Loss_Rec=0.0020, Loss_KLD=0.0514, Loss_Len=0.0554]\n",
      "Epoch: 57/300: 100%|██████████| 74/74 [00:09<00:00,  7.82it/s, Loss_Train=0.0021, Loss_Rec=0.0020, Loss_KLD=0.0474, Loss_Len=0.0554]\n",
      "Epoch: 58/300: 100%|██████████| 74/74 [00:09<00:00,  7.81it/s, Loss_Train=0.0021, Loss_Rec=0.0021, Loss_KLD=0.0527, Loss_Len=0.0554]\n",
      "Epoch: 59/300: 100%|██████████| 74/74 [00:09<00:00,  7.77it/s, Loss_Train=0.0017, Loss_Rec=0.0017, Loss_KLD=0.0403, Loss_Len=0.0553]\n",
      "Epoch: 60/300: 100%|██████████| 74/74 [00:09<00:00,  7.78it/s, Loss_Train=0.0016, Loss_Rec=0.0016, Loss_KLD=0.0308, Loss_Len=0.0553]\n",
      "Epoch: 61/300: 100%|██████████| 74/74 [00:09<00:00,  7.70it/s, Loss_Train=0.0016, Loss_Rec=0.0016, Loss_KLD=0.0273, Loss_Len=0.0553]\n",
      "Epoch: 62/300: 100%|██████████| 74/74 [00:09<00:00,  7.74it/s, Loss_Train=0.0016, Loss_Rec=0.0016, Loss_KLD=0.0240, Loss_Len=0.0553]\n",
      "Epoch: 63/300: 100%|██████████| 74/74 [00:09<00:00,  7.82it/s, Loss_Train=0.0016, Loss_Rec=0.0016, Loss_KLD=0.0230, Loss_Len=0.0554]\n",
      "Epoch: 64/300: 100%|██████████| 74/74 [00:09<00:00,  7.75it/s, Loss_Train=0.0016, Loss_Rec=0.0016, Loss_KLD=0.0225, Loss_Len=0.0554]\n",
      "Epoch: 65/300: 100%|██████████| 74/74 [00:09<00:00,  7.84it/s, Loss_Train=0.0016, Loss_Rec=0.0016, Loss_KLD=0.0206, Loss_Len=0.0554]\n",
      "Epoch: 66/300: 100%|██████████| 74/74 [00:09<00:00,  7.79it/s, Loss_Train=0.0017, Loss_Rec=0.0017, Loss_KLD=0.0216, Loss_Len=0.0554]\n",
      "Epoch: 67/300: 100%|██████████| 74/74 [00:09<00:00,  7.82it/s, Loss_Train=0.0015, Loss_Rec=0.0015, Loss_KLD=0.0181, Loss_Len=0.0553]\n",
      "Epoch: 68/300: 100%|██████████| 74/74 [00:09<00:00,  7.76it/s, Loss_Train=0.0015, Loss_Rec=0.0015, Loss_KLD=0.0159, Loss_Len=0.0554]\n",
      "Epoch: 69/300: 100%|██████████| 74/74 [00:09<00:00,  7.58it/s, Loss_Train=0.0015, Loss_Rec=0.0015, Loss_KLD=0.0147, Loss_Len=0.0554]\n",
      "Epoch: 70/300: 100%|██████████| 74/74 [00:09<00:00,  7.76it/s, Loss_Train=0.0015, Loss_Rec=0.0015, Loss_KLD=0.0144, Loss_Len=0.0554]\n",
      "Epoch: 71/300: 100%|██████████| 74/74 [00:09<00:00,  7.76it/s, Loss_Train=0.0015, Loss_Rec=0.0015, Loss_KLD=0.0132, Loss_Len=0.0554]\n",
      "Epoch: 72/300: 100%|██████████| 74/74 [00:09<00:00,  7.67it/s, Loss_Train=0.0014, Loss_Rec=0.0014, Loss_KLD=0.0120, Loss_Len=0.0554]\n",
      "Epoch: 73/300: 100%|██████████| 74/74 [00:09<00:00,  7.69it/s, Loss_Train=0.0015, Loss_Rec=0.0015, Loss_KLD=0.0119, Loss_Len=0.0554]\n",
      "Epoch: 74/300: 100%|██████████| 74/74 [00:09<00:00,  7.73it/s, Loss_Train=0.0014, Loss_Rec=0.0014, Loss_KLD=0.0111, Loss_Len=0.0554]\n",
      "Epoch: 75/300: 100%|██████████| 74/74 [00:09<00:00,  7.69it/s, Loss_Train=0.0014, Loss_Rec=0.0014, Loss_KLD=0.0109, Loss_Len=0.0554]\n",
      "Epoch: 76/300: 100%|██████████| 74/74 [00:09<00:00,  7.71it/s, Loss_Train=0.0014, Loss_Rec=0.0014, Loss_KLD=0.0102, Loss_Len=0.0554]\n",
      "Epoch: 77/300: 100%|██████████| 74/74 [00:09<00:00,  7.64it/s, Loss_Train=0.0014, Loss_Rec=0.0014, Loss_KLD=0.0098, Loss_Len=0.0554]\n",
      "Epoch: 78/300: 100%|██████████| 74/74 [00:09<00:00,  7.80it/s, Loss_Train=0.0013, Loss_Rec=0.0013, Loss_KLD=0.0089, Loss_Len=0.0554]\n",
      "Epoch: 79/300: 100%|██████████| 74/74 [00:09<00:00,  7.73it/s, Loss_Train=0.0013, Loss_Rec=0.0013, Loss_KLD=0.0083, Loss_Len=0.0554]\n",
      "Epoch: 80/300: 100%|██████████| 74/74 [00:09<00:00,  7.74it/s, Loss_Train=0.0014, Loss_Rec=0.0014, Loss_KLD=0.0080, Loss_Len=0.0554]\n",
      "Epoch: 81/300: 100%|██████████| 74/74 [00:09<00:00,  7.67it/s, Loss_Train=0.0013, Loss_Rec=0.0013, Loss_KLD=0.0076, Loss_Len=0.0554]\n",
      "Epoch: 82/300: 100%|██████████| 74/74 [00:10<00:00,  7.30it/s, Loss_Train=0.0013, Loss_Rec=0.0013, Loss_KLD=0.0073, Loss_Len=0.0554]\n",
      "Epoch: 83/300: 100%|██████████| 74/74 [00:10<00:00,  7.32it/s, Loss_Train=0.0013, Loss_Rec=0.0013, Loss_KLD=0.0070, Loss_Len=0.0554]\n",
      "Epoch: 84/300: 100%|██████████| 74/74 [00:09<00:00,  7.41it/s, Loss_Train=0.0013, Loss_Rec=0.0013, Loss_KLD=0.0062, Loss_Len=0.0554]\n",
      "Epoch: 85/300: 100%|██████████| 74/74 [00:10<00:00,  7.35it/s, Loss_Train=0.0013, Loss_Rec=0.0013, Loss_KLD=0.0064, Loss_Len=0.0554]\n",
      "Epoch: 86/300: 100%|██████████| 74/74 [00:10<00:00,  7.34it/s, Loss_Train=0.0013, Loss_Rec=0.0013, Loss_KLD=0.0061, Loss_Len=0.0554]\n",
      "Epoch: 87/300: 100%|██████████| 74/74 [00:10<00:00,  7.37it/s, Loss_Train=0.0013, Loss_Rec=0.0013, Loss_KLD=0.0058, Loss_Len=0.0554]\n",
      "Epoch: 88/300: 100%|██████████| 74/74 [00:10<00:00,  7.32it/s, Loss_Train=0.0013, Loss_Rec=0.0013, Loss_KLD=0.0056, Loss_Len=0.0554]\n",
      "Epoch: 89/300: 100%|██████████| 74/74 [00:10<00:00,  7.35it/s, Loss_Train=0.0013, Loss_Rec=0.0013, Loss_KLD=0.0055, Loss_Len=0.0554]\n",
      "Epoch: 90/300: 100%|██████████| 74/74 [00:10<00:00,  7.37it/s, Loss_Train=0.0013, Loss_Rec=0.0013, Loss_KLD=0.0051, Loss_Len=0.0554]\n",
      "Epoch: 91/300: 100%|██████████| 74/74 [00:09<00:00,  7.44it/s, Loss_Train=0.0013, Loss_Rec=0.0013, Loss_KLD=0.0053, Loss_Len=0.0554]\n",
      "Epoch: 92/300: 100%|██████████| 74/74 [00:09<00:00,  7.47it/s, Loss_Train=0.0013, Loss_Rec=0.0013, Loss_KLD=0.0049, Loss_Len=0.0555]\n",
      "Epoch: 93/300: 100%|██████████| 74/74 [00:09<00:00,  7.48it/s, Loss_Train=0.0013, Loss_Rec=0.0013, Loss_KLD=0.0047, Loss_Len=0.0554]\n",
      "Epoch: 94/300: 100%|██████████| 74/74 [00:10<00:00,  7.31it/s, Loss_Train=0.0013, Loss_Rec=0.0013, Loss_KLD=0.0045, Loss_Len=0.0554]\n",
      "Epoch: 95/300: 100%|██████████| 74/74 [00:10<00:00,  7.31it/s, Loss_Train=0.0013, Loss_Rec=0.0013, Loss_KLD=0.0044, Loss_Len=0.0554]\n",
      "Epoch: 96/300: 100%|██████████| 74/74 [00:10<00:00,  7.40it/s, Loss_Train=0.0012, Loss_Rec=0.0012, Loss_KLD=0.0040, Loss_Len=0.0554]\n",
      "Epoch: 97/300: 100%|██████████| 74/74 [00:10<00:00,  7.38it/s, Loss_Train=0.0013, Loss_Rec=0.0013, Loss_KLD=0.0040, Loss_Len=0.0554]\n",
      "Epoch: 98/300: 100%|██████████| 74/74 [00:09<00:00,  7.41it/s, Loss_Train=0.0013, Loss_Rec=0.0013, Loss_KLD=0.0039, Loss_Len=0.0554]\n",
      "Epoch: 99/300: 100%|██████████| 74/74 [00:10<00:00,  7.32it/s, Loss_Train=0.0012, Loss_Rec=0.0012, Loss_KLD=0.0037, Loss_Len=0.0554]\n",
      "Epoch: 100/300: 100%|██████████| 74/74 [00:10<00:00,  7.11it/s, Loss_Train=0.0013, Loss_Rec=0.0013, Loss_KLD=0.0037, Loss_Len=0.0554]\n",
      "Epoch: 101/300: 100%|██████████| 74/74 [00:09<00:00,  7.47it/s, Loss_Train=0.0013, Loss_Rec=0.0013, Loss_KLD=0.0035, Loss_Len=0.0555]\n",
      "Epoch: 102/300: 100%|██████████| 74/74 [00:10<00:00,  7.22it/s, Loss_Train=0.0012, Loss_Rec=0.0012, Loss_KLD=0.0033, Loss_Len=0.0555]\n",
      "Epoch: 103/300: 100%|██████████| 74/74 [00:10<00:00,  7.39it/s, Loss_Train=0.0013, Loss_Rec=0.0012, Loss_KLD=0.0033, Loss_Len=0.0555]\n",
      "Epoch: 104/300: 100%|██████████| 74/74 [00:09<00:00,  7.40it/s, Loss_Train=0.0012, Loss_Rec=0.0012, Loss_KLD=0.0033, Loss_Len=0.0554]\n",
      "Epoch: 105/300: 100%|██████████| 74/74 [00:09<00:00,  7.40it/s, Loss_Train=0.0012, Loss_Rec=0.0012, Loss_KLD=0.0030, Loss_Len=0.0555]\n",
      "Epoch: 106/300: 100%|██████████| 74/74 [00:09<00:00,  7.46it/s, Loss_Train=0.0013, Loss_Rec=0.0013, Loss_KLD=0.0031, Loss_Len=0.0555]\n",
      "Epoch: 107/300: 100%|██████████| 74/74 [00:10<00:00,  7.40it/s, Loss_Train=0.0012, Loss_Rec=0.0012, Loss_KLD=0.0030, Loss_Len=0.0555]\n",
      "Epoch: 108/300: 100%|██████████| 74/74 [00:10<00:00,  7.35it/s, Loss_Train=0.0012, Loss_Rec=0.0012, Loss_KLD=0.0028, Loss_Len=0.0555]\n",
      "Epoch: 109/300: 100%|██████████| 74/74 [00:10<00:00,  7.37it/s, Loss_Train=0.0012, Loss_Rec=0.0012, Loss_KLD=0.0027, Loss_Len=0.0555]\n",
      "Epoch: 110/300: 100%|██████████| 74/74 [00:10<00:00,  7.24it/s, Loss_Train=0.0012, Loss_Rec=0.0012, Loss_KLD=0.0026, Loss_Len=0.0555]\n",
      "Epoch: 111/300: 100%|██████████| 74/74 [00:10<00:00,  7.30it/s, Loss_Train=0.0013, Loss_Rec=0.0013, Loss_KLD=0.0026, Loss_Len=0.0555]\n",
      "Epoch: 112/300: 100%|██████████| 74/74 [00:10<00:00,  7.34it/s, Loss_Train=0.0012, Loss_Rec=0.0012, Loss_KLD=0.0025, Loss_Len=0.0555]\n",
      "Epoch: 113/300: 100%|██████████| 74/74 [00:10<00:00,  7.24it/s, Loss_Train=0.0012, Loss_Rec=0.0012, Loss_KLD=0.0024, Loss_Len=0.0555]\n",
      "Epoch: 114/300: 100%|██████████| 74/74 [00:10<00:00,  7.29it/s, Loss_Train=0.0012, Loss_Rec=0.0012, Loss_KLD=0.0023, Loss_Len=0.0555]\n",
      "Epoch: 115/300: 100%|██████████| 74/74 [00:10<00:00,  7.39it/s, Loss_Train=0.0012, Loss_Rec=0.0012, Loss_KLD=0.0024, Loss_Len=0.0555]\n",
      "Epoch: 116/300: 100%|██████████| 74/74 [00:10<00:00,  7.28it/s, Loss_Train=0.0012, Loss_Rec=0.0012, Loss_KLD=0.0023, Loss_Len=0.0555]\n",
      "Epoch: 117/300: 100%|██████████| 74/74 [00:10<00:00,  7.34it/s, Loss_Train=0.0012, Loss_Rec=0.0012, Loss_KLD=0.0022, Loss_Len=0.0555]\n",
      "Epoch: 118/300: 100%|██████████| 74/74 [00:10<00:00,  7.17it/s, Loss_Train=0.0012, Loss_Rec=0.0012, Loss_KLD=0.0021, Loss_Len=0.0555]\n",
      "Epoch: 119/300: 100%|██████████| 74/74 [00:10<00:00,  7.31it/s, Loss_Train=0.0012, Loss_Rec=0.0012, Loss_KLD=0.0021, Loss_Len=0.0555]\n",
      "Epoch: 120/300: 100%|██████████| 74/74 [00:10<00:00,  7.29it/s, Loss_Train=0.0012, Loss_Rec=0.0012, Loss_KLD=0.0020, Loss_Len=0.0555]\n",
      "Epoch: 121/300: 100%|██████████| 74/74 [00:09<00:00,  7.46it/s, Loss_Train=0.0012, Loss_Rec=0.0012, Loss_KLD=0.0020, Loss_Len=0.0555]\n",
      "Epoch: 122/300: 100%|██████████| 74/74 [00:10<00:00,  7.35it/s, Loss_Train=0.0012, Loss_Rec=0.0012, Loss_KLD=0.0019, Loss_Len=0.0555]\n",
      "Epoch: 123/300: 100%|██████████| 74/74 [00:09<00:00,  7.41it/s, Loss_Train=0.0012, Loss_Rec=0.0012, Loss_KLD=0.0019, Loss_Len=0.0555]\n",
      "Epoch: 124/300: 100%|██████████| 74/74 [00:10<00:00,  7.32it/s, Loss_Train=0.0012, Loss_Rec=0.0012, Loss_KLD=0.0020, Loss_Len=0.0555]\n",
      "Epoch: 125/300: 100%|██████████| 74/74 [00:10<00:00,  7.29it/s, Loss_Train=0.0012, Loss_Rec=0.0012, Loss_KLD=0.0018, Loss_Len=0.0555]\n",
      "Epoch: 126/300: 100%|██████████| 74/74 [00:09<00:00,  7.43it/s, Loss_Train=0.0012, Loss_Rec=0.0012, Loss_KLD=0.0018, Loss_Len=0.0555]\n",
      "Epoch: 127/300: 100%|██████████| 74/74 [00:10<00:00,  7.29it/s, Loss_Train=0.0012, Loss_Rec=0.0012, Loss_KLD=0.0017, Loss_Len=0.0555]\n",
      "Epoch: 128/300: 100%|██████████| 74/74 [00:09<00:00,  7.53it/s, Loss_Train=0.0012, Loss_Rec=0.0012, Loss_KLD=0.0016, Loss_Len=0.0555]\n",
      "Epoch: 129/300: 100%|██████████| 74/74 [00:10<00:00,  7.33it/s, Loss_Train=0.0012, Loss_Rec=0.0012, Loss_KLD=0.0016, Loss_Len=0.0555]\n",
      "Epoch: 130/300: 100%|██████████| 74/74 [00:09<00:00,  7.46it/s, Loss_Train=0.0012, Loss_Rec=0.0012, Loss_KLD=0.0016, Loss_Len=0.0555]\n",
      "Epoch: 131/300: 100%|██████████| 74/74 [00:10<00:00,  7.08it/s, Loss_Train=0.0012, Loss_Rec=0.0012, Loss_KLD=0.0016, Loss_Len=0.0555]\n",
      "Epoch: 132/300: 100%|██████████| 74/74 [00:10<00:00,  7.26it/s, Loss_Train=0.0012, Loss_Rec=0.0012, Loss_KLD=0.0015, Loss_Len=0.0555]\n",
      "Epoch: 133/300: 100%|██████████| 74/74 [00:10<00:00,  7.17it/s, Loss_Train=0.0012, Loss_Rec=0.0012, Loss_KLD=0.0015, Loss_Len=0.0555]\n",
      "Epoch: 134/300: 100%|██████████| 74/74 [00:10<00:00,  7.31it/s, Loss_Train=0.0012, Loss_Rec=0.0012, Loss_KLD=0.0015, Loss_Len=0.0555]\n",
      "Epoch: 135/300: 100%|██████████| 74/74 [00:09<00:00,  7.45it/s, Loss_Train=0.0012, Loss_Rec=0.0012, Loss_KLD=0.0015, Loss_Len=0.0555]\n",
      "Epoch: 136/300: 100%|██████████| 74/74 [00:09<00:00,  7.43it/s, Loss_Train=0.0012, Loss_Rec=0.0012, Loss_KLD=0.0014, Loss_Len=0.0555]\n",
      "Epoch: 137/300: 100%|██████████| 74/74 [00:10<00:00,  7.37it/s, Loss_Train=0.0012, Loss_Rec=0.0012, Loss_KLD=0.0014, Loss_Len=0.0555]\n",
      "Epoch: 138/300: 100%|██████████| 74/74 [00:10<00:00,  7.29it/s, Loss_Train=0.0011, Loss_Rec=0.0011, Loss_KLD=0.0013, Loss_Len=0.0555]\n",
      "Epoch: 139/300: 100%|██████████| 74/74 [00:09<00:00,  7.45it/s, Loss_Train=0.0012, Loss_Rec=0.0011, Loss_KLD=0.0014, Loss_Len=0.0555]\n",
      "Epoch: 140/300: 100%|██████████| 74/74 [00:10<00:00,  7.34it/s, Loss_Train=0.0012, Loss_Rec=0.0012, Loss_KLD=0.0013, Loss_Len=0.0555]\n",
      "Epoch: 141/300: 100%|██████████| 74/74 [00:10<00:00,  7.27it/s, Loss_Train=0.0011, Loss_Rec=0.0011, Loss_KLD=0.0013, Loss_Len=0.0555]\n",
      "Epoch: 142/300: 100%|██████████| 74/74 [00:09<00:00,  7.44it/s, Loss_Train=0.0011, Loss_Rec=0.0011, Loss_KLD=0.0013, Loss_Len=0.0555]\n",
      "Epoch: 143/300: 100%|██████████| 74/74 [00:10<00:00,  7.32it/s, Loss_Train=0.0012, Loss_Rec=0.0012, Loss_KLD=0.0013, Loss_Len=0.0555]\n",
      "Epoch: 144/300: 100%|██████████| 74/74 [00:10<00:00,  7.30it/s, Loss_Train=0.0012, Loss_Rec=0.0012, Loss_KLD=0.0012, Loss_Len=0.0555]\n",
      "Epoch: 145/300: 100%|██████████| 74/74 [00:09<00:00,  7.46it/s, Loss_Train=0.0011, Loss_Rec=0.0011, Loss_KLD=0.0012, Loss_Len=0.0555]\n",
      "Epoch: 146/300: 100%|██████████| 74/74 [00:10<00:00,  7.32it/s, Loss_Train=0.0012, Loss_Rec=0.0012, Loss_KLD=0.0012, Loss_Len=0.0555]\n",
      "Epoch: 147/300: 100%|██████████| 74/74 [00:10<00:00,  7.26it/s, Loss_Train=0.0012, Loss_Rec=0.0012, Loss_KLD=0.0012, Loss_Len=0.0555]\n",
      "Epoch: 148/300: 100%|██████████| 74/74 [00:10<00:00,  7.13it/s, Loss_Train=0.0011, Loss_Rec=0.0011, Loss_KLD=0.0011, Loss_Len=0.0555]\n",
      "Epoch: 149/300: 100%|██████████| 74/74 [00:09<00:00,  7.56it/s, Loss_Train=0.0012, Loss_Rec=0.0012, Loss_KLD=0.0011, Loss_Len=0.0555]\n",
      "Epoch: 150/300: 100%|██████████| 74/74 [00:10<00:00,  7.39it/s, Loss_Train=0.0011, Loss_Rec=0.0011, Loss_KLD=0.0011, Loss_Len=0.0555]\n",
      "Epoch: 151/300: 100%|██████████| 74/74 [00:09<00:00,  7.49it/s, Loss_Train=0.0011, Loss_Rec=0.0011, Loss_KLD=0.0012, Loss_Len=0.0555]\n",
      "Epoch: 152/300: 100%|██████████| 74/74 [00:10<00:00,  7.36it/s, Loss_Train=0.0011, Loss_Rec=0.0011, Loss_KLD=0.0011, Loss_Len=0.0555]\n",
      "Epoch: 153/300: 100%|██████████| 74/74 [00:09<00:00,  7.56it/s, Loss_Train=0.0012, Loss_Rec=0.0011, Loss_KLD=0.0011, Loss_Len=0.0555]\n",
      "Epoch: 154/300: 100%|██████████| 74/74 [00:09<00:00,  7.42it/s, Loss_Train=0.0011, Loss_Rec=0.0011, Loss_KLD=0.0011, Loss_Len=0.0555]\n",
      "Epoch: 155/300: 100%|██████████| 74/74 [00:10<00:00,  7.35it/s, Loss_Train=0.0011, Loss_Rec=0.0011, Loss_KLD=0.0011, Loss_Len=0.0555]\n",
      "Epoch: 156/300: 100%|██████████| 74/74 [00:10<00:00,  7.27it/s, Loss_Train=0.0011, Loss_Rec=0.0011, Loss_KLD=0.0011, Loss_Len=0.0555]\n",
      "Epoch: 157/300: 100%|██████████| 74/74 [00:09<00:00,  7.44it/s, Loss_Train=0.0011, Loss_Rec=0.0011, Loss_KLD=0.0011, Loss_Len=0.0555]\n",
      "Epoch: 158/300: 100%|██████████| 74/74 [00:09<00:00,  7.46it/s, Loss_Train=0.0011, Loss_Rec=0.0011, Loss_KLD=0.0011, Loss_Len=0.0555]\n",
      "Epoch: 159/300: 100%|██████████| 74/74 [00:09<00:00,  7.45it/s, Loss_Train=0.0011, Loss_Rec=0.0011, Loss_KLD=0.0010, Loss_Len=0.0555]\n",
      "Epoch: 160/300: 100%|██████████| 74/74 [00:09<00:00,  7.42it/s, Loss_Train=0.0011, Loss_Rec=0.0011, Loss_KLD=0.0010, Loss_Len=0.0555]\n",
      "Epoch: 161/300: 100%|██████████| 74/74 [00:09<00:00,  7.60it/s, Loss_Train=0.0011, Loss_Rec=0.0011, Loss_KLD=0.0010, Loss_Len=0.0555]\n",
      "Epoch: 162/300: 100%|██████████| 74/74 [00:10<00:00,  7.27it/s, Loss_Train=0.0011, Loss_Rec=0.0011, Loss_KLD=0.0010, Loss_Len=0.0555]\n",
      "Epoch: 163/300: 100%|██████████| 74/74 [00:10<00:00,  7.36it/s, Loss_Train=0.0011, Loss_Rec=0.0011, Loss_KLD=0.0010, Loss_Len=0.0555]\n",
      "Epoch: 164/300: 100%|██████████| 74/74 [00:10<00:00,  7.33it/s, Loss_Train=0.0011, Loss_Rec=0.0011, Loss_KLD=0.0010, Loss_Len=0.0555]\n",
      "Epoch: 165/300: 100%|██████████| 74/74 [00:10<00:00,  7.36it/s, Loss_Train=0.0011, Loss_Rec=0.0011, Loss_KLD=0.0010, Loss_Len=0.0555]\n",
      "Epoch: 166/300: 100%|██████████| 74/74 [00:09<00:00,  7.56it/s, Loss_Train=0.0011, Loss_Rec=0.0011, Loss_KLD=0.0010, Loss_Len=0.0555]\n",
      "Epoch: 167/300: 100%|██████████| 74/74 [00:10<00:00,  7.26it/s, Loss_Train=0.0011, Loss_Rec=0.0011, Loss_KLD=0.0010, Loss_Len=0.0555]\n",
      "Epoch: 168/300: 100%|██████████| 74/74 [00:10<00:00,  7.34it/s, Loss_Train=0.0011, Loss_Rec=0.0011, Loss_KLD=0.0010, Loss_Len=0.0555]\n",
      "Epoch: 169/300: 100%|██████████| 74/74 [00:10<00:00,  7.38it/s, Loss_Train=0.0011, Loss_Rec=0.0011, Loss_KLD=0.0010, Loss_Len=0.0555]\n",
      "Epoch: 170/300: 100%|██████████| 74/74 [00:10<00:00,  7.38it/s, Loss_Train=0.0011, Loss_Rec=0.0011, Loss_KLD=0.0010, Loss_Len=0.0555]\n",
      "Epoch: 171/300: 100%|██████████| 74/74 [00:10<00:00,  7.31it/s, Loss_Train=0.0011, Loss_Rec=0.0011, Loss_KLD=0.0009, Loss_Len=0.0555]\n",
      "Epoch: 172/300: 100%|██████████| 74/74 [00:10<00:00,  7.35it/s, Loss_Train=0.0011, Loss_Rec=0.0011, Loss_KLD=0.0010, Loss_Len=0.0555]\n",
      "Epoch: 173/300: 100%|██████████| 74/74 [00:09<00:00,  7.43it/s, Loss_Train=0.0011, Loss_Rec=0.0011, Loss_KLD=0.0010, Loss_Len=0.0555]\n",
      "Epoch: 174/300: 100%|██████████| 74/74 [00:09<00:00,  7.49it/s, Loss_Train=0.0011, Loss_Rec=0.0011, Loss_KLD=0.0009, Loss_Len=0.0555]\n",
      "Epoch: 175/300: 100%|██████████| 74/74 [00:10<00:00,  7.33it/s, Loss_Train=0.0011, Loss_Rec=0.0011, Loss_KLD=0.0009, Loss_Len=0.0555]\n",
      "Epoch: 176/300: 100%|██████████| 74/74 [00:10<00:00,  7.33it/s, Loss_Train=0.0011, Loss_Rec=0.0011, Loss_KLD=0.0009, Loss_Len=0.0555]\n",
      "Epoch: 177/300: 100%|██████████| 74/74 [00:10<00:00,  7.23it/s, Loss_Train=0.0011, Loss_Rec=0.0011, Loss_KLD=0.0009, Loss_Len=0.0555]\n",
      "Epoch: 178/300: 100%|██████████| 74/74 [00:09<00:00,  7.46it/s, Loss_Train=0.0011, Loss_Rec=0.0011, Loss_KLD=0.0009, Loss_Len=0.0555]\n",
      "Epoch: 179/300: 100%|██████████| 74/74 [00:09<00:00,  7.44it/s, Loss_Train=0.0011, Loss_Rec=0.0011, Loss_KLD=0.0009, Loss_Len=0.0555]\n",
      "Epoch: 180/300: 100%|██████████| 74/74 [00:09<00:00,  7.47it/s, Loss_Train=0.0011, Loss_Rec=0.0011, Loss_KLD=0.0009, Loss_Len=0.0555]\n",
      "Epoch: 181/300: 100%|██████████| 74/74 [00:09<00:00,  7.43it/s, Loss_Train=0.0011, Loss_Rec=0.0011, Loss_KLD=0.0009, Loss_Len=0.0555]\n",
      "Epoch: 182/300: 100%|██████████| 74/74 [00:10<00:00,  7.15it/s, Loss_Train=0.0011, Loss_Rec=0.0011, Loss_KLD=0.0009, Loss_Len=0.0555]\n",
      "Epoch: 183/300: 100%|██████████| 74/74 [00:10<00:00,  7.33it/s, Loss_Train=0.0011, Loss_Rec=0.0011, Loss_KLD=0.0009, Loss_Len=0.0555]\n",
      "Epoch: 184/300: 100%|██████████| 74/74 [00:10<00:00,  7.28it/s, Loss_Train=0.0011, Loss_Rec=0.0011, Loss_KLD=0.0009, Loss_Len=0.0555]\n",
      "Epoch: 185/300: 100%|██████████| 74/74 [00:09<00:00,  7.47it/s, Loss_Train=0.0011, Loss_Rec=0.0011, Loss_KLD=0.0009, Loss_Len=0.0555]\n",
      "Epoch: 186/300: 100%|██████████| 74/74 [00:09<00:00,  7.45it/s, Loss_Train=0.0011, Loss_Rec=0.0011, Loss_KLD=0.0009, Loss_Len=0.0555]\n",
      "Epoch: 187/300: 100%|██████████| 74/74 [00:10<00:00,  7.32it/s, Loss_Train=0.0011, Loss_Rec=0.0011, Loss_KLD=0.0009, Loss_Len=0.0555]\n",
      "Epoch: 188/300: 100%|██████████| 74/74 [00:10<00:00,  7.39it/s, Loss_Train=0.0011, Loss_Rec=0.0011, Loss_KLD=0.0009, Loss_Len=0.0555]\n",
      "Epoch: 189/300: 100%|██████████| 74/74 [00:10<00:00,  7.33it/s, Loss_Train=0.0011, Loss_Rec=0.0011, Loss_KLD=0.0009, Loss_Len=0.0555]\n",
      "Epoch: 190/300: 100%|██████████| 74/74 [00:09<00:00,  7.49it/s, Loss_Train=0.0011, Loss_Rec=0.0011, Loss_KLD=0.0009, Loss_Len=0.0555]\n",
      "Epoch: 191/300: 100%|██████████| 74/74 [00:10<00:00,  7.28it/s, Loss_Train=0.0011, Loss_Rec=0.0011, Loss_KLD=0.0009, Loss_Len=0.0555]\n",
      "Epoch: 192/300: 100%|██████████| 74/74 [00:10<00:00,  7.22it/s, Loss_Train=0.0011, Loss_Rec=0.0011, Loss_KLD=0.0009, Loss_Len=0.0555]\n",
      "Epoch: 193/300: 100%|██████████| 74/74 [00:10<00:00,  7.21it/s, Loss_Train=0.0011, Loss_Rec=0.0011, Loss_KLD=0.0009, Loss_Len=0.0555]\n",
      "Epoch: 194/300: 100%|██████████| 74/74 [00:09<00:00,  7.48it/s, Loss_Train=0.0011, Loss_Rec=0.0011, Loss_KLD=0.0009, Loss_Len=0.0555]\n",
      "Epoch: 195/300: 100%|██████████| 74/74 [00:10<00:00,  7.32it/s, Loss_Train=0.0012, Loss_Rec=0.0012, Loss_KLD=0.0009, Loss_Len=0.0555]\n",
      "Epoch: 196/300: 100%|██████████| 74/74 [00:09<00:00,  7.46it/s, Loss_Train=0.0011, Loss_Rec=0.0011, Loss_KLD=0.0009, Loss_Len=0.0555]\n",
      "Epoch: 197/300: 100%|██████████| 74/74 [00:09<00:00,  7.40it/s, Loss_Train=0.0011, Loss_Rec=0.0011, Loss_KLD=0.0009, Loss_Len=0.0555]\n",
      "Epoch: 198/300: 100%|██████████| 74/74 [00:10<00:00,  7.22it/s, Loss_Train=0.0011, Loss_Rec=0.0011, Loss_KLD=0.0009, Loss_Len=0.0555]\n",
      "Epoch: 199/300: 100%|██████████| 74/74 [00:10<00:00,  7.38it/s, Loss_Train=0.0011, Loss_Rec=0.0011, Loss_KLD=0.0009, Loss_Len=0.0555]\n",
      "Epoch: 200/300: 100%|██████████| 74/74 [00:10<00:00,  7.28it/s, Loss_Train=0.0011, Loss_Rec=0.0011, Loss_KLD=0.0009, Loss_Len=0.0555]\n",
      "Epoch: 201/300: 100%|██████████| 74/74 [00:10<00:00,  7.40it/s, Loss_Train=0.0011, Loss_Rec=0.0011, Loss_KLD=0.0009, Loss_Len=0.0555]\n",
      "Epoch: 202/300: 100%|██████████| 74/74 [00:10<00:00,  7.33it/s, Loss_Train=0.0011, Loss_Rec=0.0011, Loss_KLD=0.0009, Loss_Len=0.0555]\n",
      "Epoch: 203/300: 100%|██████████| 74/74 [00:10<00:00,  7.35it/s, Loss_Train=0.0011, Loss_Rec=0.0011, Loss_KLD=0.0009, Loss_Len=0.0555]\n",
      "Epoch: 204/300: 100%|██████████| 74/74 [00:10<00:00,  7.39it/s, Loss_Train=0.0011, Loss_Rec=0.0011, Loss_KLD=0.0009, Loss_Len=0.0555]\n",
      "Epoch: 205/300: 100%|██████████| 74/74 [00:09<00:00,  7.43it/s, Loss_Train=0.0011, Loss_Rec=0.0011, Loss_KLD=0.0009, Loss_Len=0.0555]\n",
      "Epoch: 206/300: 100%|██████████| 74/74 [00:09<00:00,  7.47it/s, Loss_Train=0.0011, Loss_Rec=0.0011, Loss_KLD=0.0009, Loss_Len=0.0555]\n",
      "Epoch: 207/300: 100%|██████████| 74/74 [00:10<00:00,  7.27it/s, Loss_Train=0.0011, Loss_Rec=0.0011, Loss_KLD=0.0009, Loss_Len=0.0555]\n",
      "Epoch: 208/300: 100%|██████████| 74/74 [00:10<00:00,  7.25it/s, Loss_Train=0.0011, Loss_Rec=0.0011, Loss_KLD=0.0009, Loss_Len=0.0555]\n",
      "Epoch: 209/300: 100%|██████████| 74/74 [00:10<00:00,  7.36it/s, Loss_Train=0.0011, Loss_Rec=0.0011, Loss_KLD=0.0009, Loss_Len=0.0555]\n",
      "Epoch: 210/300: 100%|██████████| 74/74 [00:10<00:00,  7.28it/s, Loss_Train=0.0011, Loss_Rec=0.0011, Loss_KLD=0.0009, Loss_Len=0.0555]\n",
      "Epoch: 211/300: 100%|██████████| 74/74 [00:10<00:00,  7.21it/s, Loss_Train=0.0011, Loss_Rec=0.0011, Loss_KLD=0.0009, Loss_Len=0.0555]\n",
      "Epoch: 212/300: 100%|██████████| 74/74 [00:10<00:00,  7.30it/s, Loss_Train=0.0011, Loss_Rec=0.0011, Loss_KLD=0.0009, Loss_Len=0.0555]\n",
      "Epoch: 213/300: 100%|██████████| 74/74 [00:10<00:00,  7.39it/s, Loss_Train=0.0011, Loss_Rec=0.0011, Loss_KLD=0.0009, Loss_Len=0.0555]\n",
      "Epoch: 214/300: 100%|██████████| 74/74 [00:10<00:00,  7.28it/s, Loss_Train=0.0011, Loss_Rec=0.0011, Loss_KLD=0.0009, Loss_Len=0.0555]\n",
      "Epoch: 215/300: 100%|██████████| 74/74 [00:09<00:00,  7.42it/s, Loss_Train=0.0011, Loss_Rec=0.0011, Loss_KLD=0.0009, Loss_Len=0.0555]\n",
      "Epoch: 216/300: 100%|██████████| 74/74 [00:09<00:00,  7.40it/s, Loss_Train=0.0011, Loss_Rec=0.0011, Loss_KLD=0.0009, Loss_Len=0.0555]\n",
      "Epoch: 217/300: 100%|██████████| 74/74 [00:09<00:00,  7.41it/s, Loss_Train=0.0011, Loss_Rec=0.0011, Loss_KLD=0.0009, Loss_Len=0.0555]\n",
      "Epoch: 218/300: 100%|██████████| 74/74 [00:10<00:00,  7.34it/s, Loss_Train=0.0011, Loss_Rec=0.0011, Loss_KLD=0.0009, Loss_Len=0.0555]\n",
      "Epoch: 219/300: 100%|██████████| 74/74 [00:10<00:00,  7.33it/s, Loss_Train=0.0011, Loss_Rec=0.0011, Loss_KLD=0.0009, Loss_Len=0.0555]\n",
      "Epoch: 220/300: 100%|██████████| 74/74 [00:10<00:00,  7.30it/s, Loss_Train=0.0011, Loss_Rec=0.0011, Loss_KLD=0.0009, Loss_Len=0.0555]\n",
      "Epoch: 221/300: 100%|██████████| 74/74 [00:10<00:00,  7.16it/s, Loss_Train=0.0011, Loss_Rec=0.0011, Loss_KLD=0.0009, Loss_Len=0.0555]\n",
      "Epoch: 222/300: 100%|██████████| 74/74 [00:09<00:00,  7.42it/s, Loss_Train=0.0011, Loss_Rec=0.0011, Loss_KLD=0.0009, Loss_Len=0.0555]\n",
      "Epoch: 223/300: 100%|██████████| 74/74 [00:10<00:00,  7.34it/s, Loss_Train=0.0011, Loss_Rec=0.0011, Loss_KLD=0.0009, Loss_Len=0.0555]\n",
      "Epoch: 224/300: 100%|██████████| 74/74 [00:10<00:00,  7.22it/s, Loss_Train=0.0011, Loss_Rec=0.0011, Loss_KLD=0.0009, Loss_Len=0.0555]\n",
      "Epoch: 225/300: 100%|██████████| 74/74 [00:10<00:00,  7.23it/s, Loss_Train=0.0011, Loss_Rec=0.0011, Loss_KLD=0.0009, Loss_Len=0.0555]\n",
      "Epoch: 226/300: 100%|██████████| 74/74 [00:09<00:00,  7.42it/s, Loss_Train=0.0011, Loss_Rec=0.0011, Loss_KLD=0.0009, Loss_Len=0.0555]\n",
      "Epoch: 227/300: 100%|██████████| 74/74 [00:10<00:00,  7.22it/s, Loss_Train=0.0011, Loss_Rec=0.0011, Loss_KLD=0.0009, Loss_Len=0.0555]\n",
      "Epoch: 228/300: 100%|██████████| 74/74 [00:10<00:00,  7.28it/s, Loss_Train=0.0011, Loss_Rec=0.0011, Loss_KLD=0.0009, Loss_Len=0.0555]\n",
      "Epoch: 229/300: 100%|██████████| 74/74 [00:10<00:00,  7.30it/s, Loss_Train=0.0011, Loss_Rec=0.0011, Loss_KLD=0.0009, Loss_Len=0.0555]\n",
      "Epoch: 230/300: 100%|██████████| 74/74 [00:10<00:00,  7.26it/s, Loss_Train=0.0011, Loss_Rec=0.0011, Loss_KLD=0.0009, Loss_Len=0.0555]\n",
      "Epoch: 231/300: 100%|██████████| 74/74 [00:10<00:00,  7.30it/s, Loss_Train=0.0011, Loss_Rec=0.0011, Loss_KLD=0.0009, Loss_Len=0.0555]\n",
      "Epoch: 232/300: 100%|██████████| 74/74 [00:09<00:00,  7.41it/s, Loss_Train=0.0011, Loss_Rec=0.0011, Loss_KLD=0.0009, Loss_Len=0.0555]\n",
      "Epoch: 233/300: 100%|██████████| 74/74 [00:10<00:00,  7.32it/s, Loss_Train=0.0011, Loss_Rec=0.0011, Loss_KLD=0.0009, Loss_Len=0.0555]\n",
      "Epoch: 234/300: 100%|██████████| 74/74 [00:10<00:00,  7.36it/s, Loss_Train=0.0011, Loss_Rec=0.0011, Loss_KLD=0.0009, Loss_Len=0.0555]\n",
      "Epoch: 235/300: 100%|██████████| 74/74 [00:10<00:00,  7.39it/s, Loss_Train=0.0011, Loss_Rec=0.0011, Loss_KLD=0.0009, Loss_Len=0.0555]\n",
      "Epoch: 236/300: 100%|██████████| 74/74 [00:10<00:00,  7.22it/s, Loss_Train=0.0011, Loss_Rec=0.0011, Loss_KLD=0.0009, Loss_Len=0.0555]\n",
      "Epoch: 237/300: 100%|██████████| 74/74 [00:09<00:00,  7.53it/s, Loss_Train=0.0011, Loss_Rec=0.0011, Loss_KLD=0.0009, Loss_Len=0.0555]\n",
      "Epoch: 238/300: 100%|██████████| 74/74 [00:09<00:00,  7.41it/s, Loss_Train=0.0011, Loss_Rec=0.0011, Loss_KLD=0.0009, Loss_Len=0.0555]\n",
      "Epoch: 239/300: 100%|██████████| 74/74 [00:09<00:00,  7.40it/s, Loss_Train=0.0011, Loss_Rec=0.0011, Loss_KLD=0.0009, Loss_Len=0.0555]\n",
      "Epoch: 240/300: 100%|██████████| 74/74 [00:09<00:00,  7.41it/s, Loss_Train=0.0011, Loss_Rec=0.0011, Loss_KLD=0.0009, Loss_Len=0.0555]\n",
      "Epoch: 241/300: 100%|██████████| 74/74 [00:10<00:00,  7.28it/s, Loss_Train=0.0011, Loss_Rec=0.0011, Loss_KLD=0.0009, Loss_Len=0.0555]\n",
      "Epoch: 242/300: 100%|██████████| 74/74 [00:09<00:00,  7.54it/s, Loss_Train=0.0011, Loss_Rec=0.0011, Loss_KLD=0.0009, Loss_Len=0.0555]\n",
      "Epoch: 243/300: 100%|██████████| 74/74 [00:09<00:00,  7.78it/s, Loss_Train=0.0011, Loss_Rec=0.0011, Loss_KLD=0.0009, Loss_Len=0.0555]\n",
      "Epoch: 244/300: 100%|██████████| 74/74 [00:09<00:00,  7.82it/s, Loss_Train=0.0011, Loss_Rec=0.0011, Loss_KLD=0.0009, Loss_Len=0.0555]\n",
      "Epoch: 245/300: 100%|██████████| 74/74 [00:09<00:00,  7.83it/s, Loss_Train=0.0011, Loss_Rec=0.0011, Loss_KLD=0.0009, Loss_Len=0.0555]\n",
      "Epoch: 246/300: 100%|██████████| 74/74 [00:09<00:00,  7.85it/s, Loss_Train=0.0011, Loss_Rec=0.0011, Loss_KLD=0.0009, Loss_Len=0.0555]\n",
      "Epoch: 247/300: 100%|██████████| 74/74 [00:09<00:00,  7.86it/s, Loss_Train=0.0011, Loss_Rec=0.0011, Loss_KLD=0.0009, Loss_Len=0.0555]\n",
      "Epoch: 248/300: 100%|██████████| 74/74 [00:09<00:00,  7.74it/s, Loss_Train=0.0012, Loss_Rec=0.0012, Loss_KLD=0.0009, Loss_Len=0.0555]\n",
      "Epoch: 249/300: 100%|██████████| 74/74 [00:09<00:00,  7.82it/s, Loss_Train=0.0011, Loss_Rec=0.0011, Loss_KLD=0.0009, Loss_Len=0.0555]\n",
      "Epoch: 250/300: 100%|██████████| 74/74 [00:09<00:00,  7.83it/s, Loss_Train=0.0011, Loss_Rec=0.0011, Loss_KLD=0.0009, Loss_Len=0.0555]\n",
      "Epoch: 251/300: 100%|██████████| 74/74 [00:09<00:00,  7.79it/s, Loss_Train=0.0011, Loss_Rec=0.0011, Loss_KLD=0.0009, Loss_Len=0.0555]\n",
      "Epoch: 252/300: 100%|██████████| 74/74 [00:09<00:00,  7.77it/s, Loss_Train=0.0011, Loss_Rec=0.0011, Loss_KLD=0.0009, Loss_Len=0.0555]\n",
      "Epoch: 253/300: 100%|██████████| 74/74 [00:09<00:00,  7.80it/s, Loss_Train=0.0011, Loss_Rec=0.0011, Loss_KLD=0.0009, Loss_Len=0.0555]\n",
      "Epoch: 254/300: 100%|██████████| 74/74 [00:09<00:00,  7.80it/s, Loss_Train=0.0011, Loss_Rec=0.0011, Loss_KLD=0.0009, Loss_Len=0.0555]\n",
      "Epoch: 255/300: 100%|██████████| 74/74 [00:09<00:00,  7.73it/s, Loss_Train=0.0011, Loss_Rec=0.0011, Loss_KLD=0.0009, Loss_Len=0.0555]\n",
      "Epoch: 256/300: 100%|██████████| 74/74 [00:09<00:00,  7.83it/s, Loss_Train=0.0011, Loss_Rec=0.0011, Loss_KLD=0.0009, Loss_Len=0.0555]\n",
      "Epoch: 257/300: 100%|██████████| 74/74 [00:09<00:00,  7.83it/s, Loss_Train=0.0011, Loss_Rec=0.0011, Loss_KLD=0.0009, Loss_Len=0.0555]\n",
      "Epoch: 258/300: 100%|██████████| 74/74 [00:09<00:00,  7.82it/s, Loss_Train=0.0011, Loss_Rec=0.0011, Loss_KLD=0.0009, Loss_Len=0.0555]\n",
      "Epoch: 259/300: 100%|██████████| 74/74 [00:09<00:00,  7.76it/s, Loss_Train=0.0011, Loss_Rec=0.0011, Loss_KLD=0.0009, Loss_Len=0.0555]\n",
      "Epoch: 260/300: 100%|██████████| 74/74 [00:09<00:00,  7.84it/s, Loss_Train=0.0011, Loss_Rec=0.0011, Loss_KLD=0.0009, Loss_Len=0.0555]\n",
      "Epoch: 261/300: 100%|██████████| 74/74 [00:09<00:00,  7.86it/s, Loss_Train=0.0011, Loss_Rec=0.0011, Loss_KLD=0.0009, Loss_Len=0.0555]\n",
      "Epoch: 262/300: 100%|██████████| 74/74 [00:09<00:00,  7.81it/s, Loss_Train=0.0011, Loss_Rec=0.0011, Loss_KLD=0.0009, Loss_Len=0.0555]\n",
      "Epoch: 263/300: 100%|██████████| 74/74 [00:09<00:00,  7.85it/s, Loss_Train=0.0011, Loss_Rec=0.0011, Loss_KLD=0.0009, Loss_Len=0.0555]\n",
      "Epoch: 264/300: 100%|██████████| 74/74 [00:09<00:00,  7.80it/s, Loss_Train=0.0011, Loss_Rec=0.0011, Loss_KLD=0.0009, Loss_Len=0.0555]\n",
      "Epoch: 265/300: 100%|██████████| 74/74 [00:09<00:00,  7.85it/s, Loss_Train=0.0011, Loss_Rec=0.0011, Loss_KLD=0.0009, Loss_Len=0.0555]\n",
      "Epoch: 266/300: 100%|██████████| 74/74 [00:09<00:00,  7.84it/s, Loss_Train=0.0011, Loss_Rec=0.0011, Loss_KLD=0.0009, Loss_Len=0.0555]\n",
      "Epoch: 267/300: 100%|██████████| 74/74 [00:09<00:00,  7.86it/s, Loss_Train=0.0011, Loss_Rec=0.0011, Loss_KLD=0.0009, Loss_Len=0.0555]\n",
      "Epoch: 268/300: 100%|██████████| 74/74 [00:09<00:00,  7.89it/s, Loss_Train=0.0011, Loss_Rec=0.0011, Loss_KLD=0.0009, Loss_Len=0.0555]\n",
      "Epoch: 269/300: 100%|██████████| 74/74 [00:09<00:00,  7.81it/s, Loss_Train=0.0011, Loss_Rec=0.0011, Loss_KLD=0.0008, Loss_Len=0.0555]\n",
      "Epoch: 270/300: 100%|██████████| 74/74 [00:09<00:00,  7.81it/s, Loss_Train=0.0011, Loss_Rec=0.0011, Loss_KLD=0.0008, Loss_Len=0.0555]\n",
      "Epoch: 271/300: 100%|██████████| 74/74 [00:09<00:00,  7.87it/s, Loss_Train=0.0011, Loss_Rec=0.0011, Loss_KLD=0.0008, Loss_Len=0.0555]\n",
      "Epoch: 272/300: 100%|██████████| 74/74 [00:09<00:00,  7.79it/s, Loss_Train=0.0011, Loss_Rec=0.0011, Loss_KLD=0.0008, Loss_Len=0.0555]\n",
      "Epoch: 273/300: 100%|██████████| 74/74 [00:09<00:00,  7.87it/s, Loss_Train=0.0011, Loss_Rec=0.0011, Loss_KLD=0.0008, Loss_Len=0.0555]\n",
      "Epoch: 274/300: 100%|██████████| 74/74 [00:09<00:00,  7.90it/s, Loss_Train=0.0011, Loss_Rec=0.0011, Loss_KLD=0.0008, Loss_Len=0.0555]\n",
      "Epoch: 275/300: 100%|██████████| 74/74 [00:09<00:00,  7.88it/s, Loss_Train=0.0011, Loss_Rec=0.0011, Loss_KLD=0.0008, Loss_Len=0.0555]\n",
      "Epoch: 276/300: 100%|██████████| 74/74 [00:09<00:00,  7.92it/s, Loss_Train=0.0011, Loss_Rec=0.0011, Loss_KLD=0.0008, Loss_Len=0.0555]\n",
      "Epoch: 277/300: 100%|██████████| 74/74 [00:09<00:00,  7.91it/s, Loss_Train=0.0011, Loss_Rec=0.0011, Loss_KLD=0.0008, Loss_Len=0.0555]\n",
      "Epoch: 278/300: 100%|██████████| 74/74 [00:09<00:00,  7.96it/s, Loss_Train=0.0011, Loss_Rec=0.0011, Loss_KLD=0.0008, Loss_Len=0.0555]\n",
      "Epoch: 279/300: 100%|██████████| 74/74 [00:09<00:00,  7.82it/s, Loss_Train=0.0011, Loss_Rec=0.0011, Loss_KLD=0.0008, Loss_Len=0.0555]\n",
      "Epoch: 280/300: 100%|██████████| 74/74 [00:09<00:00,  7.84it/s, Loss_Train=0.0011, Loss_Rec=0.0011, Loss_KLD=0.0008, Loss_Len=0.0555]\n",
      "Epoch: 281/300: 100%|██████████| 74/74 [00:09<00:00,  7.86it/s, Loss_Train=0.0011, Loss_Rec=0.0011, Loss_KLD=0.0008, Loss_Len=0.0555]\n",
      "Epoch: 282/300: 100%|██████████| 74/74 [00:09<00:00,  7.94it/s, Loss_Train=0.0011, Loss_Rec=0.0011, Loss_KLD=0.0008, Loss_Len=0.0555]\n",
      "Epoch: 283/300: 100%|██████████| 74/74 [00:09<00:00,  7.87it/s, Loss_Train=0.0011, Loss_Rec=0.0011, Loss_KLD=0.0008, Loss_Len=0.0555]\n",
      "Epoch: 284/300: 100%|██████████| 74/74 [00:09<00:00,  7.86it/s, Loss_Train=0.0011, Loss_Rec=0.0011, Loss_KLD=0.0008, Loss_Len=0.0555]\n",
      "Epoch: 285/300: 100%|██████████| 74/74 [00:09<00:00,  7.74it/s, Loss_Train=0.0011, Loss_Rec=0.0011, Loss_KLD=0.0008, Loss_Len=0.0555]\n",
      "Epoch: 286/300: 100%|██████████| 74/74 [00:09<00:00,  7.84it/s, Loss_Train=0.0011, Loss_Rec=0.0011, Loss_KLD=0.0008, Loss_Len=0.0555]\n",
      "Epoch: 287/300: 100%|██████████| 74/74 [00:09<00:00,  7.93it/s, Loss_Train=0.0011, Loss_Rec=0.0011, Loss_KLD=0.0008, Loss_Len=0.0555]\n",
      "Epoch: 288/300: 100%|██████████| 74/74 [00:09<00:00,  7.86it/s, Loss_Train=0.0011, Loss_Rec=0.0011, Loss_KLD=0.0008, Loss_Len=0.0555]\n",
      "Epoch: 289/300: 100%|██████████| 74/74 [00:09<00:00,  7.92it/s, Loss_Train=0.0011, Loss_Rec=0.0011, Loss_KLD=0.0008, Loss_Len=0.0555]\n",
      "Epoch: 290/300: 100%|██████████| 74/74 [00:09<00:00,  7.89it/s, Loss_Train=0.0011, Loss_Rec=0.0011, Loss_KLD=0.0008, Loss_Len=0.0555]\n",
      "Epoch: 291/300: 100%|██████████| 74/74 [00:09<00:00,  7.87it/s, Loss_Train=0.0011, Loss_Rec=0.0011, Loss_KLD=0.0008, Loss_Len=0.0555]\n",
      "Epoch: 292/300: 100%|██████████| 74/74 [00:09<00:00,  7.84it/s, Loss_Train=0.0011, Loss_Rec=0.0011, Loss_KLD=0.0008, Loss_Len=0.0555]\n",
      "Epoch: 293/300: 100%|██████████| 74/74 [00:09<00:00,  7.88it/s, Loss_Train=0.0011, Loss_Rec=0.0011, Loss_KLD=0.0008, Loss_Len=0.0555]\n",
      "Epoch: 294/300: 100%|██████████| 74/74 [00:09<00:00,  7.84it/s, Loss_Train=0.0011, Loss_Rec=0.0011, Loss_KLD=0.0008, Loss_Len=0.0555]\n",
      "Epoch: 295/300: 100%|██████████| 74/74 [00:09<00:00,  7.89it/s, Loss_Train=0.0011, Loss_Rec=0.0011, Loss_KLD=0.0008, Loss_Len=0.0555]\n",
      "Epoch: 296/300: 100%|██████████| 74/74 [00:09<00:00,  7.88it/s, Loss_Train=0.0011, Loss_Rec=0.0011, Loss_KLD=0.0008, Loss_Len=0.0555]\n",
      "Epoch: 297/300: 100%|██████████| 74/74 [00:09<00:00,  7.89it/s, Loss_Train=0.0011, Loss_Rec=0.0011, Loss_KLD=0.0008, Loss_Len=0.0555]\n",
      "Epoch: 298/300: 100%|██████████| 74/74 [00:09<00:00,  7.88it/s, Loss_Train=0.0011, Loss_Rec=0.0011, Loss_KLD=0.0008, Loss_Len=0.0555]\n",
      "Epoch: 299/300: 100%|██████████| 74/74 [00:09<00:00,  7.89it/s, Loss_Train=0.0011, Loss_Rec=0.0011, Loss_KLD=0.0008, Loss_Len=0.0555]\n"
     ]
    }
   ],
   "source": [
    "step, beta = 0, 1.0\n",
    "avg_loss, avg_len, avg_rec_loss, avg_res_loss, avg_q_loss = [], [], [], [], []\n",
    "\n",
    "for epoch in range(num_epochs):\n",
    "\t\n",
    "\tlosses, rec_losses, res_losses, q_losses, len_losses = [], [], [], [], []\n",
    "\tprogression_bar = tqdm(train_loader, desc=f\"Epoch: {epoch:>2}/{num_epochs:>2}\")\n",
    "\tfor (x_trajs, y_trajs, z_trajs), _ in progression_bar:\n",
    "\n",
    "\t\ttrajs = th.stack([x_trajs, y_trajs, z_trajs], dim=-3).to(device=device)\n",
    "\t\tx_init, y_init, z_init = trajs[:, 0, :, 0], trajs[:, 1, :, 0], trajs[:, 2, :, 0]\n",
    "\t\tx_fin, y_fin, z_fin = trajs[:, 0, :, -1], trajs[:, 1, :, -1], trajs[:, 2, :, -1]\n",
    "\t\t\n",
    "\t\tconditions = th.stack([trajs[..., 0], trajs[..., -1]], dim=-1)\n",
    "\n",
    "\t\trec_sol, mean, std = cv_model(trajs, conditions, x_init, y_init, z_init, x_fin, y_fin, z_fin)\n",
    "\t\trec_trajs = rec_sol @ P.mT\n",
    "\t\tpx_trajs, py_trajs, pz_trajs = rec_trajs[:, 0, :, :], rec_trajs[:, 1, :, :], rec_trajs[:, 2, :, :]\n",
    "\n",
    "\t\tp_trajs = th.stack([px_trajs, py_trajs, pz_trajs], dim=-3).to(device=device)\n",
    "\t\trec_loss = th.nn.functional.mse_loss(p_trajs, trajs)\n",
    "\t\t\n",
    "\t\tlen_loss = rec_trajs.diff(dim=-1).pow(2).sum(dim=-1).mean()\n",
    "\t\tKL = - 0.5 * th.mean(th.sum(1 + torch_log(std ** 2) - mean ** 2 - std ** 2, dim=1))\n",
    "\t\t\n",
    "\t\tbeta_d = min(step / 1000 * beta, beta)\n",
    "\t\tloss = rec_loss + beta_d * KL\n",
    "\n",
    "\t\toptimizer.zero_grad()\n",
    "\t\tloss.backward()\n",
    "\t\toptimizer.step()\n",
    "\n",
    "\t\tlosses.append(loss.item())\n",
    "\t\trec_losses.append(rec_loss.item())\n",
    "\t\tq_losses.append(KL.item())\n",
    "\t\tlen_losses.append(len_loss.item())\n",
    "\n",
    "\t\tep_loss, ep_l_loss, ep_rec_loss, ep_q_loss, ep_res_loss = (\n",
    "\t\t\tnp.average(losses), np.average(len_losses), np.average(rec_losses), np.average(q_losses), 0 \n",
    "\t\t)\n",
    "\t\tprogression_bar.set_postfix({\n",
    "\t\t\t'Loss_Train': f'{ep_loss:.4f}', \n",
    "\t\t\t'Loss_Rec': f'{ep_rec_loss:.4f}',\n",
    "\t\t\t'Loss_KLD': f'{ep_q_loss:.4f}',\n",
    "\t\t\t'Loss_Len': f'{ep_l_loss:.4f}'\n",
    "\t\t})\n",
    "\n",
    "\tstep += (0.07/12)\n",
    "\tavg_loss.append(ep_loss), avg_rec_loss.append(ep_rec_loss), avg_q_loss.append(ep_q_loss)\n",
    "\tavg_len.append(ep_l_loss)\n",
    "\tscheduler.step(ep_loss)\n"
   ]
  },
  {
   "cell_type": "code",
   "execution_count": 10,
   "metadata": {},
   "outputs": [],
   "source": [
    "th.save(cv_model.state_dict(), f\"./resources/weights/cvae/{cv_name}_agents_{num_agent}\")"
   ]
  },
  {
   "cell_type": "code",
   "execution_count": 11,
   "metadata": {},
   "outputs": [
    {
     "data": {
      "image/png": "[encoded data removed]",
      "text/plain": [
       "<Figure size 2000x400 with 4 Axes>"
      ]
     },
     "metadata": {},
     "output_type": "display_data"
    }
   ],
   "source": [
    "fig = plt.figure(figsize=(20, 4))\n",
    "ax = plt.subplot(141)\n",
    "ax.plot(avg_loss)\n",
    "ax.set_title(\"Train loss\")\n",
    "ax.set_yscale('log')\n",
    "ax.grid(which=\"both\")\n",
    "\n",
    "ax = plt.subplot(142)\n",
    "ax .plot(avg_rec_loss)\n",
    "ax.set_title(\"Reconstruction loss\")\n",
    "ax.set_yscale('log')\n",
    "ax.grid(which=\"both\")\n",
    "\n",
    "ax = plt.subplot(143)\n",
    "ax.plot(avg_q_loss)\n",
    "ax.set_title(\"KLD loss\")\n",
    "ax.set_yscale('log')\n",
    "ax.grid(which=\"both\")\n",
    "\n",
    "ax = plt.subplot(144)\n",
    "ax.plot(avg_len)\n",
    "ax.set_title(\"Traj avg Length\")\n",
    "ax.set_yscale('log')\n",
    "ax.grid(which=\"both\")\n",
    "\n",
    "plt.tight_layout()\n",
    "plt.show()"
   ]
  },
  {
   "cell_type": "code",
   "execution_count": 12,
   "metadata": {},
   "outputs": [
    {
     "data": {
      "application/vnd.plotly.v1+json": {
       "config": {
        "plotlyServerURL": "https://plot.ly"
       },
       "data": [
        {
         "mode": "lines",
         "scene": "scene",
         "showlegend": false,
         "type": "scatter3d",
         "x": [
          1.326698660850525,
          1.3268736600875854,
          1.3278981447219849,
          1.3301750421524048,
          1.3337922096252441,
          1.3386623859405518,
          1.3446167707443237,
          1.3514645099639893,
          1.3590267896652222,
          1.3671528100967407,
          1.3757224082946777,
          1.384642243385315,
          1.3938374519348145,
          1.4032413959503174,
          1.4127870798110962,
          1.4223995208740234,
          1.4319922924041748,
          1.4414639472961426,
          1.4507006406784058,
          1.4595783948898315,
          1.4679689407348633,
          1.4757459163665771,
          1.4827911853790283,
          1.4890027046203613,
          1.494299054145813,
          1.4986258745193481,
          1.5019562244415283,
          1.504294753074646,
          1.505673885345459,
          1.506152868270874,
          1.5058116912841797,
          1.504746437072754,
          1.5030617713928223,
          1.5008643865585327,
          1.4982566833496094,
          1.4953312873840332,
          1.4921684265136719,
          1.4888334274291992,
          1.4853805303573608,
          1.481854796409607,
          1.4783005714416504,
          1.4747695922851562,
          1.4713287353515625,
          1.4680687189102173,
          1.4651057720184326,
          1.4625771045684814,
          1.46062171459198,
          1.4593439102172852,
          1.4587488174438477,
          1.4586442708969116
         ],
         "y": [
          0.43363094329833984,
          0.43340763449668884,
          0.43207788467407227,
          0.4290653467178345,
          0.4241824448108673,
          0.4174730181694031,
          0.40910226106643677,
          0.3992821276187897,
          0.3882252275943756,
          0.3761197030544281,
          0.36311861872673035,
          0.3493396043777466,
          0.3348713517189026,
          0.3197825253009796,
          0.3041323125362396,
          0.28797975182533264,
          0.27139216661453247,
          0.2544502913951874,
          0.23725123703479767,
          0.2199089080095291,
          0.20255185663700104,
          0.1853192001581192,
          0.1683553010225296,
          0.15180352330207825,
          0.13579975068569183,
          0.12046617269515991,
          0.10590614378452301,
          0.09219995886087418,
          0.07940242439508438,
          0.06754198670387268,
          0.05662180110812187,
          0.046622276306152344,
          0.03750523179769516,
          0.02921915613114834,
          0.021705113351345062,
          0.01490289717912674,
          0.008756764233112335,
          0.003220224753022194,
          -0.0017406828701496124,
          -0.006146097555756569,
          -0.010003359988331795,
          -0.01331053115427494,
          -0.016062304377555847,
          -0.018257854506373405,
          -0.01990984007716179,
          -0.021053193137049675,
          -0.021751808002591133,
          -0.02210053615272045,
          -0.02221911959350109,
          -0.022233815863728523
         ],
         "z": [
          0.9034855365753174,
          0.903681755065918,
          0.9048338532447815,
          0.9074020981788635,
          0.9114959836006165,
          0.9170268177986145,
          0.9238119125366211,
          0.9316411018371582,
          0.9403154253959656,
          0.949664831161499,
          0.9595534205436707,
          0.969874918460846,
          0.9805443286895752,
          0.9914875626564026,
          1.0026311874389648,
          1.0138949155807495,
          1.0251859426498413,
          1.0363966226577759,
          1.047405481338501,
          1.058079481124878,
          1.0682802200317383,
          1.0778696537017822,
          1.086718201637268,
          1.094711184501648,
          1.1017556190490723,
          1.1077852249145508,
          1.11276376247406,
          1.1166867017745972,
          1.1195803880691528,
          1.1214990615844727,
          1.1225206851959229,
          1.1227402687072754,
          1.1222639083862305,
          1.1212000846862793,
          1.1196542978286743,
          1.117722511291504,
          1.1154873371124268,
          1.1130163669586182,
          1.1103639602661133,
          1.1075745820999146,
          1.1046897172927856,
          1.1017568111419678,
          1.0988378524780273,
          1.0960185527801514,
          1.0934103727340698,
          1.0911486148834229,
          1.0893746614456177,
          1.0882006883621216,
          1.0876481533050537,
          1.0875502824783325
         ]
        },
        {
         "mode": "lines",
         "scene": "scene",
         "showlegend": false,
         "type": "scatter3d",
         "x": [
          -0.6161234974861145,
          -0.6158332824707031,
          -0.6140424609184265,
          -0.6098241209983826,
          -0.6027204990386963,
          -0.5925993919372559,
          -0.5795392990112305,
          -0.5637410879135132,
          -0.545461118221283,
          -0.5249640345573425,
          -0.502491295337677,
          -0.47824373841285706,
          -0.45237359404563904,
          -0.42498552799224854,
          -0.39614272117614746,
          -0.3658774793148041,
          -0.3342033624649048,
          -0.301128089427948,
          -0.2666659951210022,
          -0.23084843158721924,
          -0.19373221695423126,
          -0.155405193567276,
          -0.1159888207912445,
          -0.07563764601945877,
          -0.03453613445162773,
          0.007106948643922806,
          0.04906599223613739,
          0.09110725671052933,
          0.1329980492591858,
          0.17451541125774384,
          0.2154538631439209,
          0.25563114881515503,
          0.29489126801490784,
          0.3331044912338257,
          0.3701637387275696,
          0.4059775769710541,
          0.4404594898223877,
          0.4735146462917328,
          0.5050246715545654,
          0.5348325967788696,
          0.5627293586730957,
          0.5884459614753723,
          0.6116530895233154,
          0.6319754719734192,
          0.6490228176116943,
          0.6624478101730347,
          0.6720355153083801,
          0.6778356432914734,
          0.6803458333015442,
          0.6807599067687988
         ],
         "y": [
          -2.273214817047119,
          -2.2721755504608154,
          -2.2658286094665527,
          -2.2510457038879395,
          -2.226416826248169,
          -2.191673994064331,
          -2.147252082824707,
          -2.093961715698242,
          -2.032759428024292,
          -1.9645928144454956,
          -1.8903082609176636,
          -1.8106039762496948,
          -1.7260180711746216,
          -1.6369423866271973,
          -1.5436500310897827,
          -1.4463340044021606,
          -1.3451462984085083,
          -1.2402369976043701,
          -1.131787657737732,
          -1.0200363397598267,
          -0.9052971005439758,
          -0.7879657745361328,
          -0.6685210466384888,
          -0.5475142002105713,
          -0.425554096698761,
          -0.3032855987548828,
          -0.18136583268642426,
          -0.0604386031627655,
          0.058889687061309814,
          0.17607077956199646,
          0.29063019156455994,
          0.4021762013435364,
          0.5103999972343445,
          0.6150676012039185,
          0.7160021662712097,
          0.8130574226379395,
          0.9060846567153931,
          0.9948942065238953,
          1.0792150497436523,
          1.1586582660675049,
          1.2326877117156982,
          1.3006091117858887,
          1.3615796566009521,
          1.4146572351455688,
          1.4588912725448608,
          1.4934782981872559,
          1.517990231513977,
          1.5326991081237793,
          1.5390119552612305,
          1.5400452613830566
         ],
         "z": [
          0.7223491668701172,
          0.7220664024353027,
          0.7203458547592163,
          0.7163556814193726,
          0.7097359299659729,
          0.7004343867301941,
          0.6885846257209778,
          0.6744157075881958,
          0.6581907868385315,
          0.6401663422584534,
          0.6205686926841736,
          0.5995837450027466,
          0.577354907989502,
          0.5539883375167847,
          0.5295608639717102,
          0.5041311979293823,
          0.47774946689605713,
          0.45046791434288025,
          0.4223487377166748,
          0.39346978068351746,
          0.3639281690120697,
          0.3338415324687958,
          0.3033464252948761,
          0.2725951671600342,
          0.2417513132095337,
          0.2109830379486084,
          0.18045741319656372,
          0.15033361315727234,
          0.12075699865818024,
          0.09185464680194855,
          0.06373193860054016,
          0.036471348255872726,
          0.01013326644897461,
          -0.015240918844938278,
          -0.03962356224656105,
          -0.06299354135990143,
          -0.08532749861478806,
          -0.10659030824899673,
          -0.12672531604766846,
          -0.14564603567123413,
          -0.16322989761829376,
          -0.1793166548013687,
          -0.19371221959590912,
          -0.20620137453079224,
          -0.21657072007656097,
          -0.22464554011821747,
          -0.2303430587053299,
          -0.23374591767787933,
          -0.23519930243492126,
          -0.23543612658977509
         ]
        },
        {
         "mode": "lines",
         "scene": "scene",
         "showlegend": false,
         "type": "scatter3d",
         "x": [
          1.1061265468597412,
          1.1061686277389526,
          1.1064457893371582,
          1.1071434020996094,
          1.1083892583847046,
          1.1102573871612549,
          1.1127759218215942,
          1.115938663482666,
          1.119717001914978,
          1.1240698099136353,
          1.128954529762268,
          1.1343337297439575,
          1.1401805877685547,
          1.146482229232788,
          1.1532397270202637,
          1.1604677438735962,
          1.1681910753250122,
          1.1764403581619263,
          1.1852489709854126,
          1.1946465969085693,
          1.2046555280685425,
          1.2152866125106812,
          1.2265355587005615,
          1.2383815050125122,
          1.2507858276367188,
          1.2636924982070923,
          1.2770304679870605,
          1.2907156944274902,
          1.3046544790267944,
          1.3187485933303833,
          1.3328986167907715,
          1.347008466720581,
          1.3609883785247803,
          1.3747581243515015,
          1.388247013092041,
          1.4013935327529907,
          1.414143443107605,
          1.4264450073242188,
          1.4382433891296387,
          1.4494738578796387,
          1.4600552320480347,
          1.4698841571807861,
          1.4788308143615723,
          1.4867427349090576,
          1.493453025817871,
          1.4988012313842773,
          1.5026702880859375,
          1.5050429105758667,
          1.5060834884643555,
          1.5062575340270996
         ],
         "y": [
          -1.1625703573226929,
          -1.1617097854614258,
          -1.1565053462982178,
          -1.144511342048645,
          -1.1247366666793823,
          -1.0971163511276245,
          -1.0621241331100464,
          -1.0204969644546509,
          -0.9730491638183594,
          -0.9205563068389893,
          -0.8636924624443054,
          -0.8030054569244385,
          -0.7389197945594788,
          -0.6717560887336731,
          -0.6017599701881409,
          -0.5291346907615662,
          -0.45407184958457947,
          -0.3767786920070648,
          -0.29749810695648193,
          -0.2165219932794571,
          -0.1341961771249771,
          -0.050918757915496826,
          0.032868511974811554,
          0.11669346690177917,
          0.20007070899009705,
          0.28252047300338745,
          0.3635873794555664,
          0.44285860657691956,
          0.519977867603302,
          0.594656229019165,
          0.6666768789291382,
          0.735895037651062,
          0.8022304773330688,
          0.8656553030014038,
          0.9261755347251892,
          0.9838091135025024,
          1.0385607481002808,
          1.0903966426849365,
          1.1392210721969604,
          1.1848564147949219,
          1.2270333766937256,
          1.2653913497924805,
          1.299494981765747,
          1.3288708925247192,
          1.3530675172805786,
          1.371745228767395,
          1.3847979307174683,
          1.3925135135650635,
          1.395772933959961,
          1.3962986469268799
         ],
         "z": [
          -0.3290415108203888,
          -0.32866939902305603,
          -0.3263522982597351,
          -0.3208443224430084,
          -0.3114894926548004,
          -0.2980574667453766,
          -0.28060585260391235,
          -0.25936853885650635,
          -0.2346680909395218,
          -0.20685039460659027,
          -0.1762387454509735,
          -0.14310483634471893,
          -0.10765453428030014,
          -0.07002492249011993,
          -0.030290422961115837,
          0.011524457484483719,
          0.05542865768074989,
          0.10144577920436859,
          0.1495954990386963,
          0.1998763531446457,
          0.25225138664245605,
          0.3066372275352478,
          0.3628978729248047,
          0.4208424687385559,
          0.48022812604904175,
          0.5407660603523254,
          0.6021318435668945,
          0.6639776229858398,
          0.7259464263916016,
          0.7876858115196228,
          0.8488609194755554,
          0.909165620803833,
          0.9683290719985962,
          1.0261187553405762,
          1.082336664199829,
          1.1368117332458496,
          1.1893846988677979,
          1.2398889064788818,
          1.2881276607513428,
          1.3338491916656494,
          1.3767259120941162,
          1.4163382053375244,
          1.4521715641021729,
          1.4836351871490479,
          1.5101066827774048,
          1.5310208797454834,
          1.5460093021392822,
          1.5551100969314575,
          1.5590633153915405,
          1.5597177743911743
         ]
        },
        {
         "mode": "lines",
         "scene": "scene",
         "showlegend": false,
         "type": "scatter3d",
         "x": [
          1.3719708919525146,
          1.37139892578125,
          1.3679100275039673,
          1.3597939014434814,
          1.3462889194488525,
          1.327258825302124,
          1.3029502630233765,
          1.2738109827041626,
          1.2403652667999268,
          1.2031282186508179,
          1.1625573635101318,
          1.119027853012085,
          1.0728275775909424,
          1.0241655111312866,
          0.9731875061988831,
          0.919998288154602,
          0.8646830320358276,
          0.8073289394378662,
          0.748042643070221,
          0.6869640350341797,
          0.6242756247520447,
          0.560205340385437,
          0.49502649903297424,
          0.4290512502193451,
          0.3626214265823364,
          0.2960968017578125,
          0.22984133660793304,
          0.16420915722846985,
          0.09953136742115021,
          0.036104634404182434,
          -0.025816798210144043,
          -0.08602584898471832,
          -0.14436227083206177,
          -0.20070770382881165,
          -0.2549756169319153,
          -0.3070967197418213,
          -0.3570003807544708,
          -0.40459388494491577,
          -0.4497404396533966,
          -0.4922393262386322,
          -0.5318107604980469,
          -0.568089485168457,
          -0.6006314754486084,
          -0.6289394497871399,
          -0.652512788772583,
          -0.6709302067756653,
          -0.6839720010757446,
          -0.6917909383773804,
          -0.6951438188552856,
          -0.6956921815872192
         ],
         "y": [
          -2.119016408920288,
          -2.118446111679077,
          -2.114943265914917,
          -2.106734037399292,
          -2.0929758548736572,
          -2.0734589099884033,
          -2.048375368118286,
          -2.0181403160095215,
          -1.9832661151885986,
          -1.944270133972168,
          -1.9016211032867432,
          -1.8557058572769165,
          -1.8068208694458008,
          -1.7551742792129517,
          -1.7009015083312988,
          -1.6440845727920532,
          -1.5847761631011963,
          -1.523023009300232,
          -1.4588861465454102,
          -1.3924602270126343,
          -1.323886513710022,
          -1.2533596754074097,
          -1.181131362915039,
          -1.107507348060608,
          -1.0328391790390015,
          -0.9575138688087463,
          -0.8819388151168823,
          -0.806527316570282,
          -0.7316814661026001,
          -0.6577782034873962,
          -0.5851569771766663,
          -0.5141118168830872,
          -0.44488725066185,
          -0.37768083810806274,
          -0.31265154480934143,
          -0.24993367493152618,
          -0.18965694308280945,
          -0.13197019696235657,
          -0.07706773281097412,
          -0.025214925408363342,
          0.02323053777217865,
          0.06780657172203064,
          0.10795004665851593,
          0.14302290976047516,
          0.17236971855163574,
          0.19541749358177185,
          0.2118295282125473,
          0.22172750532627106,
          0.22599779069423676,
          0.22670018672943115
         ],
         "z": [
          0.6707578897476196,
          0.6709925532341003,
          0.6724210381507874,
          0.6757367253303528,
          0.681242048740387,
          0.6889826655387878,
          0.6988492012023926,
          0.7106508612632751,
          0.7241674065589905,
          0.7391827702522278,
          0.7555047273635864,
          0.7729745507240295,
          0.7914687991142273,
          0.8108954429626465,
          0.8311874270439148,
          0.8522939682006836,
          0.874172568321228,
          0.8967801332473755,
          0.9200667142868042,
          0.9439701437950134,
          0.9684136509895325,
          0.9933037757873535,
          1.0185319185256958,
          1.0439765453338623,
          1.069507122039795,
          1.0949887037277222,
          1.1202867031097412,
          1.1452728509902954,
          1.1698291301727295,
          1.1938523054122925,
          1.2172555923461914,
          1.2399712800979614,
          1.2619481086730957,
          1.2831504344940186,
          1.3035528659820557,
          1.3231348991394043,
          1.3418736457824707,
          1.3597354888916016,
          1.37666916847229,
          1.3925977945327759,
          1.407414197921753,
          1.4209792613983154,
          1.433126449584961,
          1.4436711072921753,
          1.4524303674697876,
          1.459254503250122,
          1.46407151222229,
          1.4669498205184937,
          1.46817946434021,
          1.4683799743652344
         ]
        },
        {
         "marker": {
          "color": "#636EFA",
          "size": 2
         },
         "mode": "markers",
         "scene": "scene",
         "showlegend": false,
         "type": "scatter3d",
         "x": [
          1.326698660850525,
          -0.6161234974861145,
          1.1061265468597412,
          1.3719708919525146
         ],
         "y": [
          0.43363094329833984,
          -2.273214817047119,
          -1.1625703573226929,
          -2.119016408920288
         ],
         "z": [
          0.9034855365753174,
          0.7223491668701172,
          -0.3290415108203888,
          0.6707578897476196
         ]
        },
        {
         "marker": {
          "color": "#EF553B",
          "size": 2
         },
         "mode": "markers",
         "scene": "scene",
         "showlegend": false,
         "type": "scatter3d",
         "x": [
          1.4586442708969116,
          0.6807599067687988,
          1.5062575340270996,
          -0.6956921815872192
         ],
         "y": [
          -0.022233815863728523,
          1.5400452613830566,
          1.3962986469268799,
          0.22670018672943115
         ],
         "z": [
          1.0875502824783325,
          -0.23543612658977509,
          1.5597177743911743,
          1.4683799743652344
         ]
        },
        {
         "mode": "lines",
         "scene": "scene2",
         "showlegend": false,
         "type": "scatter3d",
         "x": [
          -1.013611078262329,
          -1.0134553909301758,
          -1.0125021934509277,
          -1.0102732181549072,
          -1.0065457820892334,
          -1.0012660026550293,
          -0.9944860935211182,
          -0.9863139390945435,
          -0.9768799543380737,
          -0.9663126468658447,
          -0.9547244310379028,
          -0.9422048330307007,
          -0.9288188219070435,
          -0.9146085381507874,
          -0.8995991349220276,
          -0.8838041424751282,
          -0.8672330975532532,
          -0.849897563457489,
          -0.8318180441856384,
          -0.8130273222923279,
          -0.7935750484466553,
          -0.7735282182693481,
          -0.7529721856117249,
          -0.7320082783699036,
          -0.710751473903656,
          -0.6893264055252075,
          -0.6678626537322998,
          -0.6464897990226746,
          -0.6253324151039124,
          -0.6045057773590088,
          -0.5841116905212402,
          -0.5642366409301758,
          -0.5449502468109131,
          -0.5263059139251709,
          -0.5083438158035278,
          -0.49109429121017456,
          -0.4745842218399048,
          -0.4588438868522644,
          -0.4439145028591156,
          -0.4298560321331024,
          -0.41675329208374023,
          -0.4047201871871948,
          -0.3938988745212555,
          -0.3844534456729889,
          -0.3765545189380646,
          -0.37035268545150757,
          -0.3659365475177765,
          -0.3632728159427643,
          -0.3621233105659485,
          -0.36193418502807617
         ],
         "y": [
          -0.28078165650367737,
          -0.28098583221435547,
          -0.2821849286556244,
          -0.2848573327064514,
          -0.28911393880844116,
          -0.29485613107681274,
          -0.3018840253353119,
          -0.30996546149253845,
          -0.31887710094451904,
          -0.32842397689819336,
          -0.33844560384750366,
          -0.348812460899353,
          -0.3594183623790741,
          -0.3701704442501068,
          -0.380979984998703,
          -0.3917544186115265,
          -0.40239232778549194,
          -0.41278114914894104,
          -0.4227980077266693,
          -0.4323124587535858,
          -0.4411916732788086,
          -0.44930654764175415,
          -0.4565386474132538,
          -0.46278661489486694,
          -0.4679723083972931,
          -0.47204476594924927,
          -0.474983274936676,
          -0.4767982065677643,
          -0.4775294065475464,
          -0.47724318504333496,
          -0.476027250289917,
          -0.47398483753204346,
          -0.4712277054786682,
          -0.46786928176879883,
          -0.46401891112327576,
          -0.4597768485546112,
          -0.45523157715797424,
          -0.4504600167274475,
          -0.44552987813949585,
          -0.44050538539886475,
          -0.43545499444007874,
          -0.4304606318473816,
          -0.42562663555145264,
          -0.4210861921310425,
          -0.4170014560222626,
          -0.41355419158935547,
          -0.4109194874763489,
          -0.4092176854610443,
          -0.40843409299850464,
          -0.4082977771759033
         ],
         "z": [
          0.20470206439495087,
          0.2046697437763214,
          0.20446757972240448,
          0.20398464798927307,
          0.20316104590892792,
          0.20197443664073944,
          0.20042885839939117,
          0.1985449492931366,
          0.19635239243507385,
          0.1938837766647339,
          0.19117039442062378,
          0.18823926150798798,
          0.18511146306991577,
          0.1818017065525055,
          0.17831847071647644,
          0.17466501891613007,
          0.17084074020385742,
          0.16684280335903168,
          0.16266772150993347,
          0.1583130657672882,
          0.15377885103225708,
          0.149068683385849,
          0.14419040083885193,
          0.13915659487247467,
          0.1339844912290573,
          0.12869560718536377,
          0.12331493198871613,
          0.11787007749080658,
          0.11239005625247955,
          0.10690417140722275,
          0.10144080221652985,
          0.09602662920951843,
          0.09068583697080612,
          0.0854400172829628,
          0.08030834048986435,
          0.07530830055475235,
          0.07045702636241913,
          0.06577293574810028,
          0.06127781420946121,
          0.056998953223228455,
          0.05297106131911278,
          0.04923760145902634,
          0.04585089534521103,
          0.04287038743495941,
          0.04035808891057968,
          0.038370270282030106,
          0.036944009363651276,
          0.036077238619327545,
          0.035700440406799316,
          0.03563803806900978
         ]
        },
        {
         "mode": "lines",
         "scene": "scene2",
         "showlegend": false,
         "type": "scatter3d",
         "x": [
          1.2788786888122559,
          1.2786003351211548,
          1.2768633365631104,
          1.272722840309143,
          1.265673041343689,
          1.255526065826416,
          1.2423136234283447,
          1.2262027263641357,
          1.2074296474456787,
          1.1862504482269287,
          1.1629056930541992,
          1.137597918510437,
          1.1104793548583984,
          1.0816497802734375,
          1.0511606931686401,
          1.0190246105194092,
          0.9852277636528015,
          0.949744701385498,
          0.9125527739524841,
          0.8736456632614136,
          0.8330450654029846,
          0.7908092737197876,
          0.7470384240150452,
          0.7018767595291138,
          0.6555105447769165,
          0.6081633567810059,
          0.5600883364677429,
          0.5115587115287781,
          0.4628561735153198,
          0.41426074504852295,
          0.3660391569137573,
          0.3184371888637543,
          0.2716732919216156,
          0.22593647241592407,
          0.1813884675502777,
          0.13817031681537628,
          0.09641373157501221,
          0.05625639855861664,
          0.01786021888256073,
          -0.01856931298971176,
          -0.05276546627283096,
          -0.08438775688409805,
          -0.11301958560943604,
          -0.1381818652153015,
          -0.15937015414237976,
          -0.17612427473068237,
          -0.18814101815223694,
          -0.19544294476509094,
          -0.19861730933189392,
          -0.19914308190345764
         ],
         "y": [
          0.08327633142471313,
          0.0834052786231041,
          0.08418251574039459,
          0.08596700429916382,
          0.08889855444431305,
          0.09297920018434525,
          0.09813304990530014,
          0.10424791276454926,
          0.11120311915874481,
          0.11888623982667923,
          0.12720200419425964,
          0.13607490062713623,
          0.14544816315174103,
          0.15528005361557007,
          0.16553881764411926,
          0.1761976182460785,
          0.18722933530807495,
          0.19860266149044037,
          0.21027883887290955,
          0.2222099006175995,
          0.23433823883533478,
          0.24659687280654907,
          0.25891128182411194,
          0.27120164036750793,
          0.2833857536315918,
          0.2953820824623108,
          0.3071131110191345,
          0.318508118391037,
          0.3295057415962219,
          0.3400557041168213,
          0.3501198887825012,
          0.3596726655960083,
          0.36869990825653076,
          0.377197802066803,
          0.38517022132873535,
          0.3926261067390442,
          0.39957594871520996,
          0.40602874755859375,
          0.41198861598968506,
          0.41745245456695557,
          0.4224080443382263,
          0.42683446407318115,
          0.43070313334465027,
          0.43398183584213257,
          0.4366413652896881,
          0.4386645555496216,
          0.44005876779556274,
          0.4408717751502991,
          0.4412108063697815,
          0.4412648379802704
         ],
         "z": [
          0.41747358441352844,
          0.41731691360473633,
          0.4163649380207062,
          0.4141594469547272,
          0.41050440073013306,
          0.40537387132644653,
          0.39884379506111145,
          0.3910422623157501,
          0.3821151554584503,
          0.3722040355205536,
          0.3614334762096405,
          0.34990522265434265,
          0.3376978039741516,
          0.32486918568611145,
          0.31146180629730225,
          0.2975080609321594,
          0.28303658962249756,
          0.2680773437023163,
          0.2526662051677704,
          0.23684793710708618,
          0.22067813575267792,
          0.2042236328125,
          0.18756157159805298,
          0.17077766358852386,
          0.15396325290203094,
          0.13721202313899994,
          0.12061645090579987,
          0.1042642742395401,
          0.08823511749505997,
          0.07259813696146011,
          0.05741020292043686,
          0.042715203016996384,
          0.028544645756483078,
          0.014919321984052658,
          0.001852225512266159,
          -0.010647494345903397,
          -0.022569824010133743,
          -0.033898644149303436,
          -0.04460667818784714,
          -0.05465084686875343,
          -0.06396923214197159,
          -0.07248001545667648,
          -0.08008383214473724,
          -0.08667036890983582,
          -0.09213060140609741,
          -0.0963762030005455,
          -0.09936738014221191,
          -0.1011512279510498,
          -0.10191202163696289,
          -0.10203582793474197
         ]
        },
        {
         "mode": "lines",
         "scene": "scene2",
         "showlegend": false,
         "type": "scatter3d",
         "x": [
          -0.6854248046875,
          -0.6857170462608337,
          -0.6874861717224121,
          -0.6915679574012756,
          -0.6983048319816589,
          -0.7077222466468811,
          -0.7196599841117859,
          -0.7338648438453674,
          -0.7500545978546143,
          -0.7679578065872192,
          -0.787336528301239,
          -0.807995080947876,
          -0.8297808766365051,
          -0.8525775074958801,
          -0.8762965202331543,
          -0.9008661508560181,
          -0.9262212514877319,
          -0.9522941708564758,
          -0.9790073037147522,
          -1.0062692165374756,
          -1.0339711904525757,
          -1.0619882345199585,
          -1.0901811122894287,
          -1.1184006929397583,
          -1.1464924812316895,
          -1.1743031740188599,
          -1.2016860246658325,
          -1.2285077571868896,
          -1.2546519041061401,
          -1.280023455619812,
          -1.3045494556427002,
          -1.3281800746917725,
          -1.3508853912353516,
          -1.3726515769958496,
          -1.3934755325317383,
          -1.4133567810058594,
          -1.4322898387908936,
          -1.4502553939819336,
          -1.467212200164795,
          -1.4830915927886963,
          -1.4977927207946777,
          -1.511183261871338,
          -1.5231056213378906,
          -1.5333890914916992,
          -1.5418705940246582,
          -1.5484259128570557,
          -1.553013563156128,
          -1.5557289123535156,
          -1.556877613067627,
          -1.5570632219314575
         ],
         "y": [
          0.5877361297607422,
          0.5881652235984802,
          0.5907502174377441,
          0.5966804623603821,
          0.6064135432243347,
          0.6199464797973633,
          0.6370140910148621,
          0.6572272181510925,
          0.680164098739624,
          0.7054264545440674,
          0.732668399810791,
          0.7616060376167297,
          0.7920151948928833,
          0.8237202167510986,
          0.8565793037414551,
          0.8904692530632019,
          0.9252712726593018,
          0.9608586430549622,
          0.997089147567749,
          1.0338002443313599,
          1.0708087682724,
          1.1079133749008179,
          1.144899845123291,
          1.1815489530563354,
          1.217644214630127,
          1.2529820203781128,
          1.2873785495758057,
          1.3206779956817627,
          1.352757215499878,
          1.383528232574463,
          1.4129395484924316,
          1.4409716129302979,
          1.46763277053833,
          1.4929513931274414,
          1.5169658660888672,
          1.5397132635116577,
          1.5612190961837769,
          1.5814862251281738,
          1.600486397743225,
          1.6181542873382568,
          1.6343859434127808,
          1.6490437984466553,
          1.6619658470153809,
          1.6729851961135864,
          1.6819552183151245,
          1.6887855529785156,
          1.6934856176376343,
          1.696216106414795,
          1.6973479986190796,
          1.697527289390564
         ],
         "z": [
          1.1498234272003174,
          1.1496046781539917,
          1.1482560634613037,
          1.1450833082199097,
          1.1397452354431152,
          1.1321433782577515,
          1.1223342418670654,
          1.1104636192321777,
          1.0967161655426025,
          1.081279993057251,
          1.0643259286880493,
          1.0459933280944824,
          1.0263869762420654,
          1.0055772066116333,
          0.9836062788963318,
          0.9604957103729248,
          0.9362564086914062,
          0.9108983278274536,
          0.8844386339187622,
          0.8569103479385376,
          0.8283675312995911,
          0.798888623714447,
          0.7685785293579102,
          0.7375666499137878,
          0.7060045003890991,
          0.6740608811378479,
          0.6419153213500977,
          0.6097518801689148,
          0.577751636505127,
          0.5460860133171082,
          0.5149112343788147,
          0.4843640923500061,
          0.45455998182296753,
          0.4255930781364441,
          0.3975394368171692,
          0.3704630732536316,
          0.34442371129989624,
          0.3194877505302429,
          0.29573938250541687,
          0.2732924818992615,
          0.2523004412651062,
          0.23296239972114563,
          0.21552269160747528,
          0.20026065409183502,
          0.18746627867221832,
          0.17739717662334442,
          0.17021092772483826,
          0.1658666580915451,
          0.16398783028125763,
          0.1636781245470047
         ]
        },
        {
         "mode": "lines",
         "scene": "scene2",
         "showlegend": false,
         "type": "scatter3d",
         "x": [
          -0.3130245804786682,
          -0.31347766518592834,
          -0.3162265121936798,
          -0.32258427143096924,
          -0.3331061899662018,
          -0.34785881638526917,
          -0.3666210174560547,
          -0.3890276551246643,
          -0.4146678149700165,
          -0.4431472420692444,
          -0.4741230607032776,
          -0.5073180794715881,
          -0.5425207018852234,
          -0.5795755386352539,
          -0.618367612361908,
          -0.6588056087493896,
          -0.7008042931556702,
          -0.7442694306373596,
          -0.7890851497650146,
          -0.8351067304611206,
          -0.8821550011634827,
          -0.9300177097320557,
          -0.9784521460533142,
          -1.027192234992981,
          -1.0759578943252563,
          -1.124464511871338,
          -1.1724351644515991,
          -1.2196100950241089,
          -1.2657572031021118,
          -1.3106781244277954,
          -1.354213833808899,
          -1.3962455987930298,
          -1.436692714691162,
          -1.4755070209503174,
          -1.5126633644104004,
          -1.5481481552124023,
          -1.5819445848464966,
          -1.6140177249908447,
          -1.6442995071411133,
          -1.672675609588623,
          -1.6989765167236328,
          -1.7229759693145752,
          -1.7443974018096924,
          -1.7629337310791016,
          -1.778282642364502,
          -1.7902017831802368,
          -1.7985870838165283,
          -1.8035799264907837,
          -1.8057055473327637,
          -1.8060508966445923
         ],
         "y": [
          0.6004894971847534,
          0.6002854108810425,
          0.5990375280380249,
          0.5961272120475769,
          0.5912721753120422,
          0.5844135880470276,
          0.5756304264068604,
          0.5650753974914551,
          0.5529294013977051,
          0.5393713116645813,
          0.5245594382286072,
          0.508622407913208,
          0.4916571378707886,
          0.47373154759407043,
          0.45489034056663513,
          0.4351631999015808,
          0.41457271575927734,
          0.393142968416214,
          0.37090593576431274,
          0.34790751338005066,
          0.32421109080314636,
          0.29989907145500183,
          0.27507320046424866,
          0.24985231459140778,
          0.2243691235780716,
          0.1987655758857727,
          0.17318756878376007,
          0.14777933061122894,
          0.12267795205116272,
          0.09800856560468674,
          0.07388053834438324,
          0.05038513243198395,
          0.027594905346632004,
          0.00556502491235733,
          -0.01566338539123535,
          -0.03605792671442032,
          -0.05558798834681511,
          -0.07421649247407913,
          -0.09189115464687347,
          -0.10853614658117294,
          -0.12404538691043854,
          -0.1382790505886078,
          -0.15106505155563354,
          -0.16220802068710327,
          -0.17150811851024628,
          -0.17879311740398407,
          -0.18396684527397156,
          -0.1870785355567932,
          -0.18841731548309326,
          -0.18863694369792938
         ],
         "z": [
          0.285409152507782,
          0.2855137884616852,
          0.28616487979888916,
          0.28771209716796875,
          0.29034069180488586,
          0.29411816596984863,
          0.2990338206291199,
          0.30502963066101074,
          0.31202492117881775,
          0.3199338912963867,
          0.3286779522895813,
          0.3381930887699127,
          0.34843307733535767,
          0.359369695186615,
          0.3709903061389923,
          0.38329386711120605,
          0.3962860405445099,
          0.40997353196144104,
          0.42435887455940247,
          0.43943580985069275,
          0.4551853537559509,
          0.47157320380210876,
          0.4885481894016266,
          0.5060425400733948,
          0.5239729285240173,
          0.5422429442405701,
          0.5607463717460632,
          0.5793716311454773,
          0.5980056524276733,
          0.616538405418396,
          0.6348671913146973,
          0.6528991460800171,
          0.6705540418624878,
          0.6877641677856445,
          0.704473614692688,
          0.7206356525421143,
          0.7362074851989746,
          0.7511447668075562,
          0.7653946876525879,
          0.7788878679275513,
          0.7915320992469788,
          0.8032075762748718,
          0.8137657642364502,
          0.8230345845222473,
          0.8308324217796326,
          0.8369933366775513,
          0.8414087295532227,
          0.8440899848937988,
          0.8452547192573547,
          0.8454474806785583
         ]
        },
        {
         "marker": {
          "color": "#636EFA",
          "size": 2
         },
         "mode": "markers",
         "scene": "scene2",
         "showlegend": false,
         "type": "scatter3d",
         "x": [
          -1.013611078262329,
          1.2788786888122559,
          -0.6854248046875,
          -0.3130245804786682
         ],
         "y": [
          -0.28078165650367737,
          0.08327633142471313,
          0.5877361297607422,
          0.6004894971847534
         ],
         "z": [
          0.20470206439495087,
          0.41747358441352844,
          1.1498234272003174,
          0.285409152507782
         ]
        },
        {
         "marker": {
          "color": "#EF553B",
          "size": 2
         },
         "mode": "markers",
         "scene": "scene2",
         "showlegend": false,
         "type": "scatter3d",
         "x": [
          -0.36193418502807617,
          -0.19914308190345764,
          -1.5570632219314575,
          -1.8060508966445923
         ],
         "y": [
          -0.4082977771759033,
          0.4412648379802704,
          1.697527289390564,
          -0.18863694369792938
         ],
         "z": [
          0.03563803806900978,
          -0.10203582793474197,
          0.1636781245470047,
          0.8454474806785583
         ]
        },
        {
         "mode": "lines",
         "scene": "scene3",
         "showlegend": false,
         "type": "scatter3d",
         "x": [
          1.500715732574463,
          1.499761939048767,
          1.4939312934875488,
          1.4803344011306763,
          1.4576576948165894,
          1.4256365299224854,
          1.3846559524536133,
          1.3354511260986328,
          1.2788969278335571,
          1.2158619165420532,
          1.1471245288848877,
          1.0733253955841064,
          0.9949581623077393,
          0.91237872838974,
          0.825831949710846,
          0.7354856729507446,
          0.6414684653282166,
          0.5439053177833557,
          0.44294968247413635,
          0.33880823850631714,
          0.23175880312919617,
          0.12215807288885117,
          0.01044248417019844,
          -0.10287952423095703,
          -0.21724195778369904,
          -0.3320401608943939,
          -0.4466536343097687,
          -0.5604698657989502,
          -0.6729073524475098,
          -0.7834359407424927,
          -0.8915925025939941,
          -0.9969902634620667,
          -1.099320411682129,
          -1.1983451843261719,
          -1.2938826084136963,
          -1.3857823610305786,
          -1.473894476890564,
          -1.5580339431762695,
          -1.637941837310791,
          -1.7132498025894165,
          -1.7834519147872925,
          -1.8478918075561523,
          -1.9057713747024536,
          -1.9561940431594849,
          -1.9982510805130005,
          -2.03116774559021,
          -2.054521083831787,
          -2.0685508251190186,
          -2.074579954147339,
          -2.0755679607391357
         ],
         "y": [
          0.7862500548362732,
          0.7856330275535583,
          0.7818885445594788,
          0.7732259035110474,
          0.7588893175125122,
          0.7387919425964355,
          0.7132437825202942,
          0.6827552318572998,
          0.6479040384292603,
          0.6092478036880493,
          0.5672760009765625,
          0.5223888754844666,
          0.4748959243297577,
          0.42502811551094055,
          0.37295711040496826,
          0.3188180923461914,
          0.262732595205307,
          0.20482908189296722,
          0.1452590972185135,
          0.08420897275209427,
          0.021905746310949326,
          -0.041382066905498505,
          -0.10534850507974625,
          -0.16965831816196442,
          -0.23395825922489166,
          -0.29789015650749207,
          -0.3611047863960266,
          -0.4232754707336426,
          -0.48410964012145996,
          -0.5433582663536072,
          -0.6008211374282837,
          -0.6563488841056824,
          -0.7098392248153687,
          -0.7612299919128418,
          -0.8104865550994873,
          -0.8575862050056458,
          -0.9024995565414429,
          -0.9451708793640137,
          -0.9854986071586609,
          -1.023318886756897,
          -1.0583947896957397,
          -1.0904139280319214,
          -1.118998408317566,
          -1.143733024597168,
          -1.1642104387283325,
          -1.18010675907135,
          -1.1912850141525269,
          -1.1979371309280396,
          -1.2007676362991333,
          -1.2012271881103516
         ],
         "z": [
          1.227170467376709,
          1.2271214723587036,
          1.2268165349960327,
          1.2260899543762207,
          1.2248543500900269,
          1.2230771780014038,
          1.2207653522491455,
          1.2179492712020874,
          1.2146717309951782,
          1.210978627204895,
          1.2069138288497925,
          1.2025142908096313,
          1.197808027267456,
          1.1928143501281738,
          1.1875436305999756,
          1.181999921798706,
          1.176181674003601,
          1.1700857877731323,
          1.1637086868286133,
          1.1570500135421753,
          1.1501132249832153,
          1.142907738685608,
          1.1354502439498901,
          1.127764344215393,
          1.1198806762695312,
          1.1118361949920654,
          1.1036723852157593,
          1.095434546470642,
          1.0871690511703491,
          1.078922152519226,
          1.0707379579544067,
          1.062657356262207,
          1.05471670627594,
          1.0469473600387573,
          1.0393767356872559,
          1.0320289134979248,
          1.0249261856079102,
          1.0180929899215698,
          1.0115573406219482,
          1.0053551197052002,
          0.9995327591896057,
          0.994148850440979,
          0.9892749786376953,
          0.9849931597709656,
          0.9813889265060425,
          0.9785404801368713,
          0.976498544216156,
          0.9752586483955383,
          0.9747198820114136,
          0.9746307134628296
         ]
        },
        {
         "mode": "lines",
         "scene": "scene3",
         "showlegend": false,
         "type": "scatter3d",
         "x": [
          -1.6783888339996338,
          -1.6775720119476318,
          -1.6725900173187256,
          -1.6610033512115479,
          -1.6417261362075806,
          -1.6145656108856201,
          -1.5798733234405518,
          -1.5382877588272095,
          -1.490555763244629,
          -1.4374122619628906,
          -1.3795102834701538,
          -1.3173868656158447,
          -1.2514559030532837,
          -1.1820203065872192,
          -1.10929536819458,
          -1.0334384441375732,
          -0.9545800089836121,
          -0.8728536367416382,
          -0.7884206175804138,
          -0.7014888525009155,
          -0.6123252511024475,
          -0.5212600827217102,
          -0.42868536710739136,
          -0.33504611253738403,
          -0.24082720279693604,
          -0.14653611183166504,
          -0.0526840016245842,
          0.040233954787254333,
          0.13175706565380096,
          0.2214743196964264,
          0.30903562903404236,
          0.3941575586795807,
          0.47662222385406494,
          0.5562697649002075,
          0.6329836845397949,
          0.7066697478294373,
          0.7772295475006104,
          0.8445309400558472,
          0.9083778262138367,
          0.9684820175170898,
          1.0244429111480713,
          1.0757392644882202,
          1.1217397451400757,
          1.1617398262023926,
          1.1950334310531616,
          1.2210298776626587,
          1.239425778388977,
          1.2504467964172363,
          1.2551689147949219,
          1.2559406757354736
         ],
         "y": [
          0.9624656438827515,
          0.9621168971061707,
          0.9599549174308777,
          0.954836368560791,
          0.9461716413497925,
          0.9337587356567383,
          0.9176506996154785,
          0.8980497717857361,
          0.8752287030220032,
          0.8494721055030823,
          0.8210396766662598,
          0.7901430726051331,
          0.75693678855896,
          0.7215195894241333,
          0.6839421987533569,
          0.6442211270332336,
          0.6023542881011963,
          0.5583381056785583,
          0.512183666229248,
          0.4639306664466858,
          0.41365838050842285,
          0.3614930212497711,
          0.3076108992099762,
          0.2522376477718353,
          0.19564330577850342,
          0.13813431560993195,
          0.08004262298345566,
          0.021713189780712128,
          -0.03650953620672226,
          -0.09429436922073364,
          -0.1513350009918213,
          -0.20735883712768555,
          -0.26213201880455017,
          -0.31546029448509216,
          -0.36718446016311646,
          -0.4171709716320038,
          -0.46529704332351685,
          -0.5114320516586304,
          -0.5554153323173523,
          -0.5970342755317688,
          -0.6360042095184326,
          -0.6719552874565125,
          -0.7044309973716736,
          -0.7329056262969971,
          -0.7568269968032837,
          -0.7756971716880798,
          -0.789198637008667,
          -0.7973822951316833,
          -0.8009310364723206,
          -0.8015174865722656
         ],
         "z": [
          1.488339900970459,
          1.4881404638290405,
          1.4869205951690674,
          1.4840725660324097,
          1.47931706905365,
          1.4725931882858276,
          1.4639756679534912,
          1.4536126852035522,
          1.4416817426681519,
          1.4283592700958252,
          1.4138026237487793,
          1.3981413841247559,
          1.3814737796783447,
          1.363869547843933,
          1.3453762531280518,
          1.3260257244110107,
          1.3058420419692993,
          1.2848498821258545,
          1.2630804777145386,
          1.240578293800354,
          1.2174030542373657,
          1.19363272190094,
          1.169363260269165,
          1.144707202911377,
          1.1197898387908936,
          1.0947455167770386,
          1.0697121620178223,
          1.044826865196228,
          1.0202196836471558,
          0.9960099458694458,
          0.9723019599914551,
          0.9491837024688721,
          0.9267253279685974,
          0.9049813747406006,
          0.8839936256408691,
          0.8637966513633728,
          0.8444240093231201,
          0.8259172439575195,
          0.8083332777023315,
          0.7917532920837402,
          0.7762886881828308,
          0.7620843648910522,
          0.7493168115615845,
          0.738185465335846,
          0.7288926243782043,
          0.7216126918792725,
          0.7164426445960999,
          0.7133335471153259,
          0.7119960784912109,
          0.7117766737937927
         ]
        },
        {
         "mode": "lines",
         "scene": "scene3",
         "showlegend": false,
         "type": "scatter3d",
         "x": [
          -1.3701519966125488,
          -1.3702406883239746,
          -1.3707690238952637,
          -1.3719673156738281,
          -1.3739137649536133,
          -1.3765949010849,
          -1.3799506425857544,
          -1.3839013576507568,
          -1.3883672952651978,
          -1.393276572227478,
          -1.3985693454742432,
          -1.4041980504989624,
          -1.41012442111969,
          -1.416316270828247,
          -1.422743320465088,
          -1.4293742179870605,
          -1.436173439025879,
          -1.4431002140045166,
          -1.4501076936721802,
          -1.4571430683135986,
          -1.464150071144104,
          -1.4710693359375,
          -1.4778426885604858,
          -1.4844143390655518,
          -1.4907342195510864,
          -1.4967600107192993,
          -1.502458930015564,
          -1.5078096389770508,
          -1.512800931930542,
          -1.517434000968933,
          -1.5217185020446777,
          -1.5256729125976562,
          -1.5293209552764893,
          -1.5326893329620361,
          -1.5358047485351562,
          -1.5386910438537598,
          -1.5413665771484375,
          -1.5438425540924072,
          -1.5461223125457764,
          -1.5482004880905151,
          -1.550065040588379,
          -1.5516998767852783,
          -1.5530874729156494,
          -1.5542150735855103,
          -1.5550774335861206,
          -1.555684208869934,
          -1.5560612678527832,
          -1.5562535524368286,
          -1.5563204288482666,
          -1.5563291311264038
         ],
         "y": [
          0.42686378955841064,
          0.42665114998817444,
          0.4253595173358917,
          0.4223707914352417,
          0.41742807626724243,
          0.41051286458969116,
          0.4017525315284729,
          0.39135247468948364,
          0.3795483708381653,
          0.3665746748447418,
          0.35264500975608826,
          0.3379426896572113,
          0.3226169943809509,
          0.30678537487983704,
          0.29053744673728943,
          0.27394136786460876,
          0.2570502758026123,
          0.2399086356163025,
          0.2225576788187027,
          0.20503941178321838,
          0.18739980459213257,
          0.16968993842601776,
          0.15196643769741058,
          0.13429030776023865,
          0.11672528088092804,
          0.0993354320526123,
          0.08218255639076233,
          0.06532367318868637,
          0.04880886524915695,
          0.03267970681190491,
          0.01696868985891342,
          0.0016995035111904144,
          -0.013111528009176254,
          -0.027452941983938217,
          -0.04131463170051575,
          -0.05468356981873512,
          -0.06753907352685928,
          -0.07984795421361923,
          -0.09156011790037155,
          -0.10260522365570068,
          -0.11289121210575104,
          -0.12230540066957474,
          -0.1307191699743271,
          -0.13799737393856049,
          -0.14401322603225708,
          -0.14867046475410461,
          -0.1519334316253662,
          -0.15386658906936646,
          -0.1546850949525833,
          -0.1548173725605011
         ],
         "z": [
          1.2740391492843628,
          1.2739665508270264,
          1.2735309600830078,
          1.2725379467010498,
          1.270918846130371,
          1.2686818838119507,
          1.265879511833191,
          1.2625832557678223,
          1.2588685750961304,
          1.2548065185546875,
          1.2504574060440063,
          1.2458723783493042,
          1.2410913705825806,
          1.2361472845077515,
          1.2310669422149658,
          1.2258750200271606,
          1.220595359802246,
          1.2152527570724487,
          1.2098748683929443,
          1.2044912576675415,
          1.199134111404419,
          1.1938374042510986,
          1.1886353492736816,
          1.1835613250732422,
          1.1786468029022217,
          1.1739188432693481,
          1.1693998575210571,
          1.1651067733764648,
          1.161049723625183,
          1.157232642173767,
          1.153653860092163,
          1.1503064632415771,
          1.147179365158081,
          1.1442599296569824,
          1.1415345668792725,
          1.138990879058838,
          1.1366193294525146,
          1.1344146728515625,
          1.1323765516281128,
          1.130509614944458,
          1.1288235187530518,
          1.1273311376571655,
          1.1260465383529663,
          1.1249821186065674,
          1.1241450309753418,
          1.1235334873199463,
          1.1231331825256348,
          1.1229140758514404,
          1.1228293180465698,
          1.1228169202804565
         ]
        },
        {
         "mode": "lines",
         "scene": "scene3",
         "showlegend": false,
         "type": "scatter3d",
         "x": [
          2.1341867446899414,
          2.13413667678833,
          2.13383150100708,
          2.1331191062927246,
          2.131932020187378,
          2.1302568912506104,
          2.1281135082244873,
          2.1255412101745605,
          2.1225860118865967,
          2.119293212890625,
          2.115703821182251,
          2.111851453781128,
          2.107762336730957,
          2.1034553050994873,
          2.0989434719085693,
          2.094236373901367,
          2.089341402053833,
          2.0842652320861816,
          2.079016923904419,
          2.0736072063446045,
          2.068051338195801,
          2.062368392944336,
          2.0565810203552246,
          2.050715923309326,
          2.044801712036133,
          2.0388705730438232,
          2.0329532623291016,
          2.0270817279815674,
          2.021285057067871,
          2.015589475631714,
          2.010019063949585,
          2.0045924186706543,
          1.9993247985839844,
          1.9942278861999512,
          1.9893102645874023,
          1.9845799207687378,
          1.980043649673462,
          1.9757113456726074,
          1.9715960025787354,
          1.9677174091339111,
          1.9641014337539673,
          1.9607826471328735,
          1.9578020572662354,
          1.955206274986267,
          1.9530420303344727,
          1.9513490200042725,
          1.9501484632492065,
          1.9494279623031616,
          1.9491183757781982,
          1.9490677118301392
         ],
         "y": [
          1.4534666538238525,
          1.453202247619629,
          1.4515868425369263,
          1.4478232860565186,
          1.4415521621704102,
          1.432704210281372,
          1.4213894605636597,
          1.407813549041748,
          1.3922209739685059,
          1.3748527765274048,
          1.3559250831604004,
          1.3356167078018188,
          1.314064860343933,
          1.2913700342178345,
          1.2676022052764893,
          1.2428109645843506,
          1.2170346975326538,
          1.1903114318847656,
          1.1626871824264526,
          1.1342216730117798,
          1.104994297027588,
          1.075104832649231,
          1.0446741580963135,
          1.013841986656189,
          0.9827625751495361,
          0.9515992999076843,
          0.9205190539360046,
          0.8896855115890503,
          0.8592525720596313,
          0.8293601870536804,
          0.8001292943954468,
          0.7716598510742188,
          0.7440310120582581,
          0.7173030376434326,
          0.6915215849876404,
          0.6667249202728271,
          0.6429515480995178,
          0.620250940322876,
          0.5986931324005127,
          0.5783784985542297,
          0.5594448447227478,
          0.5420706272125244,
          0.5264720916748047,
          0.5128909945487976,
          0.5015712380409241,
          0.4927191436290741,
          0.48644474148750305,
          0.4826793670654297,
          0.4810630679130554,
          0.4807984530925751
         ],
         "z": [
          0.19102750718593597,
          0.1909235715866089,
          0.1902887225151062,
          0.18880967795848846,
          0.1863452047109604,
          0.18286818265914917,
          0.17842192947864532,
          0.1730874478816986,
          0.16696053743362427,
          0.1601361632347107,
          0.152699276804924,
          0.1447199285030365,
          0.1362522691488266,
          0.12733572721481323,
          0.11799778789281845,
          0.10825785994529724,
          0.09813116490840912,
          0.08763265609741211,
          0.076780304312706,
          0.06559773534536362,
          0.05411605164408684,
          0.042374562472105026,
          0.03042079694569111,
          0.01830959878861904,
          0.006101544946432114,
          -0.006139103323221207,
          -0.018346840515732765,
          -0.03045741841197014,
          -0.042410269379615784,
          -0.054150573909282684,
          -0.06563081592321396,
          -0.07681171596050262,
          -0.08766220510005951,
          -0.09815867990255356,
          -0.1082831621170044,
          -0.11802073568105698,
          -0.12735618650913239,
          -0.13627013564109802,
          -0.14473509788513184,
          -0.1527116298675537,
          -0.16014568507671356,
          -0.16696719825267792,
          -0.173091322183609,
          -0.17842313647270203,
          -0.18286697566509247,
          -0.18634195625782013,
          -0.18880487978458405,
          -0.1902829110622406,
          -0.19091729819774628,
          -0.1910211592912674
         ]
        },
        {
         "marker": {
          "color": "#636EFA",
          "size": 2
         },
         "mode": "markers",
         "scene": "scene3",
         "showlegend": false,
         "type": "scatter3d",
         "x": [
          1.500715732574463,
          -1.6783888339996338,
          -1.3701519966125488,
          2.1341867446899414
         ],
         "y": [
          0.7862500548362732,
          0.9624656438827515,
          0.42686378955841064,
          1.4534666538238525
         ],
         "z": [
          1.227170467376709,
          1.488339900970459,
          1.2740391492843628,
          0.19102750718593597
         ]
        },
        {
         "marker": {
          "color": "#EF553B",
          "size": 2
         },
         "mode": "markers",
         "scene": "scene3",
         "showlegend": false,
         "type": "scatter3d",
         "x": [
          -2.0755679607391357,
          1.2559406757354736,
          -1.5563291311264038,
          1.9490677118301392
         ],
         "y": [
          -1.2012271881103516,
          -0.8015174865722656,
          -0.1548173725605011,
          0.4807984530925751
         ],
         "z": [
          0.9746307134628296,
          0.7117766737937927,
          1.1228169202804565,
          -0.1910211592912674
         ]
        }
       ],
       "layout": {
        "height": 400,
        "margin": {
         "b": 20,
         "l": 20,
         "r": 20,
         "t": 20
        },
        "scene": {
         "aspectratio": {
          "x": 1,
          "y": 1,
          "z": 1
         },
         "domain": {
          "x": [
           0,
           0.3
          ],
          "y": [
           0,
           1
          ]
         },
         "xaxis": {
          "showticklabels": false,
          "title": {
           "text": ""
          }
         },
         "yaxis": {
          "showticklabels": false,
          "title": {
           "text": ""
          }
         },
         "zaxis": {
          "showticklabels": false,
          "title": {
           "text": ""
          }
         }
        },
        "scene2": {
         "aspectratio": {
          "x": 1,
          "y": 1,
          "z": 1
         },
         "domain": {
          "x": [
           0.35,
           0.6499999999999999
          ],
          "y": [
           0,
           1
          ]
         },
         "xaxis": {
          "showticklabels": false,
          "title": {
           "text": ""
          }
         },
         "yaxis": {
          "showticklabels": false,
          "title": {
           "text": ""
          }
         },
         "zaxis": {
          "showticklabels": false,
          "title": {
           "text": ""
          }
         }
        },
        "scene3": {
         "aspectratio": {
          "x": 1,
          "y": 1,
          "z": 1
         },
         "domain": {
          "x": [
           0.7,
           1
          ],
          "y": [
           0,
           1
          ]
         },
         "xaxis": {
          "showticklabels": false,
          "title": {
           "text": ""
          }
         },
         "yaxis": {
          "showticklabels": false,
          "title": {
           "text": ""
          }
         },
         "zaxis": {
          "showticklabels": false,
          "title": {
           "text": ""
          }
         }
        },
        "template": {
         "data": {
          "bar": [
           {
            "error_x": {
             "color": "#2a3f5f"
            },
            "error_y": {
             "color": "#2a3f5f"
            },
            "marker": {
             "line": {
              "color": "#E5ECF6",
              "width": 0.5
             },
             "pattern": {
              "fillmode": "overlay",
              "size": 10,
              "solidity": 0.2
             }
            },
            "type": "bar"
           }
          ],
          "barpolar": [
           {
            "marker": {
             "line": {
              "color": "#E5ECF6",
              "width": 0.5
             },
             "pattern": {
              "fillmode": "overlay",
              "size": 10,
              "solidity": 0.2
             }
            },
            "type": "barpolar"
           }
          ],
          "carpet": [
           {
            "aaxis": {
             "endlinecolor": "#2a3f5f",
             "gridcolor": "white",
             "linecolor": "white",
             "minorgridcolor": "white",
             "startlinecolor": "#2a3f5f"
            },
            "baxis": {
             "endlinecolor": "#2a3f5f",
             "gridcolor": "white",
             "linecolor": "white",
             "minorgridcolor": "white",
             "startlinecolor": "#2a3f5f"
            },
            "type": "carpet"
           }
          ],
          "choropleth": [
           {
            "colorbar": {
             "outlinewidth": 0,
             "ticks": ""
            },
            "type": "choropleth"
           }
          ],
          "contour": [
           {
            "colorbar": {
             "outlinewidth": 0,
             "ticks": ""
            },
            "colorscale": [
             [
              0,
              "#0d0887"
             ],
             [
              0.1111111111111111,
              "#46039f"
             ],
             [
              0.2222222222222222,
              "#7201a8"
             ],
             [
              0.3333333333333333,
              "#9c179e"
             ],
             [
              0.4444444444444444,
              "#bd3786"
             ],
             [
              0.5555555555555556,
              "#d8576b"
             ],
             [
              0.6666666666666666,
              "#ed7953"
             ],
             [
              0.7777777777777778,
              "#fb9f3a"
             ],
             [
              0.8888888888888888,
              "#fdca26"
             ],
             [
              1,
              "#f0f921"
             ]
            ],
            "type": "contour"
           }
          ],
          "contourcarpet": [
           {
            "colorbar": {
             "outlinewidth": 0,
             "ticks": ""
            },
            "type": "contourcarpet"
           }
          ],
          "heatmap": [
           {
            "colorbar": {
             "outlinewidth": 0,
             "ticks": ""
            },
            "colorscale": [
             [
              0,
              "#0d0887"
             ],
             [
              0.1111111111111111,
              "#46039f"
             ],
             [
              0.2222222222222222,
              "#7201a8"
             ],
             [
              0.3333333333333333,
              "#9c179e"
             ],
             [
              0.4444444444444444,
              "#bd3786"
             ],
             [
              0.5555555555555556,
              "#d8576b"
             ],
             [
              0.6666666666666666,
              "#ed7953"
             ],
             [
              0.7777777777777778,
              "#fb9f3a"
             ],
             [
              0.8888888888888888,
              "#fdca26"
             ],
             [
              1,
              "#f0f921"
             ]
            ],
            "type": "heatmap"
           }
          ],
          "heatmapgl": [
           {
            "colorbar": {
             "outlinewidth": 0,
             "ticks": ""
            },
            "colorscale": [
             [
              0,
              "#0d0887"
             ],
             [
              0.1111111111111111,
              "#46039f"
             ],
             [
              0.2222222222222222,
              "#7201a8"
             ],
             [
              0.3333333333333333,
              "#9c179e"
             ],
             [
              0.4444444444444444,
              "#bd3786"
             ],
             [
              0.5555555555555556,
              "#d8576b"
             ],
             [
              0.6666666666666666,
              "#ed7953"
             ],
             [
              0.7777777777777778,
              "#fb9f3a"
             ],
             [
              0.8888888888888888,
              "#fdca26"
             ],
             [
              1,
              "#f0f921"
             ]
            ],
            "type": "heatmapgl"
           }
          ],
          "histogram": [
           {
            "marker": {
             "pattern": {
              "fillmode": "overlay",
              "size": 10,
              "solidity": 0.2
             }
            },
            "type": "histogram"
           }
          ],
          "histogram2d": [
           {
            "colorbar": {
             "outlinewidth": 0,
             "ticks": ""
            },
            "colorscale": [
             [
              0,
              "#0d0887"
             ],
             [
              0.1111111111111111,
              "#46039f"
             ],
             [
              0.2222222222222222,
              "#7201a8"
             ],
             [
              0.3333333333333333,
              "#9c179e"
             ],
             [
              0.4444444444444444,
              "#bd3786"
             ],
             [
              0.5555555555555556,
              "#d8576b"
             ],
             [
              0.6666666666666666,
              "#ed7953"
             ],
             [
              0.7777777777777778,
              "#fb9f3a"
             ],
             [
              0.8888888888888888,
              "#fdca26"
             ],
             [
              1,
              "#f0f921"
             ]
            ],
            "type": "histogram2d"
           }
          ],
          "histogram2dcontour": [
           {
            "colorbar": {
             "outlinewidth": 0,
             "ticks": ""
            },
            "colorscale": [
             [
              0,
              "#0d0887"
             ],
             [
              0.1111111111111111,
              "#46039f"
             ],
             [
              0.2222222222222222,
              "#7201a8"
             ],
             [
              0.3333333333333333,
              "#9c179e"
             ],
             [
              0.4444444444444444,
              "#bd3786"
             ],
             [
              0.5555555555555556,
              "#d8576b"
             ],
             [
              0.6666666666666666,
              "#ed7953"
             ],
             [
              0.7777777777777778,
              "#fb9f3a"
             ],
             [
              0.8888888888888888,
              "#fdca26"
             ],
             [
              1,
              "#f0f921"
             ]
            ],
            "type": "histogram2dcontour"
           }
          ],
          "mesh3d": [
           {
            "colorbar": {
             "outlinewidth": 0,
             "ticks": ""
            },
            "type": "mesh3d"
           }
          ],
          "parcoords": [
           {
            "line": {
             "colorbar": {
              "outlinewidth": 0,
              "ticks": ""
             }
            },
            "type": "parcoords"
           }
          ],
          "pie": [
           {
            "automargin": true,
            "type": "pie"
           }
          ],
          "scatter": [
           {
            "fillpattern": {
             "fillmode": "overlay",
             "size": 10,
             "solidity": 0.2
            },
            "type": "scatter"
           }
          ],
          "scatter3d": [
           {
            "line": {
             "colorbar": {
              "outlinewidth": 0,
              "ticks": ""
             }
            },
            "marker": {
             "colorbar": {
              "outlinewidth": 0,
              "ticks": ""
             }
            },
            "type": "scatter3d"
           }
          ],
          "scattercarpet": [
           {
            "marker": {
             "colorbar": {
              "outlinewidth": 0,
              "ticks": ""
             }
            },
            "type": "scattercarpet"
           }
          ],
          "scattergeo": [
           {
            "marker": {
             "colorbar": {
              "outlinewidth": 0,
              "ticks": ""
             }
            },
            "type": "scattergeo"
           }
          ],
          "scattergl": [
           {
            "marker": {
             "colorbar": {
              "outlinewidth": 0,
              "ticks": ""
             }
            },
            "type": "scattergl"
           }
          ],
          "scattermapbox": [
           {
            "marker": {
             "colorbar": {
              "outlinewidth": 0,
              "ticks": ""
             }
            },
            "type": "scattermapbox"
           }
          ],
          "scatterpolar": [
           {
            "marker": {
             "colorbar": {
              "outlinewidth": 0,
              "ticks": ""
             }
            },
            "type": "scatterpolar"
           }
          ],
          "scatterpolargl": [
           {
            "marker": {
             "colorbar": {
              "outlinewidth": 0,
              "ticks": ""
             }
            },
            "type": "scatterpolargl"
           }
          ],
          "scatterternary": [
           {
            "marker": {
             "colorbar": {
              "outlinewidth": 0,
              "ticks": ""
             }
            },
            "type": "scatterternary"
           }
          ],
          "surface": [
           {
            "colorbar": {
             "outlinewidth": 0,
             "ticks": ""
            },
            "colorscale": [
             [
              0,
              "#0d0887"
             ],
             [
              0.1111111111111111,
              "#46039f"
             ],
             [
              0.2222222222222222,
              "#7201a8"
             ],
             [
              0.3333333333333333,
              "#9c179e"
             ],
             [
              0.4444444444444444,
              "#bd3786"
             ],
             [
              0.5555555555555556,
              "#d8576b"
             ],
             [
              0.6666666666666666,
              "#ed7953"
             ],
             [
              0.7777777777777778,
              "#fb9f3a"
             ],
             [
              0.8888888888888888,
              "#fdca26"
             ],
             [
              1,
              "#f0f921"
             ]
            ],
            "type": "surface"
           }
          ],
          "table": [
           {
            "cells": {
             "fill": {
              "color": "#EBF0F8"
             },
             "line": {
              "color": "white"
             }
            },
            "header": {
             "fill": {
              "color": "#C8D4E3"
             },
             "line": {
              "color": "white"
             }
            },
            "type": "table"
           }
          ]
         },
         "layout": {
          "annotationdefaults": {
           "arrowcolor": "#2a3f5f",
           "arrowhead": 0,
           "arrowwidth": 1
          },
          "autotypenumbers": "strict",
          "coloraxis": {
           "colorbar": {
            "outlinewidth": 0,
            "ticks": ""
           }
          },
          "colorscale": {
           "diverging": [
            [
             0,
             "#8e0152"
            ],
            [
             0.1,
             "#c51b7d"
            ],
            [
             0.2,
             "#de77ae"
            ],
            [
             0.3,
             "#f1b6da"
            ],
            [
             0.4,
             "#fde0ef"
            ],
            [
             0.5,
             "#f7f7f7"
            ],
            [
             0.6,
             "#e6f5d0"
            ],
            [
             0.7,
             "#b8e186"
            ],
            [
             0.8,
             "#7fbc41"
            ],
            [
             0.9,
             "#4d9221"
            ],
            [
             1,
             "#276419"
            ]
           ],
           "sequential": [
            [
             0,
             "#0d0887"
            ],
            [
             0.1111111111111111,
             "#46039f"
            ],
            [
             0.2222222222222222,
             "#7201a8"
            ],
            [
             0.3333333333333333,
             "#9c179e"
            ],
            [
             0.4444444444444444,
             "#bd3786"
            ],
            [
             0.5555555555555556,
             "#d8576b"
            ],
            [
             0.6666666666666666,
             "#ed7953"
            ],
            [
             0.7777777777777778,
             "#fb9f3a"
            ],
            [
             0.8888888888888888,
             "#fdca26"
            ],
            [
             1,
             "#f0f921"
            ]
           ],
           "sequentialminus": [
            [
             0,
             "#0d0887"
            ],
            [
             0.1111111111111111,
             "#46039f"
            ],
            [
             0.2222222222222222,
             "#7201a8"
            ],
            [
             0.3333333333333333,
             "#9c179e"
            ],
            [
             0.4444444444444444,
             "#bd3786"
            ],
            [
             0.5555555555555556,
             "#d8576b"
            ],
            [
             0.6666666666666666,
             "#ed7953"
            ],
            [
             0.7777777777777778,
             "#fb9f3a"
            ],
            [
             0.8888888888888888,
             "#fdca26"
            ],
            [
             1,
             "#f0f921"
            ]
           ]
          },
          "colorway": [
           "#636efa",
           "#EF553B",
           "#00cc96",
           "#ab63fa",
           "#FFA15A",
           "#19d3f3",
           "#FF6692",
           "#B6E880",
           "#FF97FF",
           "#FECB52"
          ],
          "font": {
           "color": "#2a3f5f"
          },
          "geo": {
           "bgcolor": "white",
           "lakecolor": "white",
           "landcolor": "#E5ECF6",
           "showlakes": true,
           "showland": true,
           "subunitcolor": "white"
          },
          "hoverlabel": {
           "align": "left"
          },
          "hovermode": "closest",
          "mapbox": {
           "style": "light"
          },
          "paper_bgcolor": "white",
          "plot_bgcolor": "#E5ECF6",
          "polar": {
           "angularaxis": {
            "gridcolor": "white",
            "linecolor": "white",
            "ticks": ""
           },
           "bgcolor": "#E5ECF6",
           "radialaxis": {
            "gridcolor": "white",
            "linecolor": "white",
            "ticks": ""
           }
          },
          "scene": {
           "xaxis": {
            "backgroundcolor": "#E5ECF6",
            "gridcolor": "white",
            "gridwidth": 2,
            "linecolor": "white",
            "showbackground": true,
            "ticks": "",
            "zerolinecolor": "white"
           },
           "yaxis": {
            "backgroundcolor": "#E5ECF6",
            "gridcolor": "white",
            "gridwidth": 2,
            "linecolor": "white",
            "showbackground": true,
            "ticks": "",
            "zerolinecolor": "white"
           },
           "zaxis": {
            "backgroundcolor": "#E5ECF6",
            "gridcolor": "white",
            "gridwidth": 2,
            "linecolor": "white",
            "showbackground": true,
            "ticks": "",
            "zerolinecolor": "white"
           }
          },
          "shapedefaults": {
           "line": {
            "color": "#2a3f5f"
           }
          },
          "ternary": {
           "aaxis": {
            "gridcolor": "white",
            "linecolor": "white",
            "ticks": ""
           },
           "baxis": {
            "gridcolor": "white",
            "linecolor": "white",
            "ticks": ""
           },
           "bgcolor": "#E5ECF6",
           "caxis": {
            "gridcolor": "white",
            "linecolor": "white",
            "ticks": ""
           }
          },
          "title": {
           "x": 0.05
          },
          "xaxis": {
           "automargin": true,
           "gridcolor": "white",
           "linecolor": "white",
           "ticks": "",
           "title": {
            "standoff": 15
           },
           "zerolinecolor": "white",
           "zerolinewidth": 2
          },
          "yaxis": {
           "automargin": true,
           "gridcolor": "white",
           "linecolor": "white",
           "ticks": "",
           "title": {
            "standoff": 15
           },
           "zerolinecolor": "white",
           "zerolinewidth": 2
          }
         }
        },
        "width": 1600,
        "xaxis": {
         "mirror": true,
         "showline": true
        },
        "yaxis": {
         "mirror": true,
         "showline": true
        }
       }
      }
     },
     "metadata": {},
     "output_type": "display_data"
    }
   ],
   "source": [
    "# Ground Truth\n",
    "multiviz_trajs(x_trajs[:3], y_trajs[:3], z_trajs[:3], nrows=1, ncols=3, num_agents=num_agent, height=400, width=1_600)"
   ]
  },
  {
   "cell_type": "code",
   "execution_count": 13,
   "metadata": {},
   "outputs": [
    {
     "data": {
      "application/vnd.plotly.v1+json": {
       "config": {
        "plotlyServerURL": "https://plot.ly"
       },
       "data": [
        {
         "mode": "lines",
         "scene": "scene",
         "showlegend": false,
         "type": "scatter3d",
         "x": [
          1.326698660850525,
          1.3267003297805786,
          1.3267019987106323,
          1.3266856670379639,
          1.3266303539276123,
          1.3265209197998047,
          1.3263558149337769,
          1.3261469602584839,
          1.3259198665618896,
          1.3257111310958862,
          1.3255643844604492,
          1.3255265951156616,
          1.3256452083587646,
          1.3259638547897339,
          1.3265204429626465,
          1.3273450136184692,
          1.32845938205719,
          1.3298760652542114,
          1.3316004276275635,
          1.3336294889450073,
          1.335956335067749,
          1.3385690450668335,
          1.341455340385437,
          1.344602108001709,
          1.3479987382888794,
          1.3516372442245483,
          1.3555140495300293,
          1.3596292734146118,
          1.3639863729476929,
          1.3685916662216187,
          1.3734519481658936,
          1.3785721063613892,
          1.3839534521102905,
          1.3895888328552246,
          1.3954609632492065,
          1.4015387296676636,
          1.407774567604065,
          1.41410231590271,
          1.4204368591308594,
          1.4266732931137085,
          1.432690143585205,
          1.438353180885315,
          1.443521499633789,
          1.4480578899383545,
          1.4518406391143799,
          1.454780101776123,
          1.4568382501602173,
          1.458052396774292,
          1.4585626125335693,
          1.4586443901062012
         ],
         "y": [
          0.43363094329833984,
          0.43357130885124207,
          0.43318745493888855,
          0.4322393536567688,
          0.4305644929409027,
          0.42806315422058105,
          0.42468497157096863,
          0.4204166531562805,
          0.41527223587036133,
          0.4092840850353241,
          0.4024956524372101,
          0.39495620131492615,
          0.38671600818634033,
          0.37782400846481323,
          0.3683251440525055,
          0.35825973749160767,
          0.3476630449295044,
          0.33656543493270874,
          0.3249933421611786,
          0.31297001242637634,
          0.3005170226097107,
          0.287655234336853,
          0.27440622448921204,
          0.2607935667037964,
          0.24684348702430725,
          0.23258627951145172,
          0.21805675327777863,
          0.20329499244689941,
          0.1883467584848404,
          0.1732640266418457,
          0.15810523927211761,
          0.14293573796749115,
          0.12782810628414154,
          0.11286254972219467,
          0.09812724590301514,
          0.08371877670288086,
          0.069742351770401,
          0.05631177872419357,
          0.0435490608215332,
          0.03158322349190712,
          0.02054809033870697,
          0.010578560642898083,
          0.0018047374906018376,
          -0.005656678695231676,
          -0.011714656837284565,
          -0.016320740804076195,
          -0.019491761922836304,
          -0.021339766681194305,
          -0.0221107117831707,
          -0.022233817726373672
         ],
         "z": [
          0.9034855365753174,
          0.9035684466362,
          0.9040778279304504,
          0.9052703976631165,
          0.9072656631469727,
          0.910086989402771,
          0.9136942625045776,
          0.918007493019104,
          0.922925591468811,
          0.9283387660980225,
          0.9341377019882202,
          0.9402190446853638,
          0.9464893341064453,
          0.9528658986091614,
          0.9592782855033875,
          0.9656676650047302,
          0.9719858169555664,
          0.9781944751739502,
          0.9842641353607178,
          0.9901729822158813,
          0.9959053993225098,
          1.0014519691467285,
          1.0068084001541138,
          1.0119738578796387,
          1.0169525146484375,
          1.0217504501342773,
          1.0263766050338745,
          1.0308423042297363,
          1.0351591110229492,
          1.039339542388916,
          1.0433952808380127,
          1.047336459159851,
          1.0511707067489624,
          1.0549018383026123,
          1.0585294961929321,
          1.0620476007461548,
          1.0654443502426147,
          1.0687018632888794,
          1.07179594039917,
          1.0746971368789673,
          1.0773719549179077,
          1.0797849893569946,
          1.0819010734558105,
          1.083689570426941,
          1.0851279497146606,
          1.086207389831543,
          1.0869377851486206,
          1.0873545408248901,
          1.0875240564346313,
          1.087550401687622
         ]
        },
        {
         "mode": "lines",
         "scene": "scene",
         "showlegend": false,
         "type": "scatter3d",
         "x": [
          -0.6161234974861145,
          -0.615963339805603,
          -0.6149337291717529,
          -0.6123872995376587,
          -0.6078677177429199,
          -0.6010639071464539,
          -0.5917744636535645,
          -0.5798794031143188,
          -0.5653203129768372,
          -0.5480839610099792,
          -0.5281925797462463,
          -0.5056951642036438,
          -0.48066282272338867,
          -0.4531855881214142,
          -0.42336979508399963,
          -0.39133739471435547,
          -0.35722458362579346,
          -0.32118138670921326,
          -0.2833704352378845,
          -0.24396638572216034,
          -0.20315448939800262,
          -0.16112923622131348,
          -0.11809276789426804,
          -0.07425310462713242,
          -0.02982218936085701,
          0.014985604211688042,
          0.05995529517531395,
          0.10487254709005356,
          0.14952467381954193,
          0.19370131194591522,
          0.23719443380832672,
          0.27979832887649536,
          0.3213086426258087,
          0.36152151226997375,
          0.4002325236797333,
          0.4372354745864868,
          0.4723215103149414,
          0.5052793622016907,
          0.5358961224555969,
          0.5639601945877075,
          0.5892661213874817,
          0.6116228103637695,
          0.6308651566505432,
          0.6468710899353027,
          0.659583330154419,
          0.6690395474433899,
          0.6754095554351807,
          0.6790429353713989,
          0.6805273294448853,
          0.6807599663734436
         ],
         "y": [
          -2.273214817047119,
          -2.2722690105438232,
          -2.266334295272827,
          -2.252089023590088,
          -2.227638006210327,
          -2.1921494007110596,
          -2.1455624103546143,
          -2.088348865509033,
          -2.0213265419006348,
          -1.9455164670944214,
          -1.8620316982269287,
          -1.7719980478286743,
          -1.6764973402023315,
          -1.5765305757522583,
          -1.4729957580566406,
          -1.3666774034500122,
          -1.2582448720932007,
          -1.1482574939727783,
          -1.0371721982955933,
          -0.9253564476966858,
          -0.8130999803543091,
          -0.7006289958953857,
          -0.5881184935569763,
          -0.4757067561149597,
          -0.36350589990615845,
          -0.25161394476890564,
          -0.1401256024837494,
          -0.02914225496351719,
          0.08121815323829651,
          0.1908111721277237,
          0.29945650696754456,
          0.4069282114505768,
          0.5129446387290955,
          0.6171596646308899,
          0.719153642654419,
          0.8184257745742798,
          0.9143895506858826,
          1.0063707828521729,
          1.093611478805542,
          1.1752798557281494,
          1.2504910230636597,
          1.318339228630066,
          1.3779449462890625,
          1.4285231828689575,
          1.4694744348526,
          1.5005040168762207,
          1.5217772722244263,
          1.5341143608093262,
          1.539232611656189,
          1.5400454998016357
         ],
         "z": [
          0.7223491668701172,
          0.7220878601074219,
          0.7204501628875732,
          0.7165271043777466,
          0.7098097801208496,
          0.7000877857208252,
          0.6873666048049927,
          0.6717986464500427,
          0.6536312699317932,
          0.6331638693809509,
          0.6107169985771179,
          0.5866091847419739,
          0.5611410140991211,
          0.5345850586891174,
          0.5071807503700256,
          0.47913163900375366,
          0.45060744881629944,
          0.421745628118515,
          0.3926562964916229,
          0.3634262979030609,
          0.33412477374076843,
          0.3048078715801239,
          0.27552351355552673,
          0.24631525576114655,
          0.21722623705863953,
          0.18830186128616333,
          0.1595918983221054,
          0.1311522275209427,
          0.10304585844278336,
          0.07534356415271759,
          0.0481240339577198,
          0.02147403359413147,
          -0.004511678591370583,
          -0.029730599373579025,
          -0.0540725477039814,
          -0.07741989940404892,
          -0.09964785724878311,
          -0.12062500417232513,
          -0.1402142494916916,
          -0.15827466547489166,
          -0.1746644526720047,
          -0.1892458200454712,
          -0.20189230144023895,
          -0.2124994546175003,
          -0.2210000455379486,
          -0.22738488018512726,
          -0.2317306399345398,
          -0.2342366874217987,
          -0.2352721244096756,
          -0.23543615639209747
         ]
        },
        {
         "mode": "lines",
         "scene": "scene",
         "showlegend": false,
         "type": "scatter3d",
         "x": [
          1.1061265468597412,
          1.1062579154968262,
          1.1070632934570312,
          1.1089465618133545,
          1.11209237575531,
          1.116533875465393,
          1.1222039461135864,
          1.1289739608764648,
          1.1366829872131348,
          1.1451581716537476,
          1.1542283296585083,
          1.163733720779419,
          1.173531174659729,
          1.1834969520568848,
          1.193528175354004,
          1.2035415172576904,
          1.2134729623794556,
          1.2232774496078491,
          1.232925534248352,
          1.2424033880233765,
          1.2517112493515015,
          1.2608625888824463,
          1.269882321357727,
          1.278806447982788,
          1.2876802682876587,
          1.296557068824768,
          1.3054964542388916,
          1.3145616054534912,
          1.3238166570663452,
          1.3333239555358887,
          1.3431388139724731,
          1.353306531906128,
          1.3638570308685303,
          1.3747997283935547,
          1.386118769645691,
          1.3977690935134888,
          1.4096715450286865,
          1.4217108488082886,
          1.4337347745895386,
          1.4455536603927612,
          1.4569467306137085,
          1.467667818069458,
          1.4774577617645264,
          1.4860610961914062,
          1.4932490587234497,
          1.4988497495651245,
          1.5027843713760376,
          1.5051151514053345,
          1.5060993432998657,
          1.5062577724456787
         ],
         "y": [
          -1.1625703573226929,
          -1.1618069410324097,
          -1.1570322513580322,
          -1.1456185579299927,
          -1.126115322113037,
          -1.097945213317871,
          -1.0611566305160522,
          -1.0162267684936523,
          -0.9639052152633667,
          -0.9050953388214111,
          -0.84076327085495,
          -0.7718724012374878,
          -0.699338972568512,
          -0.6240017414093018,
          -0.5466057062149048,
          -0.46779537200927734,
          -0.3881145417690277,
          -0.3080123960971832,
          -0.22785168886184692,
          -0.14791981875896454,
          -0.06844081729650497,
          0.010412630625069141,
          0.08850793540477753,
          0.16574150323867798,
          0.24202905595302582,
          0.317297101020813,
          0.39147529006004333,
          0.4644899070262909,
          0.5362582802772522,
          0.6066836714744568,
          0.6756511926651001,
          0.7430237531661987,
          0.8086381554603577,
          0.8723025918006897,
          0.9337936043739319,
          0.9928542375564575,
          1.0491931438446045,
          1.10248601436615,
          1.152377963066101,
          1.1984906196594238,
          1.240432858467102,
          1.2778165340423584,
          1.3102812767028809,
          1.3375266790390015,
          1.3593556880950928,
          1.3757328987121582,
          1.3868564367294312,
          1.3932515382766724,
          1.395883560180664,
          1.3962987661361694
         ],
         "z": [
          -0.3290415108203888,
          -0.3286362290382385,
          -0.32608672976493835,
          -0.319947749376297,
          -0.3093695640563965,
          -0.2939465045928955,
          -0.27359336614608765,
          -0.24844835698604584,
          -0.21879614889621735,
          -0.18500955402851105,
          -0.14750553667545319,
          -0.10671322047710419,
          -0.06305185705423355,
          -0.016916492953896523,
          0.03133092448115349,
          0.08136530965566635,
          0.13289950788021088,
          0.18568284809589386,
          0.23949818313121796,
          0.294158399105072,
          0.3495021462440491,
          0.4053897559642792,
          0.4616990089416504,
          0.5183210968971252,
          0.5751570463180542,
          0.6321139931678772,
          0.6891012191772461,
          0.7460269331932068,
          0.8027936816215515,
          0.8592948317527771,
          0.9154093861579895,
          0.9709976315498352,
          1.025895118713379,
          1.0799084901809692,
          1.1328092813491821,
          1.1843302249908447,
          1.2341612577438354,
          1.2819480895996094,
          1.327293872833252,
          1.3697630167007446,
          1.4088919162750244,
          1.4442057609558105,
          1.4752424955368042,
          1.5015888214111328,
          1.5229276418685913,
          1.539101243019104,
          1.5501919984817505,
          1.5566251277923584,
          1.5592941045761108,
          1.5597180128097534
         ]
        },
        {
         "mode": "lines",
         "scene": "scene",
         "showlegend": false,
         "type": "scatter3d",
         "x": [
          1.3719708919525146,
          1.3715037107467651,
          1.3685489892959595,
          1.3613942861557007,
          1.3490025997161865,
          1.330851674079895,
          1.3068006038665771,
          1.2769826650619507,
          1.241715669631958,
          1.20143461227417,
          1.1566364765167236,
          1.1078425645828247,
          1.0555667877197266,
          1.0002994537353516,
          0.9424924850463867,
          0.8825560212135315,
          0.820855438709259,
          0.7577145099639893,
          0.6934192180633545,
          0.6282238364219666,
          0.5623574256896973,
          0.4960304796695709,
          0.42944154143333435,
          0.36278268694877625,
          0.2962442934513092,
          0.23001942038536072,
          0.1643061339855194,
          0.0993097648024559,
          0.03524385020136833,
          -0.027669576928019524,
          -0.08920016884803772,
          -0.14911013841629028,
          -0.20715506374835968,
          -0.26308509707450867,
          -0.3166462182998657,
          -0.3675815165042877,
          -0.41563278436660767,
          -0.4605425000190735,
          -0.5020565986633301,
          -0.5399286150932312,
          -0.5739257335662842,
          -0.6038382053375244,
          -0.6294922828674316,
          -0.6507694125175476,
          -0.6676320433616638,
          -0.6801597476005554,
          -0.6885963678359985,
          -0.6934119462966919,
          -0.6953825950622559,
          -0.695692241191864
         ],
         "y": [
          -2.119016408920288,
          -2.118622064590454,
          -2.116114854812622,
          -2.1100010871887207,
          -2.0993268489837646,
          -2.0835447311401367,
          -2.0624146461486816,
          -2.0359160900115967,
          -2.0041847229003906,
          -1.9674581289291382,
          -1.9260379076004028,
          -1.8802592754364014,
          -1.8304717540740967,
          -1.777023434638977,
          -1.7202528715133667,
          -1.6604828834533691,
          -1.598020076751709,
          -1.5331525802612305,
          -1.466152310371399,
          -1.397277593612671,
          -1.326774001121521,
          -1.254878044128418,
          -1.1818201541900635,
          -1.1078258752822876,
          -1.033118486404419,
          -0.95792156457901,
          -0.8824613094329834,
          -0.8069677352905273,
          -0.7316778302192688,
          -0.6568382978439331,
          -0.5827080011367798,
          -0.5095613598823547,
          -0.4376922845840454,
          -0.36741718649864197,
          -0.2990790605545044,
          -0.2330498844385147,
          -0.16973286867141724,
          -0.10956237465143204,
          -0.053001224994659424,
          -0.0005344945820979774,
          0.04734209552407265,
          0.09014026075601578,
          0.12740585207939148,
          0.158756285905838,
          0.18393093347549438,
          0.20285771787166595,
          0.21573860943317413,
          0.2231578826904297,
          0.22621692717075348,
          0.22670021653175354
         ],
         "z": [
          0.6707578897476196,
          0.6710209846496582,
          0.6726546287536621,
          0.6765271425247192,
          0.6830872893333435,
          0.692478597164154,
          0.7046324610710144,
          0.7193403840065002,
          0.7363097071647644,
          0.7552056908607483,
          0.7756825685501099,
          0.7974046468734741,
          0.8200615048408508,
          0.8433762192726135,
          0.8671096563339233,
          0.8910621404647827,
          0.9150718450546265,
          0.9390124678611755,
          0.96278977394104,
          0.9863370060920715,
          1.009610891342163,
          1.0325878858566284,
          1.055259346961975,
          1.0776286125183105,
          1.0997072458267212,
          1.1215115785598755,
          1.1430602073669434,
          1.1643716096878052,
          1.1854596138000488,
          1.2063333988189697,
          1.2269927263259888,
          1.2474257946014404,
          1.2676068544387817,
          1.287493348121643,
          1.307023286819458,
          1.3261138200759888,
          1.3446582555770874,
          1.3625271320343018,
          1.3795682191848755,
          1.3956084251403809,
          1.4104589223861694,
          1.4239224195480347,
          1.4358042478561401,
          1.4459269046783447,
          1.4541503190994263,
          1.4603979587554932,
          1.4646896123886108,
          1.4671815633773804,
          1.468215823173523,
          1.468380093574524
         ]
        },
        {
         "marker": {
          "color": "#636EFA",
          "size": 2
         },
         "mode": "markers",
         "scene": "scene",
         "showlegend": false,
         "type": "scatter3d",
         "x": [
          1.326698660850525,
          -0.6161234974861145,
          1.1061265468597412,
          1.3719708919525146
         ],
         "y": [
          0.43363094329833984,
          -2.273214817047119,
          -1.1625703573226929,
          -2.119016408920288
         ],
         "z": [
          0.9034855365753174,
          0.7223491668701172,
          -0.3290415108203888,
          0.6707578897476196
         ]
        },
        {
         "marker": {
          "color": "#EF553B",
          "size": 2
         },
         "mode": "markers",
         "scene": "scene",
         "showlegend": false,
         "type": "scatter3d",
         "x": [
          1.4586443901062012,
          0.6807599663734436,
          1.5062577724456787,
          -0.695692241191864
         ],
         "y": [
          -0.022233817726373672,
          1.5400454998016357,
          1.3962987661361694,
          0.22670021653175354
         ],
         "z": [
          1.087550401687622,
          -0.23543615639209747,
          1.5597180128097534,
          1.468380093574524
         ]
        },
        {
         "mode": "lines",
         "scene": "scene2",
         "showlegend": false,
         "type": "scatter3d",
         "x": [
          -1.013611078262329,
          -1.0135419368743896,
          -1.0130963325500488,
          -1.0119909048080444,
          -1.010025143623352,
          -1.0070621967315674,
          -1.0030169486999512,
          -0.9978420734405518,
          -0.9915195107460022,
          -0.9840532541275024,
          -0.9754634499549866,
          -0.9657815098762512,
          -0.9550476670265198,
          -0.9433067440986633,
          -0.9306074976921082,
          -0.9170002937316895,
          -0.902536153793335,
          -0.887265682220459,
          -0.871238648891449,
          -0.8545029163360596,
          -0.8371044397354126,
          -0.8190873265266418,
          -0.8004932999610901,
          -0.7813624143600464,
          -0.7617332339286804,
          -0.7416437268257141,
          -0.7211323976516724,
          -0.700239896774292,
          -0.6790104508399963,
          -0.6574938893318176,
          -0.635748565196991,
          -0.6138438582420349,
          -0.591862678527832,
          -0.5699043869972229,
          -0.5480877757072449,
          -0.5265528559684753,
          -0.5054628252983093,
          -0.4850044548511505,
          -0.4653873145580292,
          -0.446840763092041,
          -0.4296090304851532,
          -0.41394227743148804,
          -0.40008455514907837,
          -0.3882564604282379,
          -0.37863218784332275,
          -0.371309757232666,
          -0.3662731349468231,
          -0.36334484815597534,
          -0.36212772130966187,
          -0.36193421483039856
         ],
         "y": [
          -0.28078165650367737,
          -0.28091728687286377,
          -0.28175589442253113,
          -0.2837320566177368,
          -0.28705257177352905,
          -0.29175689816474915,
          -0.29776671528816223,
          -0.3049260675907135,
          -0.31303271651268005,
          -0.3218630254268646,
          -0.3311898112297058,
          -0.3407961130142212,
          -0.35048389434814453,
          -0.36007949709892273,
          -0.36943647265434265,
          -0.3784356117248535,
          -0.38698428869247437,
          -0.3950136601924896,
          -0.40247589349746704,
          -0.40934035181999207,
          -0.4155902564525604,
          -0.4212189316749573,
          -0.42622682452201843,
          -0.4306187033653259,
          -0.43440142273902893,
          -0.43758252263069153,
          -0.4401691257953644,
          -0.44216808676719666,
          -0.44358572363853455,
          -0.4444291591644287,
          -0.4447074234485626,
          -0.444433331489563,
          -0.44362497329711914,
          -0.4423079788684845,
          -0.4405173361301422,
          -0.43829891085624695,
          -0.4357106685638428,
          -0.43282344937324524,
          -0.4297207295894623,
          -0.42649760842323303,
          -0.42325884103775024,
          -0.42011505365371704,
          -0.41717830300331116,
          -0.4145554304122925,
          -0.41234004497528076,
          -0.4106025695800781,
          -0.4093780517578125,
          -0.4086526334285736,
          -0.40834689140319824,
          -0.4082978367805481
         ],
         "z": [
          0.20470206439495087,
          0.20473173260688782,
          0.2049083411693573,
          0.2053038328886032,
          0.20592772960662842,
          0.206743985414505,
          0.20768533647060394,
          0.20866432785987854,
          0.20958203077316284,
          0.21033544838428497,
          0.2108227014541626,
          0.21094746887683868,
          0.210622176527977,
          0.20977048575878143,
          0.20832905173301697,
          0.20624883472919464,
          0.2034958153963089,
          0.20005133748054504,
          0.1959122270345688,
          0.1910904496908188,
          0.18561236560344696,
          0.1795182228088379,
          0.17286071181297302,
          0.1657038778066635,
          0.15812134742736816,
          0.15019483864307404,
          0.14201216399669647,
          0.13366514444351196,
          0.1252478063106537,
          0.1168539747595787,
          0.10857546329498291,
          0.10049989074468613,
          0.09270896017551422,
          0.08527673780918121,
          0.07826820760965347,
          0.07173825800418854,
          0.06573071330785751,
          0.060278087854385376,
          0.05540136992931366,
          0.051110316067934036,
          0.04740398749709129,
          0.044271521270275116,
          0.04169291630387306,
          0.039639800786972046,
          0.03807583451271057,
          0.03695649281144142,
          0.036227889358997345,
          0.03582417592406273,
          0.0356629341840744,
          0.03563804179430008
         ]
        },
        {
         "mode": "lines",
         "scene": "scene2",
         "showlegend": false,
         "type": "scatter3d",
         "x": [
          1.2788786888122559,
          1.2786235809326172,
          1.2770020961761475,
          1.2730505466461182,
          1.2661622762680054,
          1.2560051679611206,
          1.2424557209014893,
          1.2255418300628662,
          1.2053982019424438,
          1.1822279691696167,
          1.156274437904358,
          1.1277986764907837,
          1.0970640182495117,
          1.0643222332000732,
          1.0298075675964355,
          0.993731677532196,
          0.956282377243042,
          0.9176225662231445,
          0.8778919577598572,
          0.8372101783752441,
          0.7956787347793579,
          0.7533847093582153,
          0.7104048132896423,
          0.6668081879615784,
          0.6226605176925659,
          0.5780268907546997,
          0.5329754948616028,
          0.4875807762145996,
          0.4419270157814026,
          0.3961116671562195,
          0.3502485752105713,
          0.30447229743003845,
          0.2589416801929474,
          0.21384364366531372,
          0.16939713060855865,
          0.1258564442396164,
          0.08351360261440277,
          0.04269968718290329,
          0.0037837596610188484,
          -0.03283098340034485,
          -0.06671544909477234,
          -0.09742831438779831,
          -0.1245369240641594,
          -0.14764761924743652,
          -0.16644737124443054,
          -0.18076002597808838,
          -0.19061976671218872,
          -0.196365624666214,
          -0.19876103103160858,
          -0.19914311170578003
         ],
         "y": [
          0.08327633142471313,
          0.0833786204457283,
          0.08401396870613098,
          0.08552182465791702,
          0.08808092027902603,
          0.0917542427778244,
          0.09652480483055115,
          0.10232309252023697,
          0.10904815047979355,
          0.11658307164907455,
          0.12480625510215759,
          0.13359910249710083,
          0.14285102486610413,
          0.1524624526500702,
          0.16234634816646576,
          0.1724284291267395,
          0.18264684081077576,
          0.1929512917995453,
          0.20330190658569336,
          0.2136678248643875,
          0.2240261733531952,
          0.23436054587364197,
          0.24465984106063843,
          0.2549172639846802,
          0.26512911915779114,
          0.27529361844062805,
          0.285410076379776,
          0.2954776883125305,
          0.3054943382740021,
          0.31545543670654297,
          0.32535257935523987,
          0.3351723551750183,
          0.34489473700523376,
          0.35449206829071045,
          0.3639277219772339,
          0.3731549382209778,
          0.3821166157722473,
          0.3907449245452881,
          0.3989618420600891,
          0.40668079257011414,
          0.4138089418411255,
          0.42025133967399597,
          0.4259161353111267,
          0.43072229623794556,
          0.4346086382865906,
          0.4375463128089905,
          0.4395531415939331,
          0.4407115876674652,
          0.4411894381046295,
          0.44126489758491516
         ],
         "z": [
          0.41747358441352844,
          0.41733649373054504,
          0.41648420691490173,
          0.4144611358642578,
          0.41103315353393555,
          0.40612879395484924,
          0.3997918367385864,
          0.39214280247688293,
          0.38334840536117554,
          0.3735973536968231,
          0.3630828559398651,
          0.35198909044265747,
          0.3404823839664459,
          0.32870545983314514,
          0.31677407026290894,
          0.304776132106781,
          0.2927723824977875,
          0.2807977795600891,
          0.26886433362960815,
          0.2569635510444641,
          0.2450704425573349,
          0.23314647376537323,
          0.22114305198192596,
          0.20900504291057587,
          0.19667395949363708,
          0.1840909868478775,
          0.1712002456188202,
          0.1579514890909195,
          0.14430324733257294,
          0.1302257627248764,
          0.11570386588573456,
          0.10074003785848618,
          0.08535748720169067,
          0.06960306316614151,
          0.053550202399492264,
          0.03730135038495064,
          0.02099001221358776,
          0.004781811498105526,
          -0.01112570520490408,
          -0.02650504745543003,
          -0.04110326990485191,
          -0.05464963614940643,
          -0.066867396235466,
          -0.07749085873365402,
          -0.08628878742456436,
          -0.0930958241224289,
          -0.09785328805446625,
          -0.1006614938378334,
          -0.10184533149003983,
          -0.10203584283590317
         ]
        },
        {
         "mode": "lines",
         "scene": "scene2",
         "showlegend": false,
         "type": "scatter3d",
         "x": [
          -0.6854248046875,
          -0.6855277419090271,
          -0.6861968636512756,
          -0.6878710389137268,
          -0.6908743381500244,
          -0.6954396367073059,
          -0.7017278075218201,
          -0.7098422050476074,
          -0.7198408246040344,
          -0.7317464351654053,
          -0.7455525398254395,
          -0.7612294554710388,
          -0.7787284851074219,
          -0.7979831695556641,
          -0.8189128637313843,
          -0.8414228558540344,
          -0.8654061555862427,
          -0.8907440304756165,
          -0.917306661605835,
          -0.9449541568756104,
          -0.9735381007194519,
          -1.0029022693634033,
          -1.0328844785690308,
          -1.0633180141448975,
          -1.0940340757369995,
          -1.124862551689148,
          -1.1556357145309448,
          -1.1861881017684937,
          -1.2163597345352173,
          -1.2459969520568848,
          -1.2749531269073486,
          -1.3030900955200195,
          -1.3302781581878662,
          -1.3563953638076782,
          -1.3813271522521973,
          -1.4049656391143799,
          -1.4272080659866333,
          -1.4479548931121826,
          -1.467110276222229,
          -1.484580159187317,
          -1.5002738237380981,
          -1.5141063928604126,
          -1.5260027647018433,
          -1.5359070301055908,
          -1.5437930822372437,
          -1.5496841669082642,
          -1.553675651550293,
          -1.5559691190719604,
          -1.55691397190094,
          -1.5570634603500366
         ],
         "y": [
          0.5877361297607422,
          0.5880110859870911,
          0.5897258520126343,
          0.5938127040863037,
          0.6007805466651917,
          0.6108306050300598,
          0.6239497661590576,
          0.6399811506271362,
          0.6586815118789673,
          0.6797601580619812,
          0.7029110193252563,
          0.7278314232826233,
          0.7542375326156616,
          0.7818713784217834,
          0.8105053305625916,
          0.8399431705474854,
          0.870019257068634,
          0.9005962610244751,
          0.9315618276596069,
          0.9628260135650635,
          0.994317352771759,
          1.0259801149368286,
          1.057770848274231,
          1.089656114578247,
          1.1216095685958862,
          1.1536093950271606,
          1.1856364011764526,
          1.2176704406738281,
          1.2496880292892456,
          1.2816593647003174,
          1.3135443925857544,
          1.3452892303466797,
          1.376821517944336,
          1.408046841621399,
          1.4388437271118164,
          1.4690605401992798,
          1.4985116720199585,
          1.5269763469696045,
          1.5541986227035522,
          1.5798909664154053,
          1.6037393808364868,
          1.6254160404205322,
          1.6445945501327515,
          1.6609759330749512,
          1.674318552017212,
          1.6844829320907593,
          1.6914840936660767,
          1.6955606937408447,
          1.697257399559021,
          1.697527527809143
         ],
         "z": [
          1.1498234272003174,
          1.1495792865753174,
          1.1480445861816406,
          1.1443575620651245,
          1.138026237487793,
          1.1288361549377441,
          1.1167759895324707,
          1.1019748449325562,
          1.0846538543701172,
          1.0650850534439087,
          1.0435646772384644,
          1.020387887954712,
          0.9958358407020569,
          0.9701635241508484,
          0.9435955286026001,
          0.9163219928741455,
          0.8885006308555603,
          0.8602572083473206,
          0.8316905498504639,
          0.802875816822052,
          0.7738699913024902,
          0.7447161078453064,
          0.7154489755630493,
          0.6860982775688171,
          0.656693696975708,
          0.6272671222686768,
          0.5978565216064453,
          0.5685076713562012,
          0.5392759442329407,
          0.510227620601654,
          0.481441468000412,
          0.45300886034965515,
          0.42503488063812256,
          0.3976384103298187,
          0.3709526062011719,
          0.34512490034103394,
          0.3203166723251343,
          0.29670250415802,
          0.27446871995925903,
          0.2538103759288788,
          0.23492681980133057,
          0.21801505982875824,
          0.20325936377048492,
          0.19081735610961914,
          0.18080031871795654,
          0.17324718832969666,
          0.16808973252773285,
          0.16510815918445587,
          0.16387388110160828,
          0.1636781394481659
         ]
        },
        {
         "mode": "lines",
         "scene": "scene2",
         "showlegend": false,
         "type": "scatter3d",
         "x": [
          -0.3130245804786682,
          -0.31339114904403687,
          -0.31570324301719666,
          -0.32128509879112244,
          -0.3309244215488434,
          -0.3450019359588623,
          -0.3635996878147125,
          -0.3865871727466583,
          -0.41369113326072693,
          -0.44454947113990784,
          -0.4787532687187195,
          -0.5158770680427551,
          -0.5555014610290527,
          -0.5972274541854858,
          -0.640685498714447,
          -0.6855407953262329,
          -0.7314935326576233,
          -0.7782788872718811,
          -0.8256630897521973,
          -0.8734403848648071,
          -0.9214287400245667,
          -0.9694647789001465,
          -1.0174006223678589,
          -1.0650992393493652,
          -1.1124317646026611,
          -1.1592748165130615,
          -1.2055078744888306,
          -1.251011610031128,
          -1.2956671714782715,
          -1.3393548727035522,
          -1.3819524049758911,
          -1.4233359098434448,
          -1.4633768796920776,
          -1.5019433498382568,
          -1.5388970375061035,
          -1.5740939378738403,
          -1.6073821783065796,
          -1.6386032104492188,
          -1.667590618133545,
          -1.694172978401184,
          -1.7181775569915771,
          -1.7394362688064575,
          -1.757796287536621,
          -1.7731354236602783,
          -1.7853831052780151,
          -1.794550895690918,
          -1.8007701635360718,
          -1.8043456077575684,
          -1.8058184385299683,
          -1.8060511350631714
         ],
         "y": [
          0.6004894971847534,
          0.6003625392913818,
          0.5995450019836426,
          0.5975239276885986,
          0.5939467549324036,
          0.5885878205299377,
          0.5813206434249878,
          0.5720949172973633,
          0.5609166622161865,
          0.5478321313858032,
          0.5329164862632751,
          0.516262948513031,
          0.4979771375656128,
          0.47817108035087585,
          0.4569607675075531,
          0.4344639778137207,
          0.4108000099658966,
          0.3860894739627838,
          0.3604552149772644,
          0.33402273058891296,
          0.3069215714931488,
          0.27928605675697327,
          0.25125566124916077,
          0.22297538816928864,
          0.1945955902338028,
          0.16627132892608643,
          0.1381613165140152,
          0.1104264110326767,
          0.08322765678167343,
          0.05672429874539375,
          0.031071271747350693,
          0.006416710559278727,
          -0.017100488767027855,
          -0.03935312479734421,
          -0.06022784486413002,
          -0.07962708175182343,
          -0.09747064858675003,
          -0.11369685083627701,
          -0.1282634139060974,
          -0.1411479115486145,
          -0.15234805643558502,
          -0.1618821769952774,
          -0.16978956758975983,
          -0.1761319637298584,
          -0.18099570274353027,
          -0.18449591100215912,
          -0.18678294122219086,
          -0.18805234134197235,
          -0.18855896592140198,
          -0.18863697350025177
         ],
         "z": [
          0.285409152507782,
          0.2855386734008789,
          0.28635260462760925,
          0.2883104681968689,
          0.29168078303337097,
          0.2965897023677826,
          0.303060382604599,
          0.3110443651676178,
          0.32044538855552673,
          0.33113813400268555,
          0.3429820239543915,
          0.35583120584487915,
          0.36954206228256226,
          0.3839776813983917,
          0.39901092648506165,
          0.41452649235725403,
          0.4304213523864746,
          0.44660475850105286,
          0.46299830079078674,
          0.4795348346233368,
          0.49615785479545593,
          0.5128206014633179,
          0.5294848084449768,
          0.5461198687553406,
          0.5627017021179199,
          0.5792112350463867,
          0.5956332683563232,
          0.611954927444458,
          0.6281638145446777,
          0.6442464590072632,
          0.6601858139038086,
          0.675959587097168,
          0.6915372610092163,
          0.7068784832954407,
          0.7219305634498596,
          0.7366263270378113,
          0.7508829832077026,
          0.7646013498306274,
          0.7776660323143005,
          0.7899468541145325,
          0.8013021945953369,
          0.8115848898887634,
          0.8206495046615601,
          0.8283644318580627,
          0.834626317024231,
          0.839380145072937,
          0.8426434397697449,
          0.8445371985435486,
          0.845322847366333,
          0.8454475998878479
         ]
        },
        {
         "marker": {
          "color": "#636EFA",
          "size": 2
         },
         "mode": "markers",
         "scene": "scene2",
         "showlegend": false,
         "type": "scatter3d",
         "x": [
          -1.013611078262329,
          1.2788786888122559,
          -0.6854248046875,
          -0.3130245804786682
         ],
         "y": [
          -0.28078165650367737,
          0.08327633142471313,
          0.5877361297607422,
          0.6004894971847534
         ],
         "z": [
          0.20470206439495087,
          0.41747358441352844,
          1.1498234272003174,
          0.285409152507782
         ]
        },
        {
         "marker": {
          "color": "#EF553B",
          "size": 2
         },
         "mode": "markers",
         "scene": "scene2",
         "showlegend": false,
         "type": "scatter3d",
         "x": [
          -0.36193421483039856,
          -0.19914311170578003,
          -1.5570634603500366,
          -1.8060511350631714
         ],
         "y": [
          -0.4082978367805481,
          0.44126489758491516,
          1.697527527809143,
          -0.18863697350025177
         ],
         "z": [
          0.03563804179430008,
          -0.10203584283590317,
          0.1636781394481659,
          0.8454475998878479
         ]
        },
        {
         "mode": "lines",
         "scene": "scene3",
         "showlegend": false,
         "type": "scatter3d",
         "x": [
          1.500715732574463,
          1.4997844696044922,
          1.4939353466033936,
          1.4798856973648071,
          1.4557626247406006,
          1.420751690864563,
          1.374812126159668,
          1.3184417486190796,
          1.2524919509887695,
          1.1780205965042114,
          1.0961828231811523,
          1.008143663406372,
          0.9150229096412659,
          0.8178532719612122,
          0.7175571322441101,
          0.6149340271949768,
          0.5106597542762756,
          0.4052898585796356,
          0.2992701828479767,
          0.19294843077659607,
          0.08659003674983978,
          -0.01960746943950653,
          -0.12549880146980286,
          -0.23097658157348633,
          -0.3359576165676117,
          -0.4403703808784485,
          -0.5441434383392334,
          -0.6471958160400391,
          -0.7494270205497742,
          -0.8507086634635925,
          -0.9508765339851379,
          -1.0497230291366577,
          -1.1469895839691162,
          -1.2423608303070068,
          -1.3354578018188477,
          -1.4258333444595337,
          -1.5129684209823608,
          -1.5962728261947632,
          -1.675087809562683,
          -1.7486960887908936,
          -1.8163385391235352,
          -1.8772411346435547,
          -1.9306564331054688,
          -1.97592031955719,
          -2.01253080368042,
          -2.040252208709717,
          -2.059250831604004,
          -2.0702691078186035,
          -2.0748417377471924,
          -2.075568199157715
         ],
         "y": [
          0.7862500548362732,
          0.7857062816619873,
          0.7822976112365723,
          0.7741283774375916,
          0.7601377367973328,
          0.739890992641449,
          0.7134087681770325,
          0.6810271143913269,
          0.6432871222496033,
          0.6008467674255371,
          0.5544145703315735,
          0.5046990513801575,
          0.4523736834526062,
          0.39805305004119873,
          0.34227854013442993,
          0.28551149368286133,
          0.22813181579113007,
          0.17044170200824738,
          0.11267109960317612,
          0.054986484348773956,
          -0.0025001047179102898,
          -0.05972111597657204,
          -0.11664356291294098,
          -0.17325934767723083,
          -0.22957627475261688,
          -0.28560951352119446,
          -0.34137386083602905,
          -0.39687642455101013,
          -0.4521102011203766,
          -0.5070477724075317,
          -0.5616357326507568,
          -0.6157891154289246,
          -0.6693862080574036,
          -0.7222642302513123,
          -0.7742143869400024,
          -0.8249790072441101,
          -0.8742490410804749,
          -0.9216639399528503,
          -0.9668135046958923,
          -1.0092439651489258,
          -1.0484687089920044,
          -1.0839853286743164,
          -1.1153013706207275,
          -1.1419696807861328,
          -1.1636381149291992,
          -1.1801140308380127,
          -1.1914485692977905,
          -1.1980444192886353,
          -1.2007899284362793,
          -1.2012273073196411
         ],
         "z": [
          1.227170467376709,
          1.2270232439041138,
          1.2261111736297607,
          1.223957896232605,
          1.220342755317688,
          1.2152369022369385,
          1.2087534666061401,
          1.2011032104492188,
          1.1925578117370605,
          1.18341863155365,
          1.1739944219589233,
          1.1645803451538086,
          1.1554441452026367,
          1.1468156576156616,
          1.1388815641403198,
          1.1317789554595947,
          1.125596284866333,
          1.120373010635376,
          1.116103172302246,
          1.1127372980117798,
          1.1101897954940796,
          1.108342170715332,
          1.1070507764816284,
          1.1061521768569946,
          1.1054694652557373,
          1.104819893836975,
          1.1040197610855103,
          1.1028916835784912,
          1.1012699604034424,
          1.0990062952041626,
          1.0959750413894653,
          1.0920785665512085,
          1.0872513055801392,
          1.0814640522003174,
          1.074726939201355,
          1.0670931339263916,
          1.0586591958999634,
          1.0495669841766357,
          1.0400018692016602,
          1.0301902294158936,
          1.0203940868377686,
          1.010902762413025,
          1.0020204782485962,
          0.9940496683120728,
          0.9872679710388184,
          0.9818984270095825,
          0.9780707955360413,
          0.9757731556892395,
          0.9747906923294067,
          0.9746308326721191
         ]
        },
        {
         "mode": "lines",
         "scene": "scene3",
         "showlegend": false,
         "type": "scatter3d",
         "x": [
          -1.6783888339996338,
          -1.677673101425171,
          -1.6731847524642944,
          -1.662420630455017,
          -1.6439601182937622,
          -1.617187738418579,
          -1.5820673704147339,
          -1.538962960243225,
          -1.48849618434906,
          -1.4314380884170532,
          -1.3686254024505615,
          -1.3009023666381836,
          -1.229076623916626,
          -1.1538937091827393,
          -1.0760191679000854,
          -0.99603271484375,
          -0.9144259691238403,
          -0.8316065669059753,
          -0.7479047775268555,
          -0.6635817289352417,
          -0.5788396596908569,
          -0.49383148550987244,
          -0.408670574426651,
          -0.32344117760658264,
          -0.23820674419403076,
          -0.15301965177059174,
          -0.06792925298213959,
          0.0170097965747118,
          0.10172877460718155,
          0.186136856675148,
          0.27011221647262573,
          0.35349348187446594,
          0.43607065081596375,
          0.5175765752792358,
          0.597678542137146,
          0.6759715676307678,
          0.7519733309745789,
          0.8251224756240845,
          0.8947807550430298,
          0.9602420926094055,
          1.0207492113113403,
          1.0755211114883423,
          1.1237934827804565,
          1.1648753881454468,
          1.1982262134552002,
          1.2235573530197144,
          1.2409604787826538,
          1.251071572303772,
          1.2552728652954102,
          1.2559407949447632
         ],
         "y": [
          0.9624656438827515,
          0.9620826244354248,
          0.9596686959266663,
          0.9538455605506897,
          0.9438016414642334,
          0.929153561592102,
          0.9098337292671204,
          0.8859971761703491,
          0.8579469323158264,
          0.8260751962661743,
          0.7908182740211487,
          0.7526226043701172,
          0.7119190096855164,
          0.6691083908081055,
          0.624549388885498,
          0.5785544514656067,
          0.5313878059387207,
          0.4832674264907837,
          0.4343686103820801,
          0.38482892513275146,
          0.33475416898727417,
          0.28422456979751587,
          0.2333013266324997,
          0.18203231692314148,
          0.13045856356620789,
          0.07861953973770142,
          0.026558300480246544,
          -0.025673359632492065,
          -0.07801034301519394,
          -0.13036958873271942,
          -0.18264570832252502,
          -0.2347065657377243,
          -0.28638893365859985,
          -0.3374943733215332,
          -0.3877854347229004,
          -0.4369824528694153,
          -0.48476138710975647,
          -0.5307534337043762,
          -0.5745469927787781,
          -0.6156928539276123,
          -0.6537144184112549,
          -0.6881236433982849,
          -0.7184454202651978,
          -0.7442511916160583,
          -0.7652058005332947,
          -0.7811294794082642,
          -0.7920780777931213,
          -0.7984461188316345,
          -0.801095724105835,
          -0.8015176057815552
         ],
         "z": [
          1.488339900970459,
          1.4880661964416504,
          1.4863539934158325,
          1.4822648763656616,
          1.4752938747406006,
          1.46526300907135,
          1.4522323608398438,
          1.4364285469055176,
          1.4181839227676392,
          1.3978896141052246,
          1.3759593963623047,
          1.3528014421463013,
          1.3287982940673828,
          1.3042924404144287,
          1.279579997062683,
          1.25490403175354,
          1.2304571866989136,
          1.2063806056976318,
          1.1827698945999146,
          1.1596803665161133,
          1.1371325254440308,
          1.1151190996170044,
          1.093611717224121,
          1.0725677013397217,
          1.0519349575042725,
          1.0316593647003174,
          1.0116881132125854,
          0.9919746518135071,
          0.9724820852279663,
          0.953186571598053,
          0.9340790510177612,
          0.9151679277420044,
          0.8964797854423523,
          0.8780607581138611,
          0.8599771857261658,
          0.8423151969909668,
          0.8251814246177673,
          0.8087014555931091,
          0.793018102645874,
          0.7782891392707825,
          0.7646827101707458,
          0.7523712515830994,
          0.7415229678153992,
          0.7322895526885986,
          0.7247898578643799,
          0.7190878391265869,
          0.7151644229888916,
          0.7128801345825195,
          0.7119284868240356,
          0.7117767333984375
         ]
        },
        {
         "mode": "lines",
         "scene": "scene3",
         "showlegend": false,
         "type": "scatter3d",
         "x": [
          -1.3701519966125488,
          -1.3700495958328247,
          -1.3694289922714233,
          -1.3680028915405273,
          -1.3656775951385498,
          -1.3624969720840454,
          -1.358598232269287,
          -1.3541769981384277,
          -1.34945809841156,
          -1.344675064086914,
          -1.3400534391403198,
          -1.3357988595962524,
          -1.3320908546447754,
          -1.3290774822235107,
          -1.3268731832504272,
          -1.3255599737167358,
          -1.3251879215240479,
          -1.3257803916931152,
          -1.3273344039916992,
          -1.329827904701233,
          -1.3332226276397705,
          -1.3374689817428589,
          -1.34251070022583,
          -1.3482877016067505,
          -1.3547407388687134,
          -1.3618124723434448,
          -1.3694504499435425,
          -1.3776085376739502,
          -1.3862459659576416,
          -1.3953269720077515,
          -1.4048198461532593,
          -1.4146937131881714,
          -1.4249157905578613,
          -1.435448408126831,
          -1.4462432861328125,
          -1.4572386741638184,
          -1.4683541059494019,
          -1.4794875383377075,
          -1.490512490272522,
          -1.5012764930725098,
          -1.5116016864776611,
          -1.5212894678115845,
          -1.5301275253295898,
          -1.5379018783569336,
          -1.5444153547286987,
          -1.5495128631591797,
          -1.5531156063079834,
          -1.5552653074264526,
          -1.556180715560913,
          -1.556329369544983
         ],
         "y": [
          0.42686378955841064,
          0.4266612231731415,
          0.42539122700691223,
          0.42234790325164795,
          0.41713812947273254,
          0.4096032977104187,
          0.3997560441493988,
          0.38772737979888916,
          0.3737250864505768,
          0.35800033807754517,
          0.34082236886024475,
          0.3224601149559021,
          0.30316901206970215,
          0.283182293176651,
          0.2627069056034088,
          0.2419213205575943,
          0.2209763079881668,
          0.19999730587005615,
          0.17908738553524017,
          0.15833167731761932,
          0.13780121505260468,
          0.11755736917257309,
          0.09765548259019852,
          0.07814822345972061,
          0.05908813700079918,
          0.04052949324250221,
          0.022529371082782745,
          0.005147880408912897,
          -0.01155230961740017,
          -0.027507035061717033,
          -0.04265234246850014,
          -0.05692653730511665,
          -0.07027250528335571,
          -0.0826401486992836,
          -0.09398869425058365,
          -0.10428891330957413,
          -0.11352484673261642,
          -0.1216951310634613,
          -0.1288137584924698,
          -0.13491012156009674,
          -0.1400284767150879,
          -0.14422686398029327,
          -0.1475752890110016,
          -0.15015392005443573,
          -0.15205088257789612,
          -0.15336059033870697,
          -0.15418267250061035,
          -0.15462219715118408,
          -0.1547919064760208,
          -0.1548173874616623
         ],
         "z": [
          1.2740391492843628,
          1.274011254310608,
          1.2738250494003296,
          1.273349404335022,
          1.2724850177764893,
          1.2711628675460815,
          1.269343614578247,
          1.2670120000839233,
          1.2641743421554565,
          1.2608520984649658,
          1.2570786476135254,
          1.2528947591781616,
          1.2483453750610352,
          1.2434759140014648,
          1.2383313179016113,
          1.2329530715942383,
          1.2273802757263184,
          1.2216479778289795,
          1.2157882452011108,
          1.209830403327942,
          1.203802466392517,
          1.1977322101593018,
          1.1916475296020508,
          1.1855788230895996,
          1.1795588731765747,
          1.1736234426498413,
          1.1678118705749512,
          1.1621665954589844,
          1.1567329168319702,
          1.1515579223632812,
          1.14668869972229,
          1.142171025276184,
          1.1380475759506226,
          1.1343549489974976,
          1.1311224699020386,
          1.1283694505691528,
          1.126103401184082,
          1.1243184804916382,
          1.1229950189590454,
          1.122098445892334,
          1.121579885482788,
          1.1213786602020264,
          1.1214231252670288,
          1.121636152267456,
          1.121938943862915,
          1.1222575902938843,
          1.122530221939087,
          1.122715711593628,
          1.1228021383285522,
          1.122817039489746
         ]
        },
        {
         "mode": "lines",
         "scene": "scene3",
         "showlegend": false,
         "type": "scatter3d",
         "x": [
          2.1341867446899414,
          2.134099245071411,
          2.133531093597412,
          2.132122039794922,
          2.1296346187591553,
          2.1259384155273438,
          2.120997428894043,
          2.1148507595062256,
          2.107595443725586,
          2.099370241165161,
          2.0903425216674805,
          2.080691337585449,
          2.070598840713501,
          2.06024169921875,
          2.0497820377349854,
          2.0393636226654053,
          2.0291106700897217,
          2.019124746322632,
          2.009486675262451,
          2.0002570152282715,
          1.9914802312850952,
          1.9831870794296265,
          1.9753979444503784,
          1.968126654624939,
          1.961383581161499,
          1.9551788568496704,
          1.949523687362671,
          1.9444329738616943,
          1.9399242401123047,
          1.9360181093215942,
          1.9327367544174194,
          1.9301023483276367,
          1.9281326532363892,
          1.9268392324447632,
          1.9262235164642334,
          1.9262717962265015,
          1.9269534349441528,
          1.9282175302505493,
          1.9299907684326172,
          1.9321774244308472,
          1.934659719467163,
          1.937302589416504,
          1.939957618713379,
          1.9424729347229004,
          1.9447029829025269,
          1.9465243816375732,
          1.9478521347045898,
          1.9486616849899292,
          1.9490108489990234,
          1.9490679502487183
         ],
         "y": [
          1.4534666538238525,
          1.45327889919281,
          1.4520779848098755,
          1.4491347074508667,
          1.4439760446548462,
          1.4363303184509277,
          1.4260835647583008,
          1.41323721408844,
          1.3978779315948486,
          1.3801485300064087,
          1.3602272272109985,
          1.3383100032806396,
          1.314598560333252,
          1.2892909049987793,
          1.2625751495361328,
          1.2346272468566895,
          1.205609679222107,
          1.1756714582443237,
          1.1449497938156128,
          1.1135735511779785,
          1.0816646814346313,
          1.0493417978286743,
          1.0167241096496582,
          0.9839312434196472,
          0.9510876536369324,
          0.9183225035667419,
          0.8857705593109131,
          0.8535726070404053,
          0.8218739628791809,
          0.7908239364624023,
          0.7605735659599304,
          0.7312741875648499,
          0.7030745148658752,
          0.676118791103363,
          0.6505444049835205,
          0.62647944688797,
          0.6040412783622742,
          0.5833348631858826,
          0.5644509196281433,
          0.5474646687507629,
          0.5324347019195557,
          0.5194005370140076,
          0.5083796381950378,
          0.499362975358963,
          0.4923075735569,
          0.48712632060050964,
          0.4836723208427429,
          0.4817175269126892,
          0.4809228181838989,
          0.48079851269721985
         ],
         "z": [
          0.19102750718593597,
          0.19096016883850098,
          0.19053855538368225,
          0.18952929973602295,
          0.1878025382757187,
          0.18530479073524475,
          0.18203715980052948,
          0.17803733050823212,
          0.17336539924144745,
          0.16809271275997162,
          0.16229352355003357,
          0.15603917837142944,
          0.1493937373161316,
          0.1424117237329483,
          0.13513663411140442,
          0.1276007741689682,
          0.11982562392950058,
          0.11182260513305664,
          0.10359446704387665,
          0.09513666480779648,
          0.08643884211778641,
          0.07748635113239288,
          0.06826174259185791,
          0.05874621495604515,
          0.048920899629592896,
          0.03876823931932449,
          0.02827330119907856,
          0.017425136640667915,
          0.006218193098902702,
          -0.0053460863418877125,
          -0.01725758984684944,
          -0.02949565090239048,
          -0.04202698916196823,
          -0.05480359122157097,
          -0.06776048243045807,
          -0.08081364631652832,
          -0.09385821968317032,
          -0.1067671999335289,
          -0.1193910464644432,
          -0.1315586268901825,
          -0.14307990670204163,
          -0.1537511944770813,
          -0.16336357593536377,
          -0.1717156022787094,
          -0.17863094806671143,
          -0.1839827448129654,
          -0.18772563338279724,
          -0.18993721902370453,
          -0.1908707469701767,
          -0.19102118909358978
         ]
        },
        {
         "marker": {
          "color": "#636EFA",
          "size": 2
         },
         "mode": "markers",
         "scene": "scene3",
         "showlegend": false,
         "type": "scatter3d",
         "x": [
          1.500715732574463,
          -1.6783888339996338,
          -1.3701519966125488,
          2.1341867446899414
         ],
         "y": [
          0.7862500548362732,
          0.9624656438827515,
          0.42686378955841064,
          1.4534666538238525
         ],
         "z": [
          1.227170467376709,
          1.488339900970459,
          1.2740391492843628,
          0.19102750718593597
         ]
        },
        {
         "marker": {
          "color": "#EF553B",
          "size": 2
         },
         "mode": "markers",
         "scene": "scene3",
         "showlegend": false,
         "type": "scatter3d",
         "x": [
          -2.075568199157715,
          1.2559407949447632,
          -1.556329369544983,
          1.9490679502487183
         ],
         "y": [
          -1.2012273073196411,
          -0.8015176057815552,
          -0.1548173874616623,
          0.48079851269721985
         ],
         "z": [
          0.9746308326721191,
          0.7117767333984375,
          1.122817039489746,
          -0.19102118909358978
         ]
        }
       ],
       "layout": {
        "height": 400,
        "margin": {
         "b": 20,
         "l": 20,
         "r": 20,
         "t": 20
        },
        "scene": {
         "aspectratio": {
          "x": 1,
          "y": 1,
          "z": 1
         },
         "domain": {
          "x": [
           0,
           0.3
          ],
          "y": [
           0,
           1
          ]
         },
         "xaxis": {
          "showticklabels": false,
          "title": {
           "text": ""
          }
         },
         "yaxis": {
          "showticklabels": false,
          "title": {
           "text": ""
          }
         },
         "zaxis": {
          "showticklabels": false,
          "title": {
           "text": ""
          }
         }
        },
        "scene2": {
         "aspectratio": {
          "x": 1,
          "y": 1,
          "z": 1
         },
         "domain": {
          "x": [
           0.35,
           0.6499999999999999
          ],
          "y": [
           0,
           1
          ]
         },
         "xaxis": {
          "showticklabels": false,
          "title": {
           "text": ""
          }
         },
         "yaxis": {
          "showticklabels": false,
          "title": {
           "text": ""
          }
         },
         "zaxis": {
          "showticklabels": false,
          "title": {
           "text": ""
          }
         }
        },
        "scene3": {
         "aspectratio": {
          "x": 1,
          "y": 1,
          "z": 1
         },
         "domain": {
          "x": [
           0.7,
           1
          ],
          "y": [
           0,
           1
          ]
         },
         "xaxis": {
          "showticklabels": false,
          "title": {
           "text": ""
          }
         },
         "yaxis": {
          "showticklabels": false,
          "title": {
           "text": ""
          }
         },
         "zaxis": {
          "showticklabels": false,
          "title": {
           "text": ""
          }
         }
        },
        "template": {
         "data": {
          "bar": [
           {
            "error_x": {
             "color": "#2a3f5f"
            },
            "error_y": {
             "color": "#2a3f5f"
            },
            "marker": {
             "line": {
              "color": "#E5ECF6",
              "width": 0.5
             },
             "pattern": {
              "fillmode": "overlay",
              "size": 10,
              "solidity": 0.2
             }
            },
            "type": "bar"
           }
          ],
          "barpolar": [
           {
            "marker": {
             "line": {
              "color": "#E5ECF6",
              "width": 0.5
             },
             "pattern": {
              "fillmode": "overlay",
              "size": 10,
              "solidity": 0.2
             }
            },
            "type": "barpolar"
           }
          ],
          "carpet": [
           {
            "aaxis": {
             "endlinecolor": "#2a3f5f",
             "gridcolor": "white",
             "linecolor": "white",
             "minorgridcolor": "white",
             "startlinecolor": "#2a3f5f"
            },
            "baxis": {
             "endlinecolor": "#2a3f5f",
             "gridcolor": "white",
             "linecolor": "white",
             "minorgridcolor": "white",
             "startlinecolor": "#2a3f5f"
            },
            "type": "carpet"
           }
          ],
          "choropleth": [
           {
            "colorbar": {
             "outlinewidth": 0,
             "ticks": ""
            },
            "type": "choropleth"
           }
          ],
          "contour": [
           {
            "colorbar": {
             "outlinewidth": 0,
             "ticks": ""
            },
            "colorscale": [
             [
              0,
              "#0d0887"
             ],
             [
              0.1111111111111111,
              "#46039f"
             ],
             [
              0.2222222222222222,
              "#7201a8"
             ],
             [
              0.3333333333333333,
              "#9c179e"
             ],
             [
              0.4444444444444444,
              "#bd3786"
             ],
             [
              0.5555555555555556,
              "#d8576b"
             ],
             [
              0.6666666666666666,
              "#ed7953"
             ],
             [
              0.7777777777777778,
              "#fb9f3a"
             ],
             [
              0.8888888888888888,
              "#fdca26"
             ],
             [
              1,
              "#f0f921"
             ]
            ],
            "type": "contour"
           }
          ],
          "contourcarpet": [
           {
            "colorbar": {
             "outlinewidth": 0,
             "ticks": ""
            },
            "type": "contourcarpet"
           }
          ],
          "heatmap": [
           {
            "colorbar": {
             "outlinewidth": 0,
             "ticks": ""
            },
            "colorscale": [
             [
              0,
              "#0d0887"
             ],
             [
              0.1111111111111111,
              "#46039f"
             ],
             [
              0.2222222222222222,
              "#7201a8"
             ],
             [
              0.3333333333333333,
              "#9c179e"
             ],
             [
              0.4444444444444444,
              "#bd3786"
             ],
             [
              0.5555555555555556,
              "#d8576b"
             ],
             [
              0.6666666666666666,
              "#ed7953"
             ],
             [
              0.7777777777777778,
              "#fb9f3a"
             ],
             [
              0.8888888888888888,
              "#fdca26"
             ],
             [
              1,
              "#f0f921"
             ]
            ],
            "type": "heatmap"
           }
          ],
          "heatmapgl": [
           {
            "colorbar": {
             "outlinewidth": 0,
             "ticks": ""
            },
            "colorscale": [
             [
              0,
              "#0d0887"
             ],
             [
              0.1111111111111111,
              "#46039f"
             ],
             [
              0.2222222222222222,
              "#7201a8"
             ],
             [
              0.3333333333333333,
              "#9c179e"
             ],
             [
              0.4444444444444444,
              "#bd3786"
             ],
             [
              0.5555555555555556,
              "#d8576b"
             ],
             [
              0.6666666666666666,
              "#ed7953"
             ],
             [
              0.7777777777777778,
              "#fb9f3a"
             ],
             [
              0.8888888888888888,
              "#fdca26"
             ],
             [
              1,
              "#f0f921"
             ]
            ],
            "type": "heatmapgl"
           }
          ],
          "histogram": [
           {
            "marker": {
             "pattern": {
              "fillmode": "overlay",
              "size": 10,
              "solidity": 0.2
             }
            },
            "type": "histogram"
           }
          ],
          "histogram2d": [
           {
            "colorbar": {
             "outlinewidth": 0,
             "ticks": ""
            },
            "colorscale": [
             [
              0,
              "#0d0887"
             ],
             [
              0.1111111111111111,
              "#46039f"
             ],
             [
              0.2222222222222222,
              "#7201a8"
             ],
             [
              0.3333333333333333,
              "#9c179e"
             ],
             [
              0.4444444444444444,
              "#bd3786"
             ],
             [
              0.5555555555555556,
              "#d8576b"
             ],
             [
              0.6666666666666666,
              "#ed7953"
             ],
             [
              0.7777777777777778,
              "#fb9f3a"
             ],
             [
              0.8888888888888888,
              "#fdca26"
             ],
             [
              1,
              "#f0f921"
             ]
            ],
            "type": "histogram2d"
           }
          ],
          "histogram2dcontour": [
           {
            "colorbar": {
             "outlinewidth": 0,
             "ticks": ""
            },
            "colorscale": [
             [
              0,
              "#0d0887"
             ],
             [
              0.1111111111111111,
              "#46039f"
             ],
             [
              0.2222222222222222,
              "#7201a8"
             ],
             [
              0.3333333333333333,
              "#9c179e"
             ],
             [
              0.4444444444444444,
              "#bd3786"
             ],
             [
              0.5555555555555556,
              "#d8576b"
             ],
             [
              0.6666666666666666,
              "#ed7953"
             ],
             [
              0.7777777777777778,
              "#fb9f3a"
             ],
             [
              0.8888888888888888,
              "#fdca26"
             ],
             [
              1,
              "#f0f921"
             ]
            ],
            "type": "histogram2dcontour"
           }
          ],
          "mesh3d": [
           {
            "colorbar": {
             "outlinewidth": 0,
             "ticks": ""
            },
            "type": "mesh3d"
           }
          ],
          "parcoords": [
           {
            "line": {
             "colorbar": {
              "outlinewidth": 0,
              "ticks": ""
             }
            },
            "type": "parcoords"
           }
          ],
          "pie": [
           {
            "automargin": true,
            "type": "pie"
           }
          ],
          "scatter": [
           {
            "fillpattern": {
             "fillmode": "overlay",
             "size": 10,
             "solidity": 0.2
            },
            "type": "scatter"
           }
          ],
          "scatter3d": [
           {
            "line": {
             "colorbar": {
              "outlinewidth": 0,
              "ticks": ""
             }
            },
            "marker": {
             "colorbar": {
              "outlinewidth": 0,
              "ticks": ""
             }
            },
            "type": "scatter3d"
           }
          ],
          "scattercarpet": [
           {
            "marker": {
             "colorbar": {
              "outlinewidth": 0,
              "ticks": ""
             }
            },
            "type": "scattercarpet"
           }
          ],
          "scattergeo": [
           {
            "marker": {
             "colorbar": {
              "outlinewidth": 0,
              "ticks": ""
             }
            },
            "type": "scattergeo"
           }
          ],
          "scattergl": [
           {
            "marker": {
             "colorbar": {
              "outlinewidth": 0,
              "ticks": ""
             }
            },
            "type": "scattergl"
           }
          ],
          "scattermapbox": [
           {
            "marker": {
             "colorbar": {
              "outlinewidth": 0,
              "ticks": ""
             }
            },
            "type": "scattermapbox"
           }
          ],
          "scatterpolar": [
           {
            "marker": {
             "colorbar": {
              "outlinewidth": 0,
              "ticks": ""
             }
            },
            "type": "scatterpolar"
           }
          ],
          "scatterpolargl": [
           {
            "marker": {
             "colorbar": {
              "outlinewidth": 0,
              "ticks": ""
             }
            },
            "type": "scatterpolargl"
           }
          ],
          "scatterternary": [
           {
            "marker": {
             "colorbar": {
              "outlinewidth": 0,
              "ticks": ""
             }
            },
            "type": "scatterternary"
           }
          ],
          "surface": [
           {
            "colorbar": {
             "outlinewidth": 0,
             "ticks": ""
            },
            "colorscale": [
             [
              0,
              "#0d0887"
             ],
             [
              0.1111111111111111,
              "#46039f"
             ],
             [
              0.2222222222222222,
              "#7201a8"
             ],
             [
              0.3333333333333333,
              "#9c179e"
             ],
             [
              0.4444444444444444,
              "#bd3786"
             ],
             [
              0.5555555555555556,
              "#d8576b"
             ],
             [
              0.6666666666666666,
              "#ed7953"
             ],
             [
              0.7777777777777778,
              "#fb9f3a"
             ],
             [
              0.8888888888888888,
              "#fdca26"
             ],
             [
              1,
              "#f0f921"
             ]
            ],
            "type": "surface"
           }
          ],
          "table": [
           {
            "cells": {
             "fill": {
              "color": "#EBF0F8"
             },
             "line": {
              "color": "white"
             }
            },
            "header": {
             "fill": {
              "color": "#C8D4E3"
             },
             "line": {
              "color": "white"
             }
            },
            "type": "table"
           }
          ]
         },
         "layout": {
          "annotationdefaults": {
           "arrowcolor": "#2a3f5f",
           "arrowhead": 0,
           "arrowwidth": 1
          },
          "autotypenumbers": "strict",
          "coloraxis": {
           "colorbar": {
            "outlinewidth": 0,
            "ticks": ""
           }
          },
          "colorscale": {
           "diverging": [
            [
             0,
             "#8e0152"
            ],
            [
             0.1,
             "#c51b7d"
            ],
            [
             0.2,
             "#de77ae"
            ],
            [
             0.3,
             "#f1b6da"
            ],
            [
             0.4,
             "#fde0ef"
            ],
            [
             0.5,
             "#f7f7f7"
            ],
            [
             0.6,
             "#e6f5d0"
            ],
            [
             0.7,
             "#b8e186"
            ],
            [
             0.8,
             "#7fbc41"
            ],
            [
             0.9,
             "#4d9221"
            ],
            [
             1,
             "#276419"
            ]
           ],
           "sequential": [
            [
             0,
             "#0d0887"
            ],
            [
             0.1111111111111111,
             "#46039f"
            ],
            [
             0.2222222222222222,
             "#7201a8"
            ],
            [
             0.3333333333333333,
             "#9c179e"
            ],
            [
             0.4444444444444444,
             "#bd3786"
            ],
            [
             0.5555555555555556,
             "#d8576b"
            ],
            [
             0.6666666666666666,
             "#ed7953"
            ],
            [
             0.7777777777777778,
             "#fb9f3a"
            ],
            [
             0.8888888888888888,
             "#fdca26"
            ],
            [
             1,
             "#f0f921"
            ]
           ],
           "sequentialminus": [
            [
             0,
             "#0d0887"
            ],
            [
             0.1111111111111111,
             "#46039f"
            ],
            [
             0.2222222222222222,
             "#7201a8"
            ],
            [
             0.3333333333333333,
             "#9c179e"
            ],
            [
             0.4444444444444444,
             "#bd3786"
            ],
            [
             0.5555555555555556,
             "#d8576b"
            ],
            [
             0.6666666666666666,
             "#ed7953"
            ],
            [
             0.7777777777777778,
             "#fb9f3a"
            ],
            [
             0.8888888888888888,
             "#fdca26"
            ],
            [
             1,
             "#f0f921"
            ]
           ]
          },
          "colorway": [
           "#636efa",
           "#EF553B",
           "#00cc96",
           "#ab63fa",
           "#FFA15A",
           "#19d3f3",
           "#FF6692",
           "#B6E880",
           "#FF97FF",
           "#FECB52"
          ],
          "font": {
           "color": "#2a3f5f"
          },
          "geo": {
           "bgcolor": "white",
           "lakecolor": "white",
           "landcolor": "#E5ECF6",
           "showlakes": true,
           "showland": true,
           "subunitcolor": "white"
          },
          "hoverlabel": {
           "align": "left"
          },
          "hovermode": "closest",
          "mapbox": {
           "style": "light"
          },
          "paper_bgcolor": "white",
          "plot_bgcolor": "#E5ECF6",
          "polar": {
           "angularaxis": {
            "gridcolor": "white",
            "linecolor": "white",
            "ticks": ""
           },
           "bgcolor": "#E5ECF6",
           "radialaxis": {
            "gridcolor": "white",
            "linecolor": "white",
            "ticks": ""
           }
          },
          "scene": {
           "xaxis": {
            "backgroundcolor": "#E5ECF6",
            "gridcolor": "white",
            "gridwidth": 2,
            "linecolor": "white",
            "showbackground": true,
            "ticks": "",
            "zerolinecolor": "white"
           },
           "yaxis": {
            "backgroundcolor": "#E5ECF6",
            "gridcolor": "white",
            "gridwidth": 2,
            "linecolor": "white",
            "showbackground": true,
            "ticks": "",
            "zerolinecolor": "white"
           },
           "zaxis": {
            "backgroundcolor": "#E5ECF6",
            "gridcolor": "white",
            "gridwidth": 2,
            "linecolor": "white",
            "showbackground": true,
            "ticks": "",
            "zerolinecolor": "white"
           }
          },
          "shapedefaults": {
           "line": {
            "color": "#2a3f5f"
           }
          },
          "ternary": {
           "aaxis": {
            "gridcolor": "white",
            "linecolor": "white",
            "ticks": ""
           },
           "baxis": {
            "gridcolor": "white",
            "linecolor": "white",
            "ticks": ""
           },
           "bgcolor": "#E5ECF6",
           "caxis": {
            "gridcolor": "white",
            "linecolor": "white",
            "ticks": ""
           }
          },
          "title": {
           "x": 0.05
          },
          "xaxis": {
           "automargin": true,
           "gridcolor": "white",
           "linecolor": "white",
           "ticks": "",
           "title": {
            "standoff": 15
           },
           "zerolinecolor": "white",
           "zerolinewidth": 2
          },
          "yaxis": {
           "automargin": true,
           "gridcolor": "white",
           "linecolor": "white",
           "ticks": "",
           "title": {
            "standoff": 15
           },
           "zerolinecolor": "white",
           "zerolinewidth": 2
          }
         }
        },
        "width": 1600,
        "xaxis": {
         "mirror": true,
         "showline": true
        },
        "yaxis": {
         "mirror": true,
         "showline": true
        }
       }
      }
     },
     "metadata": {},
     "output_type": "display_data"
    }
   ],
   "source": [
    "# Reconstructed\n",
    "npx_trajs = px_trajs.detach().cpu().numpy()\n",
    "npy_trajs = py_trajs.detach().cpu().numpy()\n",
    "npz_trajs = pz_trajs.detach().cpu().numpy()\n",
    "multiviz_trajs(npx_trajs[:3], npy_trajs[:3], npz_trajs[:3], nrows=1, ncols=3, num_agents=num_agent, height=400, width=1_600)"
   ]
  },
  {
   "cell_type": "code",
   "execution_count": null,
   "metadata": {},
   "outputs": [],
   "source": []
  },
  {
   "cell_type": "code",
   "execution_count": 15,
   "metadata": {},
   "outputs": [
    {
     "name": "stderr",
     "output_type": "stream",
     "text": [
      "100%|██████████| 19999/19999 [00:49<00:00, 400.72it/s]\n"
     ]
    }
   ],
   "source": [
    "collect_data = True\n",
    "centers, radiis = [], []\n",
    "primal_sol, expert_data, cond_data, latent = [], [], [], []\n",
    "\n",
    "if collect_data:\n",
    "\tsample_b = 10\n",
    "\tcv_model.qp_layer.num_batch = sample_b\n",
    "\tval_loader = DataLoader(dataset, batch_size=1, shuffle=True, drop_last=False)\n",
    "\n",
    "\tfor (x_trajs, y_trajs, z_trajs), (center, radii) in tqdm(val_loader):\n",
    "\n",
    "\t\twith th.no_grad():\n",
    "\t\t\ttrajs = th.stack([x_trajs, y_trajs, z_trajs], dim=-3).to(device)\n",
    "\t\t\tx_init, y_init, z_init = trajs[:, 0, :, 0], trajs[:, 1, :, 0], trajs[:, 2, :, 0]\n",
    "\t\t\tx_fin, y_fin, z_fin = trajs[:, 0, :, -1], trajs[:, 1, :, -1], trajs[:, 2, :, -1]\n",
    "\t\t\t\n",
    "\t\t\tstate = th.cat([\n",
    "\t\t\t\ttrajs[..., :1], th.zeros(1, 3, num_agent, 2, device=device), \n",
    "\t\t\t\ttrajs[..., -1:], th.zeros(1, 3, num_agent, 2, device=device)\n",
    "\t\t\t], dim=-1) \n",
    "\t\t\tconditions = th.stack([trajs[..., 0], trajs[..., -1]], dim=-1)\n",
    "\n",
    "\t\t\tlatent = th.randn((sample_b, lheight * lwidth * zdim), device=device)\n",
    "\t\t\t\n",
    "\t\t\trec_sol = cv_model.decode(\n",
    "\t\t\t\tlatent, conditions.repeat_interleave(sample_b, 0),\n",
    "\t\t\t\tx_init.repeat_interleave(sample_b, 0), y_init.repeat_interleave(sample_b, 0), z_init.repeat_interleave(sample_b, 0), \n",
    "\t\t\t\tx_fin.repeat_interleave(sample_b, 0), y_fin.repeat_interleave(sample_b, 0), z_fin.repeat_interleave(sample_b, 0)\n",
    "\t\t\t)\n",
    "\t\t\trec_trajs = rec_sol @ P.mT\n",
    "\t\t\trec_trajs = rec_trajs.cpu().numpy()\n",
    "\t\t\tpx_trajs, py_trajs, pz_trajs = rec_trajs[:, 0, :, :], rec_trajs[:, 1, :, :], rec_trajs[:, 2, :, :]\n",
    "\n",
    "\t\tprimal_sol.append(rec_sol.detach().cpu())\n",
    "\t\texpert_data.append(trajs.detach().cpu())\n",
    "\t\tcond_data.append(state.repeat_interleave(sample_b, 0).detach().cpu())\n",
    "\t\tcenters.append(center.repeat_interleave(sample_b, 0).detach().cpu())\n",
    "\t\tradiis.append(radii.repeat_interleave(sample_b, 0).detach().cpu())\n",
    "\n",
    "\tnp.savez(\n",
    "\t\tf\"./resources/data/traj_data/varying_bounds_{num_agent}/multi_trajs_cv_{cv_name}_batch_{sample_b}\", \n",
    "\t\tprimals=th.cat(primal_sol).detach().cpu().numpy(),\n",
    "\t\texperts=th.cat(expert_data).detach().cpu().numpy(),\n",
    "\t\tcondition=th.cat(cond_data).detach().cpu().numpy(),\n",
    "\t\tcenters=th.cat(centers).detach().cpu().numpy(),\n",
    "\t\tradiis=th.cat(radiis).detach().cpu().numpy(),\n",
    "\t)"
   ]
  },
  {
   "cell_type": "code",
   "execution_count": null,
   "metadata": {},
   "outputs": [],
   "source": []
  }
 ],
 "metadata": {
  "kernelspec": {
   "display_name": "Python 3",
   "language": "python",
   "name": "python3"
  },
  "language_info": {
   "codemirror_mode": {
    "name": "ipython",
    "version": 3
   },
   "file_extension": ".py",
   "mimetype": "text/x-python",
   "name": "python",
   "nbconvert_exporter": "python",
   "pygments_lexer": "ipython3",
   "version": "3.12.7"
  }
 },
 "nbformat": 4,
 "nbformat_minor": 2
}
